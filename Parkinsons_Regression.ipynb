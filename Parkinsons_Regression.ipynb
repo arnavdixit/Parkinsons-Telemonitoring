{
  "nbformat": 4,
  "nbformat_minor": 0,
  "metadata": {
    "colab": {
      "name": "Parkinsons_Regression.ipynb",
      "provenance": [],
      "collapsed_sections": []
    },
    "kernelspec": {
      "name": "python3",
      "display_name": "Python 3"
    },
    "language_info": {
      "name": "python"
    }
  },
  "cells": [
    {
      "cell_type": "markdown",
      "metadata": {
        "id": "NCd_DzfOOS-e"
      },
      "source": [
        "# Importing Libraries"
      ]
    },
    {
      "cell_type": "code",
      "metadata": {
        "id": "z0Kpn47VNwjI"
      },
      "source": [
        "import numpy as np\n",
        "import pandas as pd\n",
        "import matplotlib.pyplot as plt\n",
        "import seaborn as sns\n",
        "import tensorflow as tf\n",
        "from tensorflow.keras.models import Sequential\n",
        "from tensorflow.keras.layers import Dense\n",
        "from sklearn.model_selection import train_test_split, cross_val_score\n",
        "from sklearn.preprocessing import StandardScaler, PolynomialFeatures\n",
        "from sklearn.compose import ColumnTransformer\n",
        "from sklearn.decomposition import PCA\n",
        "from sklearn.linear_model import LinearRegression\n",
        "from sklearn.svm import SVR\n",
        "from sklearn.tree import DecisionTreeRegressor\n",
        "from sklearn.ensemble import RandomForestRegressor\n",
        "from xgboost import XGBRegressor\n",
        "from sklearn.metrics import mean_absolute_error, mean_squared_error, r2_score\n",
        "import warnings\n",
        "warnings.filterwarnings('ignore')\n",
        "%matplotlib inline"
      ],
      "execution_count": 193,
      "outputs": []
    },
    {
      "cell_type": "markdown",
      "metadata": {
        "id": "h9KXNEANOVWh"
      },
      "source": [
        "# Importing Dataset"
      ]
    },
    {
      "cell_type": "code",
      "metadata": {
        "id": "qncLLI4UOM4F"
      },
      "source": [
        "df = pd.read_csv('parkinsons_updrs.csv')"
      ],
      "execution_count": 231,
      "outputs": []
    },
    {
      "cell_type": "code",
      "metadata": {
        "colab": {
          "base_uri": "https://localhost:8080/",
          "height": 223
        },
        "id": "aEVKIk4PORCA",
        "outputId": "5c790fac-7a5b-47ea-b356-0172228fc3af"
      },
      "source": [
        "df.head()"
      ],
      "execution_count": 3,
      "outputs": [
        {
          "output_type": "execute_result",
          "data": {
            "text/html": [
              "<div>\n",
              "<style scoped>\n",
              "    .dataframe tbody tr th:only-of-type {\n",
              "        vertical-align: middle;\n",
              "    }\n",
              "\n",
              "    .dataframe tbody tr th {\n",
              "        vertical-align: top;\n",
              "    }\n",
              "\n",
              "    .dataframe thead th {\n",
              "        text-align: right;\n",
              "    }\n",
              "</style>\n",
              "<table border=\"1\" class=\"dataframe\">\n",
              "  <thead>\n",
              "    <tr style=\"text-align: right;\">\n",
              "      <th></th>\n",
              "      <th>subject#</th>\n",
              "      <th>age</th>\n",
              "      <th>sex</th>\n",
              "      <th>test_time</th>\n",
              "      <th>motor_UPDRS</th>\n",
              "      <th>total_UPDRS</th>\n",
              "      <th>Jitter(%)</th>\n",
              "      <th>Jitter(Abs)</th>\n",
              "      <th>Jitter:RAP</th>\n",
              "      <th>Jitter:PPQ5</th>\n",
              "      <th>Jitter:DDP</th>\n",
              "      <th>Shimmer</th>\n",
              "      <th>Shimmer(dB)</th>\n",
              "      <th>Shimmer:APQ3</th>\n",
              "      <th>Shimmer:APQ5</th>\n",
              "      <th>Shimmer:APQ11</th>\n",
              "      <th>Shimmer:DDA</th>\n",
              "      <th>NHR</th>\n",
              "      <th>HNR</th>\n",
              "      <th>RPDE</th>\n",
              "      <th>DFA</th>\n",
              "      <th>PPE</th>\n",
              "    </tr>\n",
              "  </thead>\n",
              "  <tbody>\n",
              "    <tr>\n",
              "      <th>0</th>\n",
              "      <td>1</td>\n",
              "      <td>72</td>\n",
              "      <td>0</td>\n",
              "      <td>5.6431</td>\n",
              "      <td>28.199</td>\n",
              "      <td>34.398</td>\n",
              "      <td>0.00662</td>\n",
              "      <td>0.000034</td>\n",
              "      <td>0.00401</td>\n",
              "      <td>0.00317</td>\n",
              "      <td>0.01204</td>\n",
              "      <td>0.02565</td>\n",
              "      <td>0.230</td>\n",
              "      <td>0.01438</td>\n",
              "      <td>0.01309</td>\n",
              "      <td>0.01662</td>\n",
              "      <td>0.04314</td>\n",
              "      <td>0.014290</td>\n",
              "      <td>21.640</td>\n",
              "      <td>0.41888</td>\n",
              "      <td>0.54842</td>\n",
              "      <td>0.16006</td>\n",
              "    </tr>\n",
              "    <tr>\n",
              "      <th>1</th>\n",
              "      <td>1</td>\n",
              "      <td>72</td>\n",
              "      <td>0</td>\n",
              "      <td>12.6660</td>\n",
              "      <td>28.447</td>\n",
              "      <td>34.894</td>\n",
              "      <td>0.00300</td>\n",
              "      <td>0.000017</td>\n",
              "      <td>0.00132</td>\n",
              "      <td>0.00150</td>\n",
              "      <td>0.00395</td>\n",
              "      <td>0.02024</td>\n",
              "      <td>0.179</td>\n",
              "      <td>0.00994</td>\n",
              "      <td>0.01072</td>\n",
              "      <td>0.01689</td>\n",
              "      <td>0.02982</td>\n",
              "      <td>0.011112</td>\n",
              "      <td>27.183</td>\n",
              "      <td>0.43493</td>\n",
              "      <td>0.56477</td>\n",
              "      <td>0.10810</td>\n",
              "    </tr>\n",
              "    <tr>\n",
              "      <th>2</th>\n",
              "      <td>1</td>\n",
              "      <td>72</td>\n",
              "      <td>0</td>\n",
              "      <td>19.6810</td>\n",
              "      <td>28.695</td>\n",
              "      <td>35.389</td>\n",
              "      <td>0.00481</td>\n",
              "      <td>0.000025</td>\n",
              "      <td>0.00205</td>\n",
              "      <td>0.00208</td>\n",
              "      <td>0.00616</td>\n",
              "      <td>0.01675</td>\n",
              "      <td>0.181</td>\n",
              "      <td>0.00734</td>\n",
              "      <td>0.00844</td>\n",
              "      <td>0.01458</td>\n",
              "      <td>0.02202</td>\n",
              "      <td>0.020220</td>\n",
              "      <td>23.047</td>\n",
              "      <td>0.46222</td>\n",
              "      <td>0.54405</td>\n",
              "      <td>0.21014</td>\n",
              "    </tr>\n",
              "    <tr>\n",
              "      <th>3</th>\n",
              "      <td>1</td>\n",
              "      <td>72</td>\n",
              "      <td>0</td>\n",
              "      <td>25.6470</td>\n",
              "      <td>28.905</td>\n",
              "      <td>35.810</td>\n",
              "      <td>0.00528</td>\n",
              "      <td>0.000027</td>\n",
              "      <td>0.00191</td>\n",
              "      <td>0.00264</td>\n",
              "      <td>0.00573</td>\n",
              "      <td>0.02309</td>\n",
              "      <td>0.327</td>\n",
              "      <td>0.01106</td>\n",
              "      <td>0.01265</td>\n",
              "      <td>0.01963</td>\n",
              "      <td>0.03317</td>\n",
              "      <td>0.027837</td>\n",
              "      <td>24.445</td>\n",
              "      <td>0.48730</td>\n",
              "      <td>0.57794</td>\n",
              "      <td>0.33277</td>\n",
              "    </tr>\n",
              "    <tr>\n",
              "      <th>4</th>\n",
              "      <td>1</td>\n",
              "      <td>72</td>\n",
              "      <td>0</td>\n",
              "      <td>33.6420</td>\n",
              "      <td>29.187</td>\n",
              "      <td>36.375</td>\n",
              "      <td>0.00335</td>\n",
              "      <td>0.000020</td>\n",
              "      <td>0.00093</td>\n",
              "      <td>0.00130</td>\n",
              "      <td>0.00278</td>\n",
              "      <td>0.01703</td>\n",
              "      <td>0.176</td>\n",
              "      <td>0.00679</td>\n",
              "      <td>0.00929</td>\n",
              "      <td>0.01819</td>\n",
              "      <td>0.02036</td>\n",
              "      <td>0.011625</td>\n",
              "      <td>26.126</td>\n",
              "      <td>0.47188</td>\n",
              "      <td>0.56122</td>\n",
              "      <td>0.19361</td>\n",
              "    </tr>\n",
              "  </tbody>\n",
              "</table>\n",
              "</div>"
            ],
            "text/plain": [
              "   subject#  age  sex  test_time  ...     HNR     RPDE      DFA      PPE\n",
              "0         1   72    0     5.6431  ...  21.640  0.41888  0.54842  0.16006\n",
              "1         1   72    0    12.6660  ...  27.183  0.43493  0.56477  0.10810\n",
              "2         1   72    0    19.6810  ...  23.047  0.46222  0.54405  0.21014\n",
              "3         1   72    0    25.6470  ...  24.445  0.48730  0.57794  0.33277\n",
              "4         1   72    0    33.6420  ...  26.126  0.47188  0.56122  0.19361\n",
              "\n",
              "[5 rows x 22 columns]"
            ]
          },
          "metadata": {
            "tags": []
          },
          "execution_count": 3
        }
      ]
    },
    {
      "cell_type": "code",
      "metadata": {
        "colab": {
          "base_uri": "https://localhost:8080/"
        },
        "id": "qkaGcWxJOR33",
        "outputId": "1230bcb1-47f1-4ba5-b148-befe95b932f5"
      },
      "source": [
        "df.info()"
      ],
      "execution_count": 4,
      "outputs": [
        {
          "output_type": "stream",
          "text": [
            "<class 'pandas.core.frame.DataFrame'>\n",
            "RangeIndex: 5875 entries, 0 to 5874\n",
            "Data columns (total 22 columns):\n",
            " #   Column         Non-Null Count  Dtype  \n",
            "---  ------         --------------  -----  \n",
            " 0   subject#       5875 non-null   int64  \n",
            " 1   age            5875 non-null   int64  \n",
            " 2   sex            5875 non-null   int64  \n",
            " 3   test_time      5875 non-null   float64\n",
            " 4   motor_UPDRS    5875 non-null   float64\n",
            " 5   total_UPDRS    5875 non-null   float64\n",
            " 6   Jitter(%)      5875 non-null   float64\n",
            " 7   Jitter(Abs)    5875 non-null   float64\n",
            " 8   Jitter:RAP     5875 non-null   float64\n",
            " 9   Jitter:PPQ5    5875 non-null   float64\n",
            " 10  Jitter:DDP     5875 non-null   float64\n",
            " 11  Shimmer        5875 non-null   float64\n",
            " 12  Shimmer(dB)    5875 non-null   float64\n",
            " 13  Shimmer:APQ3   5875 non-null   float64\n",
            " 14  Shimmer:APQ5   5875 non-null   float64\n",
            " 15  Shimmer:APQ11  5875 non-null   float64\n",
            " 16  Shimmer:DDA    5875 non-null   float64\n",
            " 17  NHR            5875 non-null   float64\n",
            " 18  HNR            5875 non-null   float64\n",
            " 19  RPDE           5875 non-null   float64\n",
            " 20  DFA            5875 non-null   float64\n",
            " 21  PPE            5875 non-null   float64\n",
            "dtypes: float64(19), int64(3)\n",
            "memory usage: 1009.9 KB\n"
          ],
          "name": "stdout"
        }
      ]
    },
    {
      "cell_type": "code",
      "metadata": {
        "colab": {
          "base_uri": "https://localhost:8080/"
        },
        "id": "PP7vUHVsOYyU",
        "outputId": "d9bbe201-ecb9-48ab-fce0-7271c45e8670"
      },
      "source": [
        "df.isnull().sum()"
      ],
      "execution_count": 5,
      "outputs": [
        {
          "output_type": "execute_result",
          "data": {
            "text/plain": [
              "subject#         0\n",
              "age              0\n",
              "sex              0\n",
              "test_time        0\n",
              "motor_UPDRS      0\n",
              "total_UPDRS      0\n",
              "Jitter(%)        0\n",
              "Jitter(Abs)      0\n",
              "Jitter:RAP       0\n",
              "Jitter:PPQ5      0\n",
              "Jitter:DDP       0\n",
              "Shimmer          0\n",
              "Shimmer(dB)      0\n",
              "Shimmer:APQ3     0\n",
              "Shimmer:APQ5     0\n",
              "Shimmer:APQ11    0\n",
              "Shimmer:DDA      0\n",
              "NHR              0\n",
              "HNR              0\n",
              "RPDE             0\n",
              "DFA              0\n",
              "PPE              0\n",
              "dtype: int64"
            ]
          },
          "metadata": {
            "tags": []
          },
          "execution_count": 5
        }
      ]
    },
    {
      "cell_type": "markdown",
      "metadata": {
        "id": "_OYsTnD9P-um"
      },
      "source": [
        "No null values found in the dataset"
      ]
    },
    {
      "cell_type": "code",
      "metadata": {
        "colab": {
          "base_uri": "https://localhost:8080/",
          "height": 315
        },
        "id": "wFMsQBZiP8kg",
        "outputId": "223ab969-85aa-43a8-8dcc-4ceb9ce844ad"
      },
      "source": [
        "df.describe()"
      ],
      "execution_count": 6,
      "outputs": [
        {
          "output_type": "execute_result",
          "data": {
            "text/html": [
              "<div>\n",
              "<style scoped>\n",
              "    .dataframe tbody tr th:only-of-type {\n",
              "        vertical-align: middle;\n",
              "    }\n",
              "\n",
              "    .dataframe tbody tr th {\n",
              "        vertical-align: top;\n",
              "    }\n",
              "\n",
              "    .dataframe thead th {\n",
              "        text-align: right;\n",
              "    }\n",
              "</style>\n",
              "<table border=\"1\" class=\"dataframe\">\n",
              "  <thead>\n",
              "    <tr style=\"text-align: right;\">\n",
              "      <th></th>\n",
              "      <th>subject#</th>\n",
              "      <th>age</th>\n",
              "      <th>sex</th>\n",
              "      <th>test_time</th>\n",
              "      <th>motor_UPDRS</th>\n",
              "      <th>total_UPDRS</th>\n",
              "      <th>Jitter(%)</th>\n",
              "      <th>Jitter(Abs)</th>\n",
              "      <th>Jitter:RAP</th>\n",
              "      <th>Jitter:PPQ5</th>\n",
              "      <th>Jitter:DDP</th>\n",
              "      <th>Shimmer</th>\n",
              "      <th>Shimmer(dB)</th>\n",
              "      <th>Shimmer:APQ3</th>\n",
              "      <th>Shimmer:APQ5</th>\n",
              "      <th>Shimmer:APQ11</th>\n",
              "      <th>Shimmer:DDA</th>\n",
              "      <th>NHR</th>\n",
              "      <th>HNR</th>\n",
              "      <th>RPDE</th>\n",
              "      <th>DFA</th>\n",
              "      <th>PPE</th>\n",
              "    </tr>\n",
              "  </thead>\n",
              "  <tbody>\n",
              "    <tr>\n",
              "      <th>count</th>\n",
              "      <td>5875.000000</td>\n",
              "      <td>5875.000000</td>\n",
              "      <td>5875.000000</td>\n",
              "      <td>5875.000000</td>\n",
              "      <td>5875.000000</td>\n",
              "      <td>5875.000000</td>\n",
              "      <td>5875.000000</td>\n",
              "      <td>5875.000000</td>\n",
              "      <td>5875.000000</td>\n",
              "      <td>5875.000000</td>\n",
              "      <td>5875.000000</td>\n",
              "      <td>5875.000000</td>\n",
              "      <td>5875.000000</td>\n",
              "      <td>5875.000000</td>\n",
              "      <td>5875.000000</td>\n",
              "      <td>5875.000000</td>\n",
              "      <td>5875.000000</td>\n",
              "      <td>5875.000000</td>\n",
              "      <td>5875.000000</td>\n",
              "      <td>5875.000000</td>\n",
              "      <td>5875.000000</td>\n",
              "      <td>5875.000000</td>\n",
              "    </tr>\n",
              "    <tr>\n",
              "      <th>mean</th>\n",
              "      <td>21.494128</td>\n",
              "      <td>64.804936</td>\n",
              "      <td>0.317787</td>\n",
              "      <td>92.863722</td>\n",
              "      <td>21.296229</td>\n",
              "      <td>29.018942</td>\n",
              "      <td>0.006154</td>\n",
              "      <td>0.000044</td>\n",
              "      <td>0.002987</td>\n",
              "      <td>0.003277</td>\n",
              "      <td>0.008962</td>\n",
              "      <td>0.034035</td>\n",
              "      <td>0.310960</td>\n",
              "      <td>0.017156</td>\n",
              "      <td>0.020144</td>\n",
              "      <td>0.027481</td>\n",
              "      <td>0.051467</td>\n",
              "      <td>0.032120</td>\n",
              "      <td>21.679495</td>\n",
              "      <td>0.541473</td>\n",
              "      <td>0.653240</td>\n",
              "      <td>0.219589</td>\n",
              "    </tr>\n",
              "    <tr>\n",
              "      <th>std</th>\n",
              "      <td>12.372279</td>\n",
              "      <td>8.821524</td>\n",
              "      <td>0.465656</td>\n",
              "      <td>53.445602</td>\n",
              "      <td>8.129282</td>\n",
              "      <td>10.700283</td>\n",
              "      <td>0.005624</td>\n",
              "      <td>0.000036</td>\n",
              "      <td>0.003124</td>\n",
              "      <td>0.003732</td>\n",
              "      <td>0.009371</td>\n",
              "      <td>0.025835</td>\n",
              "      <td>0.230254</td>\n",
              "      <td>0.013237</td>\n",
              "      <td>0.016664</td>\n",
              "      <td>0.019986</td>\n",
              "      <td>0.039711</td>\n",
              "      <td>0.059692</td>\n",
              "      <td>4.291096</td>\n",
              "      <td>0.100986</td>\n",
              "      <td>0.070902</td>\n",
              "      <td>0.091498</td>\n",
              "    </tr>\n",
              "    <tr>\n",
              "      <th>min</th>\n",
              "      <td>1.000000</td>\n",
              "      <td>36.000000</td>\n",
              "      <td>0.000000</td>\n",
              "      <td>-4.262500</td>\n",
              "      <td>5.037700</td>\n",
              "      <td>7.000000</td>\n",
              "      <td>0.000830</td>\n",
              "      <td>0.000002</td>\n",
              "      <td>0.000330</td>\n",
              "      <td>0.000430</td>\n",
              "      <td>0.000980</td>\n",
              "      <td>0.003060</td>\n",
              "      <td>0.026000</td>\n",
              "      <td>0.001610</td>\n",
              "      <td>0.001940</td>\n",
              "      <td>0.002490</td>\n",
              "      <td>0.004840</td>\n",
              "      <td>0.000286</td>\n",
              "      <td>1.659000</td>\n",
              "      <td>0.151020</td>\n",
              "      <td>0.514040</td>\n",
              "      <td>0.021983</td>\n",
              "    </tr>\n",
              "    <tr>\n",
              "      <th>25%</th>\n",
              "      <td>10.000000</td>\n",
              "      <td>58.000000</td>\n",
              "      <td>0.000000</td>\n",
              "      <td>46.847500</td>\n",
              "      <td>15.000000</td>\n",
              "      <td>21.371000</td>\n",
              "      <td>0.003580</td>\n",
              "      <td>0.000022</td>\n",
              "      <td>0.001580</td>\n",
              "      <td>0.001820</td>\n",
              "      <td>0.004730</td>\n",
              "      <td>0.019120</td>\n",
              "      <td>0.175000</td>\n",
              "      <td>0.009280</td>\n",
              "      <td>0.010790</td>\n",
              "      <td>0.015665</td>\n",
              "      <td>0.027830</td>\n",
              "      <td>0.010955</td>\n",
              "      <td>19.406000</td>\n",
              "      <td>0.469785</td>\n",
              "      <td>0.596180</td>\n",
              "      <td>0.156340</td>\n",
              "    </tr>\n",
              "    <tr>\n",
              "      <th>50%</th>\n",
              "      <td>22.000000</td>\n",
              "      <td>65.000000</td>\n",
              "      <td>0.000000</td>\n",
              "      <td>91.523000</td>\n",
              "      <td>20.871000</td>\n",
              "      <td>27.576000</td>\n",
              "      <td>0.004900</td>\n",
              "      <td>0.000035</td>\n",
              "      <td>0.002250</td>\n",
              "      <td>0.002490</td>\n",
              "      <td>0.006750</td>\n",
              "      <td>0.027510</td>\n",
              "      <td>0.253000</td>\n",
              "      <td>0.013700</td>\n",
              "      <td>0.015940</td>\n",
              "      <td>0.022710</td>\n",
              "      <td>0.041110</td>\n",
              "      <td>0.018448</td>\n",
              "      <td>21.920000</td>\n",
              "      <td>0.542250</td>\n",
              "      <td>0.643600</td>\n",
              "      <td>0.205500</td>\n",
              "    </tr>\n",
              "    <tr>\n",
              "      <th>75%</th>\n",
              "      <td>33.000000</td>\n",
              "      <td>72.000000</td>\n",
              "      <td>1.000000</td>\n",
              "      <td>138.445000</td>\n",
              "      <td>27.596500</td>\n",
              "      <td>36.399000</td>\n",
              "      <td>0.006800</td>\n",
              "      <td>0.000053</td>\n",
              "      <td>0.003290</td>\n",
              "      <td>0.003460</td>\n",
              "      <td>0.009870</td>\n",
              "      <td>0.039750</td>\n",
              "      <td>0.365000</td>\n",
              "      <td>0.020575</td>\n",
              "      <td>0.023755</td>\n",
              "      <td>0.032715</td>\n",
              "      <td>0.061735</td>\n",
              "      <td>0.031463</td>\n",
              "      <td>24.444000</td>\n",
              "      <td>0.614045</td>\n",
              "      <td>0.711335</td>\n",
              "      <td>0.264490</td>\n",
              "    </tr>\n",
              "    <tr>\n",
              "      <th>max</th>\n",
              "      <td>42.000000</td>\n",
              "      <td>85.000000</td>\n",
              "      <td>1.000000</td>\n",
              "      <td>215.490000</td>\n",
              "      <td>39.511000</td>\n",
              "      <td>54.992000</td>\n",
              "      <td>0.099990</td>\n",
              "      <td>0.000446</td>\n",
              "      <td>0.057540</td>\n",
              "      <td>0.069560</td>\n",
              "      <td>0.172630</td>\n",
              "      <td>0.268630</td>\n",
              "      <td>2.107000</td>\n",
              "      <td>0.162670</td>\n",
              "      <td>0.167020</td>\n",
              "      <td>0.275460</td>\n",
              "      <td>0.488020</td>\n",
              "      <td>0.748260</td>\n",
              "      <td>37.875000</td>\n",
              "      <td>0.966080</td>\n",
              "      <td>0.865600</td>\n",
              "      <td>0.731730</td>\n",
              "    </tr>\n",
              "  </tbody>\n",
              "</table>\n",
              "</div>"
            ],
            "text/plain": [
              "          subject#          age  ...          DFA          PPE\n",
              "count  5875.000000  5875.000000  ...  5875.000000  5875.000000\n",
              "mean     21.494128    64.804936  ...     0.653240     0.219589\n",
              "std      12.372279     8.821524  ...     0.070902     0.091498\n",
              "min       1.000000    36.000000  ...     0.514040     0.021983\n",
              "25%      10.000000    58.000000  ...     0.596180     0.156340\n",
              "50%      22.000000    65.000000  ...     0.643600     0.205500\n",
              "75%      33.000000    72.000000  ...     0.711335     0.264490\n",
              "max      42.000000    85.000000  ...     0.865600     0.731730\n",
              "\n",
              "[8 rows x 22 columns]"
            ]
          },
          "metadata": {
            "tags": []
          },
          "execution_count": 6
        }
      ]
    },
    {
      "cell_type": "markdown",
      "metadata": {
        "id": "t8i_Hy4vQkgo"
      },
      "source": [
        "Here we can see a weird discrepancy in the data. The min value of \"test_time\" is negative. \n",
        "\n",
        "From the UCI ML Repository, the description of \"test_time\" is as follows: \"Time since recruitment into the trial. The integer part is the number of days since recruitment.\"\n",
        "\n",
        "How can that be negative for a patient?"
      ]
    },
    {
      "cell_type": "code",
      "metadata": {
        "colab": {
          "base_uri": "https://localhost:8080/"
        },
        "id": "y4-od6MBQDJ1",
        "outputId": "21f2bf0a-204d-4b13-d407-a16b90e5dedf"
      },
      "source": [
        "df[df['test_time'] < 0].count()"
      ],
      "execution_count": 221,
      "outputs": [
        {
          "output_type": "execute_result",
          "data": {
            "text/plain": [
              "subject#         12\n",
              "age              12\n",
              "sex              12\n",
              "test_time        12\n",
              "motor_UPDRS      12\n",
              "total_UPDRS      12\n",
              "Jitter(%)        12\n",
              "Jitter(Abs)      12\n",
              "Jitter:RAP       12\n",
              "Jitter:PPQ5      12\n",
              "Jitter:DDP       12\n",
              "Shimmer          12\n",
              "Shimmer(dB)      12\n",
              "Shimmer:APQ3     12\n",
              "Shimmer:APQ5     12\n",
              "Shimmer:APQ11    12\n",
              "Shimmer:DDA      12\n",
              "NHR              12\n",
              "HNR              12\n",
              "RPDE             12\n",
              "DFA              12\n",
              "PPE              12\n",
              "dtype: int64"
            ]
          },
          "metadata": {
            "tags": []
          },
          "execution_count": 221
        }
      ]
    },
    {
      "cell_type": "markdown",
      "metadata": {
        "id": "Xg_iDKerROKH"
      },
      "source": [
        "We have 12 such entries that have a negative \"test_time\". It is better to drop these entries to avoid confusion for the models."
      ]
    },
    {
      "cell_type": "code",
      "metadata": {
        "id": "zQfZu9_qS_C-"
      },
      "source": [
        "df = df[df['test_time'] > 0]"
      ],
      "execution_count": 232,
      "outputs": []
    },
    {
      "cell_type": "markdown",
      "metadata": {
        "id": "RdnlEpzZah3Z"
      },
      "source": [
        "## Correlation Matrix"
      ]
    },
    {
      "cell_type": "code",
      "metadata": {
        "colab": {
          "base_uri": "https://localhost:8080/",
          "height": 943
        },
        "id": "qanFVb_kaO5g",
        "outputId": "1cb83bbc-a006-4467-902c-a5c08a8e8a0b"
      },
      "source": [
        "plt.figure(figsize=(20,15))\n",
        "sns.heatmap(df.corr(), annot=True, cmap='Blues')"
      ],
      "execution_count": 20,
      "outputs": [
        {
          "output_type": "execute_result",
          "data": {
            "text/plain": [
              "<matplotlib.axes._subplots.AxesSubplot at 0x7f0e89a10990>"
            ]
          },
          "metadata": {
            "tags": []
          },
          "execution_count": 20
        },
        {
          "output_type": "display_data",
          "data": {
            "image/png": "[encoded data removed]",
            "text/plain": [
              "<Figure size 1440x1080 with 2 Axes>"
            ]
          },
          "metadata": {
            "tags": [],
            "needs_background": "light"
          }
        }
      ]
    },
    {
      "cell_type": "markdown",
      "metadata": {
        "id": "G02gGuxqf8DO"
      },
      "source": [
        "As we can see, the data is highly correlated. Let us use Principal Component Analysis to narrow down the correlated features."
      ]
    },
    {
      "cell_type": "markdown",
      "metadata": {
        "id": "HOCubl76gJjF"
      },
      "source": [
        "## PCA"
      ]
    },
    {
      "cell_type": "code",
      "metadata": {
        "id": "ZM2nKqkYartp"
      },
      "source": [
        "data = df.copy()"
      ],
      "execution_count": 51,
      "outputs": []
    },
    {
      "cell_type": "markdown",
      "metadata": {
        "id": "lv8es403gQT3"
      },
      "source": [
        "Let us drop \"subject#\" from the dataset entirely as it not useful for our model. \n",
        "\n",
        "Let us also seperate the target variables before applying PCA."
      ]
    },
    {
      "cell_type": "code",
      "metadata": {
        "id": "U3JCkckogMHA"
      },
      "source": [
        "data.drop(['subject#'], axis=1, inplace=True)"
      ],
      "execution_count": 52,
      "outputs": []
    },
    {
      "cell_type": "code",
      "metadata": {
        "id": "P3cCdbjrglM1"
      },
      "source": [
        "y1 = data['motor_UPDRS']\n",
        "y2 = data['total_UPDRS']\n",
        "data.drop(['motor_UPDRS', 'total_UPDRS'], axis=1, inplace=True)"
      ],
      "execution_count": 36,
      "outputs": []
    },
    {
      "cell_type": "markdown",
      "metadata": {
        "id": "ZffrGcbPm3na"
      },
      "source": [
        "## Splitting the data into Training and Test Set"
      ]
    },
    {
      "cell_type": "code",
      "metadata": {
        "id": "2Ho0ffFYm9pb"
      },
      "source": [
        "x1_train, x1_test, y1_train, y1_test = train_test_split(data, y1, test_size=0.2, random_state=42)\n",
        "x2_train, x2_test, y2_train, y2_test = train_test_split(data, y2, test_size=0.2, random_state=42)"
      ],
      "execution_count": 54,
      "outputs": []
    },
    {
      "cell_type": "markdown",
      "metadata": {
        "id": "0lQEaG1KhRt2"
      },
      "source": [
        "Let us first perform Standardization to the data before applying PCA. \n",
        "\n",
        "This will make every feature have a Standard Deviation of 1 and mean of 0.\n",
        "\n",
        "I will use x1_train to perform PCA tests."
      ]
    },
    {
      "cell_type": "code",
      "metadata": {
        "id": "gmfZyqRng2wy"
      },
      "source": [
        "sc =  StandardScaler()\n",
        "scaled_data = pd.DataFrame(sc.fit_transform(x1_train), columns=data.columns)"
      ],
      "execution_count": 55,
      "outputs": []
    },
    {
      "cell_type": "code",
      "metadata": {
        "colab": {
          "base_uri": "https://localhost:8080/",
          "height": 223
        },
        "id": "0ABFBt07hwME",
        "outputId": "10124e22-ea5f-4ec3-d151-446b454240f7"
      },
      "source": [
        "scaled_data.head()"
      ],
      "execution_count": 56,
      "outputs": [
        {
          "output_type": "execute_result",
          "data": {
            "text/html": [
              "<div>\n",
              "<style scoped>\n",
              "    .dataframe tbody tr th:only-of-type {\n",
              "        vertical-align: middle;\n",
              "    }\n",
              "\n",
              "    .dataframe tbody tr th {\n",
              "        vertical-align: top;\n",
              "    }\n",
              "\n",
              "    .dataframe thead th {\n",
              "        text-align: right;\n",
              "    }\n",
              "</style>\n",
              "<table border=\"1\" class=\"dataframe\">\n",
              "  <thead>\n",
              "    <tr style=\"text-align: right;\">\n",
              "      <th></th>\n",
              "      <th>age</th>\n",
              "      <th>sex</th>\n",
              "      <th>test_time</th>\n",
              "      <th>motor_UPDRS</th>\n",
              "      <th>total_UPDRS</th>\n",
              "      <th>Jitter(%)</th>\n",
              "      <th>Jitter(Abs)</th>\n",
              "      <th>Jitter:RAP</th>\n",
              "      <th>Jitter:PPQ5</th>\n",
              "      <th>Jitter:DDP</th>\n",
              "      <th>Shimmer</th>\n",
              "      <th>Shimmer(dB)</th>\n",
              "      <th>Shimmer:APQ3</th>\n",
              "      <th>Shimmer:APQ5</th>\n",
              "      <th>Shimmer:APQ11</th>\n",
              "      <th>Shimmer:DDA</th>\n",
              "      <th>NHR</th>\n",
              "      <th>HNR</th>\n",
              "      <th>RPDE</th>\n",
              "      <th>DFA</th>\n",
              "      <th>PPE</th>\n",
              "    </tr>\n",
              "  </thead>\n",
              "  <tbody>\n",
              "    <tr>\n",
              "      <th>0</th>\n",
              "      <td>-0.773941</td>\n",
              "      <td>-0.685725</td>\n",
              "      <td>-0.040197</td>\n",
              "      <td>-1.033811</td>\n",
              "      <td>-1.313153</td>\n",
              "      <td>0.401620</td>\n",
              "      <td>0.611471</td>\n",
              "      <td>0.377309</td>\n",
              "      <td>0.522099</td>\n",
              "      <td>0.377288</td>\n",
              "      <td>0.579608</td>\n",
              "      <td>0.468792</td>\n",
              "      <td>0.775063</td>\n",
              "      <td>0.496052</td>\n",
              "      <td>0.317079</td>\n",
              "      <td>0.775068</td>\n",
              "      <td>0.154337</td>\n",
              "      <td>-1.459624</td>\n",
              "      <td>0.834924</td>\n",
              "      <td>1.581825</td>\n",
              "      <td>1.177734</td>\n",
              "    </tr>\n",
              "    <tr>\n",
              "      <th>1</th>\n",
              "      <td>1.271711</td>\n",
              "      <td>-0.685725</td>\n",
              "      <td>0.124754</td>\n",
              "      <td>1.078914</td>\n",
              "      <td>1.870205</td>\n",
              "      <td>-0.402102</td>\n",
              "      <td>-0.158845</td>\n",
              "      <td>-0.351485</td>\n",
              "      <td>-0.215892</td>\n",
              "      <td>-0.352578</td>\n",
              "      <td>-0.529551</td>\n",
              "      <td>-0.583921</td>\n",
              "      <td>-0.473490</td>\n",
              "      <td>-0.432491</td>\n",
              "      <td>-0.376939</td>\n",
              "      <td>-0.473735</td>\n",
              "      <td>-0.350487</td>\n",
              "      <td>-0.124628</td>\n",
              "      <td>0.807394</td>\n",
              "      <td>-0.574585</td>\n",
              "      <td>0.029718</td>\n",
              "    </tr>\n",
              "    <tr>\n",
              "      <th>2</th>\n",
              "      <td>2.294536</td>\n",
              "      <td>1.458310</td>\n",
              "      <td>-1.599231</td>\n",
              "      <td>-0.736380</td>\n",
              "      <td>-0.263322</td>\n",
              "      <td>0.268259</td>\n",
              "      <td>0.449418</td>\n",
              "      <td>0.319520</td>\n",
              "      <td>0.008714</td>\n",
              "      <td>0.318428</td>\n",
              "      <td>-0.033225</td>\n",
              "      <td>-0.096715</td>\n",
              "      <td>0.033192</td>\n",
              "      <td>0.042662</td>\n",
              "      <td>-0.008695</td>\n",
              "      <td>0.033449</td>\n",
              "      <td>-0.184314</td>\n",
              "      <td>-0.610060</td>\n",
              "      <td>0.776619</td>\n",
              "      <td>-0.079362</td>\n",
              "      <td>-0.763006</td>\n",
              "    </tr>\n",
              "    <tr>\n",
              "      <th>3</th>\n",
              "      <td>-1.114882</td>\n",
              "      <td>-0.685725</td>\n",
              "      <td>1.681591</td>\n",
              "      <td>-0.950515</td>\n",
              "      <td>-0.910125</td>\n",
              "      <td>-0.489231</td>\n",
              "      <td>-0.421472</td>\n",
              "      <td>-0.515223</td>\n",
              "      <td>-0.413759</td>\n",
              "      <td>-0.515246</td>\n",
              "      <td>-0.490326</td>\n",
              "      <td>-0.527371</td>\n",
              "      <td>-0.673137</td>\n",
              "      <td>-0.527401</td>\n",
              "      <td>-0.253525</td>\n",
              "      <td>-0.673130</td>\n",
              "      <td>-0.375835</td>\n",
              "      <td>0.613415</td>\n",
              "      <td>-0.283571</td>\n",
              "      <td>0.357592</td>\n",
              "      <td>-0.767768</td>\n",
              "    </tr>\n",
              "    <tr>\n",
              "      <th>4</th>\n",
              "      <td>0.817122</td>\n",
              "      <td>-0.685725</td>\n",
              "      <td>1.533871</td>\n",
              "      <td>1.932259</td>\n",
              "      <td>1.770474</td>\n",
              "      <td>-0.194059</td>\n",
              "      <td>-0.485500</td>\n",
              "      <td>-0.229484</td>\n",
              "      <td>-0.189153</td>\n",
              "      <td>-0.230577</td>\n",
              "      <td>-0.265465</td>\n",
              "      <td>-0.092365</td>\n",
              "      <td>-0.245861</td>\n",
              "      <td>-0.423423</td>\n",
              "      <td>-0.418910</td>\n",
              "      <td>-0.245855</td>\n",
              "      <td>-0.091116</td>\n",
              "      <td>0.626686</td>\n",
              "      <td>-0.067069</td>\n",
              "      <td>-0.827559</td>\n",
              "      <td>-0.404251</td>\n",
              "    </tr>\n",
              "  </tbody>\n",
              "</table>\n",
              "</div>"
            ],
            "text/plain": [
              "        age       sex  test_time  ...      RPDE       DFA       PPE\n",
              "0 -0.773941 -0.685725  -0.040197  ...  0.834924  1.581825  1.177734\n",
              "1  1.271711 -0.685725   0.124754  ...  0.807394 -0.574585  0.029718\n",
              "2  2.294536  1.458310  -1.599231  ...  0.776619 -0.079362 -0.763006\n",
              "3 -1.114882 -0.685725   1.681591  ... -0.283571  0.357592 -0.767768\n",
              "4  0.817122 -0.685725   1.533871  ... -0.067069 -0.827559 -0.404251\n",
              "\n",
              "[5 rows x 21 columns]"
            ]
          },
          "metadata": {
            "tags": []
          },
          "execution_count": 56
        }
      ]
    },
    {
      "cell_type": "code",
      "metadata": {
        "id": "eLq1J1EuhyMZ"
      },
      "source": [
        "pca = PCA(n_components=8)\n",
        "principal_components = pca.fit_transform(scaled_data)"
      ],
      "execution_count": 60,
      "outputs": []
    },
    {
      "cell_type": "code",
      "metadata": {
        "id": "8LPuyPGgiuvP"
      },
      "source": [
        "pca_df = pd.DataFrame(principal_components, columns=['PCA1','PCA2','PCA3','PCA14','PCA5','PCA6','PCA7','PCA8',])"
      ],
      "execution_count": 61,
      "outputs": []
    },
    {
      "cell_type": "code",
      "metadata": {
        "colab": {
          "base_uri": "https://localhost:8080/",
          "height": 203
        },
        "id": "ncDDPMCei7--",
        "outputId": "32e237e0-cd66-43b7-8c17-4332ac2f9dbc"
      },
      "source": [
        "pca_df.head()"
      ],
      "execution_count": 62,
      "outputs": [
        {
          "output_type": "execute_result",
          "data": {
            "text/html": [
              "<div>\n",
              "<style scoped>\n",
              "    .dataframe tbody tr th:only-of-type {\n",
              "        vertical-align: middle;\n",
              "    }\n",
              "\n",
              "    .dataframe tbody tr th {\n",
              "        vertical-align: top;\n",
              "    }\n",
              "\n",
              "    .dataframe thead th {\n",
              "        text-align: right;\n",
              "    }\n",
              "</style>\n",
              "<table border=\"1\" class=\"dataframe\">\n",
              "  <thead>\n",
              "    <tr style=\"text-align: right;\">\n",
              "      <th></th>\n",
              "      <th>PCA1</th>\n",
              "      <th>PCA2</th>\n",
              "      <th>PCA3</th>\n",
              "      <th>PCA14</th>\n",
              "      <th>PCA5</th>\n",
              "      <th>PCA6</th>\n",
              "      <th>PCA7</th>\n",
              "      <th>PCA8</th>\n",
              "    </tr>\n",
              "  </thead>\n",
              "  <tbody>\n",
              "    <tr>\n",
              "      <th>0</th>\n",
              "      <td>2.340122</td>\n",
              "      <td>1.814710</td>\n",
              "      <td>-0.584392</td>\n",
              "      <td>-1.914913</td>\n",
              "      <td>0.163387</td>\n",
              "      <td>0.393219</td>\n",
              "      <td>-0.325763</td>\n",
              "      <td>-0.151898</td>\n",
              "    </tr>\n",
              "    <tr>\n",
              "      <th>1</th>\n",
              "      <td>-0.978973</td>\n",
              "      <td>-2.631182</td>\n",
              "      <td>-0.819175</td>\n",
              "      <td>-0.200685</td>\n",
              "      <td>-0.297657</td>\n",
              "      <td>-0.535935</td>\n",
              "      <td>0.265746</td>\n",
              "      <td>-0.595924</td>\n",
              "    </tr>\n",
              "    <tr>\n",
              "      <th>2</th>\n",
              "      <td>0.445891</td>\n",
              "      <td>0.087675</td>\n",
              "      <td>0.445554</td>\n",
              "      <td>0.350772</td>\n",
              "      <td>-1.825713</td>\n",
              "      <td>-1.949276</td>\n",
              "      <td>-1.584365</td>\n",
              "      <td>-0.685981</td>\n",
              "    </tr>\n",
              "    <tr>\n",
              "      <th>3</th>\n",
              "      <td>-2.043408</td>\n",
              "      <td>1.329038</td>\n",
              "      <td>-0.226226</td>\n",
              "      <td>-0.592821</td>\n",
              "      <td>1.784382</td>\n",
              "      <td>0.377174</td>\n",
              "      <td>0.676176</td>\n",
              "      <td>-0.119683</td>\n",
              "    </tr>\n",
              "    <tr>\n",
              "      <th>4</th>\n",
              "      <td>-0.999646</td>\n",
              "      <td>-2.916601</td>\n",
              "      <td>-0.354047</td>\n",
              "      <td>0.678863</td>\n",
              "      <td>1.256410</td>\n",
              "      <td>-0.148525</td>\n",
              "      <td>0.783858</td>\n",
              "      <td>0.112045</td>\n",
              "    </tr>\n",
              "  </tbody>\n",
              "</table>\n",
              "</div>"
            ],
            "text/plain": [
              "       PCA1      PCA2      PCA3  ...      PCA6      PCA7      PCA8\n",
              "0  2.340122  1.814710 -0.584392  ...  0.393219 -0.325763 -0.151898\n",
              "1 -0.978973 -2.631182 -0.819175  ... -0.535935  0.265746 -0.595924\n",
              "2  0.445891  0.087675  0.445554  ... -1.949276 -1.584365 -0.685981\n",
              "3 -2.043408  1.329038 -0.226226  ...  0.377174  0.676176 -0.119683\n",
              "4 -0.999646 -2.916601 -0.354047  ... -0.148525  0.783858  0.112045\n",
              "\n",
              "[5 rows x 8 columns]"
            ]
          },
          "metadata": {
            "tags": []
          },
          "execution_count": 62
        }
      ]
    },
    {
      "cell_type": "markdown",
      "metadata": {
        "id": "HKleCMESjMzS"
      },
      "source": [
        "Plotting a Scree plot to perform the Elbow method to find the ideal components of PCA"
      ]
    },
    {
      "cell_type": "code",
      "metadata": {
        "colab": {
          "base_uri": "https://localhost:8080/",
          "height": 295
        },
        "id": "h9frn-Pli9F-",
        "outputId": "70b568f6-5ecf-4b5a-c6e2-1f238805119d"
      },
      "source": [
        "PC_values = np.arange(pca.n_components_) + 1\n",
        "plt.plot(PC_values, pca.explained_variance_ratio_, 'ro-', linewidth=2)\n",
        "plt.title('Scree Plot')\n",
        "plt.xlabel('Principal Component')\n",
        "plt.ylabel('Proportion of Variance Explained')\n",
        "plt.show()"
      ],
      "execution_count": 63,
      "outputs": [
        {
          "output_type": "display_data",
          "data": {
            "image/png": "[encoded data removed]",
            "text/plain": [
              "<Figure size 432x288 with 1 Axes>"
            ]
          },
          "metadata": {
            "tags": [],
            "needs_background": "light"
          }
        }
      ]
    },
    {
      "cell_type": "markdown",
      "metadata": {
        "id": "cZZq_c5WjtuN"
      },
      "source": [
        "We also calculate the eigenvalues of the Principal Components and keep those components whoes Eigenvalues are greater than 1."
      ]
    },
    {
      "cell_type": "code",
      "metadata": {
        "colab": {
          "base_uri": "https://localhost:8080/"
        },
        "id": "tVodm_pwjd-O",
        "outputId": "54c5a584-1ede-492a-ccde-ef86dc6e9eb1"
      },
      "source": [
        "print(pca.explained_variance_)"
      ],
      "execution_count": 64,
      "outputs": [
        {
          "output_type": "stream",
          "text": [
            "[11.2824609   2.18375284  1.71295582  1.43203795  0.99934539  0.8306937\n",
            "  0.79684069  0.69953293]\n"
          ],
          "name": "stdout"
        }
      ]
    },
    {
      "cell_type": "markdown",
      "metadata": {
        "id": "gWj_9ChmkRpI"
      },
      "source": [
        "Hence we decide to keep 4 Principal Components.\n",
        "\n",
        "Now we standardize all the training and test sets and perform PCA using 4 Principle Components."
      ]
    },
    {
      "cell_type": "code",
      "metadata": {
        "id": "8UyiXjCvlxzw"
      },
      "source": [
        "sc1 = StandardScaler()\n",
        "sc2 = StandardScaler()\n",
        "x1_train = sc1.fit_transform(x1_train)\n",
        "x1_test = sc1.transform(x1_test)\n",
        "\n",
        "x2_train = sc2.fit_transform(x2_train)\n",
        "x2_test = sc2.transform(x2_test)"
      ],
      "execution_count": 65,
      "outputs": []
    },
    {
      "cell_type": "markdown",
      "metadata": {
        "id": "hhCiRORUq249"
      },
      "source": [
        "The reason we seperated the data into training and test set so early is due avoid information leakage and overfitting of our model. \n",
        "\n",
        "The model should never have seen the test data to evaluate it's performance accurately."
      ]
    },
    {
      "cell_type": "code",
      "metadata": {
        "id": "fJebMamyq2E8"
      },
      "source": [
        "pca1 = PCA(n_components=4)\n",
        "pca2 = PCA(n_components=4)\n",
        "x1_train = pca1.fit_transform(x1_train)\n",
        "x1_test = pca1.transform(x1_test)\n",
        "\n",
        "x2_train = pca2.fit_transform(x2_train)\n",
        "x2_test = pca2.transform(x2_test)"
      ],
      "execution_count": 67,
      "outputs": []
    },
    {
      "cell_type": "markdown",
      "metadata": {
        "id": "8g6u2xzFrpyn"
      },
      "source": [
        "Our data is ready to be fitted into Regression Models."
      ]
    },
    {
      "cell_type": "markdown",
      "metadata": {
        "id": "ls6ez-J4tDak"
      },
      "source": [
        "## Function for Evaluating Model Performance"
      ]
    },
    {
      "cell_type": "code",
      "metadata": {
        "id": "FG5pxRcmtHYK"
      },
      "source": [
        "def score(y_pred,y_test):\n",
        "    mae = mean_absolute_error(y_test,y_pred)\n",
        "    mse = mean_squared_error(y_test,y_pred)\n",
        "    r2 = r2_score(y_test,y_pred)*100\n",
        "    print(\"Mean Absolute Error: \", mae)\n",
        "    print(\"Mean Squared Error: \", mse)\n",
        "    print(\"R2 score: \", r2, \"%\")\n",
        "    return (mae, mse, r2)"
      ],
      "execution_count": 71,
      "outputs": []
    },
    {
      "cell_type": "markdown",
      "metadata": {
        "id": "cRBVVYRArxcH"
      },
      "source": [
        "# Models"
      ]
    },
    {
      "cell_type": "markdown",
      "metadata": {
        "id": "ALgzx-v1uBKH"
      },
      "source": [
        "## Y1 Variabale: motor_UPDRS"
      ]
    },
    {
      "cell_type": "markdown",
      "metadata": {
        "id": "ucHoP2bktjn0"
      },
      "source": [
        "### Linear Regression"
      ]
    },
    {
      "cell_type": "code",
      "metadata": {
        "id": "uKNZVggxrm12"
      },
      "source": [
        "lin_reg1 = LinearRegression()\n",
        "lin_reg1.fit(x1_train, y1_train)\n",
        "y_lin_pred1 = lin_reg1.predict(x1_test)"
      ],
      "execution_count": 73,
      "outputs": []
    },
    {
      "cell_type": "code",
      "metadata": {
        "colab": {
          "base_uri": "https://localhost:8080/"
        },
        "id": "PKws08H9uR88",
        "outputId": "d02874a5-5291-406f-b570-4a747cd50865"
      },
      "source": [
        "lin_mae1, lin_mse1, lin_r21 = score(y1_test,y_lin_pred1)"
      ],
      "execution_count": 75,
      "outputs": [
        {
          "output_type": "stream",
          "text": [
            "Mean Absolute Error:  2.013045997977355\n",
            "Mean Squared Error:  6.628901362431444\n",
            "R2 score:  88.7658976208952 %\n"
          ],
          "name": "stdout"
        }
      ]
    },
    {
      "cell_type": "markdown",
      "metadata": {
        "id": "1-qJvspku6pA"
      },
      "source": [
        "### Polynomial Regression"
      ]
    },
    {
      "cell_type": "code",
      "metadata": {
        "id": "U06Jy8MhuV1C"
      },
      "source": [
        "poly = PolynomialFeatures(degree=3)\n",
        "x1_poly = poly.fit_transform(x1_train)"
      ],
      "execution_count": 92,
      "outputs": []
    },
    {
      "cell_type": "code",
      "metadata": {
        "id": "pEY26FYrv9cT"
      },
      "source": [
        "poly_reg1 = LinearRegression()\n",
        "poly_reg1.fit(x1_poly, y1_train)\n",
        "y_poly_pred1 = poly_reg1.predict(poly.transform(x1_test))"
      ],
      "execution_count": 93,
      "outputs": []
    },
    {
      "cell_type": "code",
      "metadata": {
        "colab": {
          "base_uri": "https://localhost:8080/"
        },
        "id": "OkOLqYaGwQ5f",
        "outputId": "28d416f7-209d-4600-d441-3b06c4b6e7ab"
      },
      "source": [
        "poly_mae1, poly_mse1, poly_r21 = score(y1_test, y_poly_pred1)"
      ],
      "execution_count": 95,
      "outputs": [
        {
          "output_type": "stream",
          "text": [
            "Mean Absolute Error:  1.806287368888753\n",
            "Mean Squared Error:  5.3075683826131606\n",
            "R2 score:  91.24625229080422 %\n"
          ],
          "name": "stdout"
        }
      ]
    },
    {
      "cell_type": "markdown",
      "metadata": {
        "id": "4ER7I9Xc0EQd"
      },
      "source": [
        "### Support Vector Machine"
      ]
    },
    {
      "cell_type": "code",
      "metadata": {
        "id": "VgmYtlsRzxap"
      },
      "source": [
        "svr_reg1 = SVR()\n",
        "svr_reg1.fit(x1_train, y1_train)\n",
        "y_svr_pred1 = svr_reg1.predict(x1_test)"
      ],
      "execution_count": 102,
      "outputs": []
    },
    {
      "cell_type": "code",
      "metadata": {
        "colab": {
          "base_uri": "https://localhost:8080/"
        },
        "id": "vX_nKzXj0U1c",
        "outputId": "21b95519-6386-4b5b-b6ca-5ff97ff30d3b"
      },
      "source": [
        "svr_mae1, svr_mse1, svr_r21 = score(y1_test, y_svr_pred1)"
      ],
      "execution_count": 103,
      "outputs": [
        {
          "output_type": "stream",
          "text": [
            "Mean Absolute Error:  1.807060747073706\n",
            "Mean Squared Error:  5.801616762630498\n",
            "R2 score:  90.5366746680612 %\n"
          ],
          "name": "stdout"
        }
      ]
    },
    {
      "cell_type": "markdown",
      "metadata": {
        "id": "UgF-cMC_0kaD"
      },
      "source": [
        "### Decision Tree Regression"
      ]
    },
    {
      "cell_type": "code",
      "metadata": {
        "id": "nKSKM_eY0aq5"
      },
      "source": [
        "dt_reg1 = DecisionTreeRegressor()\n",
        "dt_reg1.fit(x1_train, y1_train)\n",
        "y_dt_pred1 = dt_reg1.predict(x1_test)"
      ],
      "execution_count": 105,
      "outputs": []
    },
    {
      "cell_type": "code",
      "metadata": {
        "colab": {
          "base_uri": "https://localhost:8080/"
        },
        "id": "tsqvtmcN2EkV",
        "outputId": "952c9ac5-013b-4ed9-de86-467d5c5ae2b7"
      },
      "source": [
        "dt_mae1, dt_mse1, dt_r21 = score(y1_test, y_dt_pred1)"
      ],
      "execution_count": 106,
      "outputs": [
        {
          "output_type": "stream",
          "text": [
            "Mean Absolute Error:  1.9060743108837737\n",
            "Mean Squared Error:  7.887836194636734\n",
            "R2 score:  88.11295332671143 %\n"
          ],
          "name": "stdout"
        }
      ]
    },
    {
      "cell_type": "markdown",
      "metadata": {
        "id": "nd3eVWvB2NwG"
      },
      "source": [
        "### Random Forrest Regression"
      ]
    },
    {
      "cell_type": "code",
      "metadata": {
        "id": "mkchFCFl2KDl"
      },
      "source": [
        "rf_reg1 = RandomForestRegressor()\n",
        "rf_reg1.fit(x1_train, y1_train)\n",
        "y_rf_pred1 = rf_reg1.predict(x1_test)"
      ],
      "execution_count": 107,
      "outputs": []
    },
    {
      "cell_type": "code",
      "metadata": {
        "colab": {
          "base_uri": "https://localhost:8080/"
        },
        "id": "P0MPLsm32k6Y",
        "outputId": "524ca2da-1190-4934-f867-7096cdbbeb0c"
      },
      "source": [
        "rf_mae1, rf_mse1, rf_r21 = score(y1_test, y_rf_pred1)"
      ],
      "execution_count": 108,
      "outputs": [
        {
          "output_type": "stream",
          "text": [
            "Mean Absolute Error:  1.5017740437373368\n",
            "Mean Squared Error:  4.242023602073767\n",
            "R2 score:  93.0950463901452 %\n"
          ],
          "name": "stdout"
        }
      ]
    },
    {
      "cell_type": "markdown",
      "metadata": {
        "id": "w6KjYIR92u8z"
      },
      "source": [
        "### XGBoost Regression"
      ]
    },
    {
      "cell_type": "code",
      "metadata": {
        "id": "q21oMQLp2pDm"
      },
      "source": [
        "xgb_reg1 = XGBRegressor(objective='reg:squarederror')\n",
        "xgb_reg1.fit(x1_train, y1_train)\n",
        "y_xgb_pred1 = xgb_reg1.predict(x1_test)"
      ],
      "execution_count": 197,
      "outputs": []
    },
    {
      "cell_type": "code",
      "metadata": {
        "colab": {
          "base_uri": "https://localhost:8080/"
        },
        "id": "phZmJTBv3L0-",
        "outputId": "51fb3e24-a145-4f62-8e2f-eb2ffc399570"
      },
      "source": [
        "xgb_mae1, xgb_mse1, xgb_r21 = score(y1_test, y_xgb_pred1)"
      ],
      "execution_count": 112,
      "outputs": [
        {
          "output_type": "stream",
          "text": [
            "Mean Absolute Error:  1.734105388724611\n",
            "Mean Squared Error:  4.94686745690841\n",
            "R2 score:  91.86002788248928 %\n"
          ],
          "name": "stdout"
        }
      ]
    },
    {
      "cell_type": "markdown",
      "metadata": {
        "id": "fOgPc2uY3j80"
      },
      "source": [
        "## Comparing Model1 Performance"
      ]
    },
    {
      "cell_type": "code",
      "metadata": {
        "id": "4Y8zdVvJ3giP"
      },
      "source": [
        "model_mae1 = [lin_mae1,poly_mae1, svr_mae1, dt_mae1, rf_mae1, xgb_mae1]\n",
        "model_mse1 = [lin_mse1,poly_mse1, svr_mse1, dt_mse1, rf_mse1, xgb_mse1]\n",
        "model_r21 = [lin_r21,poly_r21, svr_r21, dt_r21, rf_r21, xgb_r21]\n",
        "models=[\"Linear Regression\", \"Polynomial Regression\", \"SVM\", \"Decision Tree\", \"Random Forrest\", \"XGBoost\"]"
      ],
      "execution_count": 115,
      "outputs": []
    },
    {
      "cell_type": "code",
      "metadata": {
        "colab": {
          "base_uri": "https://localhost:8080/",
          "height": 584
        },
        "id": "vSNUeAvx4sqD",
        "outputId": "a9247403-c103-499c-90f1-26613b9907b5"
      },
      "source": [
        "plt.figure(figsize=(12,9))\n",
        "ax = sns.barplot(x=models, y=model_mae1)\n",
        "for p in ax.patches:\n",
        "  height = p.get_height()\n",
        "  ax.text(p.get_x() + p.get_width()/2.,\n",
        "          height+0.01,\n",
        "          '{:1.3f}'.format(height),\n",
        "          ha='center')\n",
        "  \n",
        "plt.ylabel('Model1 Mean Absolute Error')\n",
        "plt.xlabel('Model Name')\n",
        "plt.title('Comparing Model1 MAE(Test Set)')"
      ],
      "execution_count": 131,
      "outputs": [
        {
          "output_type": "execute_result",
          "data": {
            "text/plain": [
              "Text(0.5, 1.0, 'Comparing Model1 MAE(Test Set)')"
            ]
          },
          "metadata": {
            "tags": []
          },
          "execution_count": 131
        },
        {
          "output_type": "display_data",
          "data": {
            "image/png": "[encoded data removed]",
            "text/plain": [
              "<Figure size 864x648 with 1 Axes>"
            ]
          },
          "metadata": {
            "tags": [],
            "needs_background": "light"
          }
        }
      ]
    },
    {
      "cell_type": "code",
      "metadata": {
        "colab": {
          "base_uri": "https://localhost:8080/",
          "height": 584
        },
        "id": "-NSNcQg26Uzr",
        "outputId": "0c5296f2-2f64-414b-c155-f55e5658f7e4"
      },
      "source": [
        "plt.figure(figsize=(12,9))\n",
        "ax = sns.barplot(x=models, y=model_mse1)\n",
        "for p in ax.patches:\n",
        "  height = p.get_height()\n",
        "  ax.text(p.get_x() + p.get_width()/2.,\n",
        "          height+0.1,\n",
        "          '{:1.3f}'.format(height),\n",
        "          ha='center')\n",
        "  \n",
        "plt.ylabel('Model1 Mean Squared Error')\n",
        "plt.xlabel('Model Name')\n",
        "plt.title('Comparing Model1 MSE(Test Set)')"
      ],
      "execution_count": 132,
      "outputs": [
        {
          "output_type": "execute_result",
          "data": {
            "text/plain": [
              "Text(0.5, 1.0, 'Comparing Model1 MSE(Test Set)')"
            ]
          },
          "metadata": {
            "tags": []
          },
          "execution_count": 132
        },
        {
          "output_type": "display_data",
          "data": {
            "image/png": "[encoded data removed]",
            "text/plain": [
              "<Figure size 864x648 with 1 Axes>"
            ]
          },
          "metadata": {
            "tags": [],
            "needs_background": "light"
          }
        }
      ]
    },
    {
      "cell_type": "code",
      "metadata": {
        "colab": {
          "base_uri": "https://localhost:8080/",
          "height": 584
        },
        "id": "1_dxbPm26lik",
        "outputId": "66aa5414-01dd-4c2d-a0b3-2d47d14193ce"
      },
      "source": [
        "plt.figure(figsize=(12,9))\n",
        "ax = sns.barplot(x=models, y=model_r21)\n",
        "for p in ax.patches:\n",
        "  height = p.get_height()\n",
        "  ax.text(p.get_x() + p.get_width()/2.,\n",
        "          height + 1,\n",
        "          '{:1.3f}%'.format(height),\n",
        "          ha='center')\n",
        "  \n",
        "plt.ylabel('Model1 R2 Score')\n",
        "plt.xlabel('Model Name')\n",
        "plt.title('Comparing Model1 R2 Score(Test Set)')"
      ],
      "execution_count": 133,
      "outputs": [
        {
          "output_type": "execute_result",
          "data": {
            "text/plain": [
              "Text(0.5, 1.0, 'Comparing Model1 R2 Score(Test Set)')"
            ]
          },
          "metadata": {
            "tags": []
          },
          "execution_count": 133
        },
        {
          "output_type": "display_data",
          "data": {
            "image/png": "[encoded data removed]",
            "text/plain": [
              "<Figure size 864x648 with 1 Axes>"
            ]
          },
          "metadata": {
            "tags": [],
            "needs_background": "light"
          }
        }
      ]
    },
    {
      "cell_type": "markdown",
      "metadata": {
        "id": "NmAitQSkPZmm"
      },
      "source": [
        "### Performing Cross Validation for our 3 best performing models"
      ]
    },
    {
      "cell_type": "markdown",
      "metadata": {
        "id": "XtHmKRQnQ498"
      },
      "source": [
        "#### R2 Score"
      ]
    },
    {
      "cell_type": "code",
      "metadata": {
        "id": "Fh_guuXnPRqZ"
      },
      "source": [
        "poly_cv1 = cross_val_score(poly_reg1,x1_poly, y1_train, cv=10, scoring='r2')\n",
        "rf_cv1 = cross_val_score(rf_reg1,x1_train, y1_train, cv=10, scoring='r2')\n",
        "xgb_cv1 = cross_val_score(xgb_reg1,x1_train, y1_train, cv=10, scoring='r2')"
      ],
      "execution_count": 207,
      "outputs": []
    },
    {
      "cell_type": "code",
      "metadata": {
        "colab": {
          "base_uri": "https://localhost:8080/"
        },
        "id": "JcbveJ2PPRs4",
        "outputId": "5b2c4c49-3fa8-43e4-fcbb-fdaca02775b4"
      },
      "source": [
        "print(\"Cross Validation Score for Polynomial Regression is: {:1.3f} +- {:1.3f}\".format(poly_cv1.mean()*100, poly_cv1.std()*100))\n",
        "print(\"Cross Validation Score for Random Forrest Regression is: {:1.3f} +- {:1.3f}\".format(rf_cv1.mean()*100, rf_cv1.std()*100))\n",
        "print(\"Cross Validation Score for XGBoost Model is: {:1.3f} +- {:1.3f}\".format(xgb_cv1.mean()*100, xgb_cv1.std()*100))"
      ],
      "execution_count": 208,
      "outputs": [
        {
          "output_type": "stream",
          "text": [
            "Cross Validation Score for Polynomial Regression is: 90.463 +- 5.351\n",
            "Cross Validation Score for Random Forrest Regression is: 93.518 +- 0.798\n",
            "Cross Validation Score for XGBoost Model is: 92.739 +- 0.686\n"
          ],
          "name": "stdout"
        }
      ]
    },
    {
      "cell_type": "markdown",
      "metadata": {
        "id": "jZYIvzBk_eUY"
      },
      "source": [
        "#### Thus Random Forrest Regression is the best model for Y1 Variable(motor_UPDRS) with a **MAE of 1.5 and R2 score of 93.1%**"
      ]
    },
    {
      "cell_type": "markdown",
      "metadata": {
        "id": "dZuVZ2ntCbiZ"
      },
      "source": [
        "## Y2 Variable: total_UPDRS"
      ]
    },
    {
      "cell_type": "markdown",
      "metadata": {
        "id": "WuR6mU8RACmc"
      },
      "source": [
        "The Correlation Matrix gave us an interesting insight. \"motor_UPDRS\" and \"total_UPDRS\" are highly correlated(0.95)."
      ]
    },
    {
      "cell_type": "markdown",
      "metadata": {
        "id": "AFWwedb2Cs2j"
      },
      "source": [
        "In our current dataset, we already have the recorded data of \"motor_UPDRS\". But for future predictions, that might not be the case.\n",
        "\n",
        "Hence we can use feature engineering to get a new highly correlated feature using our Model 1 for the \"total_UPDRS\" prediction."
      ]
    },
    {
      "cell_type": "markdown",
      "metadata": {
        "id": "RCUyigDrEKUk"
      },
      "source": [
        "We will use Random Forrest predictions as the new feature for our Model 2 as it was the best performing model."
      ]
    },
    {
      "cell_type": "markdown",
      "metadata": {
        "id": "3fFOofKcJQUC"
      },
      "source": [
        "### Adding the \"motor_UPDRS\" values predicted by our Model 1 to the second training and test set."
      ]
    },
    {
      "cell_type": "code",
      "metadata": {
        "id": "MSQzNfTg-HU8"
      },
      "source": [
        "motor_train = rf_reg1.predict(x1_train)\n",
        "motor_test = rf_reg1.predict(x1_test)"
      ],
      "execution_count": 134,
      "outputs": []
    },
    {
      "cell_type": "code",
      "metadata": {
        "id": "gEbjEr-aGMae"
      },
      "source": [
        "x2_train = pd.DataFrame(x2_train, columns = ['PCA1', 'PCA2', 'PCA3', 'PCA4'])"
      ],
      "execution_count": 147,
      "outputs": []
    },
    {
      "cell_type": "code",
      "metadata": {
        "id": "kiIgKzSsHtF7"
      },
      "source": [
        "x2_test = pd.DataFrame(x2_test, columns = ['PCA1', 'PCA2', 'PCA3', 'PCA4'])"
      ],
      "execution_count": 149,
      "outputs": []
    },
    {
      "cell_type": "code",
      "metadata": {
        "id": "r3xDliBwI2iA"
      },
      "source": [
        "x2_train['motor_UPDRS'] = motor_train"
      ],
      "execution_count": 158,
      "outputs": []
    },
    {
      "cell_type": "code",
      "metadata": {
        "id": "uGPmKI6UJB4i"
      },
      "source": [
        "x2_test['motor_UPDRS'] = motor_test"
      ],
      "execution_count": 152,
      "outputs": []
    },
    {
      "cell_type": "markdown",
      "metadata": {
        "id": "jxHohjAtLeDB"
      },
      "source": [
        "Performing Standardization for the new feature we engineered."
      ]
    },
    {
      "cell_type": "code",
      "metadata": {
        "id": "Uuz_yYJFJEok"
      },
      "source": [
        "ct = ColumnTransformer([('scaler', StandardScaler(), [4])], remainder='passthrough')\n",
        "x2_train = np.array(ct.fit_transform(x2_train))\n",
        "x2_test = np.array(ct.transform(x2_test))"
      ],
      "execution_count": 159,
      "outputs": []
    },
    {
      "cell_type": "markdown",
      "metadata": {
        "id": "H-yxm1cQLm8N"
      },
      "source": [
        "### Linear Regression"
      ]
    },
    {
      "cell_type": "code",
      "metadata": {
        "id": "o4Jyfe4xLZsp"
      },
      "source": [
        "lin_reg2 = LinearRegression()\n",
        "lin_reg2.fit(x2_train, y2_train)\n",
        "y_lin_pred2 = lin_reg2.predict(x2_test)"
      ],
      "execution_count": 162,
      "outputs": []
    },
    {
      "cell_type": "code",
      "metadata": {
        "colab": {
          "base_uri": "https://localhost:8080/"
        },
        "id": "My_-VMoaLvX3",
        "outputId": "03449afe-8b6a-4887-e1c3-1fe30a9c04c9"
      },
      "source": [
        "lin_mae2, lin_mse2, lin_r22 = score(y2_test,y_lin_pred2)"
      ],
      "execution_count": 163,
      "outputs": [
        {
          "output_type": "stream",
          "text": [
            "Mean Absolute Error:  2.1887633773514756\n",
            "Mean Squared Error:  7.897445617969647\n",
            "R2 score:  92.47253613847023 %\n"
          ],
          "name": "stdout"
        }
      ]
    },
    {
      "cell_type": "markdown",
      "metadata": {
        "id": "4b6mFLwEL8vd"
      },
      "source": [
        "### Polynomial Regression"
      ]
    },
    {
      "cell_type": "code",
      "metadata": {
        "id": "phGvmOezL0Ou"
      },
      "source": [
        "poly2 = PolynomialFeatures(degree=3)\n",
        "x2_poly = poly2.fit_transform(x2_train)"
      ],
      "execution_count": 178,
      "outputs": []
    },
    {
      "cell_type": "code",
      "metadata": {
        "id": "KEXRS9q8MCmP"
      },
      "source": [
        "poly_reg2 = LinearRegression()\n",
        "poly_reg2.fit(x2_poly, y2_train)\n",
        "y_poly_pred2 = poly_reg2.predict(poly2.transform(x2_test))"
      ],
      "execution_count": 179,
      "outputs": []
    },
    {
      "cell_type": "code",
      "metadata": {
        "colab": {
          "base_uri": "https://localhost:8080/"
        },
        "id": "iO3V9Da2MJt8",
        "outputId": "5a153d0c-130f-4d8f-888b-d6be6c2657ba"
      },
      "source": [
        "poly_mae2, poly_mse2, poly_r22 = score(y2_test, y_poly_pred2)"
      ],
      "execution_count": 180,
      "outputs": [
        {
          "output_type": "stream",
          "text": [
            "Mean Absolute Error:  2.0191681934879133\n",
            "Mean Squared Error:  6.865629099848786\n",
            "R2 score:  93.5804043349027 %\n"
          ],
          "name": "stdout"
        }
      ]
    },
    {
      "cell_type": "markdown",
      "metadata": {
        "id": "FGqmZywgMhk4"
      },
      "source": [
        "### Support Vector Machines"
      ]
    },
    {
      "cell_type": "code",
      "metadata": {
        "id": "tXQHbWPuMR6_"
      },
      "source": [
        "svr_reg2 = SVR()\n",
        "svr_reg2.fit(x2_train, y2_train)\n",
        "y_svr_pred2 = svr_reg2.predict(x2_test)"
      ],
      "execution_count": 181,
      "outputs": []
    },
    {
      "cell_type": "code",
      "metadata": {
        "colab": {
          "base_uri": "https://localhost:8080/"
        },
        "id": "pJrb1kpUMoty",
        "outputId": "2256869b-753c-4b6d-9936-be285d13f65d"
      },
      "source": [
        "svr_mae2, svr_mse2, svr_r22 = score(y2_test, y_svr_pred2)"
      ],
      "execution_count": 182,
      "outputs": [
        {
          "output_type": "stream",
          "text": [
            "Mean Absolute Error:  1.9743432264007872\n",
            "Mean Squared Error:  6.803789580012781\n",
            "R2 score:  93.34567645741238 %\n"
          ],
          "name": "stdout"
        }
      ]
    },
    {
      "cell_type": "markdown",
      "metadata": {
        "id": "RupkhL8FMzcw"
      },
      "source": [
        "### Decision Tree Regression"
      ]
    },
    {
      "cell_type": "code",
      "metadata": {
        "id": "VP-BDFb-MuUu"
      },
      "source": [
        "dt_reg2 = DecisionTreeRegressor()\n",
        "dt_reg2.fit(x2_train, y2_train)\n",
        "y_dt_pred2 = dt_reg2.predict(x2_test)"
      ],
      "execution_count": 183,
      "outputs": []
    },
    {
      "cell_type": "code",
      "metadata": {
        "colab": {
          "base_uri": "https://localhost:8080/"
        },
        "id": "gsOF2DdhM7xl",
        "outputId": "f8f05210-0d41-47ba-91b2-2fdbfced6957"
      },
      "source": [
        "dt_mae2, dt_mse2, dt_r22 = score(y2_test, y_dt_pred2)"
      ],
      "execution_count": 184,
      "outputs": [
        {
          "output_type": "stream",
          "text": [
            "Mean Absolute Error:  1.8557975845410626\n",
            "Mean Squared Error:  7.791706275283224\n",
            "R2 score:  93.13552893950458 %\n"
          ],
          "name": "stdout"
        }
      ]
    },
    {
      "cell_type": "markdown",
      "metadata": {
        "id": "jhIYBQQMND-y"
      },
      "source": [
        "### Random Forrest Regression"
      ]
    },
    {
      "cell_type": "code",
      "metadata": {
        "id": "TcaQPFzTNAT3"
      },
      "source": [
        "rf_reg2 = RandomForestRegressor()\n",
        "rf_reg2.fit(x2_train, y2_train)\n",
        "y_rf_pred2 = rf_reg2.predict(x2_test)"
      ],
      "execution_count": 185,
      "outputs": []
    },
    {
      "cell_type": "code",
      "metadata": {
        "colab": {
          "base_uri": "https://localhost:8080/"
        },
        "id": "1vRrEgz1NJ0K",
        "outputId": "65ded61c-d0eb-4fc7-ecd1-acea966a6a19"
      },
      "source": [
        "rf_mae2, rf_mse2, rf_r22 = score(y2_test, y_rf_pred2)"
      ],
      "execution_count": 186,
      "outputs": [
        {
          "output_type": "stream",
          "text": [
            "Mean Absolute Error:  1.6501308562341583\n",
            "Mean Squared Error:  5.545603335538609\n",
            "R2 score:  95.02817568287286 %\n"
          ],
          "name": "stdout"
        }
      ]
    },
    {
      "cell_type": "markdown",
      "metadata": {
        "id": "lDczQdcENSXc"
      },
      "source": [
        "### XGBoost Regression"
      ]
    },
    {
      "cell_type": "code",
      "metadata": {
        "id": "0QR_L7JsNQkk"
      },
      "source": [
        "xgb_reg2 = XGBRegressor(objective='reg:squarederror')\n",
        "xgb_reg2.fit(x2_train, y2_train)\n",
        "y_xgb_pred2 = xgb_reg2.predict(x2_test)"
      ],
      "execution_count": 210,
      "outputs": []
    },
    {
      "cell_type": "code",
      "metadata": {
        "colab": {
          "base_uri": "https://localhost:8080/"
        },
        "id": "7HiIUFYANaLf",
        "outputId": "de85d62a-726d-4b4c-9c84-4c1fef0ed23f"
      },
      "source": [
        "xgb_mae2, xgb_mse2, xgb_r22 = score(y2_test, y_xgb_pred2)"
      ],
      "execution_count": 188,
      "outputs": [
        {
          "output_type": "stream",
          "text": [
            "Mean Absolute Error:  1.8405141578316588\n",
            "Mean Squared Error:  5.781456617119022\n",
            "R2 score:  94.67397057210276 %\n"
          ],
          "name": "stdout"
        }
      ]
    },
    {
      "cell_type": "markdown",
      "metadata": {
        "id": "MjKoi6bgNj4T"
      },
      "source": [
        "## Comparing Model2 Performance"
      ]
    },
    {
      "cell_type": "code",
      "metadata": {
        "id": "Il0VCOkENexn"
      },
      "source": [
        "model_mae2 = [lin_mae2,poly_mae2, svr_mae2, dt_mae2, rf_mae2, xgb_mae2]\n",
        "model_mse2 = [lin_mse2,poly_mse2, svr_mse2, dt_mse2, rf_mse2, xgb_mse2]\n",
        "model_r22 = [lin_r22,poly_r22, svr_r22, dt_r22, rf_r22, xgb_r22]"
      ],
      "execution_count": 189,
      "outputs": []
    },
    {
      "cell_type": "code",
      "metadata": {
        "colab": {
          "base_uri": "https://localhost:8080/",
          "height": 584
        },
        "id": "mrsI3cS0NwAc",
        "outputId": "1b88ce11-a01b-4119-d1bc-5c1695c2d133"
      },
      "source": [
        "plt.figure(figsize=(12,9))\n",
        "ax = sns.barplot(x=models, y=model_mae2)\n",
        "for p in ax.patches:\n",
        "  height = p.get_height()\n",
        "  ax.text(p.get_x() + p.get_width()/2.,\n",
        "          height+0.01,\n",
        "          '{:1.3f}'.format(height),\n",
        "          ha='center')\n",
        "  \n",
        "plt.ylabel('Model2 Mean Absolute Error')\n",
        "plt.xlabel('Model Name')\n",
        "plt.title('Comparing Model2 MAE(Test Set)')"
      ],
      "execution_count": 190,
      "outputs": [
        {
          "output_type": "execute_result",
          "data": {
            "text/plain": [
              "Text(0.5, 1.0, 'Comparing Model2 MAE(Test Set)')"
            ]
          },
          "metadata": {
            "tags": []
          },
          "execution_count": 190
        },
        {
          "output_type": "display_data",
          "data": {
            "image/png": "[encoded data removed]",
            "text/plain": [
              "<Figure size 864x648 with 1 Axes>"
            ]
          },
          "metadata": {
            "tags": [],
            "needs_background": "light"
          }
        }
      ]
    },
    {
      "cell_type": "code",
      "metadata": {
        "colab": {
          "base_uri": "https://localhost:8080/",
          "height": 584
        },
        "id": "XGivYISxN1pm",
        "outputId": "9e1c3657-09ee-484b-c65d-48ed7f11869f"
      },
      "source": [
        "plt.figure(figsize=(12,9))\n",
        "ax = sns.barplot(x=models, y=model_mse2)\n",
        "for p in ax.patches:\n",
        "  height = p.get_height()\n",
        "  ax.text(p.get_x() + p.get_width()/2.,\n",
        "          height+0.1,\n",
        "          '{:1.3f}'.format(height),\n",
        "          ha='center')\n",
        "  \n",
        "plt.ylabel('Model2 Mean Squared Error')\n",
        "plt.xlabel('Model Name')\n",
        "plt.title('Comparing Model2 MSE(Test Set)')"
      ],
      "execution_count": 191,
      "outputs": [
        {
          "output_type": "execute_result",
          "data": {
            "text/plain": [
              "Text(0.5, 1.0, 'Comparing Model2 MSE(Test Set)')"
            ]
          },
          "metadata": {
            "tags": []
          },
          "execution_count": 191
        },
        {
          "output_type": "display_data",
          "data": {
            "image/png": "[encoded data removed]",
            "text/plain": [
              "<Figure size 864x648 with 1 Axes>"
            ]
          },
          "metadata": {
            "tags": [],
            "needs_background": "light"
          }
        }
      ]
    },
    {
      "cell_type": "code",
      "metadata": {
        "colab": {
          "base_uri": "https://localhost:8080/",
          "height": 584
        },
        "id": "wdtIDOuRN96L",
        "outputId": "74e4184d-507f-4894-c833-901248256deb"
      },
      "source": [
        "plt.figure(figsize=(12,9))\n",
        "ax = sns.barplot(x=models, y=model_r22)\n",
        "for p in ax.patches:\n",
        "  height = p.get_height()\n",
        "  ax.text(p.get_x() + p.get_width()/2.,\n",
        "          height + 1,\n",
        "          '{:1.3f}%'.format(height),\n",
        "          ha='center')\n",
        "  \n",
        "plt.ylabel('Model2 R2 Score')\n",
        "plt.xlabel('Model Name')\n",
        "plt.title('Comparing Model2 R2 Score(Test Set)')"
      ],
      "execution_count": 192,
      "outputs": [
        {
          "output_type": "execute_result",
          "data": {
            "text/plain": [
              "Text(0.5, 1.0, 'Comparing Model2 R2 Score(Test Set)')"
            ]
          },
          "metadata": {
            "tags": []
          },
          "execution_count": 192
        },
        {
          "output_type": "display_data",
          "data": {
            "image/png": "[encoded data removed]",
            "text/plain": [
              "<Figure size 864x648 with 1 Axes>"
            ]
          },
          "metadata": {
            "tags": [],
            "needs_background": "light"
          }
        }
      ]
    },
    {
      "cell_type": "markdown",
      "metadata": {
        "id": "LvIoMYXDRt8V"
      },
      "source": [
        "### Performing Cross Validation for our 3 best performing models"
      ]
    },
    {
      "cell_type": "code",
      "metadata": {
        "id": "Q8E90SS0OCtX"
      },
      "source": [
        "svr_cv2 = cross_val_score(svr_reg2,x2_train, y2_train, cv=10, scoring='r2')\n",
        "rf_cv2 = cross_val_score(rf_reg2,x2_train, y2_train, cv=10, scoring='r2')\n",
        "xgb_cv2 = cross_val_score(xgb_reg2,x2_train, y2_train, cv=10, scoring='r2')"
      ],
      "execution_count": 211,
      "outputs": []
    },
    {
      "cell_type": "code",
      "metadata": {
        "colab": {
          "base_uri": "https://localhost:8080/"
        },
        "id": "FA6UwkfUR8bM",
        "outputId": "4cd0c56e-e372-467e-9f53-29f9b94b0892"
      },
      "source": [
        "print(\"Cross Validation Score for Support Vector Regression is: {:1.3f} +- {:1.3f}\".format(svr_cv2.mean()*100, svr_cv2.std()*100))\n",
        "print(\"Cross Validation Score for Random Forrest Regression is: {:1.3f} +- {:1.3f}\".format(rf_cv2.mean()*100, rf_cv2.std()*100))\n",
        "print(\"Cross Validation Score for XGBoost Model is: {:1.3f} +- {:1.3f}\".format(xgb_cv2.mean()*100, xgb_cv2.std()*100))"
      ],
      "execution_count": 212,
      "outputs": [
        {
          "output_type": "stream",
          "text": [
            "Cross Validation Score for Support Vector Regression is: 94.037 +- 0.620\n",
            "Cross Validation Score for Random Forrest Regression is: 97.726 +- 0.252\n",
            "Cross Validation Score for XGBoost Model is: 96.468 +- 0.146\n"
          ],
          "name": "stdout"
        }
      ]
    },
    {
      "cell_type": "markdown",
      "metadata": {
        "id": "-2QPzR3zSkil"
      },
      "source": [
        "#### Thus Random Forrest Regressionis is the best model for Y2 Variable(total_UPDRS) with a **MAE of 1.65 and R2 score of 95.02%**"
      ]
    },
    {
      "cell_type": "markdown",
      "metadata": {
        "id": "8sK_j28FV4IG"
      },
      "source": [
        "# Deep Learning Approach"
      ]
    },
    {
      "cell_type": "code",
      "metadata": {
        "id": "n6Srg7BnWDZ2"
      },
      "source": [
        "df.drop(['subject#'], axis=1, inplace=True)"
      ],
      "execution_count": 233,
      "outputs": []
    },
    {
      "cell_type": "code",
      "metadata": {
        "colab": {
          "base_uri": "https://localhost:8080/",
          "height": 223
        },
        "id": "ToCABLzdWJEu",
        "outputId": "e3af2248-a681-498e-8adf-97befad095ab"
      },
      "source": [
        "df.head()"
      ],
      "execution_count": 234,
      "outputs": [
        {
          "output_type": "execute_result",
          "data": {
            "text/html": [
              "<div>\n",
              "<style scoped>\n",
              "    .dataframe tbody tr th:only-of-type {\n",
              "        vertical-align: middle;\n",
              "    }\n",
              "\n",
              "    .dataframe tbody tr th {\n",
              "        vertical-align: top;\n",
              "    }\n",
              "\n",
              "    .dataframe thead th {\n",
              "        text-align: right;\n",
              "    }\n",
              "</style>\n",
              "<table border=\"1\" class=\"dataframe\">\n",
              "  <thead>\n",
              "    <tr style=\"text-align: right;\">\n",
              "      <th></th>\n",
              "      <th>age</th>\n",
              "      <th>sex</th>\n",
              "      <th>test_time</th>\n",
              "      <th>motor_UPDRS</th>\n",
              "      <th>total_UPDRS</th>\n",
              "      <th>Jitter(%)</th>\n",
              "      <th>Jitter(Abs)</th>\n",
              "      <th>Jitter:RAP</th>\n",
              "      <th>Jitter:PPQ5</th>\n",
              "      <th>Jitter:DDP</th>\n",
              "      <th>Shimmer</th>\n",
              "      <th>Shimmer(dB)</th>\n",
              "      <th>Shimmer:APQ3</th>\n",
              "      <th>Shimmer:APQ5</th>\n",
              "      <th>Shimmer:APQ11</th>\n",
              "      <th>Shimmer:DDA</th>\n",
              "      <th>NHR</th>\n",
              "      <th>HNR</th>\n",
              "      <th>RPDE</th>\n",
              "      <th>DFA</th>\n",
              "      <th>PPE</th>\n",
              "    </tr>\n",
              "  </thead>\n",
              "  <tbody>\n",
              "    <tr>\n",
              "      <th>0</th>\n",
              "      <td>72</td>\n",
              "      <td>0</td>\n",
              "      <td>5.6431</td>\n",
              "      <td>28.199</td>\n",
              "      <td>34.398</td>\n",
              "      <td>0.00662</td>\n",
              "      <td>0.000034</td>\n",
              "      <td>0.00401</td>\n",
              "      <td>0.00317</td>\n",
              "      <td>0.01204</td>\n",
              "      <td>0.02565</td>\n",
              "      <td>0.230</td>\n",
              "      <td>0.01438</td>\n",
              "      <td>0.01309</td>\n",
              "      <td>0.01662</td>\n",
              "      <td>0.04314</td>\n",
              "      <td>0.014290</td>\n",
              "      <td>21.640</td>\n",
              "      <td>0.41888</td>\n",
              "      <td>0.54842</td>\n",
              "      <td>0.16006</td>\n",
              "    </tr>\n",
              "    <tr>\n",
              "      <th>1</th>\n",
              "      <td>72</td>\n",
              "      <td>0</td>\n",
              "      <td>12.6660</td>\n",
              "      <td>28.447</td>\n",
              "      <td>34.894</td>\n",
              "      <td>0.00300</td>\n",
              "      <td>0.000017</td>\n",
              "      <td>0.00132</td>\n",
              "      <td>0.00150</td>\n",
              "      <td>0.00395</td>\n",
              "      <td>0.02024</td>\n",
              "      <td>0.179</td>\n",
              "      <td>0.00994</td>\n",
              "      <td>0.01072</td>\n",
              "      <td>0.01689</td>\n",
              "      <td>0.02982</td>\n",
              "      <td>0.011112</td>\n",
              "      <td>27.183</td>\n",
              "      <td>0.43493</td>\n",
              "      <td>0.56477</td>\n",
              "      <td>0.10810</td>\n",
              "    </tr>\n",
              "    <tr>\n",
              "      <th>2</th>\n",
              "      <td>72</td>\n",
              "      <td>0</td>\n",
              "      <td>19.6810</td>\n",
              "      <td>28.695</td>\n",
              "      <td>35.389</td>\n",
              "      <td>0.00481</td>\n",
              "      <td>0.000025</td>\n",
              "      <td>0.00205</td>\n",
              "      <td>0.00208</td>\n",
              "      <td>0.00616</td>\n",
              "      <td>0.01675</td>\n",
              "      <td>0.181</td>\n",
              "      <td>0.00734</td>\n",
              "      <td>0.00844</td>\n",
              "      <td>0.01458</td>\n",
              "      <td>0.02202</td>\n",
              "      <td>0.020220</td>\n",
              "      <td>23.047</td>\n",
              "      <td>0.46222</td>\n",
              "      <td>0.54405</td>\n",
              "      <td>0.21014</td>\n",
              "    </tr>\n",
              "    <tr>\n",
              "      <th>3</th>\n",
              "      <td>72</td>\n",
              "      <td>0</td>\n",
              "      <td>25.6470</td>\n",
              "      <td>28.905</td>\n",
              "      <td>35.810</td>\n",
              "      <td>0.00528</td>\n",
              "      <td>0.000027</td>\n",
              "      <td>0.00191</td>\n",
              "      <td>0.00264</td>\n",
              "      <td>0.00573</td>\n",
              "      <td>0.02309</td>\n",
              "      <td>0.327</td>\n",
              "      <td>0.01106</td>\n",
              "      <td>0.01265</td>\n",
              "      <td>0.01963</td>\n",
              "      <td>0.03317</td>\n",
              "      <td>0.027837</td>\n",
              "      <td>24.445</td>\n",
              "      <td>0.48730</td>\n",
              "      <td>0.57794</td>\n",
              "      <td>0.33277</td>\n",
              "    </tr>\n",
              "    <tr>\n",
              "      <th>4</th>\n",
              "      <td>72</td>\n",
              "      <td>0</td>\n",
              "      <td>33.6420</td>\n",
              "      <td>29.187</td>\n",
              "      <td>36.375</td>\n",
              "      <td>0.00335</td>\n",
              "      <td>0.000020</td>\n",
              "      <td>0.00093</td>\n",
              "      <td>0.00130</td>\n",
              "      <td>0.00278</td>\n",
              "      <td>0.01703</td>\n",
              "      <td>0.176</td>\n",
              "      <td>0.00679</td>\n",
              "      <td>0.00929</td>\n",
              "      <td>0.01819</td>\n",
              "      <td>0.02036</td>\n",
              "      <td>0.011625</td>\n",
              "      <td>26.126</td>\n",
              "      <td>0.47188</td>\n",
              "      <td>0.56122</td>\n",
              "      <td>0.19361</td>\n",
              "    </tr>\n",
              "  </tbody>\n",
              "</table>\n",
              "</div>"
            ],
            "text/plain": [
              "   age  sex  test_time  motor_UPDRS  ...     HNR     RPDE      DFA      PPE\n",
              "0   72    0     5.6431       28.199  ...  21.640  0.41888  0.54842  0.16006\n",
              "1   72    0    12.6660       28.447  ...  27.183  0.43493  0.56477  0.10810\n",
              "2   72    0    19.6810       28.695  ...  23.047  0.46222  0.54405  0.21014\n",
              "3   72    0    25.6470       28.905  ...  24.445  0.48730  0.57794  0.33277\n",
              "4   72    0    33.6420       29.187  ...  26.126  0.47188  0.56122  0.19361\n",
              "\n",
              "[5 rows x 21 columns]"
            ]
          },
          "metadata": {
            "tags": []
          },
          "execution_count": 234
        }
      ]
    },
    {
      "cell_type": "code",
      "metadata": {
        "id": "Q8LpKtUPWQ_C"
      },
      "source": [
        "y = df.iloc[:, [3,4]].values"
      ],
      "execution_count": 235,
      "outputs": []
    },
    {
      "cell_type": "code",
      "metadata": {
        "id": "EsWhbm8uX7tH"
      },
      "source": [
        "df.drop(['motor_UPDRS', 'total_UPDRS'], axis=1, inplace=True)"
      ],
      "execution_count": 237,
      "outputs": []
    },
    {
      "cell_type": "code",
      "metadata": {
        "id": "J7oGl-wBX8lW"
      },
      "source": [
        "x = df.values"
      ],
      "execution_count": 238,
      "outputs": []
    },
    {
      "cell_type": "markdown",
      "metadata": {
        "id": "1BBTs4WlY9de"
      },
      "source": [
        "### Splitting data into Training and Test set"
      ]
    },
    {
      "cell_type": "code",
      "metadata": {
        "id": "q_Kobe8tY0dc"
      },
      "source": [
        "x_train, x_test, y_train, y_test = train_test_split(x,y, test_size=0.2, random_state=42)"
      ],
      "execution_count": 240,
      "outputs": []
    },
    {
      "cell_type": "markdown",
      "metadata": {
        "id": "jXMcKRZzZOHL"
      },
      "source": [
        "### Standardizing so that the Standard deviation is 1 and mean is 0 for all features."
      ]
    },
    {
      "cell_type": "code",
      "metadata": {
        "id": "QYcpFZ_9ZNgV"
      },
      "source": [
        "sc = StandardScaler()\n",
        "x_train = sc.fit_transform(x_train)\n",
        "x_test = sc.transform(x_test)"
      ],
      "execution_count": 241,
      "outputs": []
    },
    {
      "cell_type": "markdown",
      "metadata": {
        "id": "Pg4y-10QZinH"
      },
      "source": [
        "### Artificial Neural Network"
      ]
    },
    {
      "cell_type": "code",
      "metadata": {
        "id": "kq0RodWcZhuJ"
      },
      "source": [
        "ann1 = Sequential([\n",
        "                   Dense(units=128, activation='relu'),\n",
        "                   Dense(units=64, activation='relu'),\n",
        "                   Dense(units=32, activation='relu'),\n",
        "                   Dense(units=16, activation='relu'),\n",
        "                   Dense(units=2)\n",
        "])"
      ],
      "execution_count": 266,
      "outputs": []
    },
    {
      "cell_type": "code",
      "metadata": {
        "id": "XLwD6aiaantz"
      },
      "source": [
        "ann1.compile(optimizer='adam', loss=\"mean_absolute_error\")"
      ],
      "execution_count": 267,
      "outputs": []
    },
    {
      "cell_type": "code",
      "metadata": {
        "id": "XTbUfxHkcNb9"
      },
      "source": [
        "class myCallback(tf.keras.callbacks.Callback):\n",
        "    def on_epoch_end(self, epoch, logs={}):\n",
        "        if(logs.get('val_loss')<1.5):\n",
        "            print(\"\\nReached 1.5 MAE so cancelling training!\")\n",
        "            self.model.stop_training = True\n",
        "        \n",
        "callback = myCallback()"
      ],
      "execution_count": 268,
      "outputs": []
    },
    {
      "cell_type": "code",
      "metadata": {
        "colab": {
          "base_uri": "https://localhost:8080/"
        },
        "id": "WWUgHUhSbLTv",
        "outputId": "77725001-b522-4207-b8c3-b9b40298adb1"
      },
      "source": [
        "r1 = ann1.fit(x_train, y_train,\n",
        "              validation_data=(x_test, y_test), batch_size=32, epochs=500, callbacks=[callback])"
      ],
      "execution_count": 269,
      "outputs": [
        {
          "output_type": "stream",
          "text": [
            "Epoch 1/500\n",
            "147/147 [==============================] - 1s 4ms/step - loss: 13.2879 - val_loss: 8.0399\n",
            "Epoch 2/500\n",
            "147/147 [==============================] - 0s 3ms/step - loss: 7.2379 - val_loss: 7.2201\n",
            "Epoch 3/500\n",
            "147/147 [==============================] - 0s 3ms/step - loss: 6.6787 - val_loss: 6.7628\n",
            "Epoch 4/500\n",
            "147/147 [==============================] - 0s 3ms/step - loss: 6.2049 - val_loss: 6.2293\n",
            "Epoch 5/500\n",
            "147/147 [==============================] - 0s 3ms/step - loss: 5.6884 - val_loss: 5.6670\n",
            "Epoch 6/500\n",
            "147/147 [==============================] - 0s 2ms/step - loss: 5.3770 - val_loss: 5.4989\n",
            "Epoch 7/500\n",
            "147/147 [==============================] - 0s 2ms/step - loss: 5.2140 - val_loss: 5.3785\n",
            "Epoch 8/500\n",
            "147/147 [==============================] - 0s 2ms/step - loss: 4.9891 - val_loss: 5.0751\n",
            "Epoch 9/500\n",
            "147/147 [==============================] - 0s 2ms/step - loss: 4.8439 - val_loss: 4.9921\n",
            "Epoch 10/500\n",
            "147/147 [==============================] - 0s 2ms/step - loss: 4.6806 - val_loss: 4.7872\n",
            "Epoch 11/500\n",
            "147/147 [==============================] - 0s 2ms/step - loss: 4.6409 - val_loss: 4.7866\n",
            "Epoch 12/500\n",
            "147/147 [==============================] - 0s 2ms/step - loss: 4.4425 - val_loss: 4.6786\n",
            "Epoch 13/500\n",
            "147/147 [==============================] - 0s 2ms/step - loss: 4.3501 - val_loss: 4.4661\n",
            "Epoch 14/500\n",
            "147/147 [==============================] - 0s 2ms/step - loss: 4.2691 - val_loss: 4.3748\n",
            "Epoch 15/500\n",
            "147/147 [==============================] - 0s 2ms/step - loss: 4.1178 - val_loss: 4.2979\n",
            "Epoch 16/500\n",
            "147/147 [==============================] - 0s 3ms/step - loss: 4.0694 - val_loss: 4.4217\n",
            "Epoch 17/500\n",
            "147/147 [==============================] - 0s 3ms/step - loss: 3.9579 - val_loss: 4.2586\n",
            "Epoch 18/500\n",
            "147/147 [==============================] - 0s 2ms/step - loss: 3.8960 - val_loss: 4.1475\n",
            "Epoch 19/500\n",
            "147/147 [==============================] - 0s 3ms/step - loss: 3.7909 - val_loss: 4.0874\n",
            "Epoch 20/500\n",
            "147/147 [==============================] - 0s 2ms/step - loss: 3.7446 - val_loss: 4.1973\n",
            "Epoch 21/500\n",
            "147/147 [==============================] - 0s 2ms/step - loss: 3.6903 - val_loss: 3.9318\n",
            "Epoch 22/500\n",
            "147/147 [==============================] - 0s 3ms/step - loss: 3.6342 - val_loss: 3.8418\n",
            "Epoch 23/500\n",
            "147/147 [==============================] - 0s 2ms/step - loss: 3.5359 - val_loss: 3.6860\n",
            "Epoch 24/500\n",
            "147/147 [==============================] - 0s 2ms/step - loss: 3.4775 - val_loss: 3.7945\n",
            "Epoch 25/500\n",
            "147/147 [==============================] - 0s 2ms/step - loss: 3.4302 - val_loss: 3.6153\n",
            "Epoch 26/500\n",
            "147/147 [==============================] - 0s 3ms/step - loss: 3.4288 - val_loss: 3.5949\n",
            "Epoch 27/500\n",
            "147/147 [==============================] - 0s 2ms/step - loss: 3.3283 - val_loss: 3.5205\n",
            "Epoch 28/500\n",
            "147/147 [==============================] - 0s 3ms/step - loss: 3.2234 - val_loss: 3.6053\n",
            "Epoch 29/500\n",
            "147/147 [==============================] - 0s 3ms/step - loss: 3.2413 - val_loss: 3.4212\n",
            "Epoch 30/500\n",
            "147/147 [==============================] - 0s 2ms/step - loss: 3.1566 - val_loss: 3.3379\n",
            "Epoch 31/500\n",
            "147/147 [==============================] - 0s 3ms/step - loss: 3.1305 - val_loss: 3.4216\n",
            "Epoch 32/500\n",
            "147/147 [==============================] - 0s 2ms/step - loss: 3.1088 - val_loss: 3.4106\n",
            "Epoch 33/500\n",
            "147/147 [==============================] - 0s 3ms/step - loss: 3.0629 - val_loss: 3.4145\n",
            "Epoch 34/500\n",
            "147/147 [==============================] - 0s 2ms/step - loss: 2.9885 - val_loss: 3.3647\n",
            "Epoch 35/500\n",
            "147/147 [==============================] - 0s 2ms/step - loss: 2.9738 - val_loss: 3.4006\n",
            "Epoch 36/500\n",
            "147/147 [==============================] - 0s 2ms/step - loss: 2.9651 - val_loss: 3.3408\n",
            "Epoch 37/500\n",
            "147/147 [==============================] - 0s 3ms/step - loss: 2.8867 - val_loss: 3.1573\n",
            "Epoch 38/500\n",
            "147/147 [==============================] - 0s 2ms/step - loss: 2.8809 - val_loss: 3.3991\n",
            "Epoch 39/500\n",
            "147/147 [==============================] - 0s 2ms/step - loss: 2.9249 - val_loss: 3.5050\n",
            "Epoch 40/500\n",
            "147/147 [==============================] - 0s 2ms/step - loss: 2.9153 - val_loss: 3.1808\n",
            "Epoch 41/500\n",
            "147/147 [==============================] - 0s 2ms/step - loss: 2.7774 - val_loss: 3.4247\n",
            "Epoch 42/500\n",
            "147/147 [==============================] - 0s 2ms/step - loss: 2.7898 - val_loss: 3.3554\n",
            "Epoch 43/500\n",
            "147/147 [==============================] - 0s 2ms/step - loss: 2.7793 - val_loss: 3.1844\n",
            "Epoch 44/500\n",
            "147/147 [==============================] - 0s 3ms/step - loss: 2.8062 - val_loss: 3.1281\n",
            "Epoch 45/500\n",
            "147/147 [==============================] - 0s 2ms/step - loss: 2.8017 - val_loss: 3.3222\n",
            "Epoch 46/500\n",
            "147/147 [==============================] - 0s 3ms/step - loss: 2.7723 - val_loss: 3.2043\n",
            "Epoch 47/500\n",
            "147/147 [==============================] - 0s 3ms/step - loss: 2.6716 - val_loss: 3.0241\n",
            "Epoch 48/500\n",
            "147/147 [==============================] - 0s 3ms/step - loss: 2.7087 - val_loss: 3.0641\n",
            "Epoch 49/500\n",
            "147/147 [==============================] - 0s 3ms/step - loss: 2.6766 - val_loss: 3.0098\n",
            "Epoch 50/500\n",
            "147/147 [==============================] - 0s 3ms/step - loss: 2.6409 - val_loss: 3.0126\n",
            "Epoch 51/500\n",
            "147/147 [==============================] - 0s 2ms/step - loss: 2.6029 - val_loss: 3.0725\n",
            "Epoch 52/500\n",
            "147/147 [==============================] - 0s 2ms/step - loss: 2.6070 - val_loss: 2.9486\n",
            "Epoch 53/500\n",
            "147/147 [==============================] - 0s 3ms/step - loss: 2.5793 - val_loss: 2.9070\n",
            "Epoch 54/500\n",
            "147/147 [==============================] - 0s 3ms/step - loss: 2.5491 - val_loss: 2.8761\n",
            "Epoch 55/500\n",
            "147/147 [==============================] - 0s 2ms/step - loss: 2.5588 - val_loss: 2.9467\n",
            "Epoch 56/500\n",
            "147/147 [==============================] - 0s 2ms/step - loss: 2.5503 - val_loss: 2.9112\n",
            "Epoch 57/500\n",
            "147/147 [==============================] - 0s 2ms/step - loss: 2.5191 - val_loss: 2.9587\n",
            "Epoch 58/500\n",
            "147/147 [==============================] - 0s 3ms/step - loss: 2.4688 - val_loss: 2.8767\n",
            "Epoch 59/500\n",
            "147/147 [==============================] - 0s 3ms/step - loss: 2.4558 - val_loss: 2.8675\n",
            "Epoch 60/500\n",
            "147/147 [==============================] - 0s 2ms/step - loss: 2.5255 - val_loss: 2.8918\n",
            "Epoch 61/500\n",
            "147/147 [==============================] - 0s 2ms/step - loss: 2.4434 - val_loss: 2.8317\n",
            "Epoch 62/500\n",
            "147/147 [==============================] - 0s 2ms/step - loss: 2.4580 - val_loss: 3.3666\n",
            "Epoch 63/500\n",
            "147/147 [==============================] - 0s 2ms/step - loss: 2.5111 - val_loss: 2.9181\n",
            "Epoch 64/500\n",
            "147/147 [==============================] - 0s 2ms/step - loss: 2.4364 - val_loss: 2.7807\n",
            "Epoch 65/500\n",
            "147/147 [==============================] - 0s 2ms/step - loss: 2.4265 - val_loss: 2.9130\n",
            "Epoch 66/500\n",
            "147/147 [==============================] - 0s 3ms/step - loss: 2.3957 - val_loss: 2.8520\n",
            "Epoch 67/500\n",
            "147/147 [==============================] - 0s 2ms/step - loss: 2.3652 - val_loss: 2.9955\n",
            "Epoch 68/500\n",
            "147/147 [==============================] - 0s 2ms/step - loss: 2.4062 - val_loss: 2.8996\n",
            "Epoch 69/500\n",
            "147/147 [==============================] - 0s 3ms/step - loss: 2.3957 - val_loss: 2.8385\n",
            "Epoch 70/500\n",
            "147/147 [==============================] - 0s 3ms/step - loss: 2.3418 - val_loss: 2.7906\n",
            "Epoch 71/500\n",
            "147/147 [==============================] - 0s 2ms/step - loss: 2.3211 - val_loss: 2.7468\n",
            "Epoch 72/500\n",
            "147/147 [==============================] - 0s 3ms/step - loss: 2.3513 - val_loss: 2.8479\n",
            "Epoch 73/500\n",
            "147/147 [==============================] - 0s 2ms/step - loss: 2.3158 - val_loss: 2.8707\n",
            "Epoch 74/500\n",
            "147/147 [==============================] - 0s 3ms/step - loss: 2.3220 - val_loss: 2.7587\n",
            "Epoch 75/500\n",
            "147/147 [==============================] - 0s 2ms/step - loss: 2.3164 - val_loss: 2.7711\n",
            "Epoch 76/500\n",
            "147/147 [==============================] - 0s 2ms/step - loss: 2.2316 - val_loss: 2.7842\n",
            "Epoch 77/500\n",
            "147/147 [==============================] - 0s 2ms/step - loss: 2.2645 - val_loss: 2.7329\n",
            "Epoch 78/500\n",
            "147/147 [==============================] - 0s 2ms/step - loss: 2.2362 - val_loss: 2.7085\n",
            "Epoch 79/500\n",
            "147/147 [==============================] - 0s 3ms/step - loss: 2.3041 - val_loss: 2.7655\n",
            "Epoch 80/500\n",
            "147/147 [==============================] - 0s 3ms/step - loss: 2.2664 - val_loss: 2.6729\n",
            "Epoch 81/500\n",
            "147/147 [==============================] - 0s 2ms/step - loss: 2.2294 - val_loss: 2.9740\n",
            "Epoch 82/500\n",
            "147/147 [==============================] - 0s 3ms/step - loss: 2.2697 - val_loss: 2.7656\n",
            "Epoch 83/500\n",
            "147/147 [==============================] - 0s 3ms/step - loss: 2.2315 - val_loss: 2.7039\n",
            "Epoch 84/500\n",
            "147/147 [==============================] - 0s 2ms/step - loss: 2.2194 - val_loss: 2.6904\n",
            "Epoch 85/500\n",
            "147/147 [==============================] - 0s 3ms/step - loss: 2.1951 - val_loss: 2.6322\n",
            "Epoch 86/500\n",
            "147/147 [==============================] - 0s 3ms/step - loss: 2.1993 - val_loss: 2.6684\n",
            "Epoch 87/500\n",
            "147/147 [==============================] - 0s 3ms/step - loss: 2.2116 - val_loss: 2.8275\n",
            "Epoch 88/500\n",
            "147/147 [==============================] - 0s 3ms/step - loss: 2.1935 - val_loss: 2.9083\n",
            "Epoch 89/500\n",
            "147/147 [==============================] - 0s 3ms/step - loss: 2.1718 - val_loss: 2.5491\n",
            "Epoch 90/500\n",
            "147/147 [==============================] - 0s 3ms/step - loss: 2.1080 - val_loss: 2.6752\n",
            "Epoch 91/500\n",
            "147/147 [==============================] - 0s 3ms/step - loss: 2.1339 - val_loss: 2.7390\n",
            "Epoch 92/500\n",
            "147/147 [==============================] - 0s 2ms/step - loss: 2.0997 - val_loss: 2.8028\n",
            "Epoch 93/500\n",
            "147/147 [==============================] - 0s 2ms/step - loss: 2.2083 - val_loss: 2.6199\n",
            "Epoch 94/500\n",
            "147/147 [==============================] - 0s 3ms/step - loss: 2.0841 - val_loss: 2.6461\n",
            "Epoch 95/500\n",
            "147/147 [==============================] - 0s 3ms/step - loss: 2.1195 - val_loss: 2.6886\n",
            "Epoch 96/500\n",
            "147/147 [==============================] - 0s 2ms/step - loss: 2.0859 - val_loss: 2.9850\n",
            "Epoch 97/500\n",
            "147/147 [==============================] - 0s 2ms/step - loss: 2.0636 - val_loss: 2.6409\n",
            "Epoch 98/500\n",
            "147/147 [==============================] - 0s 2ms/step - loss: 2.0604 - val_loss: 3.0201\n",
            "Epoch 99/500\n",
            "147/147 [==============================] - 0s 2ms/step - loss: 2.0232 - val_loss: 2.5658\n",
            "Epoch 100/500\n",
            "147/147 [==============================] - 0s 2ms/step - loss: 2.0088 - val_loss: 2.7565\n",
            "Epoch 101/500\n",
            "147/147 [==============================] - 0s 2ms/step - loss: 2.0982 - val_loss: 2.6016\n",
            "Epoch 102/500\n",
            "147/147 [==============================] - 0s 2ms/step - loss: 2.0444 - val_loss: 2.6310\n",
            "Epoch 103/500\n",
            "147/147 [==============================] - 0s 2ms/step - loss: 2.0426 - val_loss: 2.6999\n",
            "Epoch 104/500\n",
            "147/147 [==============================] - 0s 2ms/step - loss: 1.9834 - val_loss: 2.5830\n",
            "Epoch 105/500\n",
            "147/147 [==============================] - 0s 2ms/step - loss: 1.9561 - val_loss: 2.5794\n",
            "Epoch 106/500\n",
            "147/147 [==============================] - 0s 2ms/step - loss: 1.9880 - val_loss: 2.6066\n",
            "Epoch 107/500\n",
            "147/147 [==============================] - 0s 3ms/step - loss: 1.9907 - val_loss: 2.7703\n",
            "Epoch 108/500\n",
            "147/147 [==============================] - 0s 3ms/step - loss: 2.0124 - val_loss: 2.6499\n",
            "Epoch 109/500\n",
            "147/147 [==============================] - 0s 3ms/step - loss: 2.0313 - val_loss: 2.7690\n",
            "Epoch 110/500\n",
            "147/147 [==============================] - 0s 3ms/step - loss: 1.9902 - val_loss: 2.7690\n",
            "Epoch 111/500\n",
            "147/147 [==============================] - 0s 2ms/step - loss: 2.0362 - val_loss: 2.6589\n",
            "Epoch 112/500\n",
            "147/147 [==============================] - 0s 2ms/step - loss: 1.9748 - val_loss: 2.6266\n",
            "Epoch 113/500\n",
            "147/147 [==============================] - 0s 3ms/step - loss: 1.9053 - val_loss: 2.7581\n",
            "Epoch 114/500\n",
            "147/147 [==============================] - 0s 2ms/step - loss: 1.9849 - val_loss: 2.5279\n",
            "Epoch 115/500\n",
            "147/147 [==============================] - 0s 3ms/step - loss: 1.9263 - val_loss: 2.5690\n",
            "Epoch 116/500\n",
            "147/147 [==============================] - 0s 2ms/step - loss: 1.9749 - val_loss: 2.5335\n",
            "Epoch 117/500\n",
            "147/147 [==============================] - 0s 2ms/step - loss: 1.8989 - val_loss: 2.6502\n",
            "Epoch 118/500\n",
            "147/147 [==============================] - 0s 3ms/step - loss: 1.9375 - val_loss: 2.4626\n",
            "Epoch 119/500\n",
            "147/147 [==============================] - 0s 2ms/step - loss: 1.8677 - val_loss: 2.5604\n",
            "Epoch 120/500\n",
            "147/147 [==============================] - 0s 2ms/step - loss: 1.9152 - val_loss: 2.5453\n",
            "Epoch 121/500\n",
            "147/147 [==============================] - 0s 2ms/step - loss: 1.8991 - val_loss: 2.5237\n",
            "Epoch 122/500\n",
            "147/147 [==============================] - 0s 3ms/step - loss: 1.9001 - val_loss: 2.4749\n",
            "Epoch 123/500\n",
            "147/147 [==============================] - 0s 3ms/step - loss: 1.9065 - val_loss: 2.5395\n",
            "Epoch 124/500\n",
            "147/147 [==============================] - 0s 3ms/step - loss: 1.9178 - val_loss: 2.6523\n",
            "Epoch 125/500\n",
            "147/147 [==============================] - 0s 3ms/step - loss: 1.8632 - val_loss: 2.4999\n",
            "Epoch 126/500\n",
            "147/147 [==============================] - 0s 3ms/step - loss: 1.8152 - val_loss: 2.5641\n",
            "Epoch 127/500\n",
            "147/147 [==============================] - 0s 3ms/step - loss: 1.8678 - val_loss: 2.5304\n",
            "Epoch 128/500\n",
            "147/147 [==============================] - 0s 3ms/step - loss: 1.8992 - val_loss: 2.4667\n",
            "Epoch 129/500\n",
            "147/147 [==============================] - 0s 3ms/step - loss: 1.8430 - val_loss: 2.5570\n",
            "Epoch 130/500\n",
            "147/147 [==============================] - 0s 3ms/step - loss: 1.8325 - val_loss: 2.4448\n",
            "Epoch 131/500\n",
            "147/147 [==============================] - 0s 2ms/step - loss: 1.8081 - val_loss: 2.6005\n",
            "Epoch 132/500\n",
            "147/147 [==============================] - 0s 3ms/step - loss: 1.7856 - val_loss: 2.4670\n",
            "Epoch 133/500\n",
            "147/147 [==============================] - 0s 3ms/step - loss: 1.8577 - val_loss: 2.4723\n",
            "Epoch 134/500\n",
            "147/147 [==============================] - 0s 2ms/step - loss: 1.8291 - val_loss: 2.4982\n",
            "Epoch 135/500\n",
            "147/147 [==============================] - 0s 3ms/step - loss: 1.8088 - val_loss: 2.4236\n",
            "Epoch 136/500\n",
            "147/147 [==============================] - 0s 2ms/step - loss: 1.7642 - val_loss: 2.3375\n",
            "Epoch 137/500\n",
            "147/147 [==============================] - 0s 3ms/step - loss: 1.7636 - val_loss: 2.4705\n",
            "Epoch 138/500\n",
            "147/147 [==============================] - 0s 3ms/step - loss: 1.7569 - val_loss: 2.7704\n",
            "Epoch 139/500\n",
            "147/147 [==============================] - 0s 2ms/step - loss: 1.7865 - val_loss: 2.4173\n",
            "Epoch 140/500\n",
            "147/147 [==============================] - 0s 3ms/step - loss: 1.7086 - val_loss: 2.3967\n",
            "Epoch 141/500\n",
            "147/147 [==============================] - 0s 2ms/step - loss: 1.7221 - val_loss: 2.3855\n",
            "Epoch 142/500\n",
            "147/147 [==============================] - 0s 3ms/step - loss: 1.7304 - val_loss: 2.4099\n",
            "Epoch 143/500\n",
            "147/147 [==============================] - 0s 2ms/step - loss: 1.7530 - val_loss: 2.4223\n",
            "Epoch 144/500\n",
            "147/147 [==============================] - 0s 3ms/step - loss: 1.7201 - val_loss: 2.4259\n",
            "Epoch 145/500\n",
            "147/147 [==============================] - 0s 3ms/step - loss: 1.7407 - val_loss: 2.3640\n",
            "Epoch 146/500\n",
            "147/147 [==============================] - 0s 2ms/step - loss: 1.7140 - val_loss: 2.3154\n",
            "Epoch 147/500\n",
            "147/147 [==============================] - 0s 3ms/step - loss: 1.7231 - val_loss: 2.5067\n",
            "Epoch 148/500\n",
            "147/147 [==============================] - 0s 3ms/step - loss: 1.7155 - val_loss: 2.5011\n",
            "Epoch 149/500\n",
            "147/147 [==============================] - 0s 2ms/step - loss: 1.7430 - val_loss: 2.4189\n",
            "Epoch 150/500\n",
            "147/147 [==============================] - 0s 2ms/step - loss: 1.7283 - val_loss: 2.6062\n",
            "Epoch 151/500\n",
            "147/147 [==============================] - 0s 3ms/step - loss: 1.7345 - val_loss: 2.4055\n",
            "Epoch 152/500\n",
            "147/147 [==============================] - 0s 3ms/step - loss: 1.7194 - val_loss: 2.4325\n",
            "Epoch 153/500\n",
            "147/147 [==============================] - 0s 2ms/step - loss: 1.6352 - val_loss: 2.5296\n",
            "Epoch 154/500\n",
            "147/147 [==============================] - 0s 3ms/step - loss: 1.6602 - val_loss: 2.3416\n",
            "Epoch 155/500\n",
            "147/147 [==============================] - 0s 3ms/step - loss: 1.7513 - val_loss: 2.6477\n",
            "Epoch 156/500\n",
            "147/147 [==============================] - 0s 3ms/step - loss: 1.6490 - val_loss: 2.3621\n",
            "Epoch 157/500\n",
            "147/147 [==============================] - 0s 3ms/step - loss: 1.6229 - val_loss: 2.4433\n",
            "Epoch 158/500\n",
            "147/147 [==============================] - 0s 2ms/step - loss: 1.7001 - val_loss: 2.3288\n",
            "Epoch 159/500\n",
            "147/147 [==============================] - 0s 3ms/step - loss: 1.6017 - val_loss: 2.3948\n",
            "Epoch 160/500\n",
            "147/147 [==============================] - 0s 3ms/step - loss: 1.6458 - val_loss: 2.3306\n",
            "Epoch 161/500\n",
            "147/147 [==============================] - 0s 3ms/step - loss: 1.6250 - val_loss: 2.4074\n",
            "Epoch 162/500\n",
            "147/147 [==============================] - 0s 3ms/step - loss: 1.6248 - val_loss: 2.3398\n",
            "Epoch 163/500\n",
            "147/147 [==============================] - 0s 3ms/step - loss: 1.5878 - val_loss: 2.2957\n",
            "Epoch 164/500\n",
            "147/147 [==============================] - 0s 3ms/step - loss: 1.5472 - val_loss: 2.2784\n",
            "Epoch 165/500\n",
            "147/147 [==============================] - 0s 3ms/step - loss: 1.6277 - val_loss: 2.4180\n",
            "Epoch 166/500\n",
            "147/147 [==============================] - 0s 3ms/step - loss: 1.5759 - val_loss: 2.3447\n",
            "Epoch 167/500\n",
            "147/147 [==============================] - 0s 3ms/step - loss: 1.6547 - val_loss: 2.4821\n",
            "Epoch 168/500\n",
            "147/147 [==============================] - 0s 3ms/step - loss: 1.5929 - val_loss: 2.2890\n",
            "Epoch 169/500\n",
            "147/147 [==============================] - 0s 3ms/step - loss: 1.5924 - val_loss: 2.3425\n",
            "Epoch 170/500\n",
            "147/147 [==============================] - 0s 2ms/step - loss: 1.5739 - val_loss: 2.4902\n",
            "Epoch 171/500\n",
            "147/147 [==============================] - 0s 3ms/step - loss: 1.5784 - val_loss: 2.4210\n",
            "Epoch 172/500\n",
            "147/147 [==============================] - 0s 2ms/step - loss: 1.5665 - val_loss: 2.3016\n",
            "Epoch 173/500\n",
            "147/147 [==============================] - 0s 3ms/step - loss: 1.5801 - val_loss: 2.3139\n",
            "Epoch 174/500\n",
            "147/147 [==============================] - 0s 3ms/step - loss: 1.5168 - val_loss: 2.2905\n",
            "Epoch 175/500\n",
            "147/147 [==============================] - 0s 3ms/step - loss: 1.5687 - val_loss: 2.3036\n",
            "Epoch 176/500\n",
            "147/147 [==============================] - 0s 3ms/step - loss: 1.5997 - val_loss: 2.3763\n",
            "Epoch 177/500\n",
            "147/147 [==============================] - 0s 3ms/step - loss: 1.5804 - val_loss: 2.2088\n",
            "Epoch 178/500\n",
            "147/147 [==============================] - 0s 3ms/step - loss: 1.5220 - val_loss: 2.2892\n",
            "Epoch 179/500\n",
            "147/147 [==============================] - 0s 3ms/step - loss: 1.5770 - val_loss: 2.3105\n",
            "Epoch 180/500\n",
            "147/147 [==============================] - 0s 3ms/step - loss: 1.5202 - val_loss: 2.3384\n",
            "Epoch 181/500\n",
            "147/147 [==============================] - 0s 3ms/step - loss: 1.4917 - val_loss: 2.2917\n",
            "Epoch 182/500\n",
            "147/147 [==============================] - 0s 3ms/step - loss: 1.5919 - val_loss: 2.2108\n",
            "Epoch 183/500\n",
            "147/147 [==============================] - 0s 3ms/step - loss: 1.4571 - val_loss: 2.1637\n",
            "Epoch 184/500\n",
            "147/147 [==============================] - 0s 3ms/step - loss: 1.4994 - val_loss: 2.2300\n",
            "Epoch 185/500\n",
            "147/147 [==============================] - 0s 3ms/step - loss: 1.4763 - val_loss: 2.2430\n",
            "Epoch 186/500\n",
            "147/147 [==============================] - 0s 3ms/step - loss: 1.4790 - val_loss: 2.2291\n",
            "Epoch 187/500\n",
            "147/147 [==============================] - 0s 3ms/step - loss: 1.5128 - val_loss: 2.2882\n",
            "Epoch 188/500\n",
            "147/147 [==============================] - 0s 3ms/step - loss: 1.4890 - val_loss: 2.2070\n",
            "Epoch 189/500\n",
            "147/147 [==============================] - 0s 3ms/step - loss: 1.4742 - val_loss: 2.1595\n",
            "Epoch 190/500\n",
            "147/147 [==============================] - 0s 3ms/step - loss: 1.5325 - val_loss: 2.2915\n",
            "Epoch 191/500\n",
            "147/147 [==============================] - 0s 3ms/step - loss: 1.4696 - val_loss: 2.2157\n",
            "Epoch 192/500\n",
            "147/147 [==============================] - 0s 2ms/step - loss: 1.4770 - val_loss: 2.2353\n",
            "Epoch 193/500\n",
            "147/147 [==============================] - 0s 3ms/step - loss: 1.4371 - val_loss: 2.2092\n",
            "Epoch 194/500\n",
            "147/147 [==============================] - 0s 3ms/step - loss: 1.4760 - val_loss: 2.1896\n",
            "Epoch 195/500\n",
            "147/147 [==============================] - 0s 3ms/step - loss: 1.5114 - val_loss: 2.3994\n",
            "Epoch 196/500\n",
            "147/147 [==============================] - 0s 3ms/step - loss: 1.4972 - val_loss: 2.3814\n",
            "Epoch 197/500\n",
            "147/147 [==============================] - 0s 2ms/step - loss: 1.4684 - val_loss: 2.1671\n",
            "Epoch 198/500\n",
            "147/147 [==============================] - 0s 3ms/step - loss: 1.4624 - val_loss: 2.2605\n",
            "Epoch 199/500\n",
            "147/147 [==============================] - 0s 3ms/step - loss: 1.4556 - val_loss: 2.1993\n",
            "Epoch 200/500\n",
            "147/147 [==============================] - 0s 3ms/step - loss: 1.4466 - val_loss: 2.2888\n",
            "Epoch 201/500\n",
            "147/147 [==============================] - 0s 3ms/step - loss: 1.4308 - val_loss: 2.1556\n",
            "Epoch 202/500\n",
            "147/147 [==============================] - 0s 3ms/step - loss: 1.4499 - val_loss: 2.4615\n",
            "Epoch 203/500\n",
            "147/147 [==============================] - 0s 3ms/step - loss: 1.4593 - val_loss: 2.2177\n",
            "Epoch 204/500\n",
            "147/147 [==============================] - 0s 3ms/step - loss: 1.4351 - val_loss: 2.1772\n",
            "Epoch 205/500\n",
            "147/147 [==============================] - 0s 3ms/step - loss: 1.5035 - val_loss: 2.1965\n",
            "Epoch 206/500\n",
            "147/147 [==============================] - 0s 2ms/step - loss: 1.4624 - val_loss: 2.2357\n",
            "Epoch 207/500\n",
            "147/147 [==============================] - 0s 3ms/step - loss: 1.3991 - val_loss: 2.1608\n",
            "Epoch 208/500\n",
            "147/147 [==============================] - 0s 3ms/step - loss: 1.4196 - val_loss: 2.2079\n",
            "Epoch 209/500\n",
            "147/147 [==============================] - 0s 3ms/step - loss: 1.4161 - val_loss: 2.1215\n",
            "Epoch 210/500\n",
            "147/147 [==============================] - 0s 3ms/step - loss: 1.3754 - val_loss: 2.0596\n",
            "Epoch 211/500\n",
            "147/147 [==============================] - 0s 3ms/step - loss: 1.4078 - val_loss: 2.3535\n",
            "Epoch 212/500\n",
            "147/147 [==============================] - 0s 3ms/step - loss: 1.4496 - val_loss: 2.2733\n",
            "Epoch 213/500\n",
            "147/147 [==============================] - 0s 3ms/step - loss: 1.4053 - val_loss: 2.3474\n",
            "Epoch 214/500\n",
            "147/147 [==============================] - 0s 3ms/step - loss: 1.3680 - val_loss: 2.1204\n",
            "Epoch 215/500\n",
            "147/147 [==============================] - 0s 3ms/step - loss: 1.4487 - val_loss: 2.1464\n",
            "Epoch 216/500\n",
            "147/147 [==============================] - 0s 3ms/step - loss: 1.4038 - val_loss: 2.2495\n",
            "Epoch 217/500\n",
            "147/147 [==============================] - 0s 3ms/step - loss: 1.3580 - val_loss: 2.1887\n",
            "Epoch 218/500\n",
            "147/147 [==============================] - 0s 3ms/step - loss: 1.3735 - val_loss: 2.1038\n",
            "Epoch 219/500\n",
            "147/147 [==============================] - 0s 3ms/step - loss: 1.3366 - val_loss: 2.2219\n",
            "Epoch 220/500\n",
            "147/147 [==============================] - 0s 3ms/step - loss: 1.3957 - val_loss: 2.1644\n",
            "Epoch 221/500\n",
            "147/147 [==============================] - 0s 3ms/step - loss: 1.3632 - val_loss: 2.1378\n",
            "Epoch 222/500\n",
            "147/147 [==============================] - 0s 3ms/step - loss: 1.3680 - val_loss: 2.0922\n",
            "Epoch 223/500\n",
            "147/147 [==============================] - 0s 3ms/step - loss: 1.3535 - val_loss: 2.1069\n",
            "Epoch 224/500\n",
            "147/147 [==============================] - 0s 3ms/step - loss: 1.3299 - val_loss: 2.1149\n",
            "Epoch 225/500\n",
            "147/147 [==============================] - 0s 3ms/step - loss: 1.3406 - val_loss: 2.1107\n",
            "Epoch 226/500\n",
            "147/147 [==============================] - 0s 3ms/step - loss: 1.3136 - val_loss: 2.0597\n",
            "Epoch 227/500\n",
            "147/147 [==============================] - 0s 3ms/step - loss: 1.3668 - val_loss: 2.1292\n",
            "Epoch 228/500\n",
            "147/147 [==============================] - 0s 3ms/step - loss: 1.3832 - val_loss: 2.3704\n",
            "Epoch 229/500\n",
            "147/147 [==============================] - 0s 3ms/step - loss: 1.3544 - val_loss: 2.1457\n",
            "Epoch 230/500\n",
            "147/147 [==============================] - 0s 3ms/step - loss: 1.3360 - val_loss: 2.1311\n",
            "Epoch 231/500\n",
            "147/147 [==============================] - 0s 2ms/step - loss: 1.3419 - val_loss: 2.0976\n",
            "Epoch 232/500\n",
            "147/147 [==============================] - 0s 3ms/step - loss: 1.3202 - val_loss: 2.2849\n",
            "Epoch 233/500\n",
            "147/147 [==============================] - 0s 3ms/step - loss: 1.2949 - val_loss: 2.0623\n",
            "Epoch 234/500\n",
            "147/147 [==============================] - 0s 3ms/step - loss: 1.3169 - val_loss: 2.0903\n",
            "Epoch 235/500\n",
            "147/147 [==============================] - 0s 3ms/step - loss: 1.3326 - val_loss: 2.2506\n",
            "Epoch 236/500\n",
            "147/147 [==============================] - 0s 3ms/step - loss: 1.3668 - val_loss: 2.0879\n",
            "Epoch 237/500\n",
            "147/147 [==============================] - 0s 3ms/step - loss: 1.3026 - val_loss: 2.1191\n",
            "Epoch 238/500\n",
            "147/147 [==============================] - 0s 3ms/step - loss: 1.3241 - val_loss: 2.0317\n",
            "Epoch 239/500\n",
            "147/147 [==============================] - 0s 3ms/step - loss: 1.3155 - val_loss: 2.0559\n",
            "Epoch 240/500\n",
            "147/147 [==============================] - 0s 3ms/step - loss: 1.3314 - val_loss: 2.1209\n",
            "Epoch 241/500\n",
            "147/147 [==============================] - 0s 3ms/step - loss: 1.2654 - val_loss: 2.0938\n",
            "Epoch 242/500\n",
            "147/147 [==============================] - 0s 3ms/step - loss: 1.3725 - val_loss: 2.0753\n",
            "Epoch 243/500\n",
            "147/147 [==============================] - 0s 2ms/step - loss: 1.3258 - val_loss: 2.1537\n",
            "Epoch 244/500\n",
            "147/147 [==============================] - 0s 3ms/step - loss: 1.2775 - val_loss: 2.0155\n",
            "Epoch 245/500\n",
            "147/147 [==============================] - 0s 3ms/step - loss: 1.3449 - val_loss: 2.1299\n",
            "Epoch 246/500\n",
            "147/147 [==============================] - 0s 2ms/step - loss: 1.2695 - val_loss: 2.1513\n",
            "Epoch 247/500\n",
            "147/147 [==============================] - 0s 3ms/step - loss: 1.2644 - val_loss: 2.1286\n",
            "Epoch 248/500\n",
            "147/147 [==============================] - 0s 3ms/step - loss: 1.2661 - val_loss: 2.0703\n",
            "Epoch 249/500\n",
            "147/147 [==============================] - 0s 3ms/step - loss: 1.2610 - val_loss: 2.0488\n",
            "Epoch 250/500\n",
            "147/147 [==============================] - 0s 3ms/step - loss: 1.2717 - val_loss: 2.1084\n",
            "Epoch 251/500\n",
            "147/147 [==============================] - 0s 2ms/step - loss: 1.2791 - val_loss: 2.1441\n",
            "Epoch 252/500\n",
            "147/147 [==============================] - 0s 2ms/step - loss: 1.3212 - val_loss: 2.0583\n",
            "Epoch 253/500\n",
            "147/147 [==============================] - 0s 3ms/step - loss: 1.2725 - val_loss: 2.1785\n",
            "Epoch 254/500\n",
            "147/147 [==============================] - 0s 3ms/step - loss: 1.2214 - val_loss: 2.0746\n",
            "Epoch 255/500\n",
            "147/147 [==============================] - 0s 3ms/step - loss: 1.2531 - val_loss: 2.0398\n",
            "Epoch 256/500\n",
            "147/147 [==============================] - 0s 3ms/step - loss: 1.2342 - val_loss: 2.0755\n",
            "Epoch 257/500\n",
            "147/147 [==============================] - 0s 3ms/step - loss: 1.2749 - val_loss: 2.1216\n",
            "Epoch 258/500\n",
            "147/147 [==============================] - 0s 3ms/step - loss: 1.2538 - val_loss: 2.0873\n",
            "Epoch 259/500\n",
            "147/147 [==============================] - 0s 3ms/step - loss: 1.2223 - val_loss: 2.1139\n",
            "Epoch 260/500\n",
            "147/147 [==============================] - 0s 3ms/step - loss: 1.1968 - val_loss: 2.1038\n",
            "Epoch 261/500\n",
            "147/147 [==============================] - 0s 3ms/step - loss: 1.2472 - val_loss: 2.0568\n",
            "Epoch 262/500\n",
            "147/147 [==============================] - 0s 3ms/step - loss: 1.2205 - val_loss: 2.0341\n",
            "Epoch 263/500\n",
            "147/147 [==============================] - 0s 3ms/step - loss: 1.2041 - val_loss: 1.9968\n",
            "Epoch 264/500\n",
            "147/147 [==============================] - 0s 3ms/step - loss: 1.1975 - val_loss: 2.0772\n",
            "Epoch 265/500\n",
            "147/147 [==============================] - 0s 3ms/step - loss: 1.1655 - val_loss: 2.0589\n",
            "Epoch 266/500\n",
            "147/147 [==============================] - 0s 3ms/step - loss: 1.1879 - val_loss: 1.9482\n",
            "Epoch 267/500\n",
            "147/147 [==============================] - 0s 3ms/step - loss: 1.1969 - val_loss: 1.9755\n",
            "Epoch 268/500\n",
            "147/147 [==============================] - 0s 3ms/step - loss: 1.1899 - val_loss: 2.0549\n",
            "Epoch 269/500\n",
            "147/147 [==============================] - 0s 3ms/step - loss: 1.2121 - val_loss: 2.0547\n",
            "Epoch 270/500\n",
            "147/147 [==============================] - 0s 2ms/step - loss: 1.1897 - val_loss: 2.0696\n",
            "Epoch 271/500\n",
            "147/147 [==============================] - 0s 3ms/step - loss: 1.2050 - val_loss: 1.9913\n",
            "Epoch 272/500\n",
            "147/147 [==============================] - 0s 3ms/step - loss: 1.1815 - val_loss: 2.1233\n",
            "Epoch 273/500\n",
            "147/147 [==============================] - 0s 3ms/step - loss: 1.1970 - val_loss: 2.0105\n",
            "Epoch 274/500\n",
            "147/147 [==============================] - 0s 3ms/step - loss: 1.2351 - val_loss: 2.0352\n",
            "Epoch 275/500\n",
            "147/147 [==============================] - 0s 2ms/step - loss: 1.2086 - val_loss: 2.1042\n",
            "Epoch 276/500\n",
            "147/147 [==============================] - 0s 3ms/step - loss: 1.1305 - val_loss: 1.9947\n",
            "Epoch 277/500\n",
            "147/147 [==============================] - 0s 3ms/step - loss: 1.1844 - val_loss: 2.0951\n",
            "Epoch 278/500\n",
            "147/147 [==============================] - 0s 3ms/step - loss: 1.1644 - val_loss: 2.0063\n",
            "Epoch 279/500\n",
            "147/147 [==============================] - 0s 2ms/step - loss: 1.2016 - val_loss: 2.0234\n",
            "Epoch 280/500\n",
            "147/147 [==============================] - 0s 3ms/step - loss: 1.1691 - val_loss: 2.0144\n",
            "Epoch 281/500\n",
            "147/147 [==============================] - 0s 2ms/step - loss: 1.1922 - val_loss: 1.9891\n",
            "Epoch 282/500\n",
            "147/147 [==============================] - 0s 2ms/step - loss: 1.1746 - val_loss: 1.9407\n",
            "Epoch 283/500\n",
            "147/147 [==============================] - 0s 2ms/step - loss: 1.1647 - val_loss: 1.9728\n",
            "Epoch 284/500\n",
            "147/147 [==============================] - 0s 3ms/step - loss: 1.1567 - val_loss: 1.9442\n",
            "Epoch 285/500\n",
            "147/147 [==============================] - 0s 3ms/step - loss: 1.1219 - val_loss: 2.0038\n",
            "Epoch 286/500\n",
            "147/147 [==============================] - 0s 3ms/step - loss: 1.1617 - val_loss: 2.0675\n",
            "Epoch 287/500\n",
            "147/147 [==============================] - 0s 3ms/step - loss: 1.1565 - val_loss: 1.9656\n",
            "Epoch 288/500\n",
            "147/147 [==============================] - 0s 3ms/step - loss: 1.1452 - val_loss: 1.9964\n",
            "Epoch 289/500\n",
            "147/147 [==============================] - 0s 3ms/step - loss: 1.1275 - val_loss: 2.0700\n",
            "Epoch 290/500\n",
            "147/147 [==============================] - 0s 3ms/step - loss: 1.1355 - val_loss: 1.9631\n",
            "Epoch 291/500\n",
            "147/147 [==============================] - 0s 3ms/step - loss: 1.2042 - val_loss: 1.9914\n",
            "Epoch 292/500\n",
            "147/147 [==============================] - 0s 3ms/step - loss: 1.1060 - val_loss: 2.1235\n",
            "Epoch 293/500\n",
            "147/147 [==============================] - 0s 3ms/step - loss: 1.1276 - val_loss: 1.9716\n",
            "Epoch 294/500\n",
            "147/147 [==============================] - 0s 3ms/step - loss: 1.1037 - val_loss: 2.0438\n",
            "Epoch 295/500\n",
            "147/147 [==============================] - 0s 3ms/step - loss: 1.1311 - val_loss: 1.9000\n",
            "Epoch 296/500\n",
            "147/147 [==============================] - 0s 3ms/step - loss: 1.1512 - val_loss: 2.0057\n",
            "Epoch 297/500\n",
            "147/147 [==============================] - 0s 2ms/step - loss: 1.0963 - val_loss: 1.8830\n",
            "Epoch 298/500\n",
            "147/147 [==============================] - 0s 3ms/step - loss: 1.1251 - val_loss: 2.1212\n",
            "Epoch 299/500\n",
            "147/147 [==============================] - 0s 3ms/step - loss: 1.1354 - val_loss: 1.9804\n",
            "Epoch 300/500\n",
            "147/147 [==============================] - 0s 2ms/step - loss: 1.1214 - val_loss: 2.0570\n",
            "Epoch 301/500\n",
            "147/147 [==============================] - 0s 3ms/step - loss: 1.0826 - val_loss: 1.9625\n",
            "Epoch 302/500\n",
            "147/147 [==============================] - 0s 3ms/step - loss: 1.0857 - val_loss: 1.9024\n",
            "Epoch 303/500\n",
            "147/147 [==============================] - 0s 3ms/step - loss: 1.0819 - val_loss: 2.0375\n",
            "Epoch 304/500\n",
            "147/147 [==============================] - 0s 3ms/step - loss: 1.1179 - val_loss: 1.9683\n",
            "Epoch 305/500\n",
            "147/147 [==============================] - 0s 2ms/step - loss: 1.0845 - val_loss: 2.1152\n",
            "Epoch 306/500\n",
            "147/147 [==============================] - 0s 2ms/step - loss: 1.1196 - val_loss: 1.9657\n",
            "Epoch 307/500\n",
            "147/147 [==============================] - 0s 3ms/step - loss: 1.1303 - val_loss: 2.0251\n",
            "Epoch 308/500\n",
            "147/147 [==============================] - 0s 3ms/step - loss: 1.1078 - val_loss: 1.9381\n",
            "Epoch 309/500\n",
            "147/147 [==============================] - 0s 2ms/step - loss: 1.0740 - val_loss: 1.9912\n",
            "Epoch 310/500\n",
            "147/147 [==============================] - 0s 3ms/step - loss: 1.0906 - val_loss: 2.0016\n",
            "Epoch 311/500\n",
            "147/147 [==============================] - 0s 3ms/step - loss: 1.1057 - val_loss: 1.9245\n",
            "Epoch 312/500\n",
            "147/147 [==============================] - 0s 3ms/step - loss: 1.1468 - val_loss: 1.9453\n",
            "Epoch 313/500\n",
            "147/147 [==============================] - 0s 3ms/step - loss: 1.0813 - val_loss: 1.9294\n",
            "Epoch 314/500\n",
            "147/147 [==============================] - 0s 3ms/step - loss: 1.1040 - val_loss: 1.9551\n",
            "Epoch 315/500\n",
            "147/147 [==============================] - 0s 3ms/step - loss: 1.0947 - val_loss: 1.9450\n",
            "Epoch 316/500\n",
            "147/147 [==============================] - 0s 3ms/step - loss: 1.0836 - val_loss: 1.9362\n",
            "Epoch 317/500\n",
            "147/147 [==============================] - 0s 3ms/step - loss: 1.0890 - val_loss: 1.9700\n",
            "Epoch 318/500\n",
            "147/147 [==============================] - 0s 3ms/step - loss: 1.1125 - val_loss: 1.9618\n",
            "Epoch 319/500\n",
            "147/147 [==============================] - 0s 3ms/step - loss: 1.1302 - val_loss: 1.9213\n",
            "Epoch 320/500\n",
            "147/147 [==============================] - 0s 3ms/step - loss: 1.1120 - val_loss: 1.9513\n",
            "Epoch 321/500\n",
            "147/147 [==============================] - 0s 3ms/step - loss: 1.0525 - val_loss: 1.9733\n",
            "Epoch 322/500\n",
            "147/147 [==============================] - 0s 3ms/step - loss: 1.0909 - val_loss: 1.8830\n",
            "Epoch 323/500\n",
            "147/147 [==============================] - 0s 3ms/step - loss: 1.0699 - val_loss: 1.9546\n",
            "Epoch 324/500\n",
            "147/147 [==============================] - 0s 3ms/step - loss: 1.0539 - val_loss: 1.9272\n",
            "Epoch 325/500\n",
            "147/147 [==============================] - 0s 3ms/step - loss: 1.0515 - val_loss: 1.9334\n",
            "Epoch 326/500\n",
            "147/147 [==============================] - 0s 2ms/step - loss: 1.1100 - val_loss: 1.9708\n",
            "Epoch 327/500\n",
            "147/147 [==============================] - 0s 3ms/step - loss: 1.0773 - val_loss: 1.8866\n",
            "Epoch 328/500\n",
            "147/147 [==============================] - 0s 2ms/step - loss: 1.0601 - val_loss: 2.0165\n",
            "Epoch 329/500\n",
            "147/147 [==============================] - 0s 3ms/step - loss: 1.0483 - val_loss: 2.1163\n",
            "Epoch 330/500\n",
            "147/147 [==============================] - 0s 2ms/step - loss: 1.0777 - val_loss: 1.9820\n",
            "Epoch 331/500\n",
            "147/147 [==============================] - 0s 3ms/step - loss: 1.1035 - val_loss: 1.9579\n",
            "Epoch 332/500\n",
            "147/147 [==============================] - 0s 3ms/step - loss: 1.0313 - val_loss: 1.9276\n",
            "Epoch 333/500\n",
            "147/147 [==============================] - 0s 3ms/step - loss: 1.0186 - val_loss: 1.9394\n",
            "Epoch 334/500\n",
            "147/147 [==============================] - 0s 3ms/step - loss: 1.0348 - val_loss: 2.0227\n",
            "Epoch 335/500\n",
            "147/147 [==============================] - 0s 3ms/step - loss: 1.0311 - val_loss: 2.0587\n",
            "Epoch 336/500\n",
            "147/147 [==============================] - 0s 3ms/step - loss: 1.0807 - val_loss: 1.9727\n",
            "Epoch 337/500\n",
            "147/147 [==============================] - 0s 3ms/step - loss: 1.0356 - val_loss: 1.9252\n",
            "Epoch 338/500\n",
            "147/147 [==============================] - 0s 3ms/step - loss: 1.0366 - val_loss: 1.8937\n",
            "Epoch 339/500\n",
            "147/147 [==============================] - 0s 2ms/step - loss: 1.0081 - val_loss: 1.8955\n",
            "Epoch 340/500\n",
            "147/147 [==============================] - 0s 3ms/step - loss: 1.0763 - val_loss: 1.9078\n",
            "Epoch 341/500\n",
            "147/147 [==============================] - 0s 3ms/step - loss: 1.0361 - val_loss: 2.0234\n",
            "Epoch 342/500\n",
            "147/147 [==============================] - 0s 3ms/step - loss: 1.0248 - val_loss: 1.9075\n",
            "Epoch 343/500\n",
            "147/147 [==============================] - 0s 3ms/step - loss: 0.9836 - val_loss: 1.9103\n",
            "Epoch 344/500\n",
            "147/147 [==============================] - 0s 3ms/step - loss: 1.0096 - val_loss: 1.9633\n",
            "Epoch 345/500\n",
            "147/147 [==============================] - 0s 3ms/step - loss: 1.0212 - val_loss: 1.9331\n",
            "Epoch 346/500\n",
            "147/147 [==============================] - 0s 3ms/step - loss: 1.0387 - val_loss: 2.0559\n",
            "Epoch 347/500\n",
            "147/147 [==============================] - 0s 3ms/step - loss: 1.0267 - val_loss: 1.9989\n",
            "Epoch 348/500\n",
            "147/147 [==============================] - 0s 3ms/step - loss: 1.0435 - val_loss: 1.9032\n",
            "Epoch 349/500\n",
            "147/147 [==============================] - 0s 3ms/step - loss: 0.9929 - val_loss: 1.8800\n",
            "Epoch 350/500\n",
            "147/147 [==============================] - 0s 3ms/step - loss: 1.0108 - val_loss: 1.9304\n",
            "Epoch 351/500\n",
            "147/147 [==============================] - 0s 3ms/step - loss: 1.0249 - val_loss: 1.9549\n",
            "Epoch 352/500\n",
            "147/147 [==============================] - 0s 3ms/step - loss: 1.0225 - val_loss: 1.9629\n",
            "Epoch 353/500\n",
            "147/147 [==============================] - 0s 3ms/step - loss: 1.0683 - val_loss: 1.9633\n",
            "Epoch 354/500\n",
            "147/147 [==============================] - 0s 3ms/step - loss: 1.0048 - val_loss: 1.8727\n",
            "Epoch 355/500\n",
            "147/147 [==============================] - 0s 3ms/step - loss: 0.9891 - val_loss: 1.8670\n",
            "Epoch 356/500\n",
            "147/147 [==============================] - 0s 3ms/step - loss: 0.9851 - val_loss: 1.8855\n",
            "Epoch 357/500\n",
            "147/147 [==============================] - 0s 3ms/step - loss: 1.0086 - val_loss: 1.8854\n",
            "Epoch 358/500\n",
            "147/147 [==============================] - 0s 3ms/step - loss: 0.9996 - val_loss: 1.8809\n",
            "Epoch 359/500\n",
            "147/147 [==============================] - 0s 3ms/step - loss: 0.9845 - val_loss: 1.8795\n",
            "Epoch 360/500\n",
            "147/147 [==============================] - 0s 3ms/step - loss: 1.0368 - val_loss: 1.9212\n",
            "Epoch 361/500\n",
            "147/147 [==============================] - 0s 3ms/step - loss: 0.9904 - val_loss: 1.8974\n",
            "Epoch 362/500\n",
            "147/147 [==============================] - 0s 3ms/step - loss: 0.9956 - val_loss: 2.1086\n",
            "Epoch 363/500\n",
            "147/147 [==============================] - 0s 3ms/step - loss: 0.9724 - val_loss: 1.9397\n",
            "Epoch 364/500\n",
            "147/147 [==============================] - 0s 3ms/step - loss: 1.0042 - val_loss: 1.9479\n",
            "Epoch 365/500\n",
            "147/147 [==============================] - 0s 3ms/step - loss: 0.9776 - val_loss: 1.8271\n",
            "Epoch 366/500\n",
            "147/147 [==============================] - 0s 3ms/step - loss: 0.9935 - val_loss: 1.9214\n",
            "Epoch 367/500\n",
            "147/147 [==============================] - 0s 3ms/step - loss: 1.0247 - val_loss: 1.9207\n",
            "Epoch 368/500\n",
            "147/147 [==============================] - 0s 3ms/step - loss: 0.9887 - val_loss: 1.9660\n",
            "Epoch 369/500\n",
            "147/147 [==============================] - 0s 3ms/step - loss: 1.0076 - val_loss: 1.8364\n",
            "Epoch 370/500\n",
            "147/147 [==============================] - 0s 3ms/step - loss: 0.9542 - val_loss: 1.8386\n",
            "Epoch 371/500\n",
            "147/147 [==============================] - 0s 3ms/step - loss: 0.9829 - val_loss: 1.8523\n",
            "Epoch 372/500\n",
            "147/147 [==============================] - 0s 3ms/step - loss: 0.9511 - val_loss: 1.8818\n",
            "Epoch 373/500\n",
            "147/147 [==============================] - 0s 3ms/step - loss: 1.0096 - val_loss: 1.8963\n",
            "Epoch 374/500\n",
            "147/147 [==============================] - 0s 3ms/step - loss: 1.0054 - val_loss: 1.8824\n",
            "Epoch 375/500\n",
            "147/147 [==============================] - 0s 3ms/step - loss: 1.0074 - val_loss: 1.9173\n",
            "Epoch 376/500\n",
            "147/147 [==============================] - 0s 3ms/step - loss: 0.9801 - val_loss: 1.9592\n",
            "Epoch 377/500\n",
            "147/147 [==============================] - 0s 3ms/step - loss: 0.9818 - val_loss: 1.8523\n",
            "Epoch 378/500\n",
            "147/147 [==============================] - 0s 3ms/step - loss: 1.0037 - val_loss: 2.0217\n",
            "Epoch 379/500\n",
            "147/147 [==============================] - 0s 3ms/step - loss: 0.9959 - val_loss: 1.9056\n",
            "Epoch 380/500\n",
            "147/147 [==============================] - 0s 3ms/step - loss: 0.9538 - val_loss: 1.8444\n",
            "Epoch 381/500\n",
            "147/147 [==============================] - 0s 3ms/step - loss: 0.9705 - val_loss: 1.8776\n",
            "Epoch 382/500\n",
            "147/147 [==============================] - 0s 3ms/step - loss: 0.9553 - val_loss: 1.8796\n",
            "Epoch 383/500\n",
            "147/147 [==============================] - 0s 3ms/step - loss: 0.9694 - val_loss: 1.9033\n",
            "Epoch 384/500\n",
            "147/147 [==============================] - 0s 3ms/step - loss: 0.9691 - val_loss: 1.8625\n",
            "Epoch 385/500\n",
            "147/147 [==============================] - 0s 3ms/step - loss: 0.9652 - val_loss: 1.8582\n",
            "Epoch 386/500\n",
            "147/147 [==============================] - 0s 3ms/step - loss: 0.9575 - val_loss: 1.8542\n",
            "Epoch 387/500\n",
            "147/147 [==============================] - 0s 3ms/step - loss: 0.9931 - val_loss: 1.9175\n",
            "Epoch 388/500\n",
            "147/147 [==============================] - 0s 3ms/step - loss: 0.9809 - val_loss: 1.8710\n",
            "Epoch 389/500\n",
            "147/147 [==============================] - 0s 3ms/step - loss: 0.9411 - val_loss: 1.8922\n",
            "Epoch 390/500\n",
            "147/147 [==============================] - 0s 3ms/step - loss: 0.9790 - val_loss: 1.8908\n",
            "Epoch 391/500\n",
            "147/147 [==============================] - 0s 3ms/step - loss: 0.9970 - val_loss: 1.9722\n",
            "Epoch 392/500\n",
            "147/147 [==============================] - 0s 3ms/step - loss: 0.9494 - val_loss: 1.9699\n",
            "Epoch 393/500\n",
            "147/147 [==============================] - 0s 3ms/step - loss: 1.0223 - val_loss: 1.8879\n",
            "Epoch 394/500\n",
            "147/147 [==============================] - 0s 3ms/step - loss: 0.9174 - val_loss: 1.8550\n",
            "Epoch 395/500\n",
            "147/147 [==============================] - 0s 3ms/step - loss: 0.9561 - val_loss: 1.8450\n",
            "Epoch 396/500\n",
            "147/147 [==============================] - 0s 3ms/step - loss: 0.9615 - val_loss: 1.8416\n",
            "Epoch 397/500\n",
            "147/147 [==============================] - 0s 3ms/step - loss: 0.9042 - val_loss: 1.9131\n",
            "Epoch 398/500\n",
            "147/147 [==============================] - 0s 3ms/step - loss: 0.9155 - val_loss: 1.9293\n",
            "Epoch 399/500\n",
            "147/147 [==============================] - 0s 3ms/step - loss: 0.9628 - val_loss: 1.9323\n",
            "Epoch 400/500\n",
            "147/147 [==============================] - 0s 3ms/step - loss: 1.0086 - val_loss: 2.0205\n",
            "Epoch 401/500\n",
            "147/147 [==============================] - 0s 3ms/step - loss: 0.9427 - val_loss: 1.8426\n",
            "Epoch 402/500\n",
            "147/147 [==============================] - 0s 3ms/step - loss: 0.9527 - val_loss: 1.9129\n",
            "Epoch 403/500\n",
            "147/147 [==============================] - 0s 3ms/step - loss: 0.9554 - val_loss: 1.8851\n",
            "Epoch 404/500\n",
            "147/147 [==============================] - 0s 3ms/step - loss: 0.9500 - val_loss: 2.0035\n",
            "Epoch 405/500\n",
            "147/147 [==============================] - 0s 3ms/step - loss: 0.9334 - val_loss: 1.9024\n",
            "Epoch 406/500\n",
            "147/147 [==============================] - 0s 3ms/step - loss: 0.8713 - val_loss: 1.8972\n",
            "Epoch 407/500\n",
            "147/147 [==============================] - 0s 3ms/step - loss: 0.9001 - val_loss: 1.8803\n",
            "Epoch 408/500\n",
            "147/147 [==============================] - 0s 3ms/step - loss: 0.9234 - val_loss: 1.8827\n",
            "Epoch 409/500\n",
            "147/147 [==============================] - 0s 3ms/step - loss: 0.9465 - val_loss: 1.9254\n",
            "Epoch 410/500\n",
            "147/147 [==============================] - 0s 3ms/step - loss: 0.9175 - val_loss: 1.9498\n",
            "Epoch 411/500\n",
            "147/147 [==============================] - 0s 3ms/step - loss: 0.9605 - val_loss: 1.9089\n",
            "Epoch 412/500\n",
            "147/147 [==============================] - 0s 3ms/step - loss: 0.9365 - val_loss: 2.0992\n",
            "Epoch 413/500\n",
            "147/147 [==============================] - 0s 3ms/step - loss: 0.9582 - val_loss: 1.9295\n",
            "Epoch 414/500\n",
            "147/147 [==============================] - 0s 3ms/step - loss: 0.9527 - val_loss: 1.8237\n",
            "Epoch 415/500\n",
            "147/147 [==============================] - 0s 3ms/step - loss: 0.9340 - val_loss: 1.9462\n",
            "Epoch 416/500\n",
            "147/147 [==============================] - 0s 3ms/step - loss: 0.9356 - val_loss: 2.0285\n",
            "Epoch 417/500\n",
            "147/147 [==============================] - 1s 4ms/step - loss: 0.9439 - val_loss: 2.0806\n",
            "Epoch 418/500\n",
            "147/147 [==============================] - 0s 3ms/step - loss: 0.9306 - val_loss: 1.8605\n",
            "Epoch 419/500\n",
            "147/147 [==============================] - 0s 3ms/step - loss: 0.8950 - val_loss: 1.8318\n",
            "Epoch 420/500\n",
            "147/147 [==============================] - 0s 3ms/step - loss: 0.8973 - val_loss: 1.9225\n",
            "Epoch 421/500\n",
            "147/147 [==============================] - 0s 3ms/step - loss: 0.9217 - val_loss: 1.8473\n",
            "Epoch 422/500\n",
            "147/147 [==============================] - 0s 3ms/step - loss: 0.9353 - val_loss: 1.8502\n",
            "Epoch 423/500\n",
            "147/147 [==============================] - 0s 3ms/step - loss: 0.9698 - val_loss: 1.8836\n",
            "Epoch 424/500\n",
            "147/147 [==============================] - 0s 3ms/step - loss: 0.9566 - val_loss: 1.8276\n",
            "Epoch 425/500\n",
            "147/147 [==============================] - 0s 3ms/step - loss: 0.9038 - val_loss: 1.8895\n",
            "Epoch 426/500\n",
            "147/147 [==============================] - 0s 3ms/step - loss: 0.9210 - val_loss: 1.8625\n",
            "Epoch 427/500\n",
            "147/147 [==============================] - 0s 3ms/step - loss: 0.8913 - val_loss: 1.8606\n",
            "Epoch 428/500\n",
            "147/147 [==============================] - 0s 3ms/step - loss: 0.8949 - val_loss: 1.8549\n",
            "Epoch 429/500\n",
            "147/147 [==============================] - 0s 3ms/step - loss: 0.9132 - val_loss: 1.8267\n",
            "Epoch 430/500\n",
            "147/147 [==============================] - 0s 3ms/step - loss: 0.9215 - val_loss: 1.8653\n",
            "Epoch 431/500\n",
            "147/147 [==============================] - 0s 3ms/step - loss: 0.9093 - val_loss: 1.9100\n",
            "Epoch 432/500\n",
            "147/147 [==============================] - 0s 3ms/step - loss: 0.9080 - val_loss: 1.8657\n",
            "Epoch 433/500\n",
            "147/147 [==============================] - 0s 3ms/step - loss: 0.9148 - val_loss: 1.9817\n",
            "Epoch 434/500\n",
            "147/147 [==============================] - 0s 3ms/step - loss: 0.9726 - val_loss: 1.8539\n",
            "Epoch 435/500\n",
            "147/147 [==============================] - 0s 3ms/step - loss: 0.9371 - val_loss: 1.8376\n",
            "Epoch 436/500\n",
            "147/147 [==============================] - 0s 3ms/step - loss: 0.8825 - val_loss: 1.9281\n",
            "Epoch 437/500\n",
            "147/147 [==============================] - 0s 3ms/step - loss: 0.8987 - val_loss: 1.8397\n",
            "Epoch 438/500\n",
            "147/147 [==============================] - 0s 3ms/step - loss: 0.8996 - val_loss: 1.7912\n",
            "Epoch 439/500\n",
            "147/147 [==============================] - 0s 3ms/step - loss: 0.8577 - val_loss: 1.9352\n",
            "Epoch 440/500\n",
            "147/147 [==============================] - 0s 3ms/step - loss: 0.9150 - val_loss: 1.8714\n",
            "Epoch 441/500\n",
            "147/147 [==============================] - 0s 3ms/step - loss: 0.8945 - val_loss: 1.7821\n",
            "Epoch 442/500\n",
            "147/147 [==============================] - 0s 3ms/step - loss: 0.9109 - val_loss: 1.7744\n",
            "Epoch 443/500\n",
            "147/147 [==============================] - 0s 3ms/step - loss: 0.8870 - val_loss: 1.8132\n",
            "Epoch 444/500\n",
            "147/147 [==============================] - 0s 3ms/step - loss: 0.9354 - val_loss: 1.8137\n",
            "Epoch 445/500\n",
            "147/147 [==============================] - 0s 3ms/step - loss: 0.9007 - val_loss: 1.8617\n",
            "Epoch 446/500\n",
            "147/147 [==============================] - 0s 3ms/step - loss: 0.8862 - val_loss: 1.8275\n",
            "Epoch 447/500\n",
            "147/147 [==============================] - 0s 3ms/step - loss: 0.9007 - val_loss: 1.8478\n",
            "Epoch 448/500\n",
            "147/147 [==============================] - 0s 3ms/step - loss: 0.8746 - val_loss: 1.8173\n",
            "Epoch 449/500\n",
            "147/147 [==============================] - 0s 3ms/step - loss: 0.8613 - val_loss: 1.8070\n",
            "Epoch 450/500\n",
            "147/147 [==============================] - 0s 3ms/step - loss: 0.8566 - val_loss: 1.8168\n",
            "Epoch 451/500\n",
            "147/147 [==============================] - 0s 3ms/step - loss: 0.8813 - val_loss: 1.9508\n",
            "Epoch 452/500\n",
            "147/147 [==============================] - 0s 3ms/step - loss: 0.9097 - val_loss: 1.9387\n",
            "Epoch 453/500\n",
            "147/147 [==============================] - 0s 3ms/step - loss: 0.8773 - val_loss: 1.8220\n",
            "Epoch 454/500\n",
            "147/147 [==============================] - 0s 3ms/step - loss: 0.8447 - val_loss: 1.7624\n",
            "Epoch 455/500\n",
            "147/147 [==============================] - 0s 3ms/step - loss: 0.8362 - val_loss: 1.8198\n",
            "Epoch 456/500\n",
            "147/147 [==============================] - 0s 3ms/step - loss: 0.8491 - val_loss: 1.8686\n",
            "Epoch 457/500\n",
            "147/147 [==============================] - 0s 3ms/step - loss: 0.9248 - val_loss: 1.8915\n",
            "Epoch 458/500\n",
            "147/147 [==============================] - 0s 3ms/step - loss: 0.9659 - val_loss: 1.7838\n",
            "Epoch 459/500\n",
            "147/147 [==============================] - 0s 3ms/step - loss: 0.9009 - val_loss: 1.7787\n",
            "Epoch 460/500\n",
            "147/147 [==============================] - 0s 3ms/step - loss: 0.8648 - val_loss: 1.8326\n",
            "Epoch 461/500\n",
            "147/147 [==============================] - 0s 3ms/step - loss: 0.8604 - val_loss: 1.8144\n",
            "Epoch 462/500\n",
            "147/147 [==============================] - 0s 3ms/step - loss: 0.8771 - val_loss: 1.8501\n",
            "Epoch 463/500\n",
            "147/147 [==============================] - 0s 3ms/step - loss: 0.8593 - val_loss: 1.7936\n",
            "Epoch 464/500\n",
            "147/147 [==============================] - 0s 3ms/step - loss: 0.8727 - val_loss: 1.8684\n",
            "Epoch 465/500\n",
            "147/147 [==============================] - 0s 3ms/step - loss: 0.8406 - val_loss: 1.8021\n",
            "Epoch 466/500\n",
            "147/147 [==============================] - 0s 3ms/step - loss: 0.8609 - val_loss: 1.7580\n",
            "Epoch 467/500\n",
            "147/147 [==============================] - 0s 3ms/step - loss: 0.8409 - val_loss: 1.7514\n",
            "Epoch 468/500\n",
            "147/147 [==============================] - 0s 3ms/step - loss: 0.8810 - val_loss: 1.7948\n",
            "Epoch 469/500\n",
            "147/147 [==============================] - 0s 3ms/step - loss: 0.8795 - val_loss: 1.8402\n",
            "Epoch 470/500\n",
            "147/147 [==============================] - 0s 3ms/step - loss: 0.8434 - val_loss: 1.7659\n",
            "Epoch 471/500\n",
            "147/147 [==============================] - 0s 3ms/step - loss: 0.8475 - val_loss: 1.8400\n",
            "Epoch 472/500\n",
            "147/147 [==============================] - 0s 3ms/step - loss: 0.8651 - val_loss: 1.8220\n",
            "Epoch 473/500\n",
            "147/147 [==============================] - 0s 3ms/step - loss: 0.8288 - val_loss: 1.7845\n",
            "Epoch 474/500\n",
            "147/147 [==============================] - 0s 3ms/step - loss: 0.8720 - val_loss: 1.8253\n",
            "Epoch 475/500\n",
            "147/147 [==============================] - 0s 3ms/step - loss: 0.8611 - val_loss: 1.7365\n",
            "Epoch 476/500\n",
            "147/147 [==============================] - 0s 3ms/step - loss: 0.8458 - val_loss: 1.8340\n",
            "Epoch 477/500\n",
            "147/147 [==============================] - 0s 3ms/step - loss: 0.8281 - val_loss: 1.7484\n",
            "Epoch 478/500\n",
            "147/147 [==============================] - 0s 3ms/step - loss: 0.8665 - val_loss: 1.8201\n",
            "Epoch 479/500\n",
            "147/147 [==============================] - 0s 3ms/step - loss: 0.8844 - val_loss: 1.7760\n",
            "Epoch 480/500\n",
            "147/147 [==============================] - 0s 3ms/step - loss: 0.8894 - val_loss: 1.8816\n",
            "Epoch 481/500\n",
            "147/147 [==============================] - 0s 3ms/step - loss: 0.8560 - val_loss: 1.7958\n",
            "Epoch 482/500\n",
            "147/147 [==============================] - 0s 3ms/step - loss: 0.8722 - val_loss: 1.8827\n",
            "Epoch 483/500\n",
            "147/147 [==============================] - 0s 3ms/step - loss: 0.8440 - val_loss: 1.7908\n",
            "Epoch 484/500\n",
            "147/147 [==============================] - 0s 3ms/step - loss: 0.8421 - val_loss: 1.7696\n",
            "Epoch 485/500\n",
            "147/147 [==============================] - 0s 3ms/step - loss: 0.8386 - val_loss: 1.7321\n",
            "Epoch 486/500\n",
            "147/147 [==============================] - 0s 3ms/step - loss: 0.8095 - val_loss: 1.7749\n",
            "Epoch 487/500\n",
            "147/147 [==============================] - 0s 3ms/step - loss: 0.8155 - val_loss: 1.8444\n",
            "Epoch 488/500\n",
            "147/147 [==============================] - 0s 3ms/step - loss: 0.8329 - val_loss: 1.7795\n",
            "Epoch 489/500\n",
            "147/147 [==============================] - 0s 3ms/step - loss: 0.8242 - val_loss: 1.8520\n",
            "Epoch 490/500\n",
            "147/147 [==============================] - 0s 3ms/step - loss: 0.8407 - val_loss: 1.9427\n",
            "Epoch 491/500\n",
            "147/147 [==============================] - 0s 3ms/step - loss: 0.8211 - val_loss: 1.8191\n",
            "Epoch 492/500\n",
            "147/147 [==============================] - 0s 3ms/step - loss: 0.8209 - val_loss: 1.8120\n",
            "Epoch 493/500\n",
            "147/147 [==============================] - 0s 3ms/step - loss: 0.8307 - val_loss: 1.7692\n",
            "Epoch 494/500\n",
            "147/147 [==============================] - 0s 3ms/step - loss: 0.8500 - val_loss: 1.8293\n",
            "Epoch 495/500\n",
            "147/147 [==============================] - 0s 3ms/step - loss: 0.8814 - val_loss: 1.7724\n",
            "Epoch 496/500\n",
            "147/147 [==============================] - 0s 3ms/step - loss: 0.7986 - val_loss: 1.8534\n",
            "Epoch 497/500\n",
            "147/147 [==============================] - 0s 3ms/step - loss: 0.8207 - val_loss: 1.7583\n",
            "Epoch 498/500\n",
            "147/147 [==============================] - 0s 3ms/step - loss: 0.8191 - val_loss: 1.8761\n",
            "Epoch 499/500\n",
            "147/147 [==============================] - 0s 3ms/step - loss: 0.8256 - val_loss: 1.8033\n",
            "Epoch 500/500\n",
            "147/147 [==============================] - 0s 3ms/step - loss: 0.7897 - val_loss: 1.7732\n"
          ],
          "name": "stdout"
        }
      ]
    },
    {
      "cell_type": "code",
      "metadata": {
        "colab": {
          "base_uri": "https://localhost:8080/"
        },
        "id": "jMFuJHI_hXRc",
        "outputId": "01bd960c-8b2d-48df-f117-191755acbb2c"
      },
      "source": [
        "ann1.summary()"
      ],
      "execution_count": 276,
      "outputs": [
        {
          "output_type": "stream",
          "text": [
            "Model: \"sequential_6\"\n",
            "_________________________________________________________________\n",
            "Layer (type)                 Output Shape              Param #   \n",
            "=================================================================\n",
            "dense_22 (Dense)             (None, 128)               2560      \n",
            "_________________________________________________________________\n",
            "dense_23 (Dense)             (None, 64)                8256      \n",
            "_________________________________________________________________\n",
            "dense_24 (Dense)             (None, 32)                2080      \n",
            "_________________________________________________________________\n",
            "dense_25 (Dense)             (None, 16)                528       \n",
            "_________________________________________________________________\n",
            "dense_26 (Dense)             (None, 2)                 34        \n",
            "=================================================================\n",
            "Total params: 13,458\n",
            "Trainable params: 13,458\n",
            "Non-trainable params: 0\n",
            "_________________________________________________________________\n"
          ],
          "name": "stdout"
        }
      ]
    },
    {
      "cell_type": "code",
      "metadata": {
        "colab": {
          "base_uri": "https://localhost:8080/"
        },
        "id": "EAXJ8-5GbTtH",
        "outputId": "38f8aea2-beb9-4b6f-84d5-6892fab9bb44"
      },
      "source": [
        "ann_mae = ann1.evaluate(x_test, y_test)"
      ],
      "execution_count": 275,
      "outputs": [
        {
          "output_type": "stream",
          "text": [
            "37/37 [==============================] - 0s 1ms/step - loss: 1.7732\n"
          ],
          "name": "stdout"
        }
      ]
    },
    {
      "cell_type": "markdown",
      "metadata": {
        "id": "m3_TltkIhsiR"
      },
      "source": [
        "Our Neural Network gave us a **MAE of 1.7732**"
      ]
    },
    {
      "cell_type": "markdown",
      "metadata": {
        "id": "Ko7t7Q1Eg1lg"
      },
      "source": [
        "We are getting a MAE of 1.7732 which is very close to our MAE of Random Forrest Regression (1.502 for Y1 Variable and 1.650 for Y2 Variable) using Feature Engineering. "
      ]
    },
    {
      "cell_type": "code",
      "metadata": {
        "colab": {
          "base_uri": "https://localhost:8080/",
          "height": 584
        },
        "id": "4KZ9JuXtfbDp",
        "outputId": "aaf31c7a-3e77-4704-ea60-5de273935229"
      },
      "source": [
        "plt.figure(figsize=(12,9))\n",
        "ax = sns.barplot(y=[ann_mae, rf_mae1, rf_mae2], x=['Artificial Neural Network', 'Random Forrest(Y1 Variable)', 'Random Forrest(Y2 Variable)'])\n",
        "for p in ax.patches:\n",
        "  height = p.get_height()\n",
        "  ax.text(p.get_x() + p.get_width()/2.,\n",
        "          height + 0.01,\n",
        "          '{:1.3f}'.format(height),\n",
        "          ha='center')\n",
        "plt.xlabel('Mean Absolute Error')\n",
        "plt.ylabel('Model Name')\n",
        "plt.title('Comparing Neural Network MAE to Random Forrest MAE')"
      ],
      "execution_count": 283,
      "outputs": [
        {
          "output_type": "execute_result",
          "data": {
            "text/plain": [
              "Text(0.5, 1.0, 'Comparing Neural Network MAE to Random Forrest MAE')"
            ]
          },
          "metadata": {
            "tags": []
          },
          "execution_count": 283
        },
        {
          "output_type": "display_data",
          "data": {
            "image/png": "[encoded data removed]",
            "text/plain": [
              "<Figure size 864x648 with 1 Axes>"
            ]
          },
          "metadata": {
            "tags": [],
            "needs_background": "light"
          }
        }
      ]
    }
  ]
}