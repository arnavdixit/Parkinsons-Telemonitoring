{
  "nbformat": 4,
  "nbformat_minor": 0,
  "metadata": {
    "colab": {
      "name": "Parkinsons_Regression.ipynb",
      "provenance": [],
      "collapsed_sections": []
    },
    "kernelspec": {
      "name": "python3",
      "display_name": "Python 3"
    },
    "language_info": {
      "name": "python"
    },
    "accelerator": "GPU"
  },
  "cells": [
    {
      "cell_type": "markdown",
      "metadata": {
        "id": "NCd_DzfOOS-e"
      },
      "source": [
        "# Importing Libraries"
      ]
    },
    {
      "cell_type": "code",
      "metadata": {
        "colab": {
          "base_uri": "https://localhost:8080/"
        },
        "id": "lYZwcuU0s_87",
        "outputId": "b3d19e05-578c-4fb2-91ae-55fcc7b7333c"
      },
      "source": [
        "!pip install tensorflow_addons"
      ],
      "execution_count": 1,
      "outputs": [
        {
          "output_type": "stream",
          "text": [
            "Collecting tensorflow_addons\n",
            "  Downloading tensorflow_addons-0.14.0-cp37-cp37m-manylinux_2_12_x86_64.manylinux2010_x86_64.whl (1.1 MB)\n",
            "\u001b[?25l\r\u001b[K     |▎                               | 10 kB 34.9 MB/s eta 0:00:01\r\u001b[K     |▋                               | 20 kB 20.3 MB/s eta 0:00:01\r\u001b[K     |▉                               | 30 kB 16.0 MB/s eta 0:00:01\r\u001b[K     |█▏                              | 40 kB 15.1 MB/s eta 0:00:01\r\u001b[K     |█▌                              | 51 kB 7.5 MB/s eta 0:00:01\r\u001b[K     |█▊                              | 61 kB 7.3 MB/s eta 0:00:01\r\u001b[K     |██                              | 71 kB 7.8 MB/s eta 0:00:01\r\u001b[K     |██▍                             | 81 kB 8.6 MB/s eta 0:00:01\r\u001b[K     |██▋                             | 92 kB 9.2 MB/s eta 0:00:01\r\u001b[K     |███                             | 102 kB 7.3 MB/s eta 0:00:01\r\u001b[K     |███▎                            | 112 kB 7.3 MB/s eta 0:00:01\r\u001b[K     |███▌                            | 122 kB 7.3 MB/s eta 0:00:01\r\u001b[K     |███▉                            | 133 kB 7.3 MB/s eta 0:00:01\r\u001b[K     |████▏                           | 143 kB 7.3 MB/s eta 0:00:01\r\u001b[K     |████▍                           | 153 kB 7.3 MB/s eta 0:00:01\r\u001b[K     |████▊                           | 163 kB 7.3 MB/s eta 0:00:01\r\u001b[K     |█████                           | 174 kB 7.3 MB/s eta 0:00:01\r\u001b[K     |█████▎                          | 184 kB 7.3 MB/s eta 0:00:01\r\u001b[K     |█████▋                          | 194 kB 7.3 MB/s eta 0:00:01\r\u001b[K     |██████                          | 204 kB 7.3 MB/s eta 0:00:01\r\u001b[K     |██████▏                         | 215 kB 7.3 MB/s eta 0:00:01\r\u001b[K     |██████▌                         | 225 kB 7.3 MB/s eta 0:00:01\r\u001b[K     |██████▉                         | 235 kB 7.3 MB/s eta 0:00:01\r\u001b[K     |███████                         | 245 kB 7.3 MB/s eta 0:00:01\r\u001b[K     |███████▍                        | 256 kB 7.3 MB/s eta 0:00:01\r\u001b[K     |███████▊                        | 266 kB 7.3 MB/s eta 0:00:01\r\u001b[K     |████████                        | 276 kB 7.3 MB/s eta 0:00:01\r\u001b[K     |████████▎                       | 286 kB 7.3 MB/s eta 0:00:01\r\u001b[K     |████████▋                       | 296 kB 7.3 MB/s eta 0:00:01\r\u001b[K     |████████▉                       | 307 kB 7.3 MB/s eta 0:00:01\r\u001b[K     |█████████▏                      | 317 kB 7.3 MB/s eta 0:00:01\r\u001b[K     |█████████▌                      | 327 kB 7.3 MB/s eta 0:00:01\r\u001b[K     |█████████▊                      | 337 kB 7.3 MB/s eta 0:00:01\r\u001b[K     |██████████                      | 348 kB 7.3 MB/s eta 0:00:01\r\u001b[K     |██████████▍                     | 358 kB 7.3 MB/s eta 0:00:01\r\u001b[K     |██████████▋                     | 368 kB 7.3 MB/s eta 0:00:01\r\u001b[K     |███████████                     | 378 kB 7.3 MB/s eta 0:00:01\r\u001b[K     |███████████▎                    | 389 kB 7.3 MB/s eta 0:00:01\r\u001b[K     |███████████▌                    | 399 kB 7.3 MB/s eta 0:00:01\r\u001b[K     |███████████▉                    | 409 kB 7.3 MB/s eta 0:00:01\r\u001b[K     |████████████▏                   | 419 kB 7.3 MB/s eta 0:00:01\r\u001b[K     |████████████▍                   | 430 kB 7.3 MB/s eta 0:00:01\r\u001b[K     |████████████▊                   | 440 kB 7.3 MB/s eta 0:00:01\r\u001b[K     |█████████████                   | 450 kB 7.3 MB/s eta 0:00:01\r\u001b[K     |█████████████▎                  | 460 kB 7.3 MB/s eta 0:00:01\r\u001b[K     |█████████████▋                  | 471 kB 7.3 MB/s eta 0:00:01\r\u001b[K     |██████████████                  | 481 kB 7.3 MB/s eta 0:00:01\r\u001b[K     |██████████████▏                 | 491 kB 7.3 MB/s eta 0:00:01\r\u001b[K     |██████████████▌                 | 501 kB 7.3 MB/s eta 0:00:01\r\u001b[K     |██████████████▉                 | 512 kB 7.3 MB/s eta 0:00:01\r\u001b[K     |███████████████                 | 522 kB 7.3 MB/s eta 0:00:01\r\u001b[K     |███████████████▍                | 532 kB 7.3 MB/s eta 0:00:01\r\u001b[K     |███████████████▊                | 542 kB 7.3 MB/s eta 0:00:01\r\u001b[K     |████████████████                | 552 kB 7.3 MB/s eta 0:00:01\r\u001b[K     |████████████████▎               | 563 kB 7.3 MB/s eta 0:00:01\r\u001b[K     |████████████████▋               | 573 kB 7.3 MB/s eta 0:00:01\r\u001b[K     |████████████████▉               | 583 kB 7.3 MB/s eta 0:00:01\r\u001b[K     |█████████████████▏              | 593 kB 7.3 MB/s eta 0:00:01\r\u001b[K     |█████████████████▌              | 604 kB 7.3 MB/s eta 0:00:01\r\u001b[K     |█████████████████▊              | 614 kB 7.3 MB/s eta 0:00:01\r\u001b[K     |██████████████████              | 624 kB 7.3 MB/s eta 0:00:01\r\u001b[K     |██████████████████▍             | 634 kB 7.3 MB/s eta 0:00:01\r\u001b[K     |██████████████████▋             | 645 kB 7.3 MB/s eta 0:00:01\r\u001b[K     |███████████████████             | 655 kB 7.3 MB/s eta 0:00:01\r\u001b[K     |███████████████████▎            | 665 kB 7.3 MB/s eta 0:00:01\r\u001b[K     |███████████████████▌            | 675 kB 7.3 MB/s eta 0:00:01\r\u001b[K     |███████████████████▉            | 686 kB 7.3 MB/s eta 0:00:01\r\u001b[K     |████████████████████▏           | 696 kB 7.3 MB/s eta 0:00:01\r\u001b[K     |████████████████████▍           | 706 kB 7.3 MB/s eta 0:00:01\r\u001b[K     |████████████████████▊           | 716 kB 7.3 MB/s eta 0:00:01\r\u001b[K     |█████████████████████           | 727 kB 7.3 MB/s eta 0:00:01\r\u001b[K     |█████████████████████▎          | 737 kB 7.3 MB/s eta 0:00:01\r\u001b[K     |█████████████████████▋          | 747 kB 7.3 MB/s eta 0:00:01\r\u001b[K     |██████████████████████          | 757 kB 7.3 MB/s eta 0:00:01\r\u001b[K     |██████████████████████▏         | 768 kB 7.3 MB/s eta 0:00:01\r\u001b[K     |██████████████████████▌         | 778 kB 7.3 MB/s eta 0:00:01\r\u001b[K     |██████████████████████▉         | 788 kB 7.3 MB/s eta 0:00:01\r\u001b[K     |███████████████████████         | 798 kB 7.3 MB/s eta 0:00:01\r\u001b[K     |███████████████████████▍        | 808 kB 7.3 MB/s eta 0:00:01\r\u001b[K     |███████████████████████▊        | 819 kB 7.3 MB/s eta 0:00:01\r\u001b[K     |████████████████████████        | 829 kB 7.3 MB/s eta 0:00:01\r\u001b[K     |████████████████████████▎       | 839 kB 7.3 MB/s eta 0:00:01\r\u001b[K     |████████████████████████▋       | 849 kB 7.3 MB/s eta 0:00:01\r\u001b[K     |████████████████████████▉       | 860 kB 7.3 MB/s eta 0:00:01\r\u001b[K     |█████████████████████████▏      | 870 kB 7.3 MB/s eta 0:00:01\r\u001b[K     |█████████████████████████▍      | 880 kB 7.3 MB/s eta 0:00:01\r\u001b[K     |█████████████████████████▊      | 890 kB 7.3 MB/s eta 0:00:01\r\u001b[K     |██████████████████████████      | 901 kB 7.3 MB/s eta 0:00:01\r\u001b[K     |██████████████████████████▎     | 911 kB 7.3 MB/s eta 0:00:01\r\u001b[K     |██████████████████████████▋     | 921 kB 7.3 MB/s eta 0:00:01\r\u001b[K     |███████████████████████████     | 931 kB 7.3 MB/s eta 0:00:01\r\u001b[K     |███████████████████████████▏    | 942 kB 7.3 MB/s eta 0:00:01\r\u001b[K     |███████████████████████████▌    | 952 kB 7.3 MB/s eta 0:00:01\r\u001b[K     |███████████████████████████▉    | 962 kB 7.3 MB/s eta 0:00:01\r\u001b[K     |████████████████████████████    | 972 kB 7.3 MB/s eta 0:00:01\r\u001b[K     |████████████████████████████▍   | 983 kB 7.3 MB/s eta 0:00:01\r\u001b[K     |████████████████████████████▊   | 993 kB 7.3 MB/s eta 0:00:01\r\u001b[K     |█████████████████████████████   | 1.0 MB 7.3 MB/s eta 0:00:01\r\u001b[K     |█████████████████████████████▎  | 1.0 MB 7.3 MB/s eta 0:00:01\r\u001b[K     |█████████████████████████████▋  | 1.0 MB 7.3 MB/s eta 0:00:01\r\u001b[K     |█████████████████████████████▉  | 1.0 MB 7.3 MB/s eta 0:00:01\r\u001b[K     |██████████████████████████████▏ | 1.0 MB 7.3 MB/s eta 0:00:01\r\u001b[K     |██████████████████████████████▌ | 1.1 MB 7.3 MB/s eta 0:00:01\r\u001b[K     |██████████████████████████████▊ | 1.1 MB 7.3 MB/s eta 0:00:01\r\u001b[K     |███████████████████████████████ | 1.1 MB 7.3 MB/s eta 0:00:01\r\u001b[K     |███████████████████████████████▍| 1.1 MB 7.3 MB/s eta 0:00:01\r\u001b[K     |███████████████████████████████▋| 1.1 MB 7.3 MB/s eta 0:00:01\r\u001b[K     |████████████████████████████████| 1.1 MB 7.3 MB/s eta 0:00:01\r\u001b[K     |████████████████████████████████| 1.1 MB 7.3 MB/s \n",
            "\u001b[?25hRequirement already satisfied: typeguard>=2.7 in /usr/local/lib/python3.7/dist-packages (from tensorflow_addons) (2.7.1)\n",
            "Installing collected packages: tensorflow-addons\n",
            "Successfully installed tensorflow-addons-0.14.0\n"
          ],
          "name": "stdout"
        }
      ]
    },
    {
      "cell_type": "code",
      "metadata": {
        "id": "z0Kpn47VNwjI"
      },
      "source": [
        "import numpy as np\n",
        "import pandas as pd\n",
        "import matplotlib.pyplot as plt\n",
        "import seaborn as sns\n",
        "import tensorflow as tf\n",
        "import tensorflow_addons as tfa\n",
        "from tensorflow.keras.models import Sequential\n",
        "from tensorflow.keras.layers import Dense, Dropout\n",
        "from keras import backend as K\n",
        "from sklearn.model_selection import train_test_split, cross_val_score\n",
        "from sklearn.preprocessing import StandardScaler, PolynomialFeatures\n",
        "from sklearn.compose import ColumnTransformer\n",
        "from sklearn.decomposition import PCA, KernelPCA\n",
        "from sklearn.linear_model import LinearRegression\n",
        "from sklearn.svm import SVR\n",
        "from sklearn.tree import DecisionTreeRegressor\n",
        "from sklearn.ensemble import RandomForestRegressor\n",
        "from xgboost import XGBRegressor\n",
        "from sklearn.metrics import mean_absolute_error, mean_squared_error, r2_score\n",
        "import warnings\n",
        "warnings.filterwarnings('ignore')\n",
        "%matplotlib inline"
      ],
      "execution_count": 161,
      "outputs": []
    },
    {
      "cell_type": "markdown",
      "metadata": {
        "id": "h9KXNEANOVWh"
      },
      "source": [
        "# Importing Dataset"
      ]
    },
    {
      "cell_type": "code",
      "metadata": {
        "id": "qncLLI4UOM4F"
      },
      "source": [
        "df = pd.read_csv('parkinsons_updrs.csv')"
      ],
      "execution_count": 3,
      "outputs": []
    },
    {
      "cell_type": "code",
      "metadata": {
        "colab": {
          "base_uri": "https://localhost:8080/",
          "height": 223
        },
        "id": "aEVKIk4PORCA",
        "outputId": "872cf41b-7847-4db3-a70f-1a019d65dc30"
      },
      "source": [
        "df.head()"
      ],
      "execution_count": 4,
      "outputs": [
        {
          "output_type": "execute_result",
          "data": {
            "text/html": [
              "<div>\n",
              "<style scoped>\n",
              "    .dataframe tbody tr th:only-of-type {\n",
              "        vertical-align: middle;\n",
              "    }\n",
              "\n",
              "    .dataframe tbody tr th {\n",
              "        vertical-align: top;\n",
              "    }\n",
              "\n",
              "    .dataframe thead th {\n",
              "        text-align: right;\n",
              "    }\n",
              "</style>\n",
              "<table border=\"1\" class=\"dataframe\">\n",
              "  <thead>\n",
              "    <tr style=\"text-align: right;\">\n",
              "      <th></th>\n",
              "      <th>subject#</th>\n",
              "      <th>age</th>\n",
              "      <th>sex</th>\n",
              "      <th>test_time</th>\n",
              "      <th>motor_UPDRS</th>\n",
              "      <th>total_UPDRS</th>\n",
              "      <th>Jitter(%)</th>\n",
              "      <th>Jitter(Abs)</th>\n",
              "      <th>Jitter:RAP</th>\n",
              "      <th>Jitter:PPQ5</th>\n",
              "      <th>Jitter:DDP</th>\n",
              "      <th>Shimmer</th>\n",
              "      <th>Shimmer(dB)</th>\n",
              "      <th>Shimmer:APQ3</th>\n",
              "      <th>Shimmer:APQ5</th>\n",
              "      <th>Shimmer:APQ11</th>\n",
              "      <th>Shimmer:DDA</th>\n",
              "      <th>NHR</th>\n",
              "      <th>HNR</th>\n",
              "      <th>RPDE</th>\n",
              "      <th>DFA</th>\n",
              "      <th>PPE</th>\n",
              "    </tr>\n",
              "  </thead>\n",
              "  <tbody>\n",
              "    <tr>\n",
              "      <th>0</th>\n",
              "      <td>1</td>\n",
              "      <td>72</td>\n",
              "      <td>0</td>\n",
              "      <td>5.6431</td>\n",
              "      <td>28.199</td>\n",
              "      <td>34.398</td>\n",
              "      <td>0.00662</td>\n",
              "      <td>0.000034</td>\n",
              "      <td>0.00401</td>\n",
              "      <td>0.00317</td>\n",
              "      <td>0.01204</td>\n",
              "      <td>0.02565</td>\n",
              "      <td>0.230</td>\n",
              "      <td>0.01438</td>\n",
              "      <td>0.01309</td>\n",
              "      <td>0.01662</td>\n",
              "      <td>0.04314</td>\n",
              "      <td>0.014290</td>\n",
              "      <td>21.640</td>\n",
              "      <td>0.41888</td>\n",
              "      <td>0.54842</td>\n",
              "      <td>0.16006</td>\n",
              "    </tr>\n",
              "    <tr>\n",
              "      <th>1</th>\n",
              "      <td>1</td>\n",
              "      <td>72</td>\n",
              "      <td>0</td>\n",
              "      <td>12.6660</td>\n",
              "      <td>28.447</td>\n",
              "      <td>34.894</td>\n",
              "      <td>0.00300</td>\n",
              "      <td>0.000017</td>\n",
              "      <td>0.00132</td>\n",
              "      <td>0.00150</td>\n",
              "      <td>0.00395</td>\n",
              "      <td>0.02024</td>\n",
              "      <td>0.179</td>\n",
              "      <td>0.00994</td>\n",
              "      <td>0.01072</td>\n",
              "      <td>0.01689</td>\n",
              "      <td>0.02982</td>\n",
              "      <td>0.011112</td>\n",
              "      <td>27.183</td>\n",
              "      <td>0.43493</td>\n",
              "      <td>0.56477</td>\n",
              "      <td>0.10810</td>\n",
              "    </tr>\n",
              "    <tr>\n",
              "      <th>2</th>\n",
              "      <td>1</td>\n",
              "      <td>72</td>\n",
              "      <td>0</td>\n",
              "      <td>19.6810</td>\n",
              "      <td>28.695</td>\n",
              "      <td>35.389</td>\n",
              "      <td>0.00481</td>\n",
              "      <td>0.000025</td>\n",
              "      <td>0.00205</td>\n",
              "      <td>0.00208</td>\n",
              "      <td>0.00616</td>\n",
              "      <td>0.01675</td>\n",
              "      <td>0.181</td>\n",
              "      <td>0.00734</td>\n",
              "      <td>0.00844</td>\n",
              "      <td>0.01458</td>\n",
              "      <td>0.02202</td>\n",
              "      <td>0.020220</td>\n",
              "      <td>23.047</td>\n",
              "      <td>0.46222</td>\n",
              "      <td>0.54405</td>\n",
              "      <td>0.21014</td>\n",
              "    </tr>\n",
              "    <tr>\n",
              "      <th>3</th>\n",
              "      <td>1</td>\n",
              "      <td>72</td>\n",
              "      <td>0</td>\n",
              "      <td>25.6470</td>\n",
              "      <td>28.905</td>\n",
              "      <td>35.810</td>\n",
              "      <td>0.00528</td>\n",
              "      <td>0.000027</td>\n",
              "      <td>0.00191</td>\n",
              "      <td>0.00264</td>\n",
              "      <td>0.00573</td>\n",
              "      <td>0.02309</td>\n",
              "      <td>0.327</td>\n",
              "      <td>0.01106</td>\n",
              "      <td>0.01265</td>\n",
              "      <td>0.01963</td>\n",
              "      <td>0.03317</td>\n",
              "      <td>0.027837</td>\n",
              "      <td>24.445</td>\n",
              "      <td>0.48730</td>\n",
              "      <td>0.57794</td>\n",
              "      <td>0.33277</td>\n",
              "    </tr>\n",
              "    <tr>\n",
              "      <th>4</th>\n",
              "      <td>1</td>\n",
              "      <td>72</td>\n",
              "      <td>0</td>\n",
              "      <td>33.6420</td>\n",
              "      <td>29.187</td>\n",
              "      <td>36.375</td>\n",
              "      <td>0.00335</td>\n",
              "      <td>0.000020</td>\n",
              "      <td>0.00093</td>\n",
              "      <td>0.00130</td>\n",
              "      <td>0.00278</td>\n",
              "      <td>0.01703</td>\n",
              "      <td>0.176</td>\n",
              "      <td>0.00679</td>\n",
              "      <td>0.00929</td>\n",
              "      <td>0.01819</td>\n",
              "      <td>0.02036</td>\n",
              "      <td>0.011625</td>\n",
              "      <td>26.126</td>\n",
              "      <td>0.47188</td>\n",
              "      <td>0.56122</td>\n",
              "      <td>0.19361</td>\n",
              "    </tr>\n",
              "  </tbody>\n",
              "</table>\n",
              "</div>"
            ],
            "text/plain": [
              "   subject#  age  sex  test_time  ...     HNR     RPDE      DFA      PPE\n",
              "0         1   72    0     5.6431  ...  21.640  0.41888  0.54842  0.16006\n",
              "1         1   72    0    12.6660  ...  27.183  0.43493  0.56477  0.10810\n",
              "2         1   72    0    19.6810  ...  23.047  0.46222  0.54405  0.21014\n",
              "3         1   72    0    25.6470  ...  24.445  0.48730  0.57794  0.33277\n",
              "4         1   72    0    33.6420  ...  26.126  0.47188  0.56122  0.19361\n",
              "\n",
              "[5 rows x 22 columns]"
            ]
          },
          "metadata": {},
          "execution_count": 4
        }
      ]
    },
    {
      "cell_type": "code",
      "metadata": {
        "colab": {
          "base_uri": "https://localhost:8080/"
        },
        "id": "qkaGcWxJOR33",
        "outputId": "b62f31bf-d82a-45b2-def0-4fb32a4a6c73"
      },
      "source": [
        "df.info()"
      ],
      "execution_count": 5,
      "outputs": [
        {
          "output_type": "stream",
          "text": [
            "<class 'pandas.core.frame.DataFrame'>\n",
            "RangeIndex: 5875 entries, 0 to 5874\n",
            "Data columns (total 22 columns):\n",
            " #   Column         Non-Null Count  Dtype  \n",
            "---  ------         --------------  -----  \n",
            " 0   subject#       5875 non-null   int64  \n",
            " 1   age            5875 non-null   int64  \n",
            " 2   sex            5875 non-null   int64  \n",
            " 3   test_time      5875 non-null   float64\n",
            " 4   motor_UPDRS    5875 non-null   float64\n",
            " 5   total_UPDRS    5875 non-null   float64\n",
            " 6   Jitter(%)      5875 non-null   float64\n",
            " 7   Jitter(Abs)    5875 non-null   float64\n",
            " 8   Jitter:RAP     5875 non-null   float64\n",
            " 9   Jitter:PPQ5    5875 non-null   float64\n",
            " 10  Jitter:DDP     5875 non-null   float64\n",
            " 11  Shimmer        5875 non-null   float64\n",
            " 12  Shimmer(dB)    5875 non-null   float64\n",
            " 13  Shimmer:APQ3   5875 non-null   float64\n",
            " 14  Shimmer:APQ5   5875 non-null   float64\n",
            " 15  Shimmer:APQ11  5875 non-null   float64\n",
            " 16  Shimmer:DDA    5875 non-null   float64\n",
            " 17  NHR            5875 non-null   float64\n",
            " 18  HNR            5875 non-null   float64\n",
            " 19  RPDE           5875 non-null   float64\n",
            " 20  DFA            5875 non-null   float64\n",
            " 21  PPE            5875 non-null   float64\n",
            "dtypes: float64(19), int64(3)\n",
            "memory usage: 1009.9 KB\n"
          ],
          "name": "stdout"
        }
      ]
    },
    {
      "cell_type": "code",
      "metadata": {
        "colab": {
          "base_uri": "https://localhost:8080/"
        },
        "id": "PP7vUHVsOYyU",
        "outputId": "26e41062-83ad-4eea-ae00-e650f0449d0d"
      },
      "source": [
        "df.isnull().sum()"
      ],
      "execution_count": 6,
      "outputs": [
        {
          "output_type": "execute_result",
          "data": {
            "text/plain": [
              "subject#         0\n",
              "age              0\n",
              "sex              0\n",
              "test_time        0\n",
              "motor_UPDRS      0\n",
              "total_UPDRS      0\n",
              "Jitter(%)        0\n",
              "Jitter(Abs)      0\n",
              "Jitter:RAP       0\n",
              "Jitter:PPQ5      0\n",
              "Jitter:DDP       0\n",
              "Shimmer          0\n",
              "Shimmer(dB)      0\n",
              "Shimmer:APQ3     0\n",
              "Shimmer:APQ5     0\n",
              "Shimmer:APQ11    0\n",
              "Shimmer:DDA      0\n",
              "NHR              0\n",
              "HNR              0\n",
              "RPDE             0\n",
              "DFA              0\n",
              "PPE              0\n",
              "dtype: int64"
            ]
          },
          "metadata": {},
          "execution_count": 6
        }
      ]
    },
    {
      "cell_type": "markdown",
      "metadata": {
        "id": "_OYsTnD9P-um"
      },
      "source": [
        "No null values found in the dataset"
      ]
    },
    {
      "cell_type": "code",
      "metadata": {
        "colab": {
          "base_uri": "https://localhost:8080/",
          "height": 315
        },
        "id": "wFMsQBZiP8kg",
        "outputId": "5d32bf9d-351e-48ae-8fec-e48917d21edd"
      },
      "source": [
        "df.describe()"
      ],
      "execution_count": 7,
      "outputs": [
        {
          "output_type": "execute_result",
          "data": {
            "text/html": [
              "<div>\n",
              "<style scoped>\n",
              "    .dataframe tbody tr th:only-of-type {\n",
              "        vertical-align: middle;\n",
              "    }\n",
              "\n",
              "    .dataframe tbody tr th {\n",
              "        vertical-align: top;\n",
              "    }\n",
              "\n",
              "    .dataframe thead th {\n",
              "        text-align: right;\n",
              "    }\n",
              "</style>\n",
              "<table border=\"1\" class=\"dataframe\">\n",
              "  <thead>\n",
              "    <tr style=\"text-align: right;\">\n",
              "      <th></th>\n",
              "      <th>subject#</th>\n",
              "      <th>age</th>\n",
              "      <th>sex</th>\n",
              "      <th>test_time</th>\n",
              "      <th>motor_UPDRS</th>\n",
              "      <th>total_UPDRS</th>\n",
              "      <th>Jitter(%)</th>\n",
              "      <th>Jitter(Abs)</th>\n",
              "      <th>Jitter:RAP</th>\n",
              "      <th>Jitter:PPQ5</th>\n",
              "      <th>Jitter:DDP</th>\n",
              "      <th>Shimmer</th>\n",
              "      <th>Shimmer(dB)</th>\n",
              "      <th>Shimmer:APQ3</th>\n",
              "      <th>Shimmer:APQ5</th>\n",
              "      <th>Shimmer:APQ11</th>\n",
              "      <th>Shimmer:DDA</th>\n",
              "      <th>NHR</th>\n",
              "      <th>HNR</th>\n",
              "      <th>RPDE</th>\n",
              "      <th>DFA</th>\n",
              "      <th>PPE</th>\n",
              "    </tr>\n",
              "  </thead>\n",
              "  <tbody>\n",
              "    <tr>\n",
              "      <th>count</th>\n",
              "      <td>5875.000000</td>\n",
              "      <td>5875.000000</td>\n",
              "      <td>5875.000000</td>\n",
              "      <td>5875.000000</td>\n",
              "      <td>5875.000000</td>\n",
              "      <td>5875.000000</td>\n",
              "      <td>5875.000000</td>\n",
              "      <td>5875.000000</td>\n",
              "      <td>5875.000000</td>\n",
              "      <td>5875.000000</td>\n",
              "      <td>5875.000000</td>\n",
              "      <td>5875.000000</td>\n",
              "      <td>5875.000000</td>\n",
              "      <td>5875.000000</td>\n",
              "      <td>5875.000000</td>\n",
              "      <td>5875.000000</td>\n",
              "      <td>5875.000000</td>\n",
              "      <td>5875.000000</td>\n",
              "      <td>5875.000000</td>\n",
              "      <td>5875.000000</td>\n",
              "      <td>5875.000000</td>\n",
              "      <td>5875.000000</td>\n",
              "    </tr>\n",
              "    <tr>\n",
              "      <th>mean</th>\n",
              "      <td>21.494128</td>\n",
              "      <td>64.804936</td>\n",
              "      <td>0.317787</td>\n",
              "      <td>92.863722</td>\n",
              "      <td>21.296229</td>\n",
              "      <td>29.018942</td>\n",
              "      <td>0.006154</td>\n",
              "      <td>0.000044</td>\n",
              "      <td>0.002987</td>\n",
              "      <td>0.003277</td>\n",
              "      <td>0.008962</td>\n",
              "      <td>0.034035</td>\n",
              "      <td>0.310960</td>\n",
              "      <td>0.017156</td>\n",
              "      <td>0.020144</td>\n",
              "      <td>0.027481</td>\n",
              "      <td>0.051467</td>\n",
              "      <td>0.032120</td>\n",
              "      <td>21.679495</td>\n",
              "      <td>0.541473</td>\n",
              "      <td>0.653240</td>\n",
              "      <td>0.219589</td>\n",
              "    </tr>\n",
              "    <tr>\n",
              "      <th>std</th>\n",
              "      <td>12.372279</td>\n",
              "      <td>8.821524</td>\n",
              "      <td>0.465656</td>\n",
              "      <td>53.445602</td>\n",
              "      <td>8.129282</td>\n",
              "      <td>10.700283</td>\n",
              "      <td>0.005624</td>\n",
              "      <td>0.000036</td>\n",
              "      <td>0.003124</td>\n",
              "      <td>0.003732</td>\n",
              "      <td>0.009371</td>\n",
              "      <td>0.025835</td>\n",
              "      <td>0.230254</td>\n",
              "      <td>0.013237</td>\n",
              "      <td>0.016664</td>\n",
              "      <td>0.019986</td>\n",
              "      <td>0.039711</td>\n",
              "      <td>0.059692</td>\n",
              "      <td>4.291096</td>\n",
              "      <td>0.100986</td>\n",
              "      <td>0.070902</td>\n",
              "      <td>0.091498</td>\n",
              "    </tr>\n",
              "    <tr>\n",
              "      <th>min</th>\n",
              "      <td>1.000000</td>\n",
              "      <td>36.000000</td>\n",
              "      <td>0.000000</td>\n",
              "      <td>-4.262500</td>\n",
              "      <td>5.037700</td>\n",
              "      <td>7.000000</td>\n",
              "      <td>0.000830</td>\n",
              "      <td>0.000002</td>\n",
              "      <td>0.000330</td>\n",
              "      <td>0.000430</td>\n",
              "      <td>0.000980</td>\n",
              "      <td>0.003060</td>\n",
              "      <td>0.026000</td>\n",
              "      <td>0.001610</td>\n",
              "      <td>0.001940</td>\n",
              "      <td>0.002490</td>\n",
              "      <td>0.004840</td>\n",
              "      <td>0.000286</td>\n",
              "      <td>1.659000</td>\n",
              "      <td>0.151020</td>\n",
              "      <td>0.514040</td>\n",
              "      <td>0.021983</td>\n",
              "    </tr>\n",
              "    <tr>\n",
              "      <th>25%</th>\n",
              "      <td>10.000000</td>\n",
              "      <td>58.000000</td>\n",
              "      <td>0.000000</td>\n",
              "      <td>46.847500</td>\n",
              "      <td>15.000000</td>\n",
              "      <td>21.371000</td>\n",
              "      <td>0.003580</td>\n",
              "      <td>0.000022</td>\n",
              "      <td>0.001580</td>\n",
              "      <td>0.001820</td>\n",
              "      <td>0.004730</td>\n",
              "      <td>0.019120</td>\n",
              "      <td>0.175000</td>\n",
              "      <td>0.009280</td>\n",
              "      <td>0.010790</td>\n",
              "      <td>0.015665</td>\n",
              "      <td>0.027830</td>\n",
              "      <td>0.010955</td>\n",
              "      <td>19.406000</td>\n",
              "      <td>0.469785</td>\n",
              "      <td>0.596180</td>\n",
              "      <td>0.156340</td>\n",
              "    </tr>\n",
              "    <tr>\n",
              "      <th>50%</th>\n",
              "      <td>22.000000</td>\n",
              "      <td>65.000000</td>\n",
              "      <td>0.000000</td>\n",
              "      <td>91.523000</td>\n",
              "      <td>20.871000</td>\n",
              "      <td>27.576000</td>\n",
              "      <td>0.004900</td>\n",
              "      <td>0.000035</td>\n",
              "      <td>0.002250</td>\n",
              "      <td>0.002490</td>\n",
              "      <td>0.006750</td>\n",
              "      <td>0.027510</td>\n",
              "      <td>0.253000</td>\n",
              "      <td>0.013700</td>\n",
              "      <td>0.015940</td>\n",
              "      <td>0.022710</td>\n",
              "      <td>0.041110</td>\n",
              "      <td>0.018448</td>\n",
              "      <td>21.920000</td>\n",
              "      <td>0.542250</td>\n",
              "      <td>0.643600</td>\n",
              "      <td>0.205500</td>\n",
              "    </tr>\n",
              "    <tr>\n",
              "      <th>75%</th>\n",
              "      <td>33.000000</td>\n",
              "      <td>72.000000</td>\n",
              "      <td>1.000000</td>\n",
              "      <td>138.445000</td>\n",
              "      <td>27.596500</td>\n",
              "      <td>36.399000</td>\n",
              "      <td>0.006800</td>\n",
              "      <td>0.000053</td>\n",
              "      <td>0.003290</td>\n",
              "      <td>0.003460</td>\n",
              "      <td>0.009870</td>\n",
              "      <td>0.039750</td>\n",
              "      <td>0.365000</td>\n",
              "      <td>0.020575</td>\n",
              "      <td>0.023755</td>\n",
              "      <td>0.032715</td>\n",
              "      <td>0.061735</td>\n",
              "      <td>0.031463</td>\n",
              "      <td>24.444000</td>\n",
              "      <td>0.614045</td>\n",
              "      <td>0.711335</td>\n",
              "      <td>0.264490</td>\n",
              "    </tr>\n",
              "    <tr>\n",
              "      <th>max</th>\n",
              "      <td>42.000000</td>\n",
              "      <td>85.000000</td>\n",
              "      <td>1.000000</td>\n",
              "      <td>215.490000</td>\n",
              "      <td>39.511000</td>\n",
              "      <td>54.992000</td>\n",
              "      <td>0.099990</td>\n",
              "      <td>0.000446</td>\n",
              "      <td>0.057540</td>\n",
              "      <td>0.069560</td>\n",
              "      <td>0.172630</td>\n",
              "      <td>0.268630</td>\n",
              "      <td>2.107000</td>\n",
              "      <td>0.162670</td>\n",
              "      <td>0.167020</td>\n",
              "      <td>0.275460</td>\n",
              "      <td>0.488020</td>\n",
              "      <td>0.748260</td>\n",
              "      <td>37.875000</td>\n",
              "      <td>0.966080</td>\n",
              "      <td>0.865600</td>\n",
              "      <td>0.731730</td>\n",
              "    </tr>\n",
              "  </tbody>\n",
              "</table>\n",
              "</div>"
            ],
            "text/plain": [
              "          subject#          age  ...          DFA          PPE\n",
              "count  5875.000000  5875.000000  ...  5875.000000  5875.000000\n",
              "mean     21.494128    64.804936  ...     0.653240     0.219589\n",
              "std      12.372279     8.821524  ...     0.070902     0.091498\n",
              "min       1.000000    36.000000  ...     0.514040     0.021983\n",
              "25%      10.000000    58.000000  ...     0.596180     0.156340\n",
              "50%      22.000000    65.000000  ...     0.643600     0.205500\n",
              "75%      33.000000    72.000000  ...     0.711335     0.264490\n",
              "max      42.000000    85.000000  ...     0.865600     0.731730\n",
              "\n",
              "[8 rows x 22 columns]"
            ]
          },
          "metadata": {},
          "execution_count": 7
        }
      ]
    },
    {
      "cell_type": "markdown",
      "metadata": {
        "id": "t8i_Hy4vQkgo"
      },
      "source": [
        "Here we can see a weird discrepancy in the data. The min value of \"test_time\" is negative. \n",
        "\n",
        "From the UCI ML Repository, the description of \"test_time\" is as follows: \"Time since recruitment into the trial. The integer part is the number of days since recruitment.\"\n",
        "\n",
        "How can that be negative for a patient?"
      ]
    },
    {
      "cell_type": "code",
      "metadata": {
        "colab": {
          "base_uri": "https://localhost:8080/"
        },
        "id": "y4-od6MBQDJ1",
        "outputId": "e6898820-f7bf-4907-b81d-5e94f92fa14a"
      },
      "source": [
        "df[df['test_time'] < 0].count()"
      ],
      "execution_count": 8,
      "outputs": [
        {
          "output_type": "execute_result",
          "data": {
            "text/plain": [
              "subject#         12\n",
              "age              12\n",
              "sex              12\n",
              "test_time        12\n",
              "motor_UPDRS      12\n",
              "total_UPDRS      12\n",
              "Jitter(%)        12\n",
              "Jitter(Abs)      12\n",
              "Jitter:RAP       12\n",
              "Jitter:PPQ5      12\n",
              "Jitter:DDP       12\n",
              "Shimmer          12\n",
              "Shimmer(dB)      12\n",
              "Shimmer:APQ3     12\n",
              "Shimmer:APQ5     12\n",
              "Shimmer:APQ11    12\n",
              "Shimmer:DDA      12\n",
              "NHR              12\n",
              "HNR              12\n",
              "RPDE             12\n",
              "DFA              12\n",
              "PPE              12\n",
              "dtype: int64"
            ]
          },
          "metadata": {},
          "execution_count": 8
        }
      ]
    },
    {
      "cell_type": "markdown",
      "metadata": {
        "id": "Xg_iDKerROKH"
      },
      "source": [
        "We have 12 such entries that have a negative \"test_time\". It is better to drop these entries to avoid confusion for the models."
      ]
    },
    {
      "cell_type": "code",
      "metadata": {
        "id": "zQfZu9_qS_C-"
      },
      "source": [
        "df = df[df['test_time'] > 0]"
      ],
      "execution_count": 9,
      "outputs": []
    },
    {
      "cell_type": "markdown",
      "metadata": {
        "id": "RdnlEpzZah3Z"
      },
      "source": [
        "## Correlation Matrix"
      ]
    },
    {
      "cell_type": "code",
      "metadata": {
        "colab": {
          "base_uri": "https://localhost:8080/",
          "height": 943
        },
        "id": "qanFVb_kaO5g",
        "outputId": "76f65cb1-bc54-4ffc-ce5d-c70566bf21a4"
      },
      "source": [
        "plt.figure(figsize=(20,15))\n",
        "sns.heatmap(df.corr(), annot=True, cmap='Blues')"
      ],
      "execution_count": 10,
      "outputs": [
        {
          "output_type": "execute_result",
          "data": {
            "text/plain": [
              "<matplotlib.axes._subplots.AxesSubplot at 0x7fd23238b110>"
            ]
          },
          "metadata": {},
          "execution_count": 10
        },
        {
          "output_type": "display_data",
          "data": {
            "image/png": "[encoded data removed]",
            "text/plain": [
              "<Figure size 1440x1080 with 2 Axes>"
            ]
          },
          "metadata": {
            "needs_background": "light"
          }
        }
      ]
    },
    {
      "cell_type": "markdown",
      "metadata": {
        "id": "G02gGuxqf8DO"
      },
      "source": [
        "As we can see, the data is highly correlated. Let us use Principal Component Analysis to narrow down the correlated features."
      ]
    },
    {
      "cell_type": "markdown",
      "metadata": {
        "id": "HOCubl76gJjF"
      },
      "source": [
        "## PCA"
      ]
    },
    {
      "cell_type": "code",
      "metadata": {
        "id": "ZM2nKqkYartp"
      },
      "source": [
        "data = df.copy()"
      ],
      "execution_count": 366,
      "outputs": []
    },
    {
      "cell_type": "markdown",
      "metadata": {
        "id": "lv8es403gQT3"
      },
      "source": [
        "Let us drop \"subject#\" from the dataset entirely as it not useful for our model. \n",
        "\n",
        "Let us also seperate the target variables before applying PCA."
      ]
    },
    {
      "cell_type": "code",
      "metadata": {
        "id": "U3JCkckogMHA"
      },
      "source": [
        "data.drop(['subject#'], axis=1, inplace=True)"
      ],
      "execution_count": 367,
      "outputs": []
    },
    {
      "cell_type": "code",
      "metadata": {
        "id": "P3cCdbjrglM1"
      },
      "source": [
        "y1 = data['motor_UPDRS']\n",
        "y2 = data['total_UPDRS']\n",
        "data.drop(['motor_UPDRS', 'total_UPDRS'], axis=1, inplace=True)"
      ],
      "execution_count": 368,
      "outputs": []
    },
    {
      "cell_type": "markdown",
      "metadata": {
        "id": "ZffrGcbPm3na"
      },
      "source": [
        "## Splitting the data into Training and Test Set"
      ]
    },
    {
      "cell_type": "code",
      "metadata": {
        "id": "2Ho0ffFYm9pb"
      },
      "source": [
        "x1_train, x1_test, y1_train, y1_test = train_test_split(data, y1, test_size=0.2, random_state=42)\n",
        "x2_train, x2_test, y2_train, y2_test = train_test_split(data, y2, test_size=0.2, random_state=42)"
      ],
      "execution_count": 369,
      "outputs": []
    },
    {
      "cell_type": "markdown",
      "metadata": {
        "id": "0lQEaG1KhRt2"
      },
      "source": [
        "I will use x1_train to perform PCA tests."
      ]
    },
    {
      "cell_type": "code",
      "metadata": {
        "id": "eLq1J1EuhyMZ"
      },
      "source": [
        "pca = PCA(n_components=14)\n",
        "principal_components = pca.fit_transform(data)"
      ],
      "execution_count": 370,
      "outputs": []
    },
    {
      "cell_type": "code",
      "metadata": {
        "id": "8LPuyPGgiuvP"
      },
      "source": [
        "pca_df = pd.DataFrame(principal_components, columns=['PCA1','PCA2','PCA3','PCA4','PCA5','PCA6','PCA7','PCA8','PCA9','PCA10','PCA11','PCA12','PCA13','PCA14'])"
      ],
      "execution_count": 371,
      "outputs": []
    },
    {
      "cell_type": "code",
      "metadata": {
        "colab": {
          "base_uri": "https://localhost:8080/",
          "height": 203
        },
        "id": "ncDDPMCei7--",
        "outputId": "bd83b5cf-a885-44ac-82c5-a05d83546c8c"
      },
      "source": [
        "pca_df.head()"
      ],
      "execution_count": 372,
      "outputs": [
        {
          "output_type": "execute_result",
          "data": {
            "text/html": [
              "<div>\n",
              "<style scoped>\n",
              "    .dataframe tbody tr th:only-of-type {\n",
              "        vertical-align: middle;\n",
              "    }\n",
              "\n",
              "    .dataframe tbody tr th {\n",
              "        vertical-align: top;\n",
              "    }\n",
              "\n",
              "    .dataframe thead th {\n",
              "        text-align: right;\n",
              "    }\n",
              "</style>\n",
              "<table border=\"1\" class=\"dataframe\">\n",
              "  <thead>\n",
              "    <tr style=\"text-align: right;\">\n",
              "      <th></th>\n",
              "      <th>PCA1</th>\n",
              "      <th>PCA2</th>\n",
              "      <th>PCA3</th>\n",
              "      <th>PCA4</th>\n",
              "      <th>PCA5</th>\n",
              "      <th>PCA6</th>\n",
              "      <th>PCA7</th>\n",
              "      <th>PCA8</th>\n",
              "      <th>PCA9</th>\n",
              "      <th>PCA10</th>\n",
              "      <th>PCA11</th>\n",
              "      <th>PCA12</th>\n",
              "      <th>PCA13</th>\n",
              "      <th>PCA14</th>\n",
              "    </tr>\n",
              "  </thead>\n",
              "  <tbody>\n",
              "    <tr>\n",
              "      <th>0</th>\n",
              "      <td>-87.395804</td>\n",
              "      <td>-7.420439</td>\n",
              "      <td>-0.726184</td>\n",
              "      <td>-0.305428</td>\n",
              "      <td>-0.061443</td>\n",
              "      <td>-0.145538</td>\n",
              "      <td>-0.117522</td>\n",
              "      <td>-0.039417</td>\n",
              "      <td>-0.005717</td>\n",
              "      <td>0.004253</td>\n",
              "      <td>-0.005202</td>\n",
              "      <td>0.007683</td>\n",
              "      <td>-0.000184</td>\n",
              "      <td>0.000895</td>\n",
              "    </tr>\n",
              "    <tr>\n",
              "      <th>1</th>\n",
              "      <td>-80.356512</td>\n",
              "      <td>-7.029604</td>\n",
              "      <td>-6.230253</td>\n",
              "      <td>-0.300305</td>\n",
              "      <td>0.123614</td>\n",
              "      <td>-0.029321</td>\n",
              "      <td>-0.056080</td>\n",
              "      <td>-0.010225</td>\n",
              "      <td>0.015743</td>\n",
              "      <td>0.000700</td>\n",
              "      <td>0.001452</td>\n",
              "      <td>0.001396</td>\n",
              "      <td>-0.000623</td>\n",
              "      <td>0.000759</td>\n",
              "    </tr>\n",
              "    <tr>\n",
              "      <th>2</th>\n",
              "      <td>-73.353852</td>\n",
              "      <td>-7.286398</td>\n",
              "      <td>-2.084574</td>\n",
              "      <td>-0.306433</td>\n",
              "      <td>-0.051730</td>\n",
              "      <td>-0.065026</td>\n",
              "      <td>-0.080630</td>\n",
              "      <td>-0.084761</td>\n",
              "      <td>-0.003402</td>\n",
              "      <td>-0.005916</td>\n",
              "      <td>-0.003816</td>\n",
              "      <td>0.000107</td>\n",
              "      <td>-0.000292</td>\n",
              "      <td>0.000044</td>\n",
              "    </tr>\n",
              "    <tr>\n",
              "      <th>3</th>\n",
              "      <td>-67.383779</td>\n",
              "      <td>-7.176695</td>\n",
              "      <td>-3.449752</td>\n",
              "      <td>-0.303573</td>\n",
              "      <td>0.151028</td>\n",
              "      <td>0.019233</td>\n",
              "      <td>0.044212</td>\n",
              "      <td>-0.143779</td>\n",
              "      <td>-0.033837</td>\n",
              "      <td>-0.014053</td>\n",
              "      <td>-0.013288</td>\n",
              "      <td>-0.008359</td>\n",
              "      <td>-0.001464</td>\n",
              "      <td>-0.003801</td>\n",
              "    </tr>\n",
              "    <tr>\n",
              "      <th>4</th>\n",
              "      <td>-59.383841</td>\n",
              "      <td>-7.040801</td>\n",
              "      <td>-5.108805</td>\n",
              "      <td>-0.302410</td>\n",
              "      <td>0.073341</td>\n",
              "      <td>0.003149</td>\n",
              "      <td>-0.031279</td>\n",
              "      <td>-0.068282</td>\n",
              "      <td>-0.002099</td>\n",
              "      <td>-0.006452</td>\n",
              "      <td>0.001422</td>\n",
              "      <td>-0.001590</td>\n",
              "      <td>-0.000216</td>\n",
              "      <td>0.000102</td>\n",
              "    </tr>\n",
              "  </tbody>\n",
              "</table>\n",
              "</div>"
            ],
            "text/plain": [
              "        PCA1      PCA2      PCA3  ...     PCA12     PCA13     PCA14\n",
              "0 -87.395804 -7.420439 -0.726184  ...  0.007683 -0.000184  0.000895\n",
              "1 -80.356512 -7.029604 -6.230253  ...  0.001396 -0.000623  0.000759\n",
              "2 -73.353852 -7.286398 -2.084574  ...  0.000107 -0.000292  0.000044\n",
              "3 -67.383779 -7.176695 -3.449752  ... -0.008359 -0.001464 -0.003801\n",
              "4 -59.383841 -7.040801 -5.108805  ... -0.001590 -0.000216  0.000102\n",
              "\n",
              "[5 rows x 14 columns]"
            ]
          },
          "metadata": {},
          "execution_count": 372
        }
      ]
    },
    {
      "cell_type": "markdown",
      "metadata": {
        "id": "HKleCMESjMzS"
      },
      "source": [
        "Plotting a Scree plot to perform the Elbow method to find the ideal components of PCA"
      ]
    },
    {
      "cell_type": "code",
      "metadata": {
        "colab": {
          "base_uri": "https://localhost:8080/",
          "height": 295
        },
        "id": "h9frn-Pli9F-",
        "outputId": "36720f67-a32c-419a-bee2-da5967a5c46b"
      },
      "source": [
        "PC_values = np.arange(pca.n_components_) + 1\n",
        "plt.plot(PC_values, pca.explained_variance_ratio_, 'ro-', linewidth=2)\n",
        "plt.title('Scree Plot')\n",
        "plt.xlabel('Principal Component')\n",
        "plt.ylabel('Proportion of Variance Explained')\n",
        "plt.show()"
      ],
      "execution_count": 373,
      "outputs": [
        {
          "output_type": "display_data",
          "data": {
            "image/png": "[encoded data removed]",
            "text/plain": [
              "<Figure size 432x288 with 1 Axes>"
            ]
          },
          "metadata": {
            "needs_background": "light"
          }
        }
      ]
    },
    {
      "cell_type": "code",
      "metadata": {
        "colab": {
          "base_uri": "https://localhost:8080/"
        },
        "id": "tVodm_pwjd-O",
        "outputId": "efa3d9c8-b115-489b-b439-9bdd050cb05a"
      },
      "source": [
        "print(pca.explained_variance_)"
      ],
      "execution_count": 374,
      "outputs": [
        {
          "output_type": "stream",
          "text": [
            "[2.84316873e+03 7.81730907e+01 1.81791690e+01 2.17453979e-01\n",
            " 2.05138259e-02 5.55632337e-03 5.02483651e-03 2.68092818e-03\n",
            " 1.00518116e-03 1.03934678e-04 4.52955553e-05 3.22145711e-05\n",
            " 6.80769578e-06 3.37466484e-06]\n"
          ],
          "name": "stdout"
        }
      ]
    },
    {
      "cell_type": "markdown",
      "metadata": {
        "id": "gWj_9ChmkRpI"
      },
      "source": [
        "Hence we decide to keep 8 Principal Components as from the 9th value onwards, the Eigen Values are tending to 0."
      ]
    },
    {
      "cell_type": "markdown",
      "metadata": {
        "id": "hhCiRORUq249"
      },
      "source": [
        "The reason we seperated the data into training and test set so early is due avoid information leakage and overfitting of our model. \n",
        "\n",
        "The model should never have seen the test data to evaluate it's performance accurately."
      ]
    },
    {
      "cell_type": "code",
      "metadata": {
        "id": "fJebMamyq2E8"
      },
      "source": [
        "pca1 = PCA(n_components=8, random_state=42)\n",
        "pca2 = PCA(n_components=8, random_state=42)\n",
        "x1_train = pca1.fit_transform(x1_train)\n",
        "x1_test = pca1.transform(x1_test)\n",
        "\n",
        "x2_train = pca2.fit_transform(x2_train)\n",
        "x2_test = pca2.transform(x2_test)"
      ],
      "execution_count": 375,
      "outputs": []
    },
    {
      "cell_type": "markdown",
      "metadata": {
        "id": "8g6u2xzFrpyn"
      },
      "source": [
        "Our data is ready to be fitted into Regression Models."
      ]
    },
    {
      "cell_type": "markdown",
      "metadata": {
        "id": "ls6ez-J4tDak"
      },
      "source": [
        "## Function for Evaluating Model Performance"
      ]
    },
    {
      "cell_type": "code",
      "metadata": {
        "id": "FG5pxRcmtHYK"
      },
      "source": [
        "def score(y_pred,y_test):\n",
        "    mae = mean_absolute_error(y_test,y_pred)\n",
        "    mse = mean_squared_error(y_test,y_pred)\n",
        "    r2 = r2_score(y_test,y_pred)*100\n",
        "    print(\"Mean Absolute Error: \", mae)\n",
        "    print(\"Mean Squared Error: \", mse)\n",
        "    print(\"R2 score: \", r2,)\n",
        "    return (mae, mse, r2)"
      ],
      "execution_count": 376,
      "outputs": []
    },
    {
      "cell_type": "markdown",
      "metadata": {
        "id": "cRBVVYRArxcH"
      },
      "source": [
        "# Models"
      ]
    },
    {
      "cell_type": "markdown",
      "metadata": {
        "id": "ALgzx-v1uBKH"
      },
      "source": [
        "## Y1 Variabale: motor_UPDRS"
      ]
    },
    {
      "cell_type": "markdown",
      "metadata": {
        "id": "UgF-cMC_0kaD"
      },
      "source": [
        "### Decision Tree Regression"
      ]
    },
    {
      "cell_type": "code",
      "metadata": {
        "id": "nKSKM_eY0aq5"
      },
      "source": [
        "dt_reg1 = DecisionTreeRegressor()\n",
        "dt_reg1.fit(x1_train, y1_train)\n",
        "y_dt_pred1 = dt_reg1.predict(x1_test)"
      ],
      "execution_count": 384,
      "outputs": []
    },
    {
      "cell_type": "code",
      "metadata": {
        "colab": {
          "base_uri": "https://localhost:8080/"
        },
        "id": "tsqvtmcN2EkV",
        "outputId": "465e8cf5-11e1-4dec-8897-240f40247b63"
      },
      "source": [
        "dt_mae1, dt_mse1, dt_r21 = score(y1_test, y_dt_pred1)"
      ],
      "execution_count": 385,
      "outputs": [
        {
          "output_type": "stream",
          "text": [
            "Mean Absolute Error:  0.942073516624041\n",
            "Mean Squared Error:  9.442047170143377\n",
            "R2 score:  85.52014600999942\n"
          ],
          "name": "stdout"
        }
      ]
    },
    {
      "cell_type": "markdown",
      "metadata": {
        "id": "nd3eVWvB2NwG"
      },
      "source": [
        "### Random Forrest Regression"
      ]
    },
    {
      "cell_type": "code",
      "metadata": {
        "id": "mkchFCFl2KDl"
      },
      "source": [
        "rf_reg1 = RandomForestRegressor()\n",
        "rf_reg1.fit(x1_train, y1_train)\n",
        "y_rf_pred1 = rf_reg1.predict(x1_test)"
      ],
      "execution_count": 386,
      "outputs": []
    },
    {
      "cell_type": "code",
      "metadata": {
        "colab": {
          "base_uri": "https://localhost:8080/"
        },
        "id": "P0MPLsm32k6Y",
        "outputId": "2e3b10b6-feac-487d-e057-592ebcc62e67"
      },
      "source": [
        "rf_mae1, rf_mse1, rf_r21 = score(y1_test, y_rf_pred1)"
      ],
      "execution_count": 387,
      "outputs": [
        {
          "output_type": "stream",
          "text": [
            "Mean Absolute Error:  0.9136763593210668\n",
            "Mean Squared Error:  4.275667321545525\n",
            "R2 score:  92.65658721935115\n"
          ],
          "name": "stdout"
        }
      ]
    },
    {
      "cell_type": "markdown",
      "metadata": {
        "id": "w6KjYIR92u8z"
      },
      "source": [
        "### XGBoost Regression"
      ]
    },
    {
      "cell_type": "code",
      "metadata": {
        "id": "q21oMQLp2pDm"
      },
      "source": [
        "xgb_reg1 = XGBRegressor(objective='reg:squarederror')\n",
        "xgb_reg1.fit(x1_train, y1_train)\n",
        "y_xgb_pred1 = xgb_reg1.predict(x1_test)"
      ],
      "execution_count": 388,
      "outputs": []
    },
    {
      "cell_type": "code",
      "metadata": {
        "colab": {
          "base_uri": "https://localhost:8080/"
        },
        "id": "phZmJTBv3L0-",
        "outputId": "b68811e8-d97f-419b-beb8-6fe49770f86e"
      },
      "source": [
        "xgb_mae1, xgb_mse1, xgb_r21 = score(y1_test, y_xgb_pred1)"
      ],
      "execution_count": 389,
      "outputs": [
        {
          "output_type": "stream",
          "text": [
            "Mean Absolute Error:  3.1709770370008594\n",
            "Mean Squared Error:  16.565637525423284\n",
            "R2 score:  52.28754253207616\n"
          ],
          "name": "stdout"
        }
      ]
    },
    {
      "cell_type": "markdown",
      "metadata": {
        "id": "fOgPc2uY3j80"
      },
      "source": [
        "## Comparing Model1 Performance"
      ]
    },
    {
      "cell_type": "code",
      "metadata": {
        "id": "4Y8zdVvJ3giP"
      },
      "source": [
        "model_mae1 = [dt_mae1, rf_mae1, xgb_mae1]\n",
        "model_mse1 = [dt_mse1, rf_mse1, xgb_mse1]\n",
        "model_r21 = [dt_r21, rf_r21, xgb_r21]\n",
        "models=[\"Decision Tree\", \"Random Forrest\", \"XGBoost\"]"
      ],
      "execution_count": 390,
      "outputs": []
    },
    {
      "cell_type": "code",
      "metadata": {
        "colab": {
          "base_uri": "https://localhost:8080/",
          "height": 584
        },
        "id": "vSNUeAvx4sqD",
        "outputId": "8bdf72e0-b842-4001-b113-936b1b34b598"
      },
      "source": [
        "plt.figure(figsize=(12,9))\n",
        "ax = sns.barplot(x=models, y=model_mae1)\n",
        "for p in ax.patches:\n",
        "  height = p.get_height()\n",
        "  ax.text(p.get_x() + p.get_width()/2.,\n",
        "          height+0.01,\n",
        "          '{:1.3f}'.format(height),\n",
        "          ha='center')\n",
        "  \n",
        "plt.ylabel('Model1 Mean Absolute Error')\n",
        "plt.xlabel('Model Name')\n",
        "plt.title('Comparing Model1 MAE(Test Set)')"
      ],
      "execution_count": 391,
      "outputs": [
        {
          "output_type": "execute_result",
          "data": {
            "text/plain": [
              "Text(0.5, 1.0, 'Comparing Model1 MAE(Test Set)')"
            ]
          },
          "metadata": {},
          "execution_count": 391
        },
        {
          "output_type": "display_data",
          "data": {
            "image/png": "[encoded data removed]",
            "text/plain": [
              "<Figure size 864x648 with 1 Axes>"
            ]
          },
          "metadata": {
            "needs_background": "light"
          }
        }
      ]
    },
    {
      "cell_type": "code",
      "metadata": {
        "colab": {
          "base_uri": "https://localhost:8080/",
          "height": 584
        },
        "id": "-NSNcQg26Uzr",
        "outputId": "bd01a07f-32e3-48f5-f709-c19aa2dd696d"
      },
      "source": [
        "plt.figure(figsize=(12,9))\n",
        "ax = sns.barplot(x=models, y=model_mse1)\n",
        "for p in ax.patches:\n",
        "  height = p.get_height()\n",
        "  ax.text(p.get_x() + p.get_width()/2.,\n",
        "          height+0.1,\n",
        "          '{:1.3f}'.format(height),\n",
        "          ha='center')\n",
        "  \n",
        "plt.ylabel('Model1 Mean Squared Error')\n",
        "plt.xlabel('Model Name')\n",
        "plt.title('Comparing Model1 MSE(Test Set)')"
      ],
      "execution_count": 392,
      "outputs": [
        {
          "output_type": "execute_result",
          "data": {
            "text/plain": [
              "Text(0.5, 1.0, 'Comparing Model1 MSE(Test Set)')"
            ]
          },
          "metadata": {},
          "execution_count": 392
        },
        {
          "output_type": "display_data",
          "data": {
            "image/png": "[encoded data removed]",
            "text/plain": [
              "<Figure size 864x648 with 1 Axes>"
            ]
          },
          "metadata": {
            "needs_background": "light"
          }
        }
      ]
    },
    {
      "cell_type": "code",
      "metadata": {
        "colab": {
          "base_uri": "https://localhost:8080/",
          "height": 584
        },
        "id": "1_dxbPm26lik",
        "outputId": "71932dbe-25fa-4eac-81a1-93af3e2bfcb7"
      },
      "source": [
        "plt.figure(figsize=(12,9))\n",
        "ax = sns.barplot(x=models, y=model_r21)\n",
        "for p in ax.patches:\n",
        "  height = p.get_height()\n",
        "  ax.text(p.get_x() + p.get_width()/2.,\n",
        "          height + 1,\n",
        "          '{:1.3f}%'.format(height),\n",
        "          ha='center')\n",
        "  \n",
        "plt.ylabel('Model1 R2 Score')\n",
        "plt.xlabel('Model Name')\n",
        "plt.title('Comparing Model1 R2 Score(Test Set)')"
      ],
      "execution_count": 393,
      "outputs": [
        {
          "output_type": "execute_result",
          "data": {
            "text/plain": [
              "Text(0.5, 1.0, 'Comparing Model1 R2 Score(Test Set)')"
            ]
          },
          "metadata": {},
          "execution_count": 393
        },
        {
          "output_type": "display_data",
          "data": {
            "image/png": "[encoded data removed]",
            "text/plain": [
              "<Figure size 864x648 with 1 Axes>"
            ]
          },
          "metadata": {
            "needs_background": "light"
          }
        }
      ]
    },
    {
      "cell_type": "markdown",
      "metadata": {
        "id": "NmAitQSkPZmm"
      },
      "source": [
        "### Performing Cross Validation for our models."
      ]
    },
    {
      "cell_type": "markdown",
      "metadata": {
        "id": "XtHmKRQnQ498"
      },
      "source": [
        "#### R2 Score"
      ]
    },
    {
      "cell_type": "code",
      "metadata": {
        "id": "Fh_guuXnPRqZ"
      },
      "source": [
        "dt_cv1 = cross_val_score(dt_reg1,x1_train, y1_train, cv=10, scoring='r2')\n",
        "rf_cv1 = cross_val_score(rf_reg1,x1_train, y1_train, cv=10, scoring='r2')\n",
        "xgb_cv1 = cross_val_score(xgb_reg1,x1_train, y1_train, cv=10, scoring='r2')"
      ],
      "execution_count": 394,
      "outputs": []
    },
    {
      "cell_type": "code",
      "metadata": {
        "colab": {
          "base_uri": "https://localhost:8080/"
        },
        "id": "JcbveJ2PPRs4",
        "outputId": "68fd21f0-8cc5-4441-c1bf-3b4ee54a698d"
      },
      "source": [
        "print(\"Cross Validation Score for Decision Tree Regression is: {:1.3f} +- {:1.3f}\".format(dt_cv1.mean()*100, dt_cv1.std()*100))\n",
        "print(\"Cross Validation Score for Random Forrest Regression is: {:1.3f} +- {:1.3f}\".format(rf_cv1.mean()*100, rf_cv1.std()*100))\n",
        "print(\"Cross Validation Score for XGBoost Model is: {:1.3f} +- {:1.3f}\".format(xgb_cv1.mean()*100, xgb_cv1.std()*100))"
      ],
      "execution_count": 427,
      "outputs": [
        {
          "output_type": "stream",
          "text": [
            "Cross Validation Score for Decision Tree Regression is: 85.034 +- 4.941\n",
            "Cross Validation Score for Random Forrest Regression is: 93.534 +- 1.967\n",
            "Cross Validation Score for XGBoost Model is: 75.069 +- 1.807\n"
          ],
          "name": "stdout"
        }
      ]
    },
    {
      "cell_type": "markdown",
      "metadata": {
        "id": "jZYIvzBk_eUY"
      },
      "source": [
        "#### Thus Random Forrest Regression is the best model for Y1 Variable(motor_UPDRS) with a **MAE of 0.914 and R2 score of 93.5%**"
      ]
    },
    {
      "cell_type": "markdown",
      "metadata": {
        "id": "dZuVZ2ntCbiZ"
      },
      "source": [
        "## Y2 Variable: total_UPDRS"
      ]
    },
    {
      "cell_type": "markdown",
      "metadata": {
        "id": "WuR6mU8RACmc"
      },
      "source": [
        "The Correlation Matrix gave us an interesting insight. \"motor_UPDRS\" and \"total_UPDRS\" are highly correlated(0.95)."
      ]
    },
    {
      "cell_type": "markdown",
      "metadata": {
        "id": "AFWwedb2Cs2j"
      },
      "source": [
        "In our current dataset, we already have the recorded data of \"motor_UPDRS\". But for future predictions, that might not be the case.\n",
        "\n",
        "Hence we can use feature engineering to get a new highly correlated feature using our Model 1 for the \"total_UPDRS\" prediction."
      ]
    },
    {
      "cell_type": "markdown",
      "metadata": {
        "id": "RCUyigDrEKUk"
      },
      "source": [
        "We will use Random Forrest predictions as the new feature for our Model 2 as it was the best performing model."
      ]
    },
    {
      "cell_type": "markdown",
      "metadata": {
        "id": "3fFOofKcJQUC"
      },
      "source": [
        "### Adding the \"motor_UPDRS\" values predicted by our Model 1 to the second training and test set."
      ]
    },
    {
      "cell_type": "code",
      "metadata": {
        "id": "MSQzNfTg-HU8"
      },
      "source": [
        "motor_train = rf_reg1.predict(x1_train)\n",
        "motor_test = rf_reg1.predict(x1_test)"
      ],
      "execution_count": 396,
      "outputs": []
    },
    {
      "cell_type": "code",
      "metadata": {
        "id": "gEbjEr-aGMae"
      },
      "source": [
        "x2_train = pd.DataFrame(x2_train, columns = ['PCA1', 'PCA2', 'PCA3', 'PCA4','PCA5', 'PCA6', 'PCA7', 'PCA8'])"
      ],
      "execution_count": 397,
      "outputs": []
    },
    {
      "cell_type": "code",
      "metadata": {
        "id": "kiIgKzSsHtF7"
      },
      "source": [
        "x2_test = pd.DataFrame(x2_test, columns = ['PCA1', 'PCA2', 'PCA3', 'PCA4','PCA5', 'PCA6', 'PCA7', 'PCA8'])"
      ],
      "execution_count": 398,
      "outputs": []
    },
    {
      "cell_type": "code",
      "metadata": {
        "id": "r3xDliBwI2iA"
      },
      "source": [
        "x2_train['motor_UPDRS'] = motor_train"
      ],
      "execution_count": 399,
      "outputs": []
    },
    {
      "cell_type": "code",
      "metadata": {
        "id": "uGPmKI6UJB4i"
      },
      "source": [
        "x2_test['motor_UPDRS'] = motor_test"
      ],
      "execution_count": 400,
      "outputs": []
    },
    {
      "cell_type": "markdown",
      "metadata": {
        "id": "H-yxm1cQLm8N"
      },
      "source": [
        "### Linear Regression"
      ]
    },
    {
      "cell_type": "code",
      "metadata": {
        "id": "o4Jyfe4xLZsp"
      },
      "source": [
        "lin_reg2 = LinearRegression()\n",
        "lin_reg2.fit(x2_train, y2_train)\n",
        "y_lin_pred2 = lin_reg2.predict(x2_test)"
      ],
      "execution_count": 401,
      "outputs": []
    },
    {
      "cell_type": "code",
      "metadata": {
        "colab": {
          "base_uri": "https://localhost:8080/"
        },
        "id": "My_-VMoaLvX3",
        "outputId": "6f94dc04-388f-4566-9310-b1a8447d05de"
      },
      "source": [
        "lin_mae2, lin_mse2, lin_r22 = score(y2_test,y_lin_pred2)"
      ],
      "execution_count": 402,
      "outputs": [
        {
          "output_type": "stream",
          "text": [
            "Mean Absolute Error:  2.960427956585426\n",
            "Mean Squared Error:  16.53203615865384\n",
            "R2 score:  82.69965922008123\n"
          ],
          "name": "stdout"
        }
      ]
    },
    {
      "cell_type": "markdown",
      "metadata": {
        "id": "4b6mFLwEL8vd"
      },
      "source": [
        "### Polynomial Regression"
      ]
    },
    {
      "cell_type": "code",
      "metadata": {
        "id": "phGvmOezL0Ou"
      },
      "source": [
        "poly2 = PolynomialFeatures(degree=3)\n",
        "x2_poly = poly2.fit_transform(x2_train)"
      ],
      "execution_count": 403,
      "outputs": []
    },
    {
      "cell_type": "code",
      "metadata": {
        "id": "KEXRS9q8MCmP"
      },
      "source": [
        "poly_reg2 = LinearRegression()\n",
        "poly_reg2.fit(x2_poly, y2_train)\n",
        "y_poly_pred2 = poly_reg2.predict(poly2.transform(x2_test))"
      ],
      "execution_count": 404,
      "outputs": []
    },
    {
      "cell_type": "code",
      "metadata": {
        "colab": {
          "base_uri": "https://localhost:8080/"
        },
        "id": "iO3V9Da2MJt8",
        "outputId": "0928e38f-f802-4b0d-8e96-7e8cc2736593"
      },
      "source": [
        "poly_mae2, poly_mse2, poly_r22 = score(y2_test, y_poly_pred2)"
      ],
      "execution_count": 405,
      "outputs": [
        {
          "output_type": "stream",
          "text": [
            "Mean Absolute Error:  2.1554500447456104\n",
            "Mean Squared Error:  10.919422916826134\n",
            "R2 score:  89.07075636029755\n"
          ],
          "name": "stdout"
        }
      ]
    },
    {
      "cell_type": "markdown",
      "metadata": {
        "id": "FGqmZywgMhk4"
      },
      "source": [
        "### Support Vector Machines"
      ]
    },
    {
      "cell_type": "code",
      "metadata": {
        "id": "tXQHbWPuMR6_"
      },
      "source": [
        "svr_reg2 = SVR()\n",
        "svr_reg2.fit(x2_train, y2_train)\n",
        "y_svr_pred2 = svr_reg2.predict(x2_test)"
      ],
      "execution_count": 406,
      "outputs": []
    },
    {
      "cell_type": "code",
      "metadata": {
        "colab": {
          "base_uri": "https://localhost:8080/"
        },
        "id": "pJrb1kpUMoty",
        "outputId": "59d37645-7168-424c-d7ef-b71219d6bb32"
      },
      "source": [
        "svr_mae2, svr_mse2, svr_r22 = score(y2_test, y_svr_pred2)"
      ],
      "execution_count": 407,
      "outputs": [
        {
          "output_type": "stream",
          "text": [
            "Mean Absolute Error:  2.986393284271332\n",
            "Mean Squared Error:  18.137970644321957\n",
            "R2 score:  77.82258112079464\n"
          ],
          "name": "stdout"
        }
      ]
    },
    {
      "cell_type": "markdown",
      "metadata": {
        "id": "RupkhL8FMzcw"
      },
      "source": [
        "### Decision Tree Regression"
      ]
    },
    {
      "cell_type": "code",
      "metadata": {
        "id": "VP-BDFb-MuUu"
      },
      "source": [
        "dt_reg2 = DecisionTreeRegressor()\n",
        "dt_reg2.fit(x2_train, y2_train)\n",
        "y_dt_pred2 = dt_reg2.predict(x2_test)"
      ],
      "execution_count": 408,
      "outputs": []
    },
    {
      "cell_type": "code",
      "metadata": {
        "colab": {
          "base_uri": "https://localhost:8080/"
        },
        "id": "gsOF2DdhM7xl",
        "outputId": "c03b4822-4600-4102-af3d-0ec3065bd6f2"
      },
      "source": [
        "dt_mae2, dt_mse2, dt_r22 = score(y2_test, y_dt_pred2)"
      ],
      "execution_count": 409,
      "outputs": [
        {
          "output_type": "stream",
          "text": [
            "Mean Absolute Error:  1.0586329624893436\n",
            "Mean Squared Error:  9.495246058284932\n",
            "R2 score:  91.26448859263377\n"
          ],
          "name": "stdout"
        }
      ]
    },
    {
      "cell_type": "markdown",
      "metadata": {
        "id": "jhIYBQQMND-y"
      },
      "source": [
        "### Random Forrest Regression"
      ]
    },
    {
      "cell_type": "code",
      "metadata": {
        "id": "TcaQPFzTNAT3"
      },
      "source": [
        "rf_reg2 = RandomForestRegressor()\n",
        "rf_reg2.fit(x2_train, y2_train)\n",
        "y_rf_pred2 = rf_reg2.predict(x2_test)"
      ],
      "execution_count": 410,
      "outputs": []
    },
    {
      "cell_type": "code",
      "metadata": {
        "colab": {
          "base_uri": "https://localhost:8080/"
        },
        "id": "1vRrEgz1NJ0K",
        "outputId": "27f92c2b-c1f3-4805-8235-204fdd14967b"
      },
      "source": [
        "rf_mae2, rf_mse2, rf_r22 = score(y2_test, y_rf_pred2)"
      ],
      "execution_count": 411,
      "outputs": [
        {
          "output_type": "stream",
          "text": [
            "Mean Absolute Error:  1.0525700385121561\n",
            "Mean Squared Error:  8.044958744297203\n",
            "R2 score:  92.44488679677225\n"
          ],
          "name": "stdout"
        }
      ]
    },
    {
      "cell_type": "markdown",
      "metadata": {
        "id": "lDczQdcENSXc"
      },
      "source": [
        "### XGBoost Regression"
      ]
    },
    {
      "cell_type": "code",
      "metadata": {
        "id": "0QR_L7JsNQkk"
      },
      "source": [
        "xgb_reg2 = XGBRegressor(objective='reg:squarederror')\n",
        "xgb_reg2.fit(x2_train, y2_train)\n",
        "y_xgb_pred2 = xgb_reg2.predict(x2_test)"
      ],
      "execution_count": 412,
      "outputs": []
    },
    {
      "cell_type": "code",
      "metadata": {
        "colab": {
          "base_uri": "https://localhost:8080/"
        },
        "id": "7HiIUFYANaLf",
        "outputId": "61bbc40c-7bbc-4289-cc29-b2c15271c72b"
      },
      "source": [
        "xgb_mae2, xgb_mse2, xgb_r22 = score(y2_test, y_xgb_pred2)"
      ],
      "execution_count": 413,
      "outputs": [
        {
          "output_type": "stream",
          "text": [
            "Mean Absolute Error:  1.8854081725690475\n",
            "Mean Squared Error:  9.290810337603014\n",
            "R2 score:  90.76848363805861\n"
          ],
          "name": "stdout"
        }
      ]
    },
    {
      "cell_type": "markdown",
      "metadata": {
        "id": "MjKoi6bgNj4T"
      },
      "source": [
        "## Comparing Model2 Performance"
      ]
    },
    {
      "cell_type": "code",
      "metadata": {
        "id": "Il0VCOkENexn"
      },
      "source": [
        "model_mae2 = [lin_mae2,poly_mae2, svr_mae2, dt_mae2, rf_mae2, xgb_mae2]\n",
        "model_mse2 = [lin_mse2,poly_mse2, svr_mse2, dt_mse2, rf_mse2, xgb_mse2]\n",
        "model_r22 = [lin_r22,poly_r22, svr_r22, dt_r22, rf_r22, xgb_r22]\n",
        "models2 = [\"Linear Regression\", \"Polynomial Regression\", \"Support Vector Machines\",\"Decision Tree\", \"Random Forrest\", \"XGBoost\"]"
      ],
      "execution_count": 416,
      "outputs": []
    },
    {
      "cell_type": "code",
      "metadata": {
        "colab": {
          "base_uri": "https://localhost:8080/",
          "height": 584
        },
        "id": "mrsI3cS0NwAc",
        "outputId": "78e7c138-54a2-432f-9a3f-9c9826f14a68"
      },
      "source": [
        "plt.figure(figsize=(12,9))\n",
        "ax = sns.barplot(x=models2, y=model_mae2)\n",
        "for p in ax.patches:\n",
        "  height = p.get_height()\n",
        "  ax.text(p.get_x() + p.get_width()/2.,\n",
        "          height+0.01,\n",
        "          '{:1.3f}'.format(height),\n",
        "          ha='center')\n",
        "  \n",
        "plt.ylabel('Model2 Mean Absolute Error')\n",
        "plt.xlabel('Model Name')\n",
        "plt.title('Comparing Model2 MAE(Test Set)')"
      ],
      "execution_count": 419,
      "outputs": [
        {
          "output_type": "execute_result",
          "data": {
            "text/plain": [
              "Text(0.5, 1.0, 'Comparing Model2 MAE(Test Set)')"
            ]
          },
          "metadata": {},
          "execution_count": 419
        },
        {
          "output_type": "display_data",
          "data": {
            "image/png": "[encoded data removed]",
            "text/plain": [
              "<Figure size 864x648 with 1 Axes>"
            ]
          },
          "metadata": {
            "needs_background": "light"
          }
        }
      ]
    },
    {
      "cell_type": "code",
      "metadata": {
        "colab": {
          "base_uri": "https://localhost:8080/",
          "height": 584
        },
        "id": "XGivYISxN1pm",
        "outputId": "50b3b7d8-0058-4d64-e55e-4ee6db0cff9d"
      },
      "source": [
        "plt.figure(figsize=(12,9))\n",
        "ax = sns.barplot(x=models2, y=model_mse2)\n",
        "for p in ax.patches:\n",
        "  height = p.get_height()\n",
        "  ax.text(p.get_x() + p.get_width()/2.,\n",
        "          height+0.1,\n",
        "          '{:1.3f}'.format(height),\n",
        "          ha='center')\n",
        "  \n",
        "plt.ylabel('Model2 Mean Squared Error')\n",
        "plt.xlabel('Model Name')\n",
        "plt.title('Comparing Model2 MSE(Test Set)')"
      ],
      "execution_count": 422,
      "outputs": [
        {
          "output_type": "execute_result",
          "data": {
            "text/plain": [
              "Text(0.5, 1.0, 'Comparing Model2 MSE(Test Set)')"
            ]
          },
          "metadata": {},
          "execution_count": 422
        },
        {
          "output_type": "display_data",
          "data": {
            "image/png": "[encoded data removed]",
            "text/plain": [
              "<Figure size 864x648 with 1 Axes>"
            ]
          },
          "metadata": {
            "needs_background": "light"
          }
        }
      ]
    },
    {
      "cell_type": "code",
      "metadata": {
        "colab": {
          "base_uri": "https://localhost:8080/",
          "height": 584
        },
        "id": "wdtIDOuRN96L",
        "outputId": "e43d922c-0eb5-4afc-bbbd-752a89299a8e"
      },
      "source": [
        "plt.figure(figsize=(12,9))\n",
        "ax = sns.barplot(x=models2, y=model_r22)\n",
        "for p in ax.patches:\n",
        "  height = p.get_height()\n",
        "  ax.text(p.get_x() + p.get_width()/2.,\n",
        "          height + 1,\n",
        "          '{:1.3f}%'.format(height),\n",
        "          ha='center')\n",
        "  \n",
        "plt.ylabel('Model2 R2 Score')\n",
        "plt.xlabel('Model Name')\n",
        "plt.title('Comparing Model2 R2 Score(Test Set)')"
      ],
      "execution_count": 423,
      "outputs": [
        {
          "output_type": "execute_result",
          "data": {
            "text/plain": [
              "Text(0.5, 1.0, 'Comparing Model2 R2 Score(Test Set)')"
            ]
          },
          "metadata": {},
          "execution_count": 423
        },
        {
          "output_type": "display_data",
          "data": {
            "image/png": "[encoded data removed]",
            "text/plain": [
              "<Figure size 864x648 with 1 Axes>"
            ]
          },
          "metadata": {
            "needs_background": "light"
          }
        }
      ]
    },
    {
      "cell_type": "markdown",
      "metadata": {
        "id": "LvIoMYXDRt8V"
      },
      "source": [
        "### Performing Cross Validation for our 3 best performing models"
      ]
    },
    {
      "cell_type": "code",
      "metadata": {
        "id": "Q8E90SS0OCtX"
      },
      "source": [
        "dt_cv2 = cross_val_score(dt_reg2,x2_train, y2_train, cv=10, scoring='r2')\n",
        "rf_cv2 = cross_val_score(rf_reg2,x2_train, y2_train, cv=10, scoring='r2')\n",
        "xgb_cv2 = cross_val_score(xgb_reg2,x2_train, y2_train, cv=10, scoring='r2')"
      ],
      "execution_count": 424,
      "outputs": []
    },
    {
      "cell_type": "code",
      "metadata": {
        "colab": {
          "base_uri": "https://localhost:8080/"
        },
        "id": "FA6UwkfUR8bM",
        "outputId": "6f52bb49-5430-43f3-c451-0547fb465d9b"
      },
      "source": [
        "print(\"Cross Validation Score for Decision Tree Regression is: {:1.3f} +- {:1.3f}\".format(dt_cv2.mean()*100, dt_cv2.std()*100))\n",
        "print(\"Cross Validation Score for Random Forrest Regression is: {:1.3f} +- {:1.3f}\".format(rf_cv2.mean()*100, rf_cv2.std()*100))\n",
        "print(\"Cross Validation Score for XGBoost Model is: {:1.3f} +- {:1.3f}\".format(xgb_cv2.mean()*100, xgb_cv2.std()*100))"
      ],
      "execution_count": 426,
      "outputs": [
        {
          "output_type": "stream",
          "text": [
            "Cross Validation Score for Decision Tree Regression is: 98.469 +- 0.491\n",
            "Cross Validation Score for Random Forrest Regression is: 99.244 +- 0.244\n",
            "Cross Validation Score for XGBoost Model is: 97.100 +- 0.209\n"
          ],
          "name": "stdout"
        }
      ]
    },
    {
      "cell_type": "markdown",
      "metadata": {
        "id": "-2QPzR3zSkil"
      },
      "source": [
        "#### Thus Random Forrest Regressionis is the best model for Y2 Variable(total_UPDRS) with a **MAE of 1.053 and R2 score of 99.24%**"
      ]
    },
    {
      "cell_type": "markdown",
      "metadata": {
        "id": "8sK_j28FV4IG"
      },
      "source": [
        "# Deep Learning Approach"
      ]
    },
    {
      "cell_type": "code",
      "metadata": {
        "id": "n6Srg7BnWDZ2"
      },
      "source": [
        "df.drop(['subject#'], axis=1, inplace=True)"
      ],
      "execution_count": 428,
      "outputs": []
    },
    {
      "cell_type": "code",
      "metadata": {
        "colab": {
          "base_uri": "https://localhost:8080/",
          "height": 223
        },
        "id": "ToCABLzdWJEu",
        "outputId": "595b7056-3a46-4cfa-b4db-f2c02aa99548"
      },
      "source": [
        "df.head()"
      ],
      "execution_count": 429,
      "outputs": [
        {
          "output_type": "execute_result",
          "data": {
            "text/html": [
              "<div>\n",
              "<style scoped>\n",
              "    .dataframe tbody tr th:only-of-type {\n",
              "        vertical-align: middle;\n",
              "    }\n",
              "\n",
              "    .dataframe tbody tr th {\n",
              "        vertical-align: top;\n",
              "    }\n",
              "\n",
              "    .dataframe thead th {\n",
              "        text-align: right;\n",
              "    }\n",
              "</style>\n",
              "<table border=\"1\" class=\"dataframe\">\n",
              "  <thead>\n",
              "    <tr style=\"text-align: right;\">\n",
              "      <th></th>\n",
              "      <th>age</th>\n",
              "      <th>sex</th>\n",
              "      <th>test_time</th>\n",
              "      <th>motor_UPDRS</th>\n",
              "      <th>total_UPDRS</th>\n",
              "      <th>Jitter(%)</th>\n",
              "      <th>Jitter(Abs)</th>\n",
              "      <th>Jitter:RAP</th>\n",
              "      <th>Jitter:PPQ5</th>\n",
              "      <th>Jitter:DDP</th>\n",
              "      <th>Shimmer</th>\n",
              "      <th>Shimmer(dB)</th>\n",
              "      <th>Shimmer:APQ3</th>\n",
              "      <th>Shimmer:APQ5</th>\n",
              "      <th>Shimmer:APQ11</th>\n",
              "      <th>Shimmer:DDA</th>\n",
              "      <th>NHR</th>\n",
              "      <th>HNR</th>\n",
              "      <th>RPDE</th>\n",
              "      <th>DFA</th>\n",
              "      <th>PPE</th>\n",
              "    </tr>\n",
              "  </thead>\n",
              "  <tbody>\n",
              "    <tr>\n",
              "      <th>0</th>\n",
              "      <td>72</td>\n",
              "      <td>0</td>\n",
              "      <td>5.6431</td>\n",
              "      <td>28.199</td>\n",
              "      <td>34.398</td>\n",
              "      <td>0.00662</td>\n",
              "      <td>0.000034</td>\n",
              "      <td>0.00401</td>\n",
              "      <td>0.00317</td>\n",
              "      <td>0.01204</td>\n",
              "      <td>0.02565</td>\n",
              "      <td>0.230</td>\n",
              "      <td>0.01438</td>\n",
              "      <td>0.01309</td>\n",
              "      <td>0.01662</td>\n",
              "      <td>0.04314</td>\n",
              "      <td>0.014290</td>\n",
              "      <td>21.640</td>\n",
              "      <td>0.41888</td>\n",
              "      <td>0.54842</td>\n",
              "      <td>0.16006</td>\n",
              "    </tr>\n",
              "    <tr>\n",
              "      <th>1</th>\n",
              "      <td>72</td>\n",
              "      <td>0</td>\n",
              "      <td>12.6660</td>\n",
              "      <td>28.447</td>\n",
              "      <td>34.894</td>\n",
              "      <td>0.00300</td>\n",
              "      <td>0.000017</td>\n",
              "      <td>0.00132</td>\n",
              "      <td>0.00150</td>\n",
              "      <td>0.00395</td>\n",
              "      <td>0.02024</td>\n",
              "      <td>0.179</td>\n",
              "      <td>0.00994</td>\n",
              "      <td>0.01072</td>\n",
              "      <td>0.01689</td>\n",
              "      <td>0.02982</td>\n",
              "      <td>0.011112</td>\n",
              "      <td>27.183</td>\n",
              "      <td>0.43493</td>\n",
              "      <td>0.56477</td>\n",
              "      <td>0.10810</td>\n",
              "    </tr>\n",
              "    <tr>\n",
              "      <th>2</th>\n",
              "      <td>72</td>\n",
              "      <td>0</td>\n",
              "      <td>19.6810</td>\n",
              "      <td>28.695</td>\n",
              "      <td>35.389</td>\n",
              "      <td>0.00481</td>\n",
              "      <td>0.000025</td>\n",
              "      <td>0.00205</td>\n",
              "      <td>0.00208</td>\n",
              "      <td>0.00616</td>\n",
              "      <td>0.01675</td>\n",
              "      <td>0.181</td>\n",
              "      <td>0.00734</td>\n",
              "      <td>0.00844</td>\n",
              "      <td>0.01458</td>\n",
              "      <td>0.02202</td>\n",
              "      <td>0.020220</td>\n",
              "      <td>23.047</td>\n",
              "      <td>0.46222</td>\n",
              "      <td>0.54405</td>\n",
              "      <td>0.21014</td>\n",
              "    </tr>\n",
              "    <tr>\n",
              "      <th>3</th>\n",
              "      <td>72</td>\n",
              "      <td>0</td>\n",
              "      <td>25.6470</td>\n",
              "      <td>28.905</td>\n",
              "      <td>35.810</td>\n",
              "      <td>0.00528</td>\n",
              "      <td>0.000027</td>\n",
              "      <td>0.00191</td>\n",
              "      <td>0.00264</td>\n",
              "      <td>0.00573</td>\n",
              "      <td>0.02309</td>\n",
              "      <td>0.327</td>\n",
              "      <td>0.01106</td>\n",
              "      <td>0.01265</td>\n",
              "      <td>0.01963</td>\n",
              "      <td>0.03317</td>\n",
              "      <td>0.027837</td>\n",
              "      <td>24.445</td>\n",
              "      <td>0.48730</td>\n",
              "      <td>0.57794</td>\n",
              "      <td>0.33277</td>\n",
              "    </tr>\n",
              "    <tr>\n",
              "      <th>4</th>\n",
              "      <td>72</td>\n",
              "      <td>0</td>\n",
              "      <td>33.6420</td>\n",
              "      <td>29.187</td>\n",
              "      <td>36.375</td>\n",
              "      <td>0.00335</td>\n",
              "      <td>0.000020</td>\n",
              "      <td>0.00093</td>\n",
              "      <td>0.00130</td>\n",
              "      <td>0.00278</td>\n",
              "      <td>0.01703</td>\n",
              "      <td>0.176</td>\n",
              "      <td>0.00679</td>\n",
              "      <td>0.00929</td>\n",
              "      <td>0.01819</td>\n",
              "      <td>0.02036</td>\n",
              "      <td>0.011625</td>\n",
              "      <td>26.126</td>\n",
              "      <td>0.47188</td>\n",
              "      <td>0.56122</td>\n",
              "      <td>0.19361</td>\n",
              "    </tr>\n",
              "  </tbody>\n",
              "</table>\n",
              "</div>"
            ],
            "text/plain": [
              "   age  sex  test_time  motor_UPDRS  ...     HNR     RPDE      DFA      PPE\n",
              "0   72    0     5.6431       28.199  ...  21.640  0.41888  0.54842  0.16006\n",
              "1   72    0    12.6660       28.447  ...  27.183  0.43493  0.56477  0.10810\n",
              "2   72    0    19.6810       28.695  ...  23.047  0.46222  0.54405  0.21014\n",
              "3   72    0    25.6470       28.905  ...  24.445  0.48730  0.57794  0.33277\n",
              "4   72    0    33.6420       29.187  ...  26.126  0.47188  0.56122  0.19361\n",
              "\n",
              "[5 rows x 21 columns]"
            ]
          },
          "metadata": {},
          "execution_count": 429
        }
      ]
    },
    {
      "cell_type": "code",
      "metadata": {
        "id": "Q8LpKtUPWQ_C"
      },
      "source": [
        "y = df.iloc[:, [3,4]].values"
      ],
      "execution_count": 430,
      "outputs": []
    },
    {
      "cell_type": "code",
      "metadata": {
        "id": "EsWhbm8uX7tH"
      },
      "source": [
        "df.drop(['motor_UPDRS', 'total_UPDRS'], axis=1, inplace=True)"
      ],
      "execution_count": 431,
      "outputs": []
    },
    {
      "cell_type": "code",
      "metadata": {
        "id": "J7oGl-wBX8lW"
      },
      "source": [
        "x = df.values"
      ],
      "execution_count": 432,
      "outputs": []
    },
    {
      "cell_type": "markdown",
      "metadata": {
        "id": "1BBTs4WlY9de"
      },
      "source": [
        "### Splitting data into Training and Test set"
      ]
    },
    {
      "cell_type": "code",
      "metadata": {
        "id": "q_Kobe8tY0dc"
      },
      "source": [
        "x_train, x_test, y_train, y_test = train_test_split(x,y, test_size=0.2, random_state=42)"
      ],
      "execution_count": 433,
      "outputs": []
    },
    {
      "cell_type": "markdown",
      "metadata": {
        "id": "jXMcKRZzZOHL"
      },
      "source": [
        "### Standardizing so that the Standard deviation is 1 and mean is 0 for all features."
      ]
    },
    {
      "cell_type": "code",
      "metadata": {
        "id": "QYcpFZ_9ZNgV"
      },
      "source": [
        "sc = StandardScaler()\n",
        "x_train = sc.fit_transform(x_train)\n",
        "x_test = sc.transform(x_test)"
      ],
      "execution_count": 434,
      "outputs": []
    },
    {
      "cell_type": "markdown",
      "metadata": {
        "id": "Pg4y-10QZinH"
      },
      "source": [
        "### Artificial Neural Network"
      ]
    },
    {
      "cell_type": "code",
      "metadata": {
        "id": "kq0RodWcZhuJ"
      },
      "source": [
        "ann1 = Sequential([\n",
        "                   Dense(units=128, activation='relu'),\n",
        "                   Dropout(0.2),\n",
        "                   Dense(units=64, activation='relu'),\n",
        "                   Dropout(0.2),\n",
        "                   Dense(units=32, activation='relu'),\n",
        "                   Dropout(0.2),\n",
        "                   Dense(units=16, activation='relu'),\n",
        "                   Dense(units=2)\n",
        "])"
      ],
      "execution_count": 444,
      "outputs": []
    },
    {
      "cell_type": "code",
      "metadata": {
        "id": "s802KV7luUz2"
      },
      "source": [
        "def r2(y_true, y_pred):\n",
        "    SS_res =  K.sum(K.square( y_true-y_pred ))\n",
        "    SS_tot = K.sum(K.square( y_true - K.mean(y_true) ) )\n",
        "    return ( 1 - SS_res/(SS_tot + K.epsilon()) )"
      ],
      "execution_count": 445,
      "outputs": []
    },
    {
      "cell_type": "code",
      "metadata": {
        "id": "XLwD6aiaantz"
      },
      "source": [
        "ann1.compile(optimizer='adam', loss=\"mean_absolute_error\", metrics=[r2, 'mae'])"
      ],
      "execution_count": 446,
      "outputs": []
    },
    {
      "cell_type": "code",
      "metadata": {
        "id": "XTbUfxHkcNb9"
      },
      "source": [
        "class myCallback(tf.keras.callbacks.Callback):\n",
        "    def on_epoch_end(self, epoch, logs={}):\n",
        "        if(logs.get('val_r2') > 0.99):\n",
        "            print(\"\\nReached 99% R2 score so cancelling training!\")\n",
        "            self.model.stop_training = True\n",
        "        \n",
        "callback = myCallback()"
      ],
      "execution_count": 447,
      "outputs": []
    },
    {
      "cell_type": "code",
      "metadata": {
        "colab": {
          "base_uri": "https://localhost:8080/"
        },
        "id": "WWUgHUhSbLTv",
        "outputId": "dfb5f8a1-4026-4966-8bce-314e10d31b59"
      },
      "source": [
        "r1 = ann1.fit(x_train, y_train,\n",
        "              validation_data=(x_test, y_test), batch_size=64, epochs=700, callbacks=[callback])"
      ],
      "execution_count": 448,
      "outputs": [
        {
          "output_type": "stream",
          "text": [
            "Epoch 1/700\n",
            "74/74 [==============================] - 1s 5ms/step - loss: 18.8657 - r2: -3.8417 - mae: 18.8657 - val_loss: 10.5359 - val_r2: -0.8705 - val_mae: 10.5359\n",
            "Epoch 2/700\n",
            "74/74 [==============================] - 0s 3ms/step - loss: 9.2757 - r2: -0.4046 - mae: 9.2757 - val_loss: 8.0388 - val_r2: 0.0229 - val_mae: 8.0388\n",
            "Epoch 3/700\n",
            "74/74 [==============================] - 0s 3ms/step - loss: 8.1306 - r2: -0.0473 - mae: 8.1306 - val_loss: 7.5868 - val_r2: 0.0889 - val_mae: 7.5868\n",
            "Epoch 4/700\n",
            "74/74 [==============================] - 0s 3ms/step - loss: 7.8265 - r2: 0.0212 - mae: 7.8265 - val_loss: 7.1636 - val_r2: 0.2037 - val_mae: 7.1636\n",
            "Epoch 5/700\n",
            "74/74 [==============================] - 0s 3ms/step - loss: 7.4376 - r2: 0.1038 - mae: 7.4376 - val_loss: 7.0182 - val_r2: 0.1951 - val_mae: 7.0182\n",
            "Epoch 6/700\n",
            "74/74 [==============================] - 0s 3ms/step - loss: 7.1157 - r2: 0.1790 - mae: 7.1157 - val_loss: 6.7132 - val_r2: 0.2718 - val_mae: 6.7132\n",
            "Epoch 7/700\n",
            "74/74 [==============================] - 0s 3ms/step - loss: 7.0310 - r2: 0.1879 - mae: 7.0310 - val_loss: 6.4343 - val_r2: 0.3536 - val_mae: 6.4343\n",
            "Epoch 8/700\n",
            "74/74 [==============================] - 0s 4ms/step - loss: 6.9733 - r2: 0.2096 - mae: 6.9733 - val_loss: 6.2851 - val_r2: 0.3389 - val_mae: 6.2851\n",
            "Epoch 9/700\n",
            "74/74 [==============================] - 0s 3ms/step - loss: 6.7372 - r2: 0.2515 - mae: 6.7372 - val_loss: 5.9847 - val_r2: 0.4311 - val_mae: 5.9847\n",
            "Epoch 10/700\n",
            "74/74 [==============================] - 0s 3ms/step - loss: 6.5734 - r2: 0.2964 - mae: 6.5734 - val_loss: 5.7549 - val_r2: 0.4530 - val_mae: 5.7549\n",
            "Epoch 11/700\n",
            "74/74 [==============================] - 0s 3ms/step - loss: 6.4989 - r2: 0.3117 - mae: 6.4989 - val_loss: 5.8125 - val_r2: 0.4404 - val_mae: 5.8125\n",
            "Epoch 12/700\n",
            "74/74 [==============================] - 0s 3ms/step - loss: 6.4255 - r2: 0.3158 - mae: 6.4255 - val_loss: 5.7037 - val_r2: 0.4591 - val_mae: 5.7037\n",
            "Epoch 13/700\n",
            "74/74 [==============================] - 0s 3ms/step - loss: 6.3528 - r2: 0.3310 - mae: 6.3528 - val_loss: 5.6468 - val_r2: 0.4566 - val_mae: 5.6468\n",
            "Epoch 14/700\n",
            "74/74 [==============================] - 0s 4ms/step - loss: 6.2814 - r2: 0.3390 - mae: 6.2814 - val_loss: 5.4812 - val_r2: 0.4888 - val_mae: 5.4812\n",
            "Epoch 15/700\n",
            "74/74 [==============================] - 0s 3ms/step - loss: 6.3365 - r2: 0.3351 - mae: 6.3365 - val_loss: 5.5309 - val_r2: 0.4900 - val_mae: 5.5309\n",
            "Epoch 16/700\n",
            "74/74 [==============================] - 0s 3ms/step - loss: 6.1773 - r2: 0.3745 - mae: 6.1773 - val_loss: 5.4126 - val_r2: 0.5204 - val_mae: 5.4126\n",
            "Epoch 17/700\n",
            "74/74 [==============================] - 0s 3ms/step - loss: 6.0615 - r2: 0.3935 - mae: 6.0615 - val_loss: 5.4458 - val_r2: 0.4979 - val_mae: 5.4458\n",
            "Epoch 18/700\n",
            "74/74 [==============================] - 0s 3ms/step - loss: 6.0945 - r2: 0.3927 - mae: 6.0945 - val_loss: 5.6326 - val_r2: 0.4734 - val_mae: 5.6326\n",
            "Epoch 19/700\n",
            "74/74 [==============================] - 0s 3ms/step - loss: 6.0405 - r2: 0.3896 - mae: 6.0405 - val_loss: 5.2150 - val_r2: 0.5370 - val_mae: 5.2150\n",
            "Epoch 20/700\n",
            "74/74 [==============================] - 0s 3ms/step - loss: 5.9729 - r2: 0.4177 - mae: 5.9729 - val_loss: 5.4135 - val_r2: 0.5127 - val_mae: 5.4135\n",
            "Epoch 21/700\n",
            "74/74 [==============================] - 0s 3ms/step - loss: 5.9558 - r2: 0.4036 - mae: 5.9558 - val_loss: 5.3646 - val_r2: 0.4981 - val_mae: 5.3646\n",
            "Epoch 22/700\n",
            "74/74 [==============================] - 0s 3ms/step - loss: 5.9050 - r2: 0.4221 - mae: 5.9050 - val_loss: 5.1491 - val_r2: 0.5500 - val_mae: 5.1491\n",
            "Epoch 23/700\n",
            "74/74 [==============================] - 0s 3ms/step - loss: 5.9093 - r2: 0.4129 - mae: 5.9093 - val_loss: 5.0171 - val_r2: 0.5726 - val_mae: 5.0171\n",
            "Epoch 24/700\n",
            "74/74 [==============================] - 0s 4ms/step - loss: 5.7519 - r2: 0.4420 - mae: 5.7519 - val_loss: 4.9589 - val_r2: 0.5873 - val_mae: 4.9589\n",
            "Epoch 25/700\n",
            "74/74 [==============================] - 0s 3ms/step - loss: 5.7864 - r2: 0.4445 - mae: 5.7864 - val_loss: 4.9621 - val_r2: 0.5850 - val_mae: 4.9621\n",
            "Epoch 26/700\n",
            "74/74 [==============================] - 0s 3ms/step - loss: 5.5308 - r2: 0.4774 - mae: 5.5308 - val_loss: 5.1686 - val_r2: 0.5395 - val_mae: 5.1686\n",
            "Epoch 27/700\n",
            "74/74 [==============================] - 0s 3ms/step - loss: 5.6444 - r2: 0.4666 - mae: 5.6444 - val_loss: 5.3875 - val_r2: 0.5116 - val_mae: 5.3875\n",
            "Epoch 28/700\n",
            "74/74 [==============================] - 0s 3ms/step - loss: 5.5911 - r2: 0.4648 - mae: 5.5911 - val_loss: 5.0425 - val_r2: 0.5599 - val_mae: 5.0425\n",
            "Epoch 29/700\n",
            "74/74 [==============================] - 0s 3ms/step - loss: 5.5002 - r2: 0.4896 - mae: 5.5002 - val_loss: 4.7631 - val_r2: 0.6070 - val_mae: 4.7631\n",
            "Epoch 30/700\n",
            "74/74 [==============================] - 0s 3ms/step - loss: 5.5302 - r2: 0.4800 - mae: 5.5302 - val_loss: 4.9336 - val_r2: 0.5831 - val_mae: 4.9336\n",
            "Epoch 31/700\n",
            "74/74 [==============================] - 0s 4ms/step - loss: 5.4387 - r2: 0.4959 - mae: 5.4387 - val_loss: 5.2510 - val_r2: 0.5356 - val_mae: 5.2510\n",
            "Epoch 32/700\n",
            "74/74 [==============================] - 0s 4ms/step - loss: 5.3604 - r2: 0.5096 - mae: 5.3604 - val_loss: 4.6204 - val_r2: 0.6275 - val_mae: 4.6204\n",
            "Epoch 33/700\n",
            "74/74 [==============================] - 0s 4ms/step - loss: 5.3354 - r2: 0.5093 - mae: 5.3354 - val_loss: 4.6097 - val_r2: 0.6260 - val_mae: 4.6097\n",
            "Epoch 34/700\n",
            "74/74 [==============================] - 0s 4ms/step - loss: 5.3192 - r2: 0.5093 - mae: 5.3192 - val_loss: 4.7051 - val_r2: 0.6078 - val_mae: 4.7051\n",
            "Epoch 35/700\n",
            "74/74 [==============================] - 0s 3ms/step - loss: 5.3336 - r2: 0.5128 - mae: 5.3336 - val_loss: 4.6528 - val_r2: 0.6252 - val_mae: 4.6528\n",
            "Epoch 36/700\n",
            "74/74 [==============================] - 0s 3ms/step - loss: 5.1896 - r2: 0.5330 - mae: 5.1896 - val_loss: 5.0706 - val_r2: 0.5676 - val_mae: 5.0706\n",
            "Epoch 37/700\n",
            "74/74 [==============================] - 0s 3ms/step - loss: 5.1489 - r2: 0.5423 - mae: 5.1489 - val_loss: 4.5863 - val_r2: 0.6315 - val_mae: 4.5863\n",
            "Epoch 38/700\n",
            "74/74 [==============================] - 0s 4ms/step - loss: 5.1455 - r2: 0.5474 - mae: 5.1455 - val_loss: 4.7806 - val_r2: 0.5964 - val_mae: 4.7806\n",
            "Epoch 39/700\n",
            "74/74 [==============================] - 0s 3ms/step - loss: 5.1192 - r2: 0.5450 - mae: 5.1192 - val_loss: 4.5588 - val_r2: 0.6322 - val_mae: 4.5588\n",
            "Epoch 40/700\n",
            "74/74 [==============================] - 0s 3ms/step - loss: 5.0480 - r2: 0.5623 - mae: 5.0480 - val_loss: 4.6565 - val_r2: 0.6119 - val_mae: 4.6565\n",
            "Epoch 41/700\n",
            "74/74 [==============================] - 0s 3ms/step - loss: 5.0915 - r2: 0.5463 - mae: 5.0915 - val_loss: 4.4334 - val_r2: 0.6527 - val_mae: 4.4334\n",
            "Epoch 42/700\n",
            "74/74 [==============================] - 0s 3ms/step - loss: 5.0229 - r2: 0.5575 - mae: 5.0229 - val_loss: 4.3188 - val_r2: 0.6620 - val_mae: 4.3188\n",
            "Epoch 43/700\n",
            "74/74 [==============================] - 0s 3ms/step - loss: 5.0185 - r2: 0.5643 - mae: 5.0185 - val_loss: 4.6857 - val_r2: 0.6186 - val_mae: 4.6857\n",
            "Epoch 44/700\n",
            "74/74 [==============================] - 0s 4ms/step - loss: 4.9407 - r2: 0.5709 - mae: 4.9407 - val_loss: 4.8533 - val_r2: 0.5902 - val_mae: 4.8533\n",
            "Epoch 45/700\n",
            "74/74 [==============================] - 0s 3ms/step - loss: 4.9118 - r2: 0.5704 - mae: 4.9118 - val_loss: 4.1951 - val_r2: 0.6783 - val_mae: 4.1951\n",
            "Epoch 46/700\n",
            "74/74 [==============================] - 0s 3ms/step - loss: 4.8748 - r2: 0.5799 - mae: 4.8748 - val_loss: 4.7923 - val_r2: 0.6015 - val_mae: 4.7923\n",
            "Epoch 47/700\n",
            "74/74 [==============================] - 0s 3ms/step - loss: 4.8845 - r2: 0.5745 - mae: 4.8845 - val_loss: 4.6946 - val_r2: 0.6080 - val_mae: 4.6946\n",
            "Epoch 48/700\n",
            "74/74 [==============================] - 0s 3ms/step - loss: 4.9007 - r2: 0.5810 - mae: 4.9007 - val_loss: 4.6492 - val_r2: 0.6170 - val_mae: 4.6492\n",
            "Epoch 49/700\n",
            "74/74 [==============================] - 0s 3ms/step - loss: 4.7871 - r2: 0.5899 - mae: 4.7871 - val_loss: 4.8192 - val_r2: 0.6020 - val_mae: 4.8192\n",
            "Epoch 50/700\n",
            "74/74 [==============================] - 0s 3ms/step - loss: 4.8003 - r2: 0.5905 - mae: 4.8003 - val_loss: 4.3129 - val_r2: 0.6656 - val_mae: 4.3129\n",
            "Epoch 51/700\n",
            "74/74 [==============================] - 0s 3ms/step - loss: 4.7320 - r2: 0.6059 - mae: 4.7320 - val_loss: 4.4914 - val_r2: 0.6493 - val_mae: 4.4914\n",
            "Epoch 52/700\n",
            "74/74 [==============================] - 0s 3ms/step - loss: 4.6734 - r2: 0.6083 - mae: 4.6734 - val_loss: 4.3845 - val_r2: 0.6627 - val_mae: 4.3845\n",
            "Epoch 53/700\n",
            "74/74 [==============================] - 0s 3ms/step - loss: 4.7255 - r2: 0.5995 - mae: 4.7255 - val_loss: 4.2095 - val_r2: 0.6762 - val_mae: 4.2095\n",
            "Epoch 54/700\n",
            "74/74 [==============================] - 0s 3ms/step - loss: 4.6725 - r2: 0.6046 - mae: 4.6725 - val_loss: 4.2784 - val_r2: 0.6766 - val_mae: 4.2784\n",
            "Epoch 55/700\n",
            "74/74 [==============================] - 0s 3ms/step - loss: 4.6892 - r2: 0.6056 - mae: 4.6892 - val_loss: 4.2941 - val_r2: 0.6787 - val_mae: 4.2941\n",
            "Epoch 56/700\n",
            "74/74 [==============================] - 0s 4ms/step - loss: 4.6130 - r2: 0.6128 - mae: 4.6130 - val_loss: 4.5181 - val_r2: 0.6459 - val_mae: 4.5181\n",
            "Epoch 57/700\n",
            "74/74 [==============================] - 0s 3ms/step - loss: 4.6226 - r2: 0.6164 - mae: 4.6226 - val_loss: 4.3078 - val_r2: 0.6656 - val_mae: 4.3078\n",
            "Epoch 58/700\n",
            "74/74 [==============================] - 0s 3ms/step - loss: 4.5280 - r2: 0.6305 - mae: 4.5280 - val_loss: 4.7155 - val_r2: 0.6184 - val_mae: 4.7155\n",
            "Epoch 59/700\n",
            "74/74 [==============================] - 0s 4ms/step - loss: 4.6040 - r2: 0.6162 - mae: 4.6040 - val_loss: 4.6418 - val_r2: 0.6334 - val_mae: 4.6418\n",
            "Epoch 60/700\n",
            "74/74 [==============================] - 0s 4ms/step - loss: 4.5523 - r2: 0.6239 - mae: 4.5523 - val_loss: 4.2492 - val_r2: 0.6803 - val_mae: 4.2492\n",
            "Epoch 61/700\n",
            "74/74 [==============================] - 0s 3ms/step - loss: 4.4846 - r2: 0.6245 - mae: 4.4846 - val_loss: 4.4039 - val_r2: 0.6525 - val_mae: 4.4039\n",
            "Epoch 62/700\n",
            "74/74 [==============================] - 0s 4ms/step - loss: 4.5054 - r2: 0.6310 - mae: 4.5054 - val_loss: 3.8857 - val_r2: 0.7073 - val_mae: 3.8857\n",
            "Epoch 63/700\n",
            "74/74 [==============================] - 0s 4ms/step - loss: 4.4582 - r2: 0.6374 - mae: 4.4582 - val_loss: 3.9297 - val_r2: 0.7101 - val_mae: 3.9297\n",
            "Epoch 64/700\n",
            "74/74 [==============================] - 0s 3ms/step - loss: 4.4881 - r2: 0.6285 - mae: 4.4881 - val_loss: 4.1672 - val_r2: 0.6851 - val_mae: 4.1672\n",
            "Epoch 65/700\n",
            "74/74 [==============================] - 0s 3ms/step - loss: 4.3679 - r2: 0.6460 - mae: 4.3679 - val_loss: 4.3387 - val_r2: 0.6699 - val_mae: 4.3387\n",
            "Epoch 66/700\n",
            "74/74 [==============================] - 0s 3ms/step - loss: 4.3480 - r2: 0.6514 - mae: 4.3480 - val_loss: 4.6886 - val_r2: 0.6294 - val_mae: 4.6886\n",
            "Epoch 67/700\n",
            "74/74 [==============================] - 0s 3ms/step - loss: 4.3072 - r2: 0.6581 - mae: 4.3072 - val_loss: 4.2968 - val_r2: 0.6642 - val_mae: 4.2968\n",
            "Epoch 68/700\n",
            "74/74 [==============================] - 0s 3ms/step - loss: 4.3181 - r2: 0.6571 - mae: 4.3181 - val_loss: 4.1636 - val_r2: 0.6929 - val_mae: 4.1636\n",
            "Epoch 69/700\n",
            "74/74 [==============================] - 0s 3ms/step - loss: 4.3597 - r2: 0.6452 - mae: 4.3597 - val_loss: 4.1927 - val_r2: 0.6855 - val_mae: 4.1927\n",
            "Epoch 70/700\n",
            "74/74 [==============================] - 0s 4ms/step - loss: 4.3230 - r2: 0.6445 - mae: 4.3230 - val_loss: 4.3341 - val_r2: 0.6648 - val_mae: 4.3341\n",
            "Epoch 71/700\n",
            "74/74 [==============================] - 0s 3ms/step - loss: 4.2897 - r2: 0.6542 - mae: 4.2897 - val_loss: 4.6312 - val_r2: 0.6325 - val_mae: 4.6312\n",
            "Epoch 72/700\n",
            "74/74 [==============================] - 0s 3ms/step - loss: 4.2904 - r2: 0.6463 - mae: 4.2904 - val_loss: 3.9126 - val_r2: 0.7116 - val_mae: 3.9126\n",
            "Epoch 73/700\n",
            "74/74 [==============================] - 0s 4ms/step - loss: 4.1997 - r2: 0.6735 - mae: 4.1997 - val_loss: 4.1290 - val_r2: 0.6934 - val_mae: 4.1290\n",
            "Epoch 74/700\n",
            "74/74 [==============================] - 0s 3ms/step - loss: 4.1551 - r2: 0.6730 - mae: 4.1551 - val_loss: 4.1814 - val_r2: 0.6870 - val_mae: 4.1814\n",
            "Epoch 75/700\n",
            "74/74 [==============================] - 0s 3ms/step - loss: 4.1818 - r2: 0.6705 - mae: 4.1818 - val_loss: 4.0823 - val_r2: 0.7001 - val_mae: 4.0823\n",
            "Epoch 76/700\n",
            "74/74 [==============================] - 0s 3ms/step - loss: 4.2229 - r2: 0.6623 - mae: 4.2229 - val_loss: 3.9421 - val_r2: 0.7008 - val_mae: 3.9421\n",
            "Epoch 77/700\n",
            "74/74 [==============================] - 0s 3ms/step - loss: 4.1835 - r2: 0.6730 - mae: 4.1835 - val_loss: 4.5222 - val_r2: 0.6400 - val_mae: 4.5222\n",
            "Epoch 78/700\n",
            "74/74 [==============================] - 0s 3ms/step - loss: 4.1719 - r2: 0.6723 - mae: 4.1719 - val_loss: 3.8664 - val_r2: 0.7173 - val_mae: 3.8664\n",
            "Epoch 79/700\n",
            "74/74 [==============================] - 0s 3ms/step - loss: 4.1069 - r2: 0.6809 - mae: 4.1069 - val_loss: 4.0192 - val_r2: 0.7088 - val_mae: 4.0192\n",
            "Epoch 80/700\n",
            "74/74 [==============================] - 0s 3ms/step - loss: 4.0681 - r2: 0.6860 - mae: 4.0681 - val_loss: 3.9054 - val_r2: 0.7067 - val_mae: 3.9054\n",
            "Epoch 81/700\n",
            "74/74 [==============================] - 0s 3ms/step - loss: 4.0968 - r2: 0.6809 - mae: 4.0968 - val_loss: 4.2993 - val_r2: 0.6743 - val_mae: 4.2993\n",
            "Epoch 82/700\n",
            "74/74 [==============================] - 0s 3ms/step - loss: 4.0909 - r2: 0.6773 - mae: 4.0909 - val_loss: 4.0709 - val_r2: 0.6967 - val_mae: 4.0709\n",
            "Epoch 83/700\n",
            "74/74 [==============================] - 0s 4ms/step - loss: 4.0510 - r2: 0.6871 - mae: 4.0510 - val_loss: 4.0780 - val_r2: 0.6867 - val_mae: 4.0780\n",
            "Epoch 84/700\n",
            "74/74 [==============================] - 0s 3ms/step - loss: 4.0228 - r2: 0.6898 - mae: 4.0228 - val_loss: 4.0940 - val_r2: 0.6916 - val_mae: 4.0940\n",
            "Epoch 85/700\n",
            "74/74 [==============================] - 0s 3ms/step - loss: 4.0650 - r2: 0.6828 - mae: 4.0650 - val_loss: 3.8851 - val_r2: 0.7100 - val_mae: 3.8851\n",
            "Epoch 86/700\n",
            "74/74 [==============================] - 0s 3ms/step - loss: 3.9883 - r2: 0.6956 - mae: 3.9883 - val_loss: 4.1515 - val_r2: 0.6775 - val_mae: 4.1515\n",
            "Epoch 87/700\n",
            "74/74 [==============================] - 0s 4ms/step - loss: 3.9474 - r2: 0.6942 - mae: 3.9474 - val_loss: 3.9937 - val_r2: 0.6983 - val_mae: 3.9937\n",
            "Epoch 88/700\n",
            "74/74 [==============================] - 0s 3ms/step - loss: 3.9737 - r2: 0.6924 - mae: 3.9737 - val_loss: 3.8987 - val_r2: 0.7066 - val_mae: 3.8987\n",
            "Epoch 89/700\n",
            "74/74 [==============================] - 0s 4ms/step - loss: 3.9455 - r2: 0.6953 - mae: 3.9455 - val_loss: 3.9887 - val_r2: 0.7080 - val_mae: 3.9887\n",
            "Epoch 90/700\n",
            "74/74 [==============================] - 0s 4ms/step - loss: 3.9087 - r2: 0.7089 - mae: 3.9087 - val_loss: 4.0302 - val_r2: 0.7110 - val_mae: 4.0302\n",
            "Epoch 91/700\n",
            "74/74 [==============================] - 0s 3ms/step - loss: 3.9305 - r2: 0.7048 - mae: 3.9305 - val_loss: 4.2150 - val_r2: 0.6908 - val_mae: 4.2150\n",
            "Epoch 92/700\n",
            "74/74 [==============================] - 0s 3ms/step - loss: 3.9231 - r2: 0.6979 - mae: 3.9231 - val_loss: 3.9976 - val_r2: 0.6999 - val_mae: 3.9976\n",
            "Epoch 93/700\n",
            "74/74 [==============================] - 0s 3ms/step - loss: 3.9478 - r2: 0.7000 - mae: 3.9478 - val_loss: 3.9247 - val_r2: 0.7161 - val_mae: 3.9247\n",
            "Epoch 94/700\n",
            "74/74 [==============================] - 0s 3ms/step - loss: 3.8593 - r2: 0.7089 - mae: 3.8593 - val_loss: 4.2616 - val_r2: 0.6768 - val_mae: 4.2616\n",
            "Epoch 95/700\n",
            "74/74 [==============================] - 0s 3ms/step - loss: 3.8839 - r2: 0.7041 - mae: 3.8839 - val_loss: 4.0116 - val_r2: 0.6982 - val_mae: 4.0116\n",
            "Epoch 96/700\n",
            "74/74 [==============================] - 0s 3ms/step - loss: 3.8445 - r2: 0.7097 - mae: 3.8445 - val_loss: 3.6656 - val_r2: 0.7334 - val_mae: 3.6656\n",
            "Epoch 97/700\n",
            "74/74 [==============================] - 0s 4ms/step - loss: 3.7610 - r2: 0.7218 - mae: 3.7610 - val_loss: 3.7013 - val_r2: 0.7303 - val_mae: 3.7013\n",
            "Epoch 98/700\n",
            "74/74 [==============================] - 0s 3ms/step - loss: 3.8085 - r2: 0.7126 - mae: 3.8085 - val_loss: 4.0376 - val_r2: 0.7046 - val_mae: 4.0376\n",
            "Epoch 99/700\n",
            "74/74 [==============================] - 0s 3ms/step - loss: 3.8213 - r2: 0.7150 - mae: 3.8213 - val_loss: 3.7518 - val_r2: 0.7358 - val_mae: 3.7518\n",
            "Epoch 100/700\n",
            "74/74 [==============================] - 0s 3ms/step - loss: 3.7604 - r2: 0.7164 - mae: 3.7604 - val_loss: 3.5319 - val_r2: 0.7511 - val_mae: 3.5319\n",
            "Epoch 101/700\n",
            "74/74 [==============================] - 0s 3ms/step - loss: 3.7088 - r2: 0.7216 - mae: 3.7088 - val_loss: 3.9068 - val_r2: 0.7210 - val_mae: 3.9068\n",
            "Epoch 102/700\n",
            "74/74 [==============================] - 0s 3ms/step - loss: 3.7830 - r2: 0.7137 - mae: 3.7830 - val_loss: 3.6449 - val_r2: 0.7406 - val_mae: 3.6449\n",
            "Epoch 103/700\n",
            "74/74 [==============================] - 0s 3ms/step - loss: 3.7212 - r2: 0.7199 - mae: 3.7212 - val_loss: 3.8134 - val_r2: 0.7247 - val_mae: 3.8134\n",
            "Epoch 104/700\n",
            "74/74 [==============================] - 0s 3ms/step - loss: 3.7519 - r2: 0.7174 - mae: 3.7519 - val_loss: 3.9778 - val_r2: 0.7056 - val_mae: 3.9778\n",
            "Epoch 105/700\n",
            "74/74 [==============================] - 0s 3ms/step - loss: 3.6794 - r2: 0.7263 - mae: 3.6794 - val_loss: 3.7243 - val_r2: 0.7301 - val_mae: 3.7243\n",
            "Epoch 106/700\n",
            "74/74 [==============================] - 0s 3ms/step - loss: 3.6926 - r2: 0.7208 - mae: 3.6926 - val_loss: 3.3932 - val_r2: 0.7532 - val_mae: 3.3932\n",
            "Epoch 107/700\n",
            "74/74 [==============================] - 0s 4ms/step - loss: 3.7372 - r2: 0.7179 - mae: 3.7372 - val_loss: 3.7901 - val_r2: 0.7305 - val_mae: 3.7901\n",
            "Epoch 108/700\n",
            "74/74 [==============================] - 0s 4ms/step - loss: 3.7209 - r2: 0.7194 - mae: 3.7209 - val_loss: 3.5973 - val_r2: 0.7502 - val_mae: 3.5973\n",
            "Epoch 109/700\n",
            "74/74 [==============================] - 0s 3ms/step - loss: 3.6332 - r2: 0.7384 - mae: 3.6332 - val_loss: 3.5191 - val_r2: 0.7412 - val_mae: 3.5191\n",
            "Epoch 110/700\n",
            "74/74 [==============================] - 0s 4ms/step - loss: 3.6823 - r2: 0.7246 - mae: 3.6823 - val_loss: 3.4885 - val_r2: 0.7554 - val_mae: 3.4885\n",
            "Epoch 111/700\n",
            "74/74 [==============================] - 0s 3ms/step - loss: 3.6186 - r2: 0.7333 - mae: 3.6186 - val_loss: 3.7717 - val_r2: 0.7265 - val_mae: 3.7717\n",
            "Epoch 112/700\n",
            "74/74 [==============================] - 0s 3ms/step - loss: 3.6190 - r2: 0.7317 - mae: 3.6190 - val_loss: 3.7826 - val_r2: 0.7296 - val_mae: 3.7826\n",
            "Epoch 113/700\n",
            "74/74 [==============================] - 0s 3ms/step - loss: 3.6350 - r2: 0.7305 - mae: 3.6350 - val_loss: 3.6533 - val_r2: 0.7464 - val_mae: 3.6533\n",
            "Epoch 114/700\n",
            "74/74 [==============================] - 0s 4ms/step - loss: 3.6115 - r2: 0.7324 - mae: 3.6115 - val_loss: 3.4211 - val_r2: 0.7693 - val_mae: 3.4211\n",
            "Epoch 115/700\n",
            "74/74 [==============================] - 0s 3ms/step - loss: 3.5888 - r2: 0.7322 - mae: 3.5888 - val_loss: 3.3972 - val_r2: 0.7607 - val_mae: 3.3972\n",
            "Epoch 116/700\n",
            "74/74 [==============================] - 0s 3ms/step - loss: 3.5690 - r2: 0.7412 - mae: 3.5690 - val_loss: 3.5687 - val_r2: 0.7543 - val_mae: 3.5687\n",
            "Epoch 117/700\n",
            "74/74 [==============================] - 0s 4ms/step - loss: 3.5870 - r2: 0.7410 - mae: 3.5870 - val_loss: 3.3165 - val_r2: 0.7744 - val_mae: 3.3165\n",
            "Epoch 118/700\n",
            "74/74 [==============================] - 0s 3ms/step - loss: 3.5281 - r2: 0.7480 - mae: 3.5281 - val_loss: 3.7570 - val_r2: 0.7268 - val_mae: 3.7570\n",
            "Epoch 119/700\n",
            "74/74 [==============================] - 0s 4ms/step - loss: 3.5779 - r2: 0.7383 - mae: 3.5779 - val_loss: 3.3287 - val_r2: 0.7707 - val_mae: 3.3287\n",
            "Epoch 120/700\n",
            "74/74 [==============================] - 0s 3ms/step - loss: 3.4522 - r2: 0.7515 - mae: 3.4522 - val_loss: 3.7033 - val_r2: 0.7400 - val_mae: 3.7033\n",
            "Epoch 121/700\n",
            "74/74 [==============================] - 0s 4ms/step - loss: 3.4845 - r2: 0.7504 - mae: 3.4845 - val_loss: 3.5857 - val_r2: 0.7561 - val_mae: 3.5857\n",
            "Epoch 122/700\n",
            "74/74 [==============================] - 0s 4ms/step - loss: 3.4889 - r2: 0.7473 - mae: 3.4889 - val_loss: 3.5638 - val_r2: 0.7587 - val_mae: 3.5638\n",
            "Epoch 123/700\n",
            "74/74 [==============================] - 0s 3ms/step - loss: 3.5510 - r2: 0.7393 - mae: 3.5510 - val_loss: 3.4855 - val_r2: 0.7641 - val_mae: 3.4855\n",
            "Epoch 124/700\n",
            "74/74 [==============================] - 0s 3ms/step - loss: 3.4406 - r2: 0.7520 - mae: 3.4406 - val_loss: 3.4286 - val_r2: 0.7628 - val_mae: 3.4286\n",
            "Epoch 125/700\n",
            "74/74 [==============================] - 0s 3ms/step - loss: 3.4486 - r2: 0.7505 - mae: 3.4486 - val_loss: 3.6455 - val_r2: 0.7488 - val_mae: 3.6455\n",
            "Epoch 126/700\n",
            "74/74 [==============================] - 0s 3ms/step - loss: 3.3848 - r2: 0.7600 - mae: 3.3848 - val_loss: 3.1980 - val_r2: 0.7832 - val_mae: 3.1980\n",
            "Epoch 127/700\n",
            "74/74 [==============================] - 0s 4ms/step - loss: 3.4457 - r2: 0.7509 - mae: 3.4457 - val_loss: 3.1417 - val_r2: 0.7933 - val_mae: 3.1417\n",
            "Epoch 128/700\n",
            "74/74 [==============================] - 0s 3ms/step - loss: 3.4198 - r2: 0.7580 - mae: 3.4198 - val_loss: 3.1927 - val_r2: 0.7874 - val_mae: 3.1927\n",
            "Epoch 129/700\n",
            "74/74 [==============================] - 0s 3ms/step - loss: 3.4910 - r2: 0.7495 - mae: 3.4910 - val_loss: 3.5408 - val_r2: 0.7646 - val_mae: 3.5408\n",
            "Epoch 130/700\n",
            "74/74 [==============================] - 0s 4ms/step - loss: 3.3699 - r2: 0.7646 - mae: 3.3699 - val_loss: 3.4212 - val_r2: 0.7670 - val_mae: 3.4212\n",
            "Epoch 131/700\n",
            "74/74 [==============================] - 0s 3ms/step - loss: 3.3856 - r2: 0.7538 - mae: 3.3856 - val_loss: 3.2952 - val_r2: 0.7772 - val_mae: 3.2952\n",
            "Epoch 132/700\n",
            "74/74 [==============================] - 0s 4ms/step - loss: 3.3192 - r2: 0.7699 - mae: 3.3192 - val_loss: 3.5911 - val_r2: 0.7579 - val_mae: 3.5911\n",
            "Epoch 133/700\n",
            "74/74 [==============================] - 0s 3ms/step - loss: 3.3709 - r2: 0.7628 - mae: 3.3709 - val_loss: 3.4560 - val_r2: 0.7702 - val_mae: 3.4560\n",
            "Epoch 134/700\n",
            "74/74 [==============================] - 0s 4ms/step - loss: 3.3394 - r2: 0.7629 - mae: 3.3394 - val_loss: 3.3235 - val_r2: 0.7858 - val_mae: 3.3235\n",
            "Epoch 135/700\n",
            "74/74 [==============================] - 0s 3ms/step - loss: 3.3807 - r2: 0.7603 - mae: 3.3807 - val_loss: 3.1024 - val_r2: 0.7992 - val_mae: 3.1024\n",
            "Epoch 136/700\n",
            "74/74 [==============================] - 0s 4ms/step - loss: 3.2497 - r2: 0.7756 - mae: 3.2497 - val_loss: 3.5773 - val_r2: 0.7550 - val_mae: 3.5773\n",
            "Epoch 137/700\n",
            "74/74 [==============================] - 0s 4ms/step - loss: 3.2998 - r2: 0.7722 - mae: 3.2998 - val_loss: 3.3036 - val_r2: 0.7892 - val_mae: 3.3036\n",
            "Epoch 138/700\n",
            "74/74 [==============================] - 0s 3ms/step - loss: 3.2857 - r2: 0.7699 - mae: 3.2857 - val_loss: 3.2160 - val_r2: 0.7934 - val_mae: 3.2160\n",
            "Epoch 139/700\n",
            "74/74 [==============================] - 0s 4ms/step - loss: 3.2523 - r2: 0.7683 - mae: 3.2523 - val_loss: 3.1157 - val_r2: 0.7969 - val_mae: 3.1157\n",
            "Epoch 140/700\n",
            "74/74 [==============================] - 0s 4ms/step - loss: 3.2387 - r2: 0.7747 - mae: 3.2387 - val_loss: 3.2262 - val_r2: 0.7931 - val_mae: 3.2262\n",
            "Epoch 141/700\n",
            "74/74 [==============================] - 0s 4ms/step - loss: 3.2284 - r2: 0.7725 - mae: 3.2284 - val_loss: 3.7108 - val_r2: 0.7505 - val_mae: 3.7108\n",
            "Epoch 142/700\n",
            "74/74 [==============================] - 0s 4ms/step - loss: 3.2035 - r2: 0.7776 - mae: 3.2035 - val_loss: 2.9572 - val_r2: 0.8100 - val_mae: 2.9572\n",
            "Epoch 143/700\n",
            "74/74 [==============================] - 0s 4ms/step - loss: 3.2867 - r2: 0.7731 - mae: 3.2867 - val_loss: 3.2736 - val_r2: 0.7901 - val_mae: 3.2736\n",
            "Epoch 144/700\n",
            "74/74 [==============================] - 0s 4ms/step - loss: 3.2104 - r2: 0.7836 - mae: 3.2104 - val_loss: 3.2584 - val_r2: 0.7865 - val_mae: 3.2584\n",
            "Epoch 145/700\n",
            "74/74 [==============================] - 0s 4ms/step - loss: 3.2026 - r2: 0.7821 - mae: 3.2026 - val_loss: 3.1468 - val_r2: 0.7895 - val_mae: 3.1468\n",
            "Epoch 146/700\n",
            "74/74 [==============================] - 0s 4ms/step - loss: 3.2402 - r2: 0.7792 - mae: 3.2402 - val_loss: 3.0610 - val_r2: 0.8097 - val_mae: 3.0610\n",
            "Epoch 147/700\n",
            "74/74 [==============================] - 0s 3ms/step - loss: 3.2098 - r2: 0.7785 - mae: 3.2098 - val_loss: 3.2433 - val_r2: 0.7915 - val_mae: 3.2433\n",
            "Epoch 148/700\n",
            "74/74 [==============================] - 0s 4ms/step - loss: 3.1984 - r2: 0.7880 - mae: 3.1984 - val_loss: 3.1878 - val_r2: 0.7984 - val_mae: 3.1878\n",
            "Epoch 149/700\n",
            "74/74 [==============================] - 0s 4ms/step - loss: 3.1667 - r2: 0.7861 - mae: 3.1667 - val_loss: 3.1253 - val_r2: 0.7937 - val_mae: 3.1253\n",
            "Epoch 150/700\n",
            "74/74 [==============================] - 0s 4ms/step - loss: 3.1804 - r2: 0.7837 - mae: 3.1804 - val_loss: 3.0866 - val_r2: 0.8010 - val_mae: 3.0866\n",
            "Epoch 151/700\n",
            "74/74 [==============================] - 0s 3ms/step - loss: 3.1811 - r2: 0.7884 - mae: 3.1811 - val_loss: 3.1295 - val_r2: 0.8005 - val_mae: 3.1295\n",
            "Epoch 152/700\n",
            "74/74 [==============================] - 0s 3ms/step - loss: 3.1520 - r2: 0.7873 - mae: 3.1520 - val_loss: 3.3695 - val_r2: 0.7928 - val_mae: 3.3695\n",
            "Epoch 153/700\n",
            "74/74 [==============================] - 0s 4ms/step - loss: 3.2138 - r2: 0.7817 - mae: 3.2138 - val_loss: 3.4554 - val_r2: 0.7752 - val_mae: 3.4554\n",
            "Epoch 154/700\n",
            "74/74 [==============================] - 0s 4ms/step - loss: 3.1514 - r2: 0.7862 - mae: 3.1514 - val_loss: 2.8602 - val_r2: 0.8277 - val_mae: 2.8602\n",
            "Epoch 155/700\n",
            "74/74 [==============================] - 0s 3ms/step - loss: 3.1261 - r2: 0.7898 - mae: 3.1261 - val_loss: 2.9919 - val_r2: 0.8191 - val_mae: 2.9919\n",
            "Epoch 156/700\n",
            "74/74 [==============================] - 0s 4ms/step - loss: 3.0820 - r2: 0.7945 - mae: 3.0820 - val_loss: 3.1342 - val_r2: 0.8032 - val_mae: 3.1342\n",
            "Epoch 157/700\n",
            "74/74 [==============================] - 0s 4ms/step - loss: 3.1433 - r2: 0.7871 - mae: 3.1433 - val_loss: 3.2339 - val_r2: 0.7996 - val_mae: 3.2339\n",
            "Epoch 158/700\n",
            "74/74 [==============================] - 0s 3ms/step - loss: 3.1109 - r2: 0.7953 - mae: 3.1109 - val_loss: 2.8896 - val_r2: 0.8247 - val_mae: 2.8896\n",
            "Epoch 159/700\n",
            "74/74 [==============================] - 0s 4ms/step - loss: 3.1183 - r2: 0.7934 - mae: 3.1183 - val_loss: 2.9194 - val_r2: 0.8256 - val_mae: 2.9194\n",
            "Epoch 160/700\n",
            "74/74 [==============================] - 0s 4ms/step - loss: 3.0907 - r2: 0.7959 - mae: 3.0907 - val_loss: 2.9349 - val_r2: 0.8197 - val_mae: 2.9349\n",
            "Epoch 161/700\n",
            "74/74 [==============================] - 0s 3ms/step - loss: 3.1024 - r2: 0.7958 - mae: 3.1024 - val_loss: 2.9577 - val_r2: 0.8228 - val_mae: 2.9577\n",
            "Epoch 162/700\n",
            "74/74 [==============================] - 0s 3ms/step - loss: 3.0700 - r2: 0.7977 - mae: 3.0700 - val_loss: 2.8932 - val_r2: 0.8360 - val_mae: 2.8932\n",
            "Epoch 163/700\n",
            "74/74 [==============================] - 0s 3ms/step - loss: 3.0386 - r2: 0.8000 - mae: 3.0386 - val_loss: 2.9689 - val_r2: 0.8264 - val_mae: 2.9689\n",
            "Epoch 164/700\n",
            "74/74 [==============================] - 0s 4ms/step - loss: 3.0276 - r2: 0.7951 - mae: 3.0276 - val_loss: 3.0687 - val_r2: 0.8079 - val_mae: 3.0687\n",
            "Epoch 165/700\n",
            "74/74 [==============================] - 0s 4ms/step - loss: 2.9609 - r2: 0.8105 - mae: 2.9609 - val_loss: 2.8400 - val_r2: 0.8284 - val_mae: 2.8400\n",
            "Epoch 166/700\n",
            "74/74 [==============================] - 0s 3ms/step - loss: 2.9753 - r2: 0.8036 - mae: 2.9753 - val_loss: 3.1189 - val_r2: 0.8159 - val_mae: 3.1189\n",
            "Epoch 167/700\n",
            "74/74 [==============================] - 0s 3ms/step - loss: 2.8926 - r2: 0.8165 - mae: 2.8926 - val_loss: 2.6690 - val_r2: 0.8461 - val_mae: 2.6690\n",
            "Epoch 168/700\n",
            "74/74 [==============================] - 0s 3ms/step - loss: 2.9755 - r2: 0.8039 - mae: 2.9755 - val_loss: 3.1537 - val_r2: 0.8119 - val_mae: 3.1537\n",
            "Epoch 169/700\n",
            "74/74 [==============================] - 0s 3ms/step - loss: 2.9723 - r2: 0.8087 - mae: 2.9723 - val_loss: 2.8477 - val_r2: 0.8289 - val_mae: 2.8477\n",
            "Epoch 170/700\n",
            "74/74 [==============================] - 0s 3ms/step - loss: 3.0040 - r2: 0.8096 - mae: 3.0040 - val_loss: 2.9923 - val_r2: 0.8090 - val_mae: 2.9923\n",
            "Epoch 171/700\n",
            "74/74 [==============================] - 0s 3ms/step - loss: 2.9178 - r2: 0.8122 - mae: 2.9178 - val_loss: 2.7409 - val_r2: 0.8408 - val_mae: 2.7409\n",
            "Epoch 172/700\n",
            "74/74 [==============================] - 0s 4ms/step - loss: 2.9460 - r2: 0.8073 - mae: 2.9460 - val_loss: 2.9934 - val_r2: 0.8230 - val_mae: 2.9934\n",
            "Epoch 173/700\n",
            "74/74 [==============================] - 0s 3ms/step - loss: 2.9121 - r2: 0.8142 - mae: 2.9121 - val_loss: 2.7536 - val_r2: 0.8381 - val_mae: 2.7536\n",
            "Epoch 174/700\n",
            "74/74 [==============================] - 0s 3ms/step - loss: 2.9514 - r2: 0.8079 - mae: 2.9514 - val_loss: 2.5770 - val_r2: 0.8542 - val_mae: 2.5770\n",
            "Epoch 175/700\n",
            "74/74 [==============================] - 0s 4ms/step - loss: 2.8629 - r2: 0.8220 - mae: 2.8629 - val_loss: 2.8269 - val_r2: 0.8432 - val_mae: 2.8269\n",
            "Epoch 176/700\n",
            "74/74 [==============================] - 0s 3ms/step - loss: 2.9265 - r2: 0.8120 - mae: 2.9265 - val_loss: 2.8621 - val_r2: 0.8430 - val_mae: 2.8621\n",
            "Epoch 177/700\n",
            "74/74 [==============================] - 0s 3ms/step - loss: 2.8826 - r2: 0.8127 - mae: 2.8826 - val_loss: 2.4533 - val_r2: 0.8636 - val_mae: 2.4533\n",
            "Epoch 178/700\n",
            "74/74 [==============================] - 0s 3ms/step - loss: 2.8706 - r2: 0.8175 - mae: 2.8706 - val_loss: 2.8529 - val_r2: 0.8347 - val_mae: 2.8529\n",
            "Epoch 179/700\n",
            "74/74 [==============================] - 0s 3ms/step - loss: 2.9126 - r2: 0.8176 - mae: 2.9126 - val_loss: 3.0400 - val_r2: 0.8276 - val_mae: 3.0400\n",
            "Epoch 180/700\n",
            "74/74 [==============================] - 0s 3ms/step - loss: 2.8404 - r2: 0.8126 - mae: 2.8404 - val_loss: 2.8225 - val_r2: 0.8324 - val_mae: 2.8225\n",
            "Epoch 181/700\n",
            "74/74 [==============================] - 0s 3ms/step - loss: 2.8733 - r2: 0.8183 - mae: 2.8733 - val_loss: 2.5812 - val_r2: 0.8574 - val_mae: 2.5812\n",
            "Epoch 182/700\n",
            "74/74 [==============================] - 0s 3ms/step - loss: 2.8819 - r2: 0.8208 - mae: 2.8819 - val_loss: 2.9363 - val_r2: 0.8338 - val_mae: 2.9363\n",
            "Epoch 183/700\n",
            "74/74 [==============================] - 0s 3ms/step - loss: 2.8726 - r2: 0.8195 - mae: 2.8726 - val_loss: 2.7041 - val_r2: 0.8392 - val_mae: 2.7041\n",
            "Epoch 184/700\n",
            "74/74 [==============================] - 0s 3ms/step - loss: 2.8776 - r2: 0.8144 - mae: 2.8776 - val_loss: 2.7724 - val_r2: 0.8414 - val_mae: 2.7724\n",
            "Epoch 185/700\n",
            "74/74 [==============================] - 0s 3ms/step - loss: 2.8300 - r2: 0.8206 - mae: 2.8300 - val_loss: 2.7993 - val_r2: 0.8400 - val_mae: 2.7993\n",
            "Epoch 186/700\n",
            "74/74 [==============================] - 0s 4ms/step - loss: 2.8110 - r2: 0.8242 - mae: 2.8110 - val_loss: 2.7843 - val_r2: 0.8488 - val_mae: 2.7843\n",
            "Epoch 187/700\n",
            "74/74 [==============================] - 0s 4ms/step - loss: 2.7841 - r2: 0.8287 - mae: 2.7841 - val_loss: 2.8977 - val_r2: 0.8422 - val_mae: 2.8977\n",
            "Epoch 188/700\n",
            "74/74 [==============================] - 0s 3ms/step - loss: 2.7504 - r2: 0.8279 - mae: 2.7504 - val_loss: 2.8803 - val_r2: 0.8374 - val_mae: 2.8803\n",
            "Epoch 189/700\n",
            "74/74 [==============================] - 0s 4ms/step - loss: 2.8173 - r2: 0.8210 - mae: 2.8173 - val_loss: 2.8363 - val_r2: 0.8465 - val_mae: 2.8363\n",
            "Epoch 190/700\n",
            "74/74 [==============================] - 0s 4ms/step - loss: 2.7055 - r2: 0.8384 - mae: 2.7055 - val_loss: 2.5596 - val_r2: 0.8487 - val_mae: 2.5596\n",
            "Epoch 191/700\n",
            "74/74 [==============================] - 0s 3ms/step - loss: 2.8069 - r2: 0.8205 - mae: 2.8069 - val_loss: 2.5833 - val_r2: 0.8553 - val_mae: 2.5833\n",
            "Epoch 192/700\n",
            "74/74 [==============================] - 0s 4ms/step - loss: 2.7719 - r2: 0.8210 - mae: 2.7719 - val_loss: 2.7054 - val_r2: 0.8432 - val_mae: 2.7054\n",
            "Epoch 193/700\n",
            "74/74 [==============================] - 0s 3ms/step - loss: 2.7892 - r2: 0.8288 - mae: 2.7892 - val_loss: 2.8087 - val_r2: 0.8468 - val_mae: 2.8087\n",
            "Epoch 194/700\n",
            "74/74 [==============================] - 0s 3ms/step - loss: 2.7346 - r2: 0.8330 - mae: 2.7346 - val_loss: 2.8143 - val_r2: 0.8378 - val_mae: 2.8143\n",
            "Epoch 195/700\n",
            "74/74 [==============================] - 0s 4ms/step - loss: 2.7922 - r2: 0.8205 - mae: 2.7922 - val_loss: 2.5326 - val_r2: 0.8591 - val_mae: 2.5326\n",
            "Epoch 196/700\n",
            "74/74 [==============================] - 0s 3ms/step - loss: 2.7421 - r2: 0.8248 - mae: 2.7421 - val_loss: 2.6498 - val_r2: 0.8557 - val_mae: 2.6498\n",
            "Epoch 197/700\n",
            "74/74 [==============================] - 0s 4ms/step - loss: 2.7383 - r2: 0.8257 - mae: 2.7383 - val_loss: 2.6354 - val_r2: 0.8546 - val_mae: 2.6354\n",
            "Epoch 198/700\n",
            "74/74 [==============================] - 0s 3ms/step - loss: 2.7702 - r2: 0.8295 - mae: 2.7702 - val_loss: 2.7249 - val_r2: 0.8475 - val_mae: 2.7249\n",
            "Epoch 199/700\n",
            "74/74 [==============================] - 0s 4ms/step - loss: 2.7385 - r2: 0.8256 - mae: 2.7385 - val_loss: 2.6414 - val_r2: 0.8627 - val_mae: 2.6414\n",
            "Epoch 200/700\n",
            "74/74 [==============================] - 0s 3ms/step - loss: 2.7540 - r2: 0.8247 - mae: 2.7540 - val_loss: 2.7728 - val_r2: 0.8483 - val_mae: 2.7728\n",
            "Epoch 201/700\n",
            "74/74 [==============================] - 0s 3ms/step - loss: 2.7105 - r2: 0.8391 - mae: 2.7105 - val_loss: 2.7426 - val_r2: 0.8564 - val_mae: 2.7426\n",
            "Epoch 202/700\n",
            "74/74 [==============================] - 0s 4ms/step - loss: 2.7071 - r2: 0.8297 - mae: 2.7071 - val_loss: 2.4954 - val_r2: 0.8699 - val_mae: 2.4954\n",
            "Epoch 203/700\n",
            "74/74 [==============================] - 0s 3ms/step - loss: 2.6806 - r2: 0.8346 - mae: 2.6806 - val_loss: 2.4190 - val_r2: 0.8745 - val_mae: 2.4190\n",
            "Epoch 204/700\n",
            "74/74 [==============================] - 0s 4ms/step - loss: 2.6867 - r2: 0.8367 - mae: 2.6867 - val_loss: 2.7762 - val_r2: 0.8456 - val_mae: 2.7762\n",
            "Epoch 205/700\n",
            "74/74 [==============================] - 0s 3ms/step - loss: 2.6954 - r2: 0.8351 - mae: 2.6954 - val_loss: 2.7132 - val_r2: 0.8589 - val_mae: 2.7132\n",
            "Epoch 206/700\n",
            "74/74 [==============================] - 0s 4ms/step - loss: 2.6764 - r2: 0.8373 - mae: 2.6764 - val_loss: 2.5289 - val_r2: 0.8703 - val_mae: 2.5289\n",
            "Epoch 207/700\n",
            "74/74 [==============================] - 0s 4ms/step - loss: 2.6793 - r2: 0.8353 - mae: 2.6793 - val_loss: 2.5873 - val_r2: 0.8615 - val_mae: 2.5873\n",
            "Epoch 208/700\n",
            "74/74 [==============================] - 0s 4ms/step - loss: 2.6529 - r2: 0.8389 - mae: 2.6529 - val_loss: 2.6661 - val_r2: 0.8565 - val_mae: 2.6661\n",
            "Epoch 209/700\n",
            "74/74 [==============================] - 0s 4ms/step - loss: 2.6244 - r2: 0.8425 - mae: 2.6244 - val_loss: 2.6085 - val_r2: 0.8592 - val_mae: 2.6085\n",
            "Epoch 210/700\n",
            "74/74 [==============================] - 0s 3ms/step - loss: 2.6162 - r2: 0.8419 - mae: 2.6162 - val_loss: 2.7085 - val_r2: 0.8503 - val_mae: 2.7085\n",
            "Epoch 211/700\n",
            "74/74 [==============================] - 0s 3ms/step - loss: 2.6591 - r2: 0.8385 - mae: 2.6591 - val_loss: 2.5402 - val_r2: 0.8626 - val_mae: 2.5402\n",
            "Epoch 212/700\n",
            "74/74 [==============================] - 0s 4ms/step - loss: 2.6210 - r2: 0.8421 - mae: 2.6210 - val_loss: 2.7246 - val_r2: 0.8479 - val_mae: 2.7246\n",
            "Epoch 213/700\n",
            "74/74 [==============================] - 0s 4ms/step - loss: 2.7333 - r2: 0.8216 - mae: 2.7333 - val_loss: 2.4422 - val_r2: 0.8701 - val_mae: 2.4422\n",
            "Epoch 214/700\n",
            "74/74 [==============================] - 0s 3ms/step - loss: 2.6017 - r2: 0.8475 - mae: 2.6017 - val_loss: 2.7330 - val_r2: 0.8506 - val_mae: 2.7330\n",
            "Epoch 215/700\n",
            "74/74 [==============================] - 0s 4ms/step - loss: 2.6125 - r2: 0.8336 - mae: 2.6125 - val_loss: 2.4286 - val_r2: 0.8752 - val_mae: 2.4286\n",
            "Epoch 216/700\n",
            "74/74 [==============================] - 0s 4ms/step - loss: 2.6086 - r2: 0.8392 - mae: 2.6086 - val_loss: 2.7147 - val_r2: 0.8510 - val_mae: 2.7147\n",
            "Epoch 217/700\n",
            "74/74 [==============================] - 0s 3ms/step - loss: 2.5891 - r2: 0.8465 - mae: 2.5891 - val_loss: 2.5674 - val_r2: 0.8653 - val_mae: 2.5674\n",
            "Epoch 218/700\n",
            "74/74 [==============================] - 0s 3ms/step - loss: 2.5523 - r2: 0.8493 - mae: 2.5523 - val_loss: 2.4650 - val_r2: 0.8739 - val_mae: 2.4650\n",
            "Epoch 219/700\n",
            "74/74 [==============================] - 0s 3ms/step - loss: 2.5551 - r2: 0.8405 - mae: 2.5551 - val_loss: 2.4604 - val_r2: 0.8634 - val_mae: 2.4604\n",
            "Epoch 220/700\n",
            "74/74 [==============================] - 0s 4ms/step - loss: 2.6323 - r2: 0.8321 - mae: 2.6323 - val_loss: 2.3095 - val_r2: 0.8736 - val_mae: 2.3095\n",
            "Epoch 221/700\n",
            "74/74 [==============================] - 0s 4ms/step - loss: 2.5803 - r2: 0.8419 - mae: 2.5803 - val_loss: 2.7318 - val_r2: 0.8541 - val_mae: 2.7318\n",
            "Epoch 222/700\n",
            "74/74 [==============================] - 0s 3ms/step - loss: 2.5592 - r2: 0.8494 - mae: 2.5592 - val_loss: 2.7342 - val_r2: 0.8505 - val_mae: 2.7342\n",
            "Epoch 223/700\n",
            "74/74 [==============================] - 0s 3ms/step - loss: 2.5995 - r2: 0.8407 - mae: 2.5995 - val_loss: 2.5206 - val_r2: 0.8676 - val_mae: 2.5206\n",
            "Epoch 224/700\n",
            "74/74 [==============================] - 0s 3ms/step - loss: 2.5511 - r2: 0.8470 - mae: 2.5511 - val_loss: 2.4663 - val_r2: 0.8672 - val_mae: 2.4663\n",
            "Epoch 225/700\n",
            "74/74 [==============================] - 0s 3ms/step - loss: 2.4860 - r2: 0.8551 - mae: 2.4860 - val_loss: 2.5540 - val_r2: 0.8673 - val_mae: 2.5540\n",
            "Epoch 226/700\n",
            "74/74 [==============================] - 0s 3ms/step - loss: 2.5317 - r2: 0.8518 - mae: 2.5317 - val_loss: 2.5658 - val_r2: 0.8636 - val_mae: 2.5658\n",
            "Epoch 227/700\n",
            "74/74 [==============================] - 0s 4ms/step - loss: 2.5555 - r2: 0.8477 - mae: 2.5555 - val_loss: 2.6251 - val_r2: 0.8617 - val_mae: 2.6251\n",
            "Epoch 228/700\n",
            "74/74 [==============================] - 0s 3ms/step - loss: 2.5227 - r2: 0.8487 - mae: 2.5227 - val_loss: 2.4957 - val_r2: 0.8641 - val_mae: 2.4957\n",
            "Epoch 229/700\n",
            "74/74 [==============================] - 0s 4ms/step - loss: 2.4863 - r2: 0.8574 - mae: 2.4863 - val_loss: 2.4761 - val_r2: 0.8729 - val_mae: 2.4761\n",
            "Epoch 230/700\n",
            "74/74 [==============================] - 0s 3ms/step - loss: 2.4999 - r2: 0.8544 - mae: 2.4999 - val_loss: 2.6380 - val_r2: 0.8572 - val_mae: 2.6380\n",
            "Epoch 231/700\n",
            "74/74 [==============================] - 0s 3ms/step - loss: 2.5038 - r2: 0.8544 - mae: 2.5038 - val_loss: 2.2839 - val_r2: 0.8843 - val_mae: 2.2839\n",
            "Epoch 232/700\n",
            "74/74 [==============================] - 0s 4ms/step - loss: 2.5372 - r2: 0.8502 - mae: 2.5372 - val_loss: 2.3825 - val_r2: 0.8741 - val_mae: 2.3825\n",
            "Epoch 233/700\n",
            "74/74 [==============================] - 0s 4ms/step - loss: 2.5594 - r2: 0.8386 - mae: 2.5594 - val_loss: 2.6241 - val_r2: 0.8568 - val_mae: 2.6241\n",
            "Epoch 234/700\n",
            "74/74 [==============================] - 0s 3ms/step - loss: 2.5625 - r2: 0.8408 - mae: 2.5625 - val_loss: 2.4911 - val_r2: 0.8706 - val_mae: 2.4911\n",
            "Epoch 235/700\n",
            "74/74 [==============================] - 0s 4ms/step - loss: 2.5052 - r2: 0.8530 - mae: 2.5052 - val_loss: 2.3350 - val_r2: 0.8781 - val_mae: 2.3350\n",
            "Epoch 236/700\n",
            "74/74 [==============================] - 0s 4ms/step - loss: 2.5223 - r2: 0.8495 - mae: 2.5223 - val_loss: 2.3984 - val_r2: 0.8710 - val_mae: 2.3984\n",
            "Epoch 237/700\n",
            "74/74 [==============================] - 0s 4ms/step - loss: 2.4509 - r2: 0.8617 - mae: 2.4509 - val_loss: 2.4479 - val_r2: 0.8686 - val_mae: 2.4479\n",
            "Epoch 238/700\n",
            "74/74 [==============================] - 0s 3ms/step - loss: 2.4755 - r2: 0.8529 - mae: 2.4755 - val_loss: 2.2136 - val_r2: 0.8874 - val_mae: 2.2136\n",
            "Epoch 239/700\n",
            "74/74 [==============================] - 0s 4ms/step - loss: 2.4580 - r2: 0.8627 - mae: 2.4580 - val_loss: 2.3578 - val_r2: 0.8825 - val_mae: 2.3578\n",
            "Epoch 240/700\n",
            "74/74 [==============================] - 0s 4ms/step - loss: 2.3808 - r2: 0.8650 - mae: 2.3808 - val_loss: 2.4728 - val_r2: 0.8727 - val_mae: 2.4728\n",
            "Epoch 241/700\n",
            "74/74 [==============================] - 0s 4ms/step - loss: 2.4466 - r2: 0.8604 - mae: 2.4466 - val_loss: 2.5750 - val_r2: 0.8664 - val_mae: 2.5750\n",
            "Epoch 242/700\n",
            "74/74 [==============================] - 0s 4ms/step - loss: 2.4425 - r2: 0.8574 - mae: 2.4425 - val_loss: 2.4864 - val_r2: 0.8740 - val_mae: 2.4864\n",
            "Epoch 243/700\n",
            "74/74 [==============================] - 0s 4ms/step - loss: 2.4139 - r2: 0.8599 - mae: 2.4139 - val_loss: 2.4352 - val_r2: 0.8732 - val_mae: 2.4352\n",
            "Epoch 244/700\n",
            "74/74 [==============================] - 0s 3ms/step - loss: 2.4455 - r2: 0.8573 - mae: 2.4455 - val_loss: 2.5440 - val_r2: 0.8664 - val_mae: 2.5440\n",
            "Epoch 245/700\n",
            "74/74 [==============================] - 0s 4ms/step - loss: 2.4083 - r2: 0.8614 - mae: 2.4083 - val_loss: 2.2048 - val_r2: 0.8877 - val_mae: 2.2048\n",
            "Epoch 246/700\n",
            "74/74 [==============================] - 0s 4ms/step - loss: 2.4189 - r2: 0.8565 - mae: 2.4189 - val_loss: 2.6305 - val_r2: 0.8634 - val_mae: 2.6305\n",
            "Epoch 247/700\n",
            "74/74 [==============================] - 0s 3ms/step - loss: 2.4374 - r2: 0.8564 - mae: 2.4374 - val_loss: 2.6036 - val_r2: 0.8583 - val_mae: 2.6036\n",
            "Epoch 248/700\n",
            "74/74 [==============================] - 0s 3ms/step - loss: 2.4363 - r2: 0.8544 - mae: 2.4363 - val_loss: 2.4087 - val_r2: 0.8719 - val_mae: 2.4087\n",
            "Epoch 249/700\n",
            "74/74 [==============================] - 0s 3ms/step - loss: 2.3941 - r2: 0.8618 - mae: 2.3941 - val_loss: 2.4558 - val_r2: 0.8678 - val_mae: 2.4558\n",
            "Epoch 250/700\n",
            "74/74 [==============================] - 0s 4ms/step - loss: 2.4804 - r2: 0.8484 - mae: 2.4804 - val_loss: 2.2217 - val_r2: 0.8861 - val_mae: 2.2217\n",
            "Epoch 251/700\n",
            "74/74 [==============================] - 0s 4ms/step - loss: 2.4477 - r2: 0.8544 - mae: 2.4477 - val_loss: 2.4120 - val_r2: 0.8748 - val_mae: 2.4120\n",
            "Epoch 252/700\n",
            "74/74 [==============================] - 0s 4ms/step - loss: 2.4567 - r2: 0.8557 - mae: 2.4567 - val_loss: 2.4038 - val_r2: 0.8697 - val_mae: 2.4038\n",
            "Epoch 253/700\n",
            "74/74 [==============================] - 0s 3ms/step - loss: 2.4125 - r2: 0.8609 - mae: 2.4125 - val_loss: 2.3722 - val_r2: 0.8739 - val_mae: 2.3722\n",
            "Epoch 254/700\n",
            "74/74 [==============================] - 0s 4ms/step - loss: 2.4857 - r2: 0.8480 - mae: 2.4857 - val_loss: 2.2417 - val_r2: 0.8877 - val_mae: 2.2417\n",
            "Epoch 255/700\n",
            "74/74 [==============================] - 0s 3ms/step - loss: 2.3762 - r2: 0.8643 - mae: 2.3762 - val_loss: 2.4239 - val_r2: 0.8762 - val_mae: 2.4239\n",
            "Epoch 256/700\n",
            "74/74 [==============================] - 0s 3ms/step - loss: 2.4042 - r2: 0.8588 - mae: 2.4042 - val_loss: 2.1910 - val_r2: 0.8884 - val_mae: 2.1910\n",
            "Epoch 257/700\n",
            "74/74 [==============================] - 0s 4ms/step - loss: 2.3447 - r2: 0.8641 - mae: 2.3447 - val_loss: 2.3906 - val_r2: 0.8831 - val_mae: 2.3906\n",
            "Epoch 258/700\n",
            "74/74 [==============================] - 0s 4ms/step - loss: 2.4268 - r2: 0.8583 - mae: 2.4268 - val_loss: 2.2482 - val_r2: 0.8882 - val_mae: 2.2482\n",
            "Epoch 259/700\n",
            "74/74 [==============================] - 0s 3ms/step - loss: 2.4043 - r2: 0.8526 - mae: 2.4043 - val_loss: 2.1509 - val_r2: 0.8902 - val_mae: 2.1509\n",
            "Epoch 260/700\n",
            "74/74 [==============================] - 0s 3ms/step - loss: 2.3378 - r2: 0.8669 - mae: 2.3378 - val_loss: 2.2481 - val_r2: 0.8889 - val_mae: 2.2481\n",
            "Epoch 261/700\n",
            "74/74 [==============================] - 0s 3ms/step - loss: 2.3704 - r2: 0.8601 - mae: 2.3704 - val_loss: 2.2504 - val_r2: 0.8880 - val_mae: 2.2504\n",
            "Epoch 262/700\n",
            "74/74 [==============================] - 0s 3ms/step - loss: 2.3153 - r2: 0.8693 - mae: 2.3153 - val_loss: 2.5401 - val_r2: 0.8659 - val_mae: 2.5401\n",
            "Epoch 263/700\n",
            "74/74 [==============================] - 0s 3ms/step - loss: 2.3849 - r2: 0.8618 - mae: 2.3849 - val_loss: 2.3307 - val_r2: 0.8750 - val_mae: 2.3307\n",
            "Epoch 264/700\n",
            "74/74 [==============================] - 0s 3ms/step - loss: 2.4075 - r2: 0.8540 - mae: 2.4075 - val_loss: 2.1713 - val_r2: 0.8823 - val_mae: 2.1713\n",
            "Epoch 265/700\n",
            "74/74 [==============================] - 0s 3ms/step - loss: 2.3643 - r2: 0.8679 - mae: 2.3643 - val_loss: 2.4466 - val_r2: 0.8667 - val_mae: 2.4466\n",
            "Epoch 266/700\n",
            "74/74 [==============================] - 0s 4ms/step - loss: 2.3683 - r2: 0.8636 - mae: 2.3683 - val_loss: 2.1710 - val_r2: 0.8842 - val_mae: 2.1710\n",
            "Epoch 267/700\n",
            "74/74 [==============================] - 0s 4ms/step - loss: 2.3795 - r2: 0.8554 - mae: 2.3795 - val_loss: 2.2662 - val_r2: 0.8823 - val_mae: 2.2662\n",
            "Epoch 268/700\n",
            "74/74 [==============================] - 0s 4ms/step - loss: 2.2862 - r2: 0.8739 - mae: 2.2862 - val_loss: 2.3999 - val_r2: 0.8617 - val_mae: 2.3999\n",
            "Epoch 269/700\n",
            "74/74 [==============================] - 0s 3ms/step - loss: 2.3262 - r2: 0.8676 - mae: 2.3262 - val_loss: 2.1314 - val_r2: 0.8876 - val_mae: 2.1314\n",
            "Epoch 270/700\n",
            "74/74 [==============================] - 0s 3ms/step - loss: 2.3543 - r2: 0.8670 - mae: 2.3543 - val_loss: 2.2827 - val_r2: 0.8795 - val_mae: 2.2827\n",
            "Epoch 271/700\n",
            "74/74 [==============================] - 0s 3ms/step - loss: 2.3832 - r2: 0.8626 - mae: 2.3832 - val_loss: 2.2817 - val_r2: 0.8844 - val_mae: 2.2817\n",
            "Epoch 272/700\n",
            "74/74 [==============================] - 0s 3ms/step - loss: 2.3100 - r2: 0.8659 - mae: 2.3100 - val_loss: 2.3774 - val_r2: 0.8724 - val_mae: 2.3774\n",
            "Epoch 273/700\n",
            "74/74 [==============================] - 0s 3ms/step - loss: 2.2809 - r2: 0.8735 - mae: 2.2809 - val_loss: 2.2157 - val_r2: 0.8794 - val_mae: 2.2157\n",
            "Epoch 274/700\n",
            "74/74 [==============================] - 0s 3ms/step - loss: 2.2885 - r2: 0.8690 - mae: 2.2885 - val_loss: 2.3260 - val_r2: 0.8838 - val_mae: 2.3260\n",
            "Epoch 275/700\n",
            "74/74 [==============================] - 0s 3ms/step - loss: 2.3632 - r2: 0.8564 - mae: 2.3632 - val_loss: 2.3996 - val_r2: 0.8743 - val_mae: 2.3996\n",
            "Epoch 276/700\n",
            "74/74 [==============================] - 0s 3ms/step - loss: 2.3581 - r2: 0.8597 - mae: 2.3581 - val_loss: 2.4265 - val_r2: 0.8722 - val_mae: 2.4265\n",
            "Epoch 277/700\n",
            "74/74 [==============================] - 0s 4ms/step - loss: 2.3272 - r2: 0.8654 - mae: 2.3272 - val_loss: 2.3312 - val_r2: 0.8772 - val_mae: 2.3312\n",
            "Epoch 278/700\n",
            "74/74 [==============================] - 0s 3ms/step - loss: 2.2671 - r2: 0.8717 - mae: 2.2671 - val_loss: 2.2591 - val_r2: 0.8810 - val_mae: 2.2591\n",
            "Epoch 279/700\n",
            "74/74 [==============================] - 0s 3ms/step - loss: 2.2721 - r2: 0.8725 - mae: 2.2721 - val_loss: 2.4192 - val_r2: 0.8744 - val_mae: 2.4192\n",
            "Epoch 280/700\n",
            "74/74 [==============================] - 0s 4ms/step - loss: 2.2381 - r2: 0.8702 - mae: 2.2381 - val_loss: 2.2765 - val_r2: 0.8840 - val_mae: 2.2765\n",
            "Epoch 281/700\n",
            "74/74 [==============================] - 0s 4ms/step - loss: 2.2761 - r2: 0.8723 - mae: 2.2761 - val_loss: 2.1488 - val_r2: 0.8894 - val_mae: 2.1488\n",
            "Epoch 282/700\n",
            "74/74 [==============================] - 0s 4ms/step - loss: 2.2533 - r2: 0.8752 - mae: 2.2533 - val_loss: 2.2847 - val_r2: 0.8801 - val_mae: 2.2847\n",
            "Epoch 283/700\n",
            "74/74 [==============================] - 0s 3ms/step - loss: 2.2804 - r2: 0.8687 - mae: 2.2804 - val_loss: 2.3285 - val_r2: 0.8787 - val_mae: 2.3285\n",
            "Epoch 284/700\n",
            "74/74 [==============================] - 0s 3ms/step - loss: 2.2387 - r2: 0.8757 - mae: 2.2387 - val_loss: 1.9878 - val_r2: 0.9015 - val_mae: 1.9878\n",
            "Epoch 285/700\n",
            "74/74 [==============================] - 0s 3ms/step - loss: 2.2810 - r2: 0.8714 - mae: 2.2810 - val_loss: 2.0974 - val_r2: 0.8991 - val_mae: 2.0974\n",
            "Epoch 286/700\n",
            "74/74 [==============================] - 0s 3ms/step - loss: 2.2026 - r2: 0.8808 - mae: 2.2026 - val_loss: 2.4109 - val_r2: 0.8779 - val_mae: 2.4109\n",
            "Epoch 287/700\n",
            "74/74 [==============================] - 0s 4ms/step - loss: 2.2233 - r2: 0.8724 - mae: 2.2233 - val_loss: 2.2874 - val_r2: 0.8838 - val_mae: 2.2874\n",
            "Epoch 288/700\n",
            "74/74 [==============================] - 0s 3ms/step - loss: 2.2916 - r2: 0.8643 - mae: 2.2916 - val_loss: 2.1442 - val_r2: 0.8892 - val_mae: 2.1442\n",
            "Epoch 289/700\n",
            "74/74 [==============================] - 0s 4ms/step - loss: 2.2553 - r2: 0.8634 - mae: 2.2553 - val_loss: 2.3421 - val_r2: 0.8770 - val_mae: 2.3421\n",
            "Epoch 290/700\n",
            "74/74 [==============================] - 0s 4ms/step - loss: 2.2526 - r2: 0.8730 - mae: 2.2526 - val_loss: 2.2184 - val_r2: 0.8875 - val_mae: 2.2184\n",
            "Epoch 291/700\n",
            "74/74 [==============================] - 0s 3ms/step - loss: 2.2842 - r2: 0.8731 - mae: 2.2842 - val_loss: 2.2327 - val_r2: 0.8723 - val_mae: 2.2327\n",
            "Epoch 292/700\n",
            "74/74 [==============================] - 0s 3ms/step - loss: 2.2542 - r2: 0.8676 - mae: 2.2542 - val_loss: 2.3648 - val_r2: 0.8787 - val_mae: 2.3648\n",
            "Epoch 293/700\n",
            "74/74 [==============================] - 0s 3ms/step - loss: 2.2316 - r2: 0.8684 - mae: 2.2316 - val_loss: 2.2847 - val_r2: 0.8702 - val_mae: 2.2847\n",
            "Epoch 294/700\n",
            "74/74 [==============================] - 0s 4ms/step - loss: 2.2860 - r2: 0.8720 - mae: 2.2860 - val_loss: 2.0625 - val_r2: 0.8983 - val_mae: 2.0625\n",
            "Epoch 295/700\n",
            "74/74 [==============================] - 0s 3ms/step - loss: 2.2561 - r2: 0.8696 - mae: 2.2561 - val_loss: 2.1871 - val_r2: 0.8903 - val_mae: 2.1871\n",
            "Epoch 296/700\n",
            "74/74 [==============================] - 0s 3ms/step - loss: 2.2449 - r2: 0.8738 - mae: 2.2449 - val_loss: 2.1895 - val_r2: 0.8826 - val_mae: 2.1895\n",
            "Epoch 297/700\n",
            "74/74 [==============================] - 0s 4ms/step - loss: 2.1855 - r2: 0.8814 - mae: 2.1855 - val_loss: 2.2841 - val_r2: 0.8804 - val_mae: 2.2841\n",
            "Epoch 298/700\n",
            "74/74 [==============================] - 0s 3ms/step - loss: 2.1467 - r2: 0.8805 - mae: 2.1467 - val_loss: 2.1173 - val_r2: 0.8907 - val_mae: 2.1173\n",
            "Epoch 299/700\n",
            "74/74 [==============================] - 0s 3ms/step - loss: 2.2496 - r2: 0.8674 - mae: 2.2496 - val_loss: 2.1949 - val_r2: 0.8893 - val_mae: 2.1949\n",
            "Epoch 300/700\n",
            "74/74 [==============================] - 0s 3ms/step - loss: 2.2318 - r2: 0.8760 - mae: 2.2318 - val_loss: 2.2326 - val_r2: 0.8865 - val_mae: 2.2326\n",
            "Epoch 301/700\n",
            "74/74 [==============================] - 0s 3ms/step - loss: 2.1969 - r2: 0.8723 - mae: 2.1969 - val_loss: 2.3270 - val_r2: 0.8826 - val_mae: 2.3270\n",
            "Epoch 302/700\n",
            "74/74 [==============================] - 0s 3ms/step - loss: 2.2136 - r2: 0.8693 - mae: 2.2136 - val_loss: 2.0341 - val_r2: 0.8983 - val_mae: 2.0341\n",
            "Epoch 303/700\n",
            "74/74 [==============================] - 0s 4ms/step - loss: 2.1821 - r2: 0.8797 - mae: 2.1821 - val_loss: 2.0567 - val_r2: 0.8888 - val_mae: 2.0567\n",
            "Epoch 304/700\n",
            "74/74 [==============================] - 0s 3ms/step - loss: 2.2192 - r2: 0.8739 - mae: 2.2192 - val_loss: 2.1360 - val_r2: 0.8916 - val_mae: 2.1360\n",
            "Epoch 305/700\n",
            "74/74 [==============================] - 0s 4ms/step - loss: 2.2176 - r2: 0.8719 - mae: 2.2176 - val_loss: 2.1216 - val_r2: 0.8871 - val_mae: 2.1216\n",
            "Epoch 306/700\n",
            "74/74 [==============================] - 0s 3ms/step - loss: 2.1344 - r2: 0.8829 - mae: 2.1344 - val_loss: 2.1109 - val_r2: 0.8909 - val_mae: 2.1109\n",
            "Epoch 307/700\n",
            "74/74 [==============================] - 0s 3ms/step - loss: 2.2040 - r2: 0.8660 - mae: 2.2040 - val_loss: 2.1165 - val_r2: 0.8920 - val_mae: 2.1165\n",
            "Epoch 308/700\n",
            "74/74 [==============================] - 0s 4ms/step - loss: 2.1920 - r2: 0.8767 - mae: 2.1920 - val_loss: 2.2505 - val_r2: 0.8815 - val_mae: 2.2505\n",
            "Epoch 309/700\n",
            "74/74 [==============================] - 0s 4ms/step - loss: 2.2601 - r2: 0.8642 - mae: 2.2601 - val_loss: 2.3748 - val_r2: 0.8669 - val_mae: 2.3748\n",
            "Epoch 310/700\n",
            "74/74 [==============================] - 0s 4ms/step - loss: 2.2444 - r2: 0.8677 - mae: 2.2444 - val_loss: 2.1142 - val_r2: 0.8964 - val_mae: 2.1142\n",
            "Epoch 311/700\n",
            "74/74 [==============================] - 0s 3ms/step - loss: 2.1878 - r2: 0.8797 - mae: 2.1878 - val_loss: 2.1755 - val_r2: 0.8922 - val_mae: 2.1755\n",
            "Epoch 312/700\n",
            "74/74 [==============================] - 0s 4ms/step - loss: 2.2398 - r2: 0.8720 - mae: 2.2398 - val_loss: 2.3477 - val_r2: 0.8636 - val_mae: 2.3477\n",
            "Epoch 313/700\n",
            "74/74 [==============================] - 0s 3ms/step - loss: 2.2520 - r2: 0.8728 - mae: 2.2520 - val_loss: 2.0603 - val_r2: 0.8960 - val_mae: 2.0603\n",
            "Epoch 314/700\n",
            "74/74 [==============================] - 0s 3ms/step - loss: 2.2148 - r2: 0.8720 - mae: 2.2148 - val_loss: 2.1603 - val_r2: 0.8948 - val_mae: 2.1603\n",
            "Epoch 315/700\n",
            "74/74 [==============================] - 0s 3ms/step - loss: 2.2451 - r2: 0.8665 - mae: 2.2451 - val_loss: 2.2969 - val_r2: 0.8863 - val_mae: 2.2969\n",
            "Epoch 316/700\n",
            "74/74 [==============================] - 0s 3ms/step - loss: 2.1913 - r2: 0.8738 - mae: 2.1913 - val_loss: 2.2432 - val_r2: 0.8856 - val_mae: 2.2432\n",
            "Epoch 317/700\n",
            "74/74 [==============================] - 0s 4ms/step - loss: 2.1201 - r2: 0.8845 - mae: 2.1201 - val_loss: 2.2456 - val_r2: 0.8835 - val_mae: 2.2456\n",
            "Epoch 318/700\n",
            "74/74 [==============================] - 0s 4ms/step - loss: 2.1171 - r2: 0.8879 - mae: 2.1171 - val_loss: 2.2053 - val_r2: 0.8849 - val_mae: 2.2053\n",
            "Epoch 319/700\n",
            "74/74 [==============================] - 0s 4ms/step - loss: 2.1699 - r2: 0.8757 - mae: 2.1699 - val_loss: 2.0384 - val_r2: 0.8961 - val_mae: 2.0384\n",
            "Epoch 320/700\n",
            "74/74 [==============================] - 0s 4ms/step - loss: 2.1936 - r2: 0.8686 - mae: 2.1936 - val_loss: 2.2791 - val_r2: 0.8844 - val_mae: 2.2791\n",
            "Epoch 321/700\n",
            "74/74 [==============================] - 0s 3ms/step - loss: 2.1679 - r2: 0.8777 - mae: 2.1679 - val_loss: 2.1612 - val_r2: 0.8889 - val_mae: 2.1612\n",
            "Epoch 322/700\n",
            "74/74 [==============================] - 0s 3ms/step - loss: 2.1582 - r2: 0.8782 - mae: 2.1582 - val_loss: 2.1005 - val_r2: 0.8966 - val_mae: 2.1005\n",
            "Epoch 323/700\n",
            "74/74 [==============================] - 0s 3ms/step - loss: 2.1394 - r2: 0.8828 - mae: 2.1394 - val_loss: 2.3685 - val_r2: 0.8861 - val_mae: 2.3685\n",
            "Epoch 324/700\n",
            "74/74 [==============================] - 0s 3ms/step - loss: 2.1956 - r2: 0.8744 - mae: 2.1956 - val_loss: 2.1848 - val_r2: 0.8833 - val_mae: 2.1848\n",
            "Epoch 325/700\n",
            "74/74 [==============================] - 0s 4ms/step - loss: 2.2098 - r2: 0.8746 - mae: 2.2098 - val_loss: 2.1938 - val_r2: 0.8802 - val_mae: 2.1938\n",
            "Epoch 326/700\n",
            "74/74 [==============================] - 0s 4ms/step - loss: 2.2054 - r2: 0.8725 - mae: 2.2054 - val_loss: 2.2192 - val_r2: 0.8883 - val_mae: 2.2192\n",
            "Epoch 327/700\n",
            "74/74 [==============================] - 0s 4ms/step - loss: 2.1228 - r2: 0.8787 - mae: 2.1228 - val_loss: 2.2347 - val_r2: 0.8818 - val_mae: 2.2347\n",
            "Epoch 328/700\n",
            "74/74 [==============================] - 0s 4ms/step - loss: 2.1356 - r2: 0.8781 - mae: 2.1356 - val_loss: 2.0834 - val_r2: 0.8915 - val_mae: 2.0834\n",
            "Epoch 329/700\n",
            "74/74 [==============================] - 0s 4ms/step - loss: 2.1111 - r2: 0.8871 - mae: 2.1111 - val_loss: 2.1811 - val_r2: 0.8951 - val_mae: 2.1811\n",
            "Epoch 330/700\n",
            "74/74 [==============================] - 0s 4ms/step - loss: 2.1926 - r2: 0.8723 - mae: 2.1926 - val_loss: 2.0719 - val_r2: 0.8927 - val_mae: 2.0719\n",
            "Epoch 331/700\n",
            "74/74 [==============================] - 0s 3ms/step - loss: 2.2175 - r2: 0.8633 - mae: 2.2175 - val_loss: 2.1031 - val_r2: 0.8924 - val_mae: 2.1031\n",
            "Epoch 332/700\n",
            "74/74 [==============================] - 0s 4ms/step - loss: 2.1543 - r2: 0.8764 - mae: 2.1543 - val_loss: 2.0792 - val_r2: 0.8966 - val_mae: 2.0792\n",
            "Epoch 333/700\n",
            "74/74 [==============================] - 0s 3ms/step - loss: 2.1157 - r2: 0.8851 - mae: 2.1157 - val_loss: 2.1535 - val_r2: 0.8958 - val_mae: 2.1535\n",
            "Epoch 334/700\n",
            "74/74 [==============================] - 0s 3ms/step - loss: 2.1156 - r2: 0.8791 - mae: 2.1156 - val_loss: 2.2133 - val_r2: 0.8896 - val_mae: 2.2133\n",
            "Epoch 335/700\n",
            "74/74 [==============================] - 0s 4ms/step - loss: 2.1101 - r2: 0.8780 - mae: 2.1101 - val_loss: 2.2714 - val_r2: 0.8790 - val_mae: 2.2714\n",
            "Epoch 336/700\n",
            "74/74 [==============================] - 0s 3ms/step - loss: 2.0748 - r2: 0.8922 - mae: 2.0748 - val_loss: 2.1775 - val_r2: 0.8940 - val_mae: 2.1775\n",
            "Epoch 337/700\n",
            "74/74 [==============================] - 0s 3ms/step - loss: 2.1280 - r2: 0.8817 - mae: 2.1280 - val_loss: 2.2089 - val_r2: 0.8863 - val_mae: 2.2089\n",
            "Epoch 338/700\n",
            "74/74 [==============================] - 0s 3ms/step - loss: 2.1068 - r2: 0.8835 - mae: 2.1068 - val_loss: 2.0910 - val_r2: 0.9013 - val_mae: 2.0910\n",
            "Epoch 339/700\n",
            "74/74 [==============================] - 0s 4ms/step - loss: 2.0859 - r2: 0.8904 - mae: 2.0859 - val_loss: 2.1957 - val_r2: 0.8927 - val_mae: 2.1957\n",
            "Epoch 340/700\n",
            "74/74 [==============================] - 0s 3ms/step - loss: 2.1504 - r2: 0.8775 - mae: 2.1504 - val_loss: 2.0903 - val_r2: 0.8961 - val_mae: 2.0903\n",
            "Epoch 341/700\n",
            "74/74 [==============================] - 0s 4ms/step - loss: 2.1253 - r2: 0.8797 - mae: 2.1253 - val_loss: 2.1501 - val_r2: 0.8989 - val_mae: 2.1501\n",
            "Epoch 342/700\n",
            "74/74 [==============================] - 0s 4ms/step - loss: 2.0678 - r2: 0.8883 - mae: 2.0678 - val_loss: 2.1703 - val_r2: 0.8927 - val_mae: 2.1703\n",
            "Epoch 343/700\n",
            "74/74 [==============================] - 0s 4ms/step - loss: 2.0543 - r2: 0.8903 - mae: 2.0543 - val_loss: 2.1802 - val_r2: 0.8943 - val_mae: 2.1802\n",
            "Epoch 344/700\n",
            "74/74 [==============================] - 0s 3ms/step - loss: 2.0611 - r2: 0.8901 - mae: 2.0611 - val_loss: 2.3106 - val_r2: 0.8826 - val_mae: 2.3106\n",
            "Epoch 345/700\n",
            "74/74 [==============================] - 0s 3ms/step - loss: 2.0962 - r2: 0.8825 - mae: 2.0962 - val_loss: 2.2031 - val_r2: 0.8896 - val_mae: 2.2031\n",
            "Epoch 346/700\n",
            "74/74 [==============================] - 0s 4ms/step - loss: 2.1651 - r2: 0.8766 - mae: 2.1651 - val_loss: 2.1147 - val_r2: 0.8955 - val_mae: 2.1147\n",
            "Epoch 347/700\n",
            "74/74 [==============================] - 0s 3ms/step - loss: 2.0792 - r2: 0.8867 - mae: 2.0792 - val_loss: 2.0066 - val_r2: 0.8989 - val_mae: 2.0066\n",
            "Epoch 348/700\n",
            "74/74 [==============================] - 0s 3ms/step - loss: 2.1129 - r2: 0.8832 - mae: 2.1129 - val_loss: 2.0325 - val_r2: 0.8978 - val_mae: 2.0325\n",
            "Epoch 349/700\n",
            "74/74 [==============================] - 0s 4ms/step - loss: 2.0957 - r2: 0.8832 - mae: 2.0957 - val_loss: 2.1725 - val_r2: 0.8897 - val_mae: 2.1725\n",
            "Epoch 350/700\n",
            "74/74 [==============================] - 0s 3ms/step - loss: 2.0396 - r2: 0.8915 - mae: 2.0396 - val_loss: 2.1148 - val_r2: 0.8953 - val_mae: 2.1148\n",
            "Epoch 351/700\n",
            "74/74 [==============================] - 0s 3ms/step - loss: 2.0852 - r2: 0.8770 - mae: 2.0852 - val_loss: 2.2478 - val_r2: 0.8841 - val_mae: 2.2478\n",
            "Epoch 352/700\n",
            "74/74 [==============================] - 0s 3ms/step - loss: 2.0021 - r2: 0.8944 - mae: 2.0021 - val_loss: 1.8421 - val_r2: 0.9094 - val_mae: 1.8421\n",
            "Epoch 353/700\n",
            "74/74 [==============================] - 0s 3ms/step - loss: 2.0797 - r2: 0.8872 - mae: 2.0797 - val_loss: 2.2084 - val_r2: 0.8896 - val_mae: 2.2084\n",
            "Epoch 354/700\n",
            "74/74 [==============================] - 0s 3ms/step - loss: 2.1082 - r2: 0.8858 - mae: 2.1082 - val_loss: 2.2291 - val_r2: 0.8863 - val_mae: 2.2291\n",
            "Epoch 355/700\n",
            "74/74 [==============================] - 0s 4ms/step - loss: 2.0928 - r2: 0.8845 - mae: 2.0928 - val_loss: 2.2891 - val_r2: 0.8833 - val_mae: 2.2891\n",
            "Epoch 356/700\n",
            "74/74 [==============================] - 0s 3ms/step - loss: 2.0674 - r2: 0.8876 - mae: 2.0674 - val_loss: 2.1194 - val_r2: 0.8919 - val_mae: 2.1194\n",
            "Epoch 357/700\n",
            "74/74 [==============================] - 0s 3ms/step - loss: 2.0837 - r2: 0.8819 - mae: 2.0837 - val_loss: 2.2017 - val_r2: 0.8892 - val_mae: 2.2017\n",
            "Epoch 358/700\n",
            "74/74 [==============================] - 0s 4ms/step - loss: 2.0972 - r2: 0.8817 - mae: 2.0972 - val_loss: 2.1400 - val_r2: 0.8869 - val_mae: 2.1400\n",
            "Epoch 359/700\n",
            "74/74 [==============================] - 0s 3ms/step - loss: 2.1288 - r2: 0.8794 - mae: 2.1288 - val_loss: 2.0518 - val_r2: 0.8990 - val_mae: 2.0518\n",
            "Epoch 360/700\n",
            "74/74 [==============================] - 0s 4ms/step - loss: 2.0339 - r2: 0.8920 - mae: 2.0339 - val_loss: 2.1697 - val_r2: 0.8839 - val_mae: 2.1697\n",
            "Epoch 361/700\n",
            "74/74 [==============================] - 0s 3ms/step - loss: 2.0760 - r2: 0.8801 - mae: 2.0760 - val_loss: 2.0198 - val_r2: 0.8943 - val_mae: 2.0198\n",
            "Epoch 362/700\n",
            "74/74 [==============================] - 0s 4ms/step - loss: 2.0705 - r2: 0.8831 - mae: 2.0705 - val_loss: 2.0862 - val_r2: 0.8904 - val_mae: 2.0862\n",
            "Epoch 363/700\n",
            "74/74 [==============================] - 0s 3ms/step - loss: 2.0892 - r2: 0.8782 - mae: 2.0892 - val_loss: 2.0403 - val_r2: 0.8936 - val_mae: 2.0403\n",
            "Epoch 364/700\n",
            "74/74 [==============================] - 0s 3ms/step - loss: 2.1182 - r2: 0.8780 - mae: 2.1182 - val_loss: 2.0523 - val_r2: 0.8953 - val_mae: 2.0523\n",
            "Epoch 365/700\n",
            "74/74 [==============================] - 0s 4ms/step - loss: 2.0888 - r2: 0.8779 - mae: 2.0888 - val_loss: 2.0616 - val_r2: 0.8963 - val_mae: 2.0616\n",
            "Epoch 366/700\n",
            "74/74 [==============================] - 0s 4ms/step - loss: 2.0816 - r2: 0.8839 - mae: 2.0816 - val_loss: 2.0536 - val_r2: 0.9028 - val_mae: 2.0536\n",
            "Epoch 367/700\n",
            "74/74 [==============================] - 0s 4ms/step - loss: 2.0705 - r2: 0.8814 - mae: 2.0705 - val_loss: 2.1852 - val_r2: 0.8919 - val_mae: 2.1852\n",
            "Epoch 368/700\n",
            "74/74 [==============================] - 0s 3ms/step - loss: 2.0969 - r2: 0.8818 - mae: 2.0969 - val_loss: 2.0705 - val_r2: 0.8943 - val_mae: 2.0705\n",
            "Epoch 369/700\n",
            "74/74 [==============================] - 0s 3ms/step - loss: 2.0207 - r2: 0.8856 - mae: 2.0207 - val_loss: 2.1523 - val_r2: 0.8871 - val_mae: 2.1523\n",
            "Epoch 370/700\n",
            "74/74 [==============================] - 0s 3ms/step - loss: 2.0212 - r2: 0.8885 - mae: 2.0212 - val_loss: 2.1619 - val_r2: 0.8852 - val_mae: 2.1619\n",
            "Epoch 371/700\n",
            "74/74 [==============================] - 0s 4ms/step - loss: 2.1459 - r2: 0.8734 - mae: 2.1459 - val_loss: 2.0345 - val_r2: 0.9009 - val_mae: 2.0345\n",
            "Epoch 372/700\n",
            "74/74 [==============================] - 0s 3ms/step - loss: 2.0580 - r2: 0.8867 - mae: 2.0580 - val_loss: 2.1433 - val_r2: 0.8931 - val_mae: 2.1433\n",
            "Epoch 373/700\n",
            "74/74 [==============================] - 0s 3ms/step - loss: 2.0106 - r2: 0.8943 - mae: 2.0106 - val_loss: 2.1393 - val_r2: 0.8874 - val_mae: 2.1393\n",
            "Epoch 374/700\n",
            "74/74 [==============================] - 0s 3ms/step - loss: 2.0857 - r2: 0.8800 - mae: 2.0857 - val_loss: 2.1513 - val_r2: 0.8868 - val_mae: 2.1513\n",
            "Epoch 375/700\n",
            "74/74 [==============================] - 0s 3ms/step - loss: 2.1347 - r2: 0.8730 - mae: 2.1347 - val_loss: 2.0756 - val_r2: 0.8927 - val_mae: 2.0756\n",
            "Epoch 376/700\n",
            "74/74 [==============================] - 0s 4ms/step - loss: 2.0038 - r2: 0.8977 - mae: 2.0038 - val_loss: 2.1424 - val_r2: 0.8942 - val_mae: 2.1424\n",
            "Epoch 377/700\n",
            "74/74 [==============================] - 0s 3ms/step - loss: 2.0225 - r2: 0.8844 - mae: 2.0225 - val_loss: 2.1560 - val_r2: 0.8929 - val_mae: 2.1560\n",
            "Epoch 378/700\n",
            "74/74 [==============================] - 0s 4ms/step - loss: 2.0674 - r2: 0.8835 - mae: 2.0674 - val_loss: 2.2509 - val_r2: 0.8848 - val_mae: 2.2509\n",
            "Epoch 379/700\n",
            "74/74 [==============================] - 0s 4ms/step - loss: 2.0381 - r2: 0.8921 - mae: 2.0381 - val_loss: 2.0658 - val_r2: 0.8945 - val_mae: 2.0658\n",
            "Epoch 380/700\n",
            "74/74 [==============================] - 0s 4ms/step - loss: 2.0286 - r2: 0.8960 - mae: 2.0286 - val_loss: 1.9941 - val_r2: 0.9060 - val_mae: 1.9941\n",
            "Epoch 381/700\n",
            "74/74 [==============================] - 0s 4ms/step - loss: 1.9945 - r2: 0.8938 - mae: 1.9945 - val_loss: 2.2245 - val_r2: 0.8835 - val_mae: 2.2245\n",
            "Epoch 382/700\n",
            "74/74 [==============================] - 0s 4ms/step - loss: 2.0172 - r2: 0.8924 - mae: 2.0172 - val_loss: 2.0646 - val_r2: 0.8956 - val_mae: 2.0646\n",
            "Epoch 383/700\n",
            "74/74 [==============================] - 0s 4ms/step - loss: 2.0547 - r2: 0.8850 - mae: 2.0547 - val_loss: 2.0209 - val_r2: 0.8949 - val_mae: 2.0209\n",
            "Epoch 384/700\n",
            "74/74 [==============================] - 0s 4ms/step - loss: 2.0820 - r2: 0.8826 - mae: 2.0820 - val_loss: 2.1960 - val_r2: 0.8845 - val_mae: 2.1960\n",
            "Epoch 385/700\n",
            "74/74 [==============================] - 0s 4ms/step - loss: 2.0189 - r2: 0.8873 - mae: 2.0189 - val_loss: 2.0850 - val_r2: 0.8930 - val_mae: 2.0850\n",
            "Epoch 386/700\n",
            "74/74 [==============================] - 0s 3ms/step - loss: 2.0213 - r2: 0.8939 - mae: 2.0213 - val_loss: 2.0555 - val_r2: 0.8968 - val_mae: 2.0555\n",
            "Epoch 387/700\n",
            "74/74 [==============================] - 0s 4ms/step - loss: 1.9821 - r2: 0.8964 - mae: 1.9821 - val_loss: 2.2276 - val_r2: 0.8823 - val_mae: 2.2276\n",
            "Epoch 388/700\n",
            "74/74 [==============================] - 0s 4ms/step - loss: 1.9934 - r2: 0.8885 - mae: 1.9934 - val_loss: 2.1120 - val_r2: 0.8868 - val_mae: 2.1120\n",
            "Epoch 389/700\n",
            "74/74 [==============================] - 0s 4ms/step - loss: 2.0021 - r2: 0.8933 - mae: 2.0021 - val_loss: 2.1383 - val_r2: 0.8898 - val_mae: 2.1383\n",
            "Epoch 390/700\n",
            "74/74 [==============================] - 0s 4ms/step - loss: 2.0402 - r2: 0.8835 - mae: 2.0402 - val_loss: 2.1405 - val_r2: 0.8902 - val_mae: 2.1405\n",
            "Epoch 391/700\n",
            "74/74 [==============================] - 0s 4ms/step - loss: 1.9959 - r2: 0.8855 - mae: 1.9959 - val_loss: 2.0853 - val_r2: 0.8920 - val_mae: 2.0853\n",
            "Epoch 392/700\n",
            "74/74 [==============================] - 0s 3ms/step - loss: 1.9924 - r2: 0.8922 - mae: 1.9924 - val_loss: 1.9308 - val_r2: 0.9044 - val_mae: 1.9308\n",
            "Epoch 393/700\n",
            "74/74 [==============================] - 0s 4ms/step - loss: 2.0089 - r2: 0.8876 - mae: 2.0089 - val_loss: 1.9945 - val_r2: 0.9054 - val_mae: 1.9945\n",
            "Epoch 394/700\n",
            "74/74 [==============================] - 0s 4ms/step - loss: 2.0099 - r2: 0.8921 - mae: 2.0099 - val_loss: 2.1627 - val_r2: 0.8891 - val_mae: 2.1627\n",
            "Epoch 395/700\n",
            "74/74 [==============================] - 0s 4ms/step - loss: 2.0277 - r2: 0.8884 - mae: 2.0277 - val_loss: 2.1448 - val_r2: 0.8890 - val_mae: 2.1448\n",
            "Epoch 396/700\n",
            "74/74 [==============================] - 0s 4ms/step - loss: 1.9839 - r2: 0.8904 - mae: 1.9839 - val_loss: 2.1837 - val_r2: 0.8892 - val_mae: 2.1837\n",
            "Epoch 397/700\n",
            "74/74 [==============================] - 0s 3ms/step - loss: 1.9431 - r2: 0.9017 - mae: 1.9431 - val_loss: 2.0552 - val_r2: 0.8974 - val_mae: 2.0552\n",
            "Epoch 398/700\n",
            "74/74 [==============================] - 0s 4ms/step - loss: 1.9997 - r2: 0.8864 - mae: 1.9997 - val_loss: 2.0861 - val_r2: 0.8938 - val_mae: 2.0861\n",
            "Epoch 399/700\n",
            "74/74 [==============================] - 0s 4ms/step - loss: 2.0008 - r2: 0.8926 - mae: 2.0008 - val_loss: 2.1326 - val_r2: 0.8854 - val_mae: 2.1326\n",
            "Epoch 400/700\n",
            "74/74 [==============================] - 0s 4ms/step - loss: 1.9508 - r2: 0.8936 - mae: 1.9508 - val_loss: 2.0706 - val_r2: 0.8904 - val_mae: 2.0706\n",
            "Epoch 401/700\n",
            "74/74 [==============================] - 0s 4ms/step - loss: 2.0188 - r2: 0.8876 - mae: 2.0188 - val_loss: 2.2015 - val_r2: 0.8839 - val_mae: 2.2015\n",
            "Epoch 402/700\n",
            "74/74 [==============================] - 0s 3ms/step - loss: 1.9448 - r2: 0.8983 - mae: 1.9448 - val_loss: 2.0829 - val_r2: 0.8955 - val_mae: 2.0829\n",
            "Epoch 403/700\n",
            "74/74 [==============================] - 0s 4ms/step - loss: 1.9727 - r2: 0.8951 - mae: 1.9727 - val_loss: 2.1723 - val_r2: 0.8852 - val_mae: 2.1723\n",
            "Epoch 404/700\n",
            "74/74 [==============================] - 0s 4ms/step - loss: 1.9929 - r2: 0.8882 - mae: 1.9929 - val_loss: 2.1108 - val_r2: 0.8921 - val_mae: 2.1108\n",
            "Epoch 405/700\n",
            "74/74 [==============================] - 0s 4ms/step - loss: 2.0960 - r2: 0.8667 - mae: 2.0960 - val_loss: 1.9917 - val_r2: 0.8932 - val_mae: 1.9917\n",
            "Epoch 406/700\n",
            "74/74 [==============================] - 0s 3ms/step - loss: 1.9815 - r2: 0.8878 - mae: 1.9815 - val_loss: 2.1382 - val_r2: 0.8933 - val_mae: 2.1382\n",
            "Epoch 407/700\n",
            "74/74 [==============================] - 0s 4ms/step - loss: 2.0141 - r2: 0.8881 - mae: 2.0141 - val_loss: 2.0452 - val_r2: 0.8962 - val_mae: 2.0452\n",
            "Epoch 408/700\n",
            "74/74 [==============================] - 0s 4ms/step - loss: 1.9402 - r2: 0.8974 - mae: 1.9402 - val_loss: 2.0349 - val_r2: 0.9019 - val_mae: 2.0349\n",
            "Epoch 409/700\n",
            "74/74 [==============================] - 0s 3ms/step - loss: 1.9826 - r2: 0.8918 - mae: 1.9826 - val_loss: 2.1410 - val_r2: 0.8996 - val_mae: 2.1410\n",
            "Epoch 410/700\n",
            "74/74 [==============================] - 0s 3ms/step - loss: 1.9614 - r2: 0.8976 - mae: 1.9614 - val_loss: 2.0484 - val_r2: 0.8983 - val_mae: 2.0484\n",
            "Epoch 411/700\n",
            "74/74 [==============================] - 0s 3ms/step - loss: 1.9828 - r2: 0.8882 - mae: 1.9828 - val_loss: 2.0817 - val_r2: 0.8997 - val_mae: 2.0817\n",
            "Epoch 412/700\n",
            "74/74 [==============================] - 0s 4ms/step - loss: 2.0395 - r2: 0.8832 - mae: 2.0395 - val_loss: 2.0860 - val_r2: 0.8978 - val_mae: 2.0860\n",
            "Epoch 413/700\n",
            "74/74 [==============================] - 0s 3ms/step - loss: 1.9824 - r2: 0.8906 - mae: 1.9824 - val_loss: 1.9388 - val_r2: 0.9082 - val_mae: 1.9388\n",
            "Epoch 414/700\n",
            "74/74 [==============================] - 0s 4ms/step - loss: 1.9853 - r2: 0.8945 - mae: 1.9853 - val_loss: 2.1326 - val_r2: 0.8950 - val_mae: 2.1326\n",
            "Epoch 415/700\n",
            "74/74 [==============================] - 0s 3ms/step - loss: 1.9942 - r2: 0.8940 - mae: 1.9942 - val_loss: 2.1050 - val_r2: 0.8956 - val_mae: 2.1050\n",
            "Epoch 416/700\n",
            "74/74 [==============================] - 0s 4ms/step - loss: 1.9088 - r2: 0.9005 - mae: 1.9088 - val_loss: 2.1037 - val_r2: 0.8932 - val_mae: 2.1037\n",
            "Epoch 417/700\n",
            "74/74 [==============================] - 0s 4ms/step - loss: 2.0297 - r2: 0.8802 - mae: 2.0297 - val_loss: 1.8905 - val_r2: 0.9021 - val_mae: 1.8905\n",
            "Epoch 418/700\n",
            "74/74 [==============================] - 0s 4ms/step - loss: 1.9670 - r2: 0.8954 - mae: 1.9670 - val_loss: 2.0461 - val_r2: 0.8973 - val_mae: 2.0461\n",
            "Epoch 419/700\n",
            "74/74 [==============================] - 0s 4ms/step - loss: 2.0071 - r2: 0.8856 - mae: 2.0071 - val_loss: 2.1996 - val_r2: 0.8856 - val_mae: 2.1996\n",
            "Epoch 420/700\n",
            "74/74 [==============================] - 0s 3ms/step - loss: 1.9244 - r2: 0.8997 - mae: 1.9244 - val_loss: 2.0778 - val_r2: 0.8983 - val_mae: 2.0778\n",
            "Epoch 421/700\n",
            "74/74 [==============================] - 0s 3ms/step - loss: 1.9193 - r2: 0.9016 - mae: 1.9193 - val_loss: 1.9795 - val_r2: 0.9002 - val_mae: 1.9795\n",
            "Epoch 422/700\n",
            "74/74 [==============================] - 0s 3ms/step - loss: 1.9929 - r2: 0.8917 - mae: 1.9929 - val_loss: 2.1237 - val_r2: 0.8954 - val_mae: 2.1237\n",
            "Epoch 423/700\n",
            "74/74 [==============================] - 0s 4ms/step - loss: 1.9494 - r2: 0.8977 - mae: 1.9494 - val_loss: 2.2054 - val_r2: 0.8870 - val_mae: 2.2054\n",
            "Epoch 424/700\n",
            "74/74 [==============================] - 0s 3ms/step - loss: 1.9129 - r2: 0.9019 - mae: 1.9129 - val_loss: 2.0227 - val_r2: 0.8941 - val_mae: 2.0227\n",
            "Epoch 425/700\n",
            "74/74 [==============================] - 0s 4ms/step - loss: 1.9005 - r2: 0.9034 - mae: 1.9005 - val_loss: 2.0293 - val_r2: 0.8960 - val_mae: 2.0293\n",
            "Epoch 426/700\n",
            "74/74 [==============================] - 0s 3ms/step - loss: 1.9419 - r2: 0.8920 - mae: 1.9419 - val_loss: 2.0789 - val_r2: 0.8984 - val_mae: 2.0789\n",
            "Epoch 427/700\n",
            "74/74 [==============================] - 0s 4ms/step - loss: 1.9326 - r2: 0.8983 - mae: 1.9326 - val_loss: 1.9440 - val_r2: 0.9072 - val_mae: 1.9440\n",
            "Epoch 428/700\n",
            "74/74 [==============================] - 0s 4ms/step - loss: 1.9350 - r2: 0.9001 - mae: 1.9350 - val_loss: 2.0350 - val_r2: 0.9016 - val_mae: 2.0350\n",
            "Epoch 429/700\n",
            "74/74 [==============================] - 0s 3ms/step - loss: 1.9185 - r2: 0.9017 - mae: 1.9185 - val_loss: 2.0815 - val_r2: 0.8947 - val_mae: 2.0815\n",
            "Epoch 430/700\n",
            "74/74 [==============================] - 0s 4ms/step - loss: 1.8665 - r2: 0.9073 - mae: 1.8665 - val_loss: 2.0090 - val_r2: 0.8991 - val_mae: 2.0090\n",
            "Epoch 431/700\n",
            "74/74 [==============================] - 0s 4ms/step - loss: 1.9164 - r2: 0.8966 - mae: 1.9164 - val_loss: 2.0974 - val_r2: 0.8947 - val_mae: 2.0974\n",
            "Epoch 432/700\n",
            "74/74 [==============================] - 0s 3ms/step - loss: 1.8681 - r2: 0.9045 - mae: 1.8681 - val_loss: 2.1165 - val_r2: 0.8905 - val_mae: 2.1165\n",
            "Epoch 433/700\n",
            "74/74 [==============================] - 0s 4ms/step - loss: 2.0020 - r2: 0.8853 - mae: 2.0020 - val_loss: 2.0827 - val_r2: 0.8870 - val_mae: 2.0827\n",
            "Epoch 434/700\n",
            "74/74 [==============================] - 0s 4ms/step - loss: 1.9490 - r2: 0.8961 - mae: 1.9490 - val_loss: 2.1019 - val_r2: 0.8935 - val_mae: 2.1019\n",
            "Epoch 435/700\n",
            "74/74 [==============================] - 0s 4ms/step - loss: 1.9369 - r2: 0.8923 - mae: 1.9369 - val_loss: 1.9626 - val_r2: 0.9006 - val_mae: 1.9626\n",
            "Epoch 436/700\n",
            "74/74 [==============================] - 0s 3ms/step - loss: 1.9715 - r2: 0.8919 - mae: 1.9715 - val_loss: 1.9262 - val_r2: 0.8999 - val_mae: 1.9262\n",
            "Epoch 437/700\n",
            "74/74 [==============================] - 0s 4ms/step - loss: 1.9512 - r2: 0.8929 - mae: 1.9512 - val_loss: 2.1124 - val_r2: 0.8941 - val_mae: 2.1124\n",
            "Epoch 438/700\n",
            "74/74 [==============================] - 0s 4ms/step - loss: 1.9295 - r2: 0.8917 - mae: 1.9295 - val_loss: 1.9891 - val_r2: 0.9031 - val_mae: 1.9891\n",
            "Epoch 439/700\n",
            "74/74 [==============================] - 0s 3ms/step - loss: 1.8811 - r2: 0.8999 - mae: 1.8811 - val_loss: 2.0986 - val_r2: 0.8910 - val_mae: 2.0986\n",
            "Epoch 440/700\n",
            "74/74 [==============================] - 0s 3ms/step - loss: 1.9325 - r2: 0.8961 - mae: 1.9325 - val_loss: 2.0498 - val_r2: 0.9058 - val_mae: 2.0498\n",
            "Epoch 441/700\n",
            "74/74 [==============================] - 0s 4ms/step - loss: 2.0039 - r2: 0.8834 - mae: 2.0039 - val_loss: 2.0766 - val_r2: 0.9020 - val_mae: 2.0766\n",
            "Epoch 442/700\n",
            "74/74 [==============================] - 0s 4ms/step - loss: 1.9159 - r2: 0.9011 - mae: 1.9159 - val_loss: 2.1577 - val_r2: 0.8850 - val_mae: 2.1577\n",
            "Epoch 443/700\n",
            "74/74 [==============================] - 0s 4ms/step - loss: 1.9268 - r2: 0.8953 - mae: 1.9268 - val_loss: 2.1419 - val_r2: 0.8911 - val_mae: 2.1419\n",
            "Epoch 444/700\n",
            "74/74 [==============================] - 0s 3ms/step - loss: 1.9249 - r2: 0.8982 - mae: 1.9249 - val_loss: 2.0012 - val_r2: 0.9021 - val_mae: 2.0012\n",
            "Epoch 445/700\n",
            "74/74 [==============================] - 0s 4ms/step - loss: 1.9091 - r2: 0.8992 - mae: 1.9091 - val_loss: 2.0832 - val_r2: 0.8982 - val_mae: 2.0832\n",
            "Epoch 446/700\n",
            "74/74 [==============================] - 0s 4ms/step - loss: 1.8899 - r2: 0.9031 - mae: 1.8899 - val_loss: 1.9818 - val_r2: 0.9036 - val_mae: 1.9818\n",
            "Epoch 447/700\n",
            "74/74 [==============================] - 0s 4ms/step - loss: 1.9289 - r2: 0.8906 - mae: 1.9289 - val_loss: 2.0819 - val_r2: 0.8942 - val_mae: 2.0819\n",
            "Epoch 448/700\n",
            "74/74 [==============================] - 0s 4ms/step - loss: 1.8416 - r2: 0.9092 - mae: 1.8416 - val_loss: 2.1444 - val_r2: 0.8879 - val_mae: 2.1444\n",
            "Epoch 449/700\n",
            "74/74 [==============================] - 0s 4ms/step - loss: 1.8849 - r2: 0.9034 - mae: 1.8849 - val_loss: 2.1828 - val_r2: 0.8864 - val_mae: 2.1828\n",
            "Epoch 450/700\n",
            "74/74 [==============================] - 0s 4ms/step - loss: 1.9318 - r2: 0.8964 - mae: 1.9318 - val_loss: 2.1016 - val_r2: 0.8992 - val_mae: 2.1016\n",
            "Epoch 451/700\n",
            "74/74 [==============================] - 0s 4ms/step - loss: 1.8863 - r2: 0.9011 - mae: 1.8863 - val_loss: 2.2165 - val_r2: 0.8882 - val_mae: 2.2165\n",
            "Epoch 452/700\n",
            "74/74 [==============================] - 0s 4ms/step - loss: 1.8944 - r2: 0.9021 - mae: 1.8944 - val_loss: 2.0166 - val_r2: 0.9070 - val_mae: 2.0166\n",
            "Epoch 453/700\n",
            "74/74 [==============================] - 0s 3ms/step - loss: 1.9137 - r2: 0.8980 - mae: 1.9137 - val_loss: 1.9305 - val_r2: 0.9064 - val_mae: 1.9305\n",
            "Epoch 454/700\n",
            "74/74 [==============================] - 0s 4ms/step - loss: 1.9087 - r2: 0.9027 - mae: 1.9087 - val_loss: 1.9869 - val_r2: 0.9037 - val_mae: 1.9869\n",
            "Epoch 455/700\n",
            "74/74 [==============================] - 0s 4ms/step - loss: 1.9036 - r2: 0.8964 - mae: 1.9036 - val_loss: 2.0307 - val_r2: 0.8985 - val_mae: 2.0307\n",
            "Epoch 456/700\n",
            "74/74 [==============================] - 0s 3ms/step - loss: 1.9189 - r2: 0.8959 - mae: 1.9189 - val_loss: 2.0827 - val_r2: 0.8992 - val_mae: 2.0827\n",
            "Epoch 457/700\n",
            "74/74 [==============================] - 0s 4ms/step - loss: 1.9024 - r2: 0.8939 - mae: 1.9024 - val_loss: 1.9880 - val_r2: 0.9016 - val_mae: 1.9880\n",
            "Epoch 458/700\n",
            "74/74 [==============================] - 0s 3ms/step - loss: 1.9000 - r2: 0.8959 - mae: 1.9000 - val_loss: 2.0574 - val_r2: 0.8975 - val_mae: 2.0574\n",
            "Epoch 459/700\n",
            "74/74 [==============================] - 0s 3ms/step - loss: 1.8945 - r2: 0.8998 - mae: 1.8945 - val_loss: 2.0566 - val_r2: 0.8967 - val_mae: 2.0566\n",
            "Epoch 460/700\n",
            "74/74 [==============================] - 0s 4ms/step - loss: 1.8877 - r2: 0.8965 - mae: 1.8877 - val_loss: 2.0793 - val_r2: 0.8959 - val_mae: 2.0793\n",
            "Epoch 461/700\n",
            "74/74 [==============================] - 0s 3ms/step - loss: 1.9059 - r2: 0.9022 - mae: 1.9059 - val_loss: 2.1537 - val_r2: 0.8913 - val_mae: 2.1537\n",
            "Epoch 462/700\n",
            "74/74 [==============================] - 0s 4ms/step - loss: 1.8857 - r2: 0.8968 - mae: 1.8857 - val_loss: 2.0704 - val_r2: 0.8969 - val_mae: 2.0704\n",
            "Epoch 463/700\n",
            "74/74 [==============================] - 0s 4ms/step - loss: 1.8922 - r2: 0.8982 - mae: 1.8922 - val_loss: 2.0275 - val_r2: 0.8996 - val_mae: 2.0275\n",
            "Epoch 464/700\n",
            "74/74 [==============================] - 0s 3ms/step - loss: 1.8725 - r2: 0.9034 - mae: 1.8725 - val_loss: 2.1655 - val_r2: 0.8882 - val_mae: 2.1655\n",
            "Epoch 465/700\n",
            "74/74 [==============================] - 0s 4ms/step - loss: 1.8815 - r2: 0.9037 - mae: 1.8815 - val_loss: 2.1790 - val_r2: 0.8917 - val_mae: 2.1790\n",
            "Epoch 466/700\n",
            "74/74 [==============================] - 0s 4ms/step - loss: 1.9196 - r2: 0.8947 - mae: 1.9196 - val_loss: 2.0065 - val_r2: 0.9023 - val_mae: 2.0065\n",
            "Epoch 467/700\n",
            "74/74 [==============================] - 0s 3ms/step - loss: 1.9322 - r2: 0.8900 - mae: 1.9322 - val_loss: 2.0612 - val_r2: 0.9037 - val_mae: 2.0612\n",
            "Epoch 468/700\n",
            "74/74 [==============================] - 0s 3ms/step - loss: 1.9589 - r2: 0.8903 - mae: 1.9589 - val_loss: 1.8296 - val_r2: 0.9017 - val_mae: 1.8296\n",
            "Epoch 469/700\n",
            "74/74 [==============================] - 0s 3ms/step - loss: 1.9104 - r2: 0.8978 - mae: 1.9104 - val_loss: 1.9095 - val_r2: 0.9106 - val_mae: 1.9095\n",
            "Epoch 470/700\n",
            "74/74 [==============================] - 0s 4ms/step - loss: 1.8228 - r2: 0.9061 - mae: 1.8228 - val_loss: 2.0543 - val_r2: 0.9003 - val_mae: 2.0543\n",
            "Epoch 471/700\n",
            "74/74 [==============================] - 0s 4ms/step - loss: 1.8366 - r2: 0.9046 - mae: 1.8366 - val_loss: 1.9853 - val_r2: 0.9034 - val_mae: 1.9853\n",
            "Epoch 472/700\n",
            "74/74 [==============================] - 0s 3ms/step - loss: 1.8955 - r2: 0.8998 - mae: 1.8955 - val_loss: 1.9501 - val_r2: 0.9061 - val_mae: 1.9501\n",
            "Epoch 473/700\n",
            "74/74 [==============================] - 0s 3ms/step - loss: 1.8867 - r2: 0.8992 - mae: 1.8867 - val_loss: 1.9918 - val_r2: 0.9045 - val_mae: 1.9918\n",
            "Epoch 474/700\n",
            "74/74 [==============================] - 0s 4ms/step - loss: 1.8357 - r2: 0.9035 - mae: 1.8357 - val_loss: 2.0893 - val_r2: 0.8946 - val_mae: 2.0893\n",
            "Epoch 475/700\n",
            "74/74 [==============================] - 0s 3ms/step - loss: 1.8498 - r2: 0.9012 - mae: 1.8498 - val_loss: 2.1318 - val_r2: 0.8917 - val_mae: 2.1318\n",
            "Epoch 476/700\n",
            "74/74 [==============================] - 0s 3ms/step - loss: 1.9200 - r2: 0.8973 - mae: 1.9200 - val_loss: 2.1057 - val_r2: 0.8990 - val_mae: 2.1057\n",
            "Epoch 477/700\n",
            "74/74 [==============================] - 0s 4ms/step - loss: 1.8682 - r2: 0.8962 - mae: 1.8682 - val_loss: 1.9470 - val_r2: 0.9048 - val_mae: 1.9470\n",
            "Epoch 478/700\n",
            "74/74 [==============================] - 0s 3ms/step - loss: 1.8877 - r2: 0.8970 - mae: 1.8877 - val_loss: 1.9151 - val_r2: 0.9060 - val_mae: 1.9151\n",
            "Epoch 479/700\n",
            "74/74 [==============================] - 0s 4ms/step - loss: 1.9432 - r2: 0.8873 - mae: 1.9432 - val_loss: 2.0956 - val_r2: 0.8985 - val_mae: 2.0956\n",
            "Epoch 480/700\n",
            "74/74 [==============================] - 0s 3ms/step - loss: 1.9255 - r2: 0.8891 - mae: 1.9255 - val_loss: 2.0334 - val_r2: 0.9027 - val_mae: 2.0334\n",
            "Epoch 481/700\n",
            "74/74 [==============================] - 0s 4ms/step - loss: 1.8909 - r2: 0.8963 - mae: 1.8909 - val_loss: 2.0070 - val_r2: 0.9021 - val_mae: 2.0070\n",
            "Epoch 482/700\n",
            "74/74 [==============================] - 0s 3ms/step - loss: 1.9512 - r2: 0.8854 - mae: 1.9512 - val_loss: 2.1119 - val_r2: 0.8933 - val_mae: 2.1119\n",
            "Epoch 483/700\n",
            "74/74 [==============================] - 0s 4ms/step - loss: 1.9007 - r2: 0.8972 - mae: 1.9007 - val_loss: 2.0645 - val_r2: 0.8991 - val_mae: 2.0645\n",
            "Epoch 484/700\n",
            "74/74 [==============================] - 0s 3ms/step - loss: 1.8274 - r2: 0.9057 - mae: 1.8274 - val_loss: 2.0533 - val_r2: 0.8988 - val_mae: 2.0533\n",
            "Epoch 485/700\n",
            "74/74 [==============================] - 0s 4ms/step - loss: 1.9005 - r2: 0.8944 - mae: 1.9005 - val_loss: 2.0551 - val_r2: 0.9013 - val_mae: 2.0551\n",
            "Epoch 486/700\n",
            "74/74 [==============================] - 0s 3ms/step - loss: 1.7943 - r2: 0.9115 - mae: 1.7943 - val_loss: 1.9067 - val_r2: 0.9128 - val_mae: 1.9067\n",
            "Epoch 487/700\n",
            "74/74 [==============================] - 0s 4ms/step - loss: 1.8364 - r2: 0.9056 - mae: 1.8364 - val_loss: 2.0064 - val_r2: 0.9033 - val_mae: 2.0064\n",
            "Epoch 488/700\n",
            "74/74 [==============================] - 0s 4ms/step - loss: 1.9653 - r2: 0.8827 - mae: 1.9653 - val_loss: 2.0997 - val_r2: 0.8988 - val_mae: 2.0997\n",
            "Epoch 489/700\n",
            "74/74 [==============================] - 0s 4ms/step - loss: 1.7972 - r2: 0.9094 - mae: 1.7972 - val_loss: 2.0685 - val_r2: 0.9009 - val_mae: 2.0685\n",
            "Epoch 490/700\n",
            "74/74 [==============================] - 0s 4ms/step - loss: 1.8960 - r2: 0.8984 - mae: 1.8960 - val_loss: 2.0874 - val_r2: 0.8989 - val_mae: 2.0874\n",
            "Epoch 491/700\n",
            "74/74 [==============================] - 0s 4ms/step - loss: 1.9172 - r2: 0.8899 - mae: 1.9172 - val_loss: 1.9770 - val_r2: 0.8950 - val_mae: 1.9770\n",
            "Epoch 492/700\n",
            "74/74 [==============================] - 0s 4ms/step - loss: 1.8901 - r2: 0.8992 - mae: 1.8901 - val_loss: 2.0950 - val_r2: 0.8951 - val_mae: 2.0950\n",
            "Epoch 493/700\n",
            "74/74 [==============================] - 0s 4ms/step - loss: 1.9161 - r2: 0.8914 - mae: 1.9161 - val_loss: 2.0125 - val_r2: 0.9023 - val_mae: 2.0125\n",
            "Epoch 494/700\n",
            "74/74 [==============================] - 0s 4ms/step - loss: 1.9050 - r2: 0.8939 - mae: 1.9050 - val_loss: 2.0746 - val_r2: 0.9038 - val_mae: 2.0746\n",
            "Epoch 495/700\n",
            "74/74 [==============================] - 0s 4ms/step - loss: 1.8734 - r2: 0.8978 - mae: 1.8734 - val_loss: 2.0074 - val_r2: 0.9068 - val_mae: 2.0074\n",
            "Epoch 496/700\n",
            "74/74 [==============================] - 0s 3ms/step - loss: 1.8137 - r2: 0.9110 - mae: 1.8137 - val_loss: 2.0141 - val_r2: 0.9020 - val_mae: 2.0141\n",
            "Epoch 497/700\n",
            "74/74 [==============================] - 0s 4ms/step - loss: 1.8519 - r2: 0.8997 - mae: 1.8519 - val_loss: 2.1332 - val_r2: 0.8949 - val_mae: 2.1332\n",
            "Epoch 498/700\n",
            "74/74 [==============================] - 0s 4ms/step - loss: 1.8372 - r2: 0.9074 - mae: 1.8372 - val_loss: 1.9510 - val_r2: 0.9083 - val_mae: 1.9510\n",
            "Epoch 499/700\n",
            "74/74 [==============================] - 0s 4ms/step - loss: 1.8429 - r2: 0.9043 - mae: 1.8429 - val_loss: 2.0254 - val_r2: 0.8954 - val_mae: 2.0254\n",
            "Epoch 500/700\n",
            "74/74 [==============================] - 0s 4ms/step - loss: 1.9484 - r2: 0.8861 - mae: 1.9484 - val_loss: 2.0727 - val_r2: 0.8974 - val_mae: 2.0727\n",
            "Epoch 501/700\n",
            "74/74 [==============================] - 0s 4ms/step - loss: 1.8351 - r2: 0.9049 - mae: 1.8351 - val_loss: 2.1484 - val_r2: 0.8908 - val_mae: 2.1484\n",
            "Epoch 502/700\n",
            "74/74 [==============================] - 0s 4ms/step - loss: 1.8179 - r2: 0.9042 - mae: 1.8179 - val_loss: 2.1617 - val_r2: 0.8933 - val_mae: 2.1617\n",
            "Epoch 503/700\n",
            "74/74 [==============================] - 0s 4ms/step - loss: 1.8311 - r2: 0.9063 - mae: 1.8311 - val_loss: 2.1470 - val_r2: 0.8958 - val_mae: 2.1470\n",
            "Epoch 504/700\n",
            "74/74 [==============================] - 0s 4ms/step - loss: 1.7905 - r2: 0.9095 - mae: 1.7905 - val_loss: 1.9774 - val_r2: 0.8984 - val_mae: 1.9774\n",
            "Epoch 505/700\n",
            "74/74 [==============================] - 0s 4ms/step - loss: 1.8206 - r2: 0.9094 - mae: 1.8206 - val_loss: 2.0077 - val_r2: 0.9006 - val_mae: 2.0077\n",
            "Epoch 506/700\n",
            "74/74 [==============================] - 0s 4ms/step - loss: 1.8034 - r2: 0.9073 - mae: 1.8034 - val_loss: 2.1686 - val_r2: 0.8945 - val_mae: 2.1686\n",
            "Epoch 507/700\n",
            "74/74 [==============================] - 0s 4ms/step - loss: 1.8324 - r2: 0.9056 - mae: 1.8324 - val_loss: 2.1288 - val_r2: 0.8898 - val_mae: 2.1288\n",
            "Epoch 508/700\n",
            "74/74 [==============================] - 0s 4ms/step - loss: 1.8088 - r2: 0.9049 - mae: 1.8088 - val_loss: 2.0486 - val_r2: 0.9007 - val_mae: 2.0486\n",
            "Epoch 509/700\n",
            "74/74 [==============================] - 0s 3ms/step - loss: 1.8174 - r2: 0.9097 - mae: 1.8174 - val_loss: 2.0110 - val_r2: 0.9000 - val_mae: 2.0110\n",
            "Epoch 510/700\n",
            "74/74 [==============================] - 0s 4ms/step - loss: 1.8539 - r2: 0.9002 - mae: 1.8539 - val_loss: 1.9164 - val_r2: 0.9078 - val_mae: 1.9164\n",
            "Epoch 511/700\n",
            "74/74 [==============================] - 0s 4ms/step - loss: 1.8283 - r2: 0.9037 - mae: 1.8283 - val_loss: 1.9836 - val_r2: 0.8988 - val_mae: 1.9836\n",
            "Epoch 512/700\n",
            "74/74 [==============================] - 0s 4ms/step - loss: 1.9086 - r2: 0.8927 - mae: 1.9086 - val_loss: 2.0735 - val_r2: 0.8972 - val_mae: 2.0735\n",
            "Epoch 513/700\n",
            "74/74 [==============================] - 0s 4ms/step - loss: 1.8130 - r2: 0.9078 - mae: 1.8130 - val_loss: 1.9621 - val_r2: 0.9058 - val_mae: 1.9621\n",
            "Epoch 514/700\n",
            "74/74 [==============================] - 0s 3ms/step - loss: 1.8655 - r2: 0.8943 - mae: 1.8655 - val_loss: 2.0600 - val_r2: 0.8947 - val_mae: 2.0600\n",
            "Epoch 515/700\n",
            "74/74 [==============================] - 0s 4ms/step - loss: 1.8321 - r2: 0.9106 - mae: 1.8321 - val_loss: 2.0227 - val_r2: 0.8997 - val_mae: 2.0227\n",
            "Epoch 516/700\n",
            "74/74 [==============================] - 0s 4ms/step - loss: 1.8564 - r2: 0.8993 - mae: 1.8564 - val_loss: 1.9627 - val_r2: 0.9061 - val_mae: 1.9627\n",
            "Epoch 517/700\n",
            "74/74 [==============================] - 0s 4ms/step - loss: 1.8423 - r2: 0.9034 - mae: 1.8423 - val_loss: 1.9811 - val_r2: 0.9006 - val_mae: 1.9811\n",
            "Epoch 518/700\n",
            "74/74 [==============================] - 0s 4ms/step - loss: 1.8217 - r2: 0.9039 - mae: 1.8217 - val_loss: 2.0081 - val_r2: 0.9021 - val_mae: 2.0081\n",
            "Epoch 519/700\n",
            "74/74 [==============================] - 0s 4ms/step - loss: 1.7998 - r2: 0.9044 - mae: 1.7998 - val_loss: 2.1175 - val_r2: 0.8968 - val_mae: 2.1175\n",
            "Epoch 520/700\n",
            "74/74 [==============================] - 0s 3ms/step - loss: 1.8609 - r2: 0.8919 - mae: 1.8609 - val_loss: 1.9865 - val_r2: 0.8987 - val_mae: 1.9865\n",
            "Epoch 521/700\n",
            "74/74 [==============================] - 0s 4ms/step - loss: 1.8156 - r2: 0.9052 - mae: 1.8156 - val_loss: 2.0215 - val_r2: 0.8936 - val_mae: 2.0215\n",
            "Epoch 522/700\n",
            "74/74 [==============================] - 0s 4ms/step - loss: 1.9049 - r2: 0.8910 - mae: 1.9049 - val_loss: 2.1390 - val_r2: 0.8887 - val_mae: 2.1390\n",
            "Epoch 523/700\n",
            "74/74 [==============================] - 0s 4ms/step - loss: 1.8313 - r2: 0.9003 - mae: 1.8313 - val_loss: 2.0405 - val_r2: 0.8987 - val_mae: 2.0405\n",
            "Epoch 524/700\n",
            "74/74 [==============================] - 0s 4ms/step - loss: 1.8292 - r2: 0.9017 - mae: 1.8292 - val_loss: 1.9434 - val_r2: 0.9012 - val_mae: 1.9434\n",
            "Epoch 525/700\n",
            "74/74 [==============================] - 0s 4ms/step - loss: 1.7889 - r2: 0.9122 - mae: 1.7889 - val_loss: 1.9862 - val_r2: 0.8961 - val_mae: 1.9862\n",
            "Epoch 526/700\n",
            "74/74 [==============================] - 0s 4ms/step - loss: 1.8243 - r2: 0.9036 - mae: 1.8243 - val_loss: 2.0142 - val_r2: 0.8961 - val_mae: 2.0142\n",
            "Epoch 527/700\n",
            "74/74 [==============================] - 0s 3ms/step - loss: 1.8367 - r2: 0.9050 - mae: 1.8367 - val_loss: 2.0002 - val_r2: 0.9017 - val_mae: 2.0002\n",
            "Epoch 528/700\n",
            "74/74 [==============================] - 0s 3ms/step - loss: 1.7538 - r2: 0.9139 - mae: 1.7538 - val_loss: 2.0979 - val_r2: 0.8947 - val_mae: 2.0979\n",
            "Epoch 529/700\n",
            "74/74 [==============================] - 0s 4ms/step - loss: 1.8991 - r2: 0.8961 - mae: 1.8991 - val_loss: 2.1242 - val_r2: 0.8918 - val_mae: 2.1242\n",
            "Epoch 530/700\n",
            "74/74 [==============================] - 0s 4ms/step - loss: 1.8335 - r2: 0.8997 - mae: 1.8335 - val_loss: 2.0366 - val_r2: 0.9017 - val_mae: 2.0366\n",
            "Epoch 531/700\n",
            "74/74 [==============================] - 0s 3ms/step - loss: 1.8084 - r2: 0.9099 - mae: 1.8084 - val_loss: 1.9788 - val_r2: 0.8951 - val_mae: 1.9788\n",
            "Epoch 532/700\n",
            "74/74 [==============================] - 0s 4ms/step - loss: 1.7742 - r2: 0.9108 - mae: 1.7742 - val_loss: 1.9781 - val_r2: 0.9029 - val_mae: 1.9781\n",
            "Epoch 533/700\n",
            "74/74 [==============================] - 0s 4ms/step - loss: 1.8594 - r2: 0.9037 - mae: 1.8594 - val_loss: 2.1440 - val_r2: 0.8873 - val_mae: 2.1440\n",
            "Epoch 534/700\n",
            "74/74 [==============================] - 0s 3ms/step - loss: 1.8102 - r2: 0.9071 - mae: 1.8102 - val_loss: 2.0528 - val_r2: 0.8966 - val_mae: 2.0528\n",
            "Epoch 535/700\n",
            "74/74 [==============================] - 0s 4ms/step - loss: 1.8162 - r2: 0.9054 - mae: 1.8162 - val_loss: 2.0093 - val_r2: 0.8992 - val_mae: 2.0093\n",
            "Epoch 536/700\n",
            "74/74 [==============================] - 0s 3ms/step - loss: 1.8097 - r2: 0.9085 - mae: 1.8097 - val_loss: 2.0817 - val_r2: 0.8952 - val_mae: 2.0817\n",
            "Epoch 537/700\n",
            "74/74 [==============================] - 0s 4ms/step - loss: 1.8169 - r2: 0.9043 - mae: 1.8169 - val_loss: 2.0510 - val_r2: 0.8915 - val_mae: 2.0510\n",
            "Epoch 538/700\n",
            "74/74 [==============================] - 0s 4ms/step - loss: 1.7837 - r2: 0.9022 - mae: 1.7837 - val_loss: 1.9626 - val_r2: 0.8958 - val_mae: 1.9626\n",
            "Epoch 539/700\n",
            "74/74 [==============================] - 0s 4ms/step - loss: 1.8144 - r2: 0.9013 - mae: 1.8144 - val_loss: 2.0130 - val_r2: 0.8985 - val_mae: 2.0130\n",
            "Epoch 540/700\n",
            "74/74 [==============================] - 0s 4ms/step - loss: 1.8358 - r2: 0.9043 - mae: 1.8358 - val_loss: 1.9664 - val_r2: 0.9068 - val_mae: 1.9664\n",
            "Epoch 541/700\n",
            "74/74 [==============================] - 0s 4ms/step - loss: 1.8666 - r2: 0.9003 - mae: 1.8666 - val_loss: 2.0545 - val_r2: 0.8965 - val_mae: 2.0545\n",
            "Epoch 542/700\n",
            "74/74 [==============================] - 0s 3ms/step - loss: 1.7655 - r2: 0.9119 - mae: 1.7655 - val_loss: 2.0397 - val_r2: 0.9024 - val_mae: 2.0397\n",
            "Epoch 543/700\n",
            "74/74 [==============================] - 0s 4ms/step - loss: 1.7500 - r2: 0.9157 - mae: 1.7500 - val_loss: 1.8991 - val_r2: 0.9117 - val_mae: 1.8991\n",
            "Epoch 544/700\n",
            "74/74 [==============================] - 0s 4ms/step - loss: 1.8190 - r2: 0.9023 - mae: 1.8190 - val_loss: 2.1099 - val_r2: 0.8897 - val_mae: 2.1099\n",
            "Epoch 545/700\n",
            "74/74 [==============================] - 0s 4ms/step - loss: 1.8097 - r2: 0.9050 - mae: 1.8097 - val_loss: 2.0152 - val_r2: 0.9010 - val_mae: 2.0152\n",
            "Epoch 546/700\n",
            "74/74 [==============================] - 0s 4ms/step - loss: 1.7587 - r2: 0.9113 - mae: 1.7587 - val_loss: 2.2538 - val_r2: 0.8717 - val_mae: 2.2538\n",
            "Epoch 547/700\n",
            "74/74 [==============================] - 0s 4ms/step - loss: 1.8003 - r2: 0.9073 - mae: 1.8003 - val_loss: 2.1590 - val_r2: 0.8924 - val_mae: 2.1590\n",
            "Epoch 548/700\n",
            "74/74 [==============================] - 0s 4ms/step - loss: 1.7760 - r2: 0.9083 - mae: 1.7760 - val_loss: 1.9139 - val_r2: 0.9078 - val_mae: 1.9139\n",
            "Epoch 549/700\n",
            "74/74 [==============================] - 0s 4ms/step - loss: 1.7939 - r2: 0.9080 - mae: 1.7939 - val_loss: 1.9977 - val_r2: 0.8996 - val_mae: 1.9977\n",
            "Epoch 550/700\n",
            "74/74 [==============================] - 0s 4ms/step - loss: 1.8048 - r2: 0.9022 - mae: 1.8048 - val_loss: 2.1923 - val_r2: 0.8863 - val_mae: 2.1923\n",
            "Epoch 551/700\n",
            "74/74 [==============================] - 0s 4ms/step - loss: 1.8256 - r2: 0.8994 - mae: 1.8256 - val_loss: 1.9322 - val_r2: 0.9048 - val_mae: 1.9322\n",
            "Epoch 552/700\n",
            "74/74 [==============================] - 0s 4ms/step - loss: 1.7732 - r2: 0.9107 - mae: 1.7732 - val_loss: 2.1157 - val_r2: 0.8916 - val_mae: 2.1157\n",
            "Epoch 553/700\n",
            "74/74 [==============================] - 0s 4ms/step - loss: 1.8027 - r2: 0.9031 - mae: 1.8027 - val_loss: 2.1169 - val_r2: 0.8873 - val_mae: 2.1169\n",
            "Epoch 554/700\n",
            "74/74 [==============================] - 0s 4ms/step - loss: 1.7634 - r2: 0.9138 - mae: 1.7634 - val_loss: 2.0098 - val_r2: 0.9039 - val_mae: 2.0098\n",
            "Epoch 555/700\n",
            "74/74 [==============================] - 0s 4ms/step - loss: 1.8165 - r2: 0.8991 - mae: 1.8165 - val_loss: 2.0631 - val_r2: 0.8967 - val_mae: 2.0631\n",
            "Epoch 556/700\n",
            "74/74 [==============================] - 0s 4ms/step - loss: 1.7732 - r2: 0.9022 - mae: 1.7732 - val_loss: 2.0240 - val_r2: 0.8996 - val_mae: 2.0240\n",
            "Epoch 557/700\n",
            "74/74 [==============================] - 0s 4ms/step - loss: 1.7068 - r2: 0.9173 - mae: 1.7068 - val_loss: 1.9674 - val_r2: 0.8994 - val_mae: 1.9674\n",
            "Epoch 558/700\n",
            "74/74 [==============================] - 0s 4ms/step - loss: 1.7621 - r2: 0.9118 - mae: 1.7621 - val_loss: 2.0735 - val_r2: 0.8954 - val_mae: 2.0735\n",
            "Epoch 559/700\n",
            "74/74 [==============================] - 0s 4ms/step - loss: 1.7574 - r2: 0.9112 - mae: 1.7574 - val_loss: 1.9503 - val_r2: 0.9060 - val_mae: 1.9503\n",
            "Epoch 560/700\n",
            "74/74 [==============================] - 0s 4ms/step - loss: 1.7048 - r2: 0.9200 - mae: 1.7048 - val_loss: 1.9793 - val_r2: 0.9013 - val_mae: 1.9793\n",
            "Epoch 561/700\n",
            "74/74 [==============================] - 0s 4ms/step - loss: 1.7265 - r2: 0.9190 - mae: 1.7265 - val_loss: 2.0394 - val_r2: 0.8970 - val_mae: 2.0394\n",
            "Epoch 562/700\n",
            "74/74 [==============================] - 0s 4ms/step - loss: 1.8029 - r2: 0.9065 - mae: 1.8029 - val_loss: 1.8965 - val_r2: 0.9068 - val_mae: 1.8965\n",
            "Epoch 563/700\n",
            "74/74 [==============================] - 0s 4ms/step - loss: 1.7708 - r2: 0.9125 - mae: 1.7708 - val_loss: 2.0721 - val_r2: 0.8973 - val_mae: 2.0721\n",
            "Epoch 564/700\n",
            "74/74 [==============================] - 0s 4ms/step - loss: 1.7740 - r2: 0.9080 - mae: 1.7740 - val_loss: 1.9711 - val_r2: 0.8998 - val_mae: 1.9711\n",
            "Epoch 565/700\n",
            "74/74 [==============================] - 0s 4ms/step - loss: 1.8264 - r2: 0.8969 - mae: 1.8264 - val_loss: 2.0156 - val_r2: 0.8986 - val_mae: 2.0156\n",
            "Epoch 566/700\n",
            "74/74 [==============================] - 0s 4ms/step - loss: 1.7794 - r2: 0.9058 - mae: 1.7794 - val_loss: 2.2265 - val_r2: 0.8820 - val_mae: 2.2265\n",
            "Epoch 567/700\n",
            "74/74 [==============================] - 0s 4ms/step - loss: 1.7939 - r2: 0.9076 - mae: 1.7939 - val_loss: 1.9812 - val_r2: 0.8978 - val_mae: 1.9812\n",
            "Epoch 568/700\n",
            "74/74 [==============================] - 0s 4ms/step - loss: 1.8121 - r2: 0.9065 - mae: 1.8121 - val_loss: 2.0151 - val_r2: 0.8998 - val_mae: 2.0151\n",
            "Epoch 569/700\n",
            "74/74 [==============================] - 0s 4ms/step - loss: 1.7348 - r2: 0.9111 - mae: 1.7348 - val_loss: 2.0596 - val_r2: 0.8966 - val_mae: 2.0596\n",
            "Epoch 570/700\n",
            "74/74 [==============================] - 0s 4ms/step - loss: 1.8243 - r2: 0.8994 - mae: 1.8243 - val_loss: 2.0085 - val_r2: 0.9032 - val_mae: 2.0085\n",
            "Epoch 571/700\n",
            "74/74 [==============================] - 0s 4ms/step - loss: 1.7484 - r2: 0.9143 - mae: 1.7484 - val_loss: 1.8503 - val_r2: 0.9057 - val_mae: 1.8503\n",
            "Epoch 572/700\n",
            "74/74 [==============================] - 0s 4ms/step - loss: 1.8107 - r2: 0.9045 - mae: 1.8107 - val_loss: 2.0014 - val_r2: 0.8995 - val_mae: 2.0014\n",
            "Epoch 573/700\n",
            "74/74 [==============================] - 0s 4ms/step - loss: 1.8041 - r2: 0.9006 - mae: 1.8041 - val_loss: 1.9337 - val_r2: 0.9076 - val_mae: 1.9337\n",
            "Epoch 574/700\n",
            "74/74 [==============================] - 0s 4ms/step - loss: 1.7884 - r2: 0.9025 - mae: 1.7884 - val_loss: 1.9563 - val_r2: 0.9032 - val_mae: 1.9563\n",
            "Epoch 575/700\n",
            "74/74 [==============================] - 0s 4ms/step - loss: 1.7934 - r2: 0.9032 - mae: 1.7934 - val_loss: 2.0398 - val_r2: 0.8970 - val_mae: 2.0398\n",
            "Epoch 576/700\n",
            "74/74 [==============================] - 0s 3ms/step - loss: 1.7657 - r2: 0.9133 - mae: 1.7657 - val_loss: 2.0460 - val_r2: 0.9009 - val_mae: 2.0460\n",
            "Epoch 577/700\n",
            "74/74 [==============================] - 0s 4ms/step - loss: 1.7913 - r2: 0.9091 - mae: 1.7913 - val_loss: 2.0349 - val_r2: 0.9052 - val_mae: 2.0349\n",
            "Epoch 578/700\n",
            "74/74 [==============================] - 0s 4ms/step - loss: 1.7359 - r2: 0.9139 - mae: 1.7359 - val_loss: 2.1554 - val_r2: 0.8926 - val_mae: 2.1554\n",
            "Epoch 579/700\n",
            "74/74 [==============================] - 0s 3ms/step - loss: 1.7406 - r2: 0.9137 - mae: 1.7406 - val_loss: 1.9235 - val_r2: 0.9076 - val_mae: 1.9235\n",
            "Epoch 580/700\n",
            "74/74 [==============================] - 0s 4ms/step - loss: 1.8020 - r2: 0.9047 - mae: 1.8020 - val_loss: 2.0122 - val_r2: 0.9010 - val_mae: 2.0122\n",
            "Epoch 581/700\n",
            "74/74 [==============================] - 0s 4ms/step - loss: 1.7938 - r2: 0.9004 - mae: 1.7938 - val_loss: 1.9536 - val_r2: 0.9075 - val_mae: 1.9536\n",
            "Epoch 582/700\n",
            "74/74 [==============================] - 0s 4ms/step - loss: 1.7865 - r2: 0.9092 - mae: 1.7865 - val_loss: 1.9521 - val_r2: 0.9014 - val_mae: 1.9521\n",
            "Epoch 583/700\n",
            "74/74 [==============================] - 0s 4ms/step - loss: 1.8634 - r2: 0.8953 - mae: 1.8634 - val_loss: 1.9723 - val_r2: 0.9061 - val_mae: 1.9723\n",
            "Epoch 584/700\n",
            "74/74 [==============================] - 0s 4ms/step - loss: 1.7707 - r2: 0.9069 - mae: 1.7707 - val_loss: 1.9966 - val_r2: 0.9014 - val_mae: 1.9966\n",
            "Epoch 585/700\n",
            "74/74 [==============================] - 0s 4ms/step - loss: 1.7516 - r2: 0.9040 - mae: 1.7516 - val_loss: 2.0336 - val_r2: 0.9002 - val_mae: 2.0336\n",
            "Epoch 586/700\n",
            "74/74 [==============================] - 0s 4ms/step - loss: 1.7986 - r2: 0.9083 - mae: 1.7986 - val_loss: 1.9895 - val_r2: 0.9041 - val_mae: 1.9895\n",
            "Epoch 587/700\n",
            "74/74 [==============================] - 0s 4ms/step - loss: 1.7539 - r2: 0.9132 - mae: 1.7539 - val_loss: 2.0322 - val_r2: 0.8971 - val_mae: 2.0322\n",
            "Epoch 588/700\n",
            "74/74 [==============================] - 0s 4ms/step - loss: 1.8046 - r2: 0.9047 - mae: 1.8046 - val_loss: 1.9734 - val_r2: 0.9046 - val_mae: 1.9734\n",
            "Epoch 589/700\n",
            "74/74 [==============================] - 0s 4ms/step - loss: 1.7017 - r2: 0.9210 - mae: 1.7017 - val_loss: 1.9529 - val_r2: 0.9112 - val_mae: 1.9529\n",
            "Epoch 590/700\n",
            "74/74 [==============================] - 0s 4ms/step - loss: 1.7284 - r2: 0.9139 - mae: 1.7284 - val_loss: 1.9414 - val_r2: 0.9066 - val_mae: 1.9414\n",
            "Epoch 591/700\n",
            "74/74 [==============================] - 0s 4ms/step - loss: 1.7506 - r2: 0.9095 - mae: 1.7506 - val_loss: 1.9810 - val_r2: 0.9020 - val_mae: 1.9810\n",
            "Epoch 592/700\n",
            "74/74 [==============================] - 0s 4ms/step - loss: 1.7513 - r2: 0.9088 - mae: 1.7513 - val_loss: 1.9245 - val_r2: 0.9038 - val_mae: 1.9245\n",
            "Epoch 593/700\n",
            "74/74 [==============================] - 0s 3ms/step - loss: 1.7611 - r2: 0.9088 - mae: 1.7611 - val_loss: 1.9268 - val_r2: 0.9051 - val_mae: 1.9268\n",
            "Epoch 594/700\n",
            "74/74 [==============================] - 0s 3ms/step - loss: 1.7737 - r2: 0.9078 - mae: 1.7737 - val_loss: 2.0205 - val_r2: 0.8977 - val_mae: 2.0205\n",
            "Epoch 595/700\n",
            "74/74 [==============================] - 0s 4ms/step - loss: 1.8006 - r2: 0.9015 - mae: 1.8006 - val_loss: 1.9808 - val_r2: 0.9000 - val_mae: 1.9808\n",
            "Epoch 596/700\n",
            "74/74 [==============================] - 0s 4ms/step - loss: 1.7884 - r2: 0.9030 - mae: 1.7884 - val_loss: 1.9082 - val_r2: 0.9029 - val_mae: 1.9082\n",
            "Epoch 597/700\n",
            "74/74 [==============================] - 0s 4ms/step - loss: 1.7984 - r2: 0.9009 - mae: 1.7984 - val_loss: 2.1118 - val_r2: 0.8879 - val_mae: 2.1118\n",
            "Epoch 598/700\n",
            "74/74 [==============================] - 0s 4ms/step - loss: 1.7717 - r2: 0.9123 - mae: 1.7717 - val_loss: 1.9595 - val_r2: 0.8968 - val_mae: 1.9595\n",
            "Epoch 599/700\n",
            "74/74 [==============================] - 0s 4ms/step - loss: 1.7652 - r2: 0.9111 - mae: 1.7652 - val_loss: 1.9997 - val_r2: 0.8895 - val_mae: 1.9997\n",
            "Epoch 600/700\n",
            "74/74 [==============================] - 0s 4ms/step - loss: 1.7493 - r2: 0.9127 - mae: 1.7493 - val_loss: 1.9193 - val_r2: 0.9001 - val_mae: 1.9193\n",
            "Epoch 601/700\n",
            "74/74 [==============================] - 0s 4ms/step - loss: 1.7466 - r2: 0.9113 - mae: 1.7466 - val_loss: 1.9860 - val_r2: 0.8973 - val_mae: 1.9860\n",
            "Epoch 602/700\n",
            "74/74 [==============================] - 0s 4ms/step - loss: 1.7373 - r2: 0.9070 - mae: 1.7373 - val_loss: 1.9806 - val_r2: 0.8978 - val_mae: 1.9806\n",
            "Epoch 603/700\n",
            "74/74 [==============================] - 0s 4ms/step - loss: 1.7555 - r2: 0.9101 - mae: 1.7555 - val_loss: 2.0349 - val_r2: 0.8948 - val_mae: 2.0349\n",
            "Epoch 604/700\n",
            "74/74 [==============================] - 0s 4ms/step - loss: 1.7230 - r2: 0.9173 - mae: 1.7230 - val_loss: 2.1148 - val_r2: 0.8921 - val_mae: 2.1148\n",
            "Epoch 605/700\n",
            "74/74 [==============================] - 0s 4ms/step - loss: 1.7584 - r2: 0.9094 - mae: 1.7584 - val_loss: 2.0174 - val_r2: 0.8895 - val_mae: 2.0174\n",
            "Epoch 606/700\n",
            "74/74 [==============================] - 0s 3ms/step - loss: 1.7529 - r2: 0.9116 - mae: 1.7529 - val_loss: 1.9998 - val_r2: 0.8988 - val_mae: 1.9998\n",
            "Epoch 607/700\n",
            "74/74 [==============================] - 0s 4ms/step - loss: 1.7646 - r2: 0.9110 - mae: 1.7646 - val_loss: 1.9004 - val_r2: 0.9018 - val_mae: 1.9004\n",
            "Epoch 608/700\n",
            "74/74 [==============================] - 0s 4ms/step - loss: 1.7206 - r2: 0.9160 - mae: 1.7206 - val_loss: 1.9994 - val_r2: 0.8951 - val_mae: 1.9994\n",
            "Epoch 609/700\n",
            "74/74 [==============================] - 0s 3ms/step - loss: 1.7680 - r2: 0.9029 - mae: 1.7680 - val_loss: 1.9896 - val_r2: 0.9010 - val_mae: 1.9896\n",
            "Epoch 610/700\n",
            "74/74 [==============================] - 0s 4ms/step - loss: 1.7360 - r2: 0.9073 - mae: 1.7360 - val_loss: 1.9386 - val_r2: 0.9062 - val_mae: 1.9386\n",
            "Epoch 611/700\n",
            "74/74 [==============================] - 0s 4ms/step - loss: 1.7537 - r2: 0.9106 - mae: 1.7537 - val_loss: 1.9550 - val_r2: 0.8974 - val_mae: 1.9550\n",
            "Epoch 612/700\n",
            "74/74 [==============================] - 0s 4ms/step - loss: 1.7825 - r2: 0.9059 - mae: 1.7825 - val_loss: 1.8898 - val_r2: 0.9058 - val_mae: 1.8898\n",
            "Epoch 613/700\n",
            "74/74 [==============================] - 0s 4ms/step - loss: 1.7335 - r2: 0.9129 - mae: 1.7335 - val_loss: 1.9552 - val_r2: 0.9093 - val_mae: 1.9552\n",
            "Epoch 614/700\n",
            "74/74 [==============================] - 0s 4ms/step - loss: 1.7291 - r2: 0.9135 - mae: 1.7291 - val_loss: 2.0071 - val_r2: 0.9041 - val_mae: 2.0071\n",
            "Epoch 615/700\n",
            "74/74 [==============================] - 0s 4ms/step - loss: 1.7392 - r2: 0.9115 - mae: 1.7392 - val_loss: 1.8179 - val_r2: 0.9118 - val_mae: 1.8179\n",
            "Epoch 616/700\n",
            "74/74 [==============================] - 0s 4ms/step - loss: 1.6703 - r2: 0.9202 - mae: 1.6703 - val_loss: 2.0185 - val_r2: 0.8959 - val_mae: 2.0185\n",
            "Epoch 617/700\n",
            "74/74 [==============================] - 0s 4ms/step - loss: 1.7106 - r2: 0.9176 - mae: 1.7106 - val_loss: 2.0105 - val_r2: 0.8988 - val_mae: 2.0105\n",
            "Epoch 618/700\n",
            "74/74 [==============================] - 0s 4ms/step - loss: 1.7681 - r2: 0.9093 - mae: 1.7681 - val_loss: 2.0069 - val_r2: 0.8999 - val_mae: 2.0069\n",
            "Epoch 619/700\n",
            "74/74 [==============================] - 0s 4ms/step - loss: 1.7178 - r2: 0.9042 - mae: 1.7178 - val_loss: 1.7934 - val_r2: 0.9150 - val_mae: 1.7934\n",
            "Epoch 620/700\n",
            "74/74 [==============================] - 0s 4ms/step - loss: 1.7549 - r2: 0.9080 - mae: 1.7549 - val_loss: 1.9486 - val_r2: 0.9028 - val_mae: 1.9486\n",
            "Epoch 621/700\n",
            "74/74 [==============================] - 0s 4ms/step - loss: 1.7225 - r2: 0.9150 - mae: 1.7225 - val_loss: 1.9314 - val_r2: 0.9026 - val_mae: 1.9314\n",
            "Epoch 622/700\n",
            "74/74 [==============================] - 0s 4ms/step - loss: 1.7406 - r2: 0.9076 - mae: 1.7406 - val_loss: 2.0895 - val_r2: 0.8926 - val_mae: 2.0895\n",
            "Epoch 623/700\n",
            "74/74 [==============================] - 0s 4ms/step - loss: 1.7460 - r2: 0.9023 - mae: 1.7460 - val_loss: 2.0700 - val_r2: 0.8911 - val_mae: 2.0700\n",
            "Epoch 624/700\n",
            "74/74 [==============================] - 0s 4ms/step - loss: 1.7108 - r2: 0.9176 - mae: 1.7108 - val_loss: 1.8925 - val_r2: 0.9082 - val_mae: 1.8925\n",
            "Epoch 625/700\n",
            "74/74 [==============================] - 0s 4ms/step - loss: 1.7021 - r2: 0.9169 - mae: 1.7021 - val_loss: 2.0085 - val_r2: 0.9037 - val_mae: 2.0085\n",
            "Epoch 626/700\n",
            "74/74 [==============================] - 0s 4ms/step - loss: 1.7287 - r2: 0.9116 - mae: 1.7287 - val_loss: 1.8207 - val_r2: 0.9172 - val_mae: 1.8207\n",
            "Epoch 627/700\n",
            "74/74 [==============================] - 0s 4ms/step - loss: 1.7740 - r2: 0.9041 - mae: 1.7740 - val_loss: 1.9552 - val_r2: 0.9138 - val_mae: 1.9552\n",
            "Epoch 628/700\n",
            "74/74 [==============================] - 0s 4ms/step - loss: 1.7352 - r2: 0.9102 - mae: 1.7352 - val_loss: 1.8157 - val_r2: 0.9140 - val_mae: 1.8157\n",
            "Epoch 629/700\n",
            "74/74 [==============================] - 0s 3ms/step - loss: 1.6720 - r2: 0.9214 - mae: 1.6720 - val_loss: 1.9180 - val_r2: 0.9111 - val_mae: 1.9180\n",
            "Epoch 630/700\n",
            "74/74 [==============================] - 0s 4ms/step - loss: 1.7075 - r2: 0.9122 - mae: 1.7075 - val_loss: 1.8713 - val_r2: 0.9119 - val_mae: 1.8713\n",
            "Epoch 631/700\n",
            "74/74 [==============================] - 0s 4ms/step - loss: 1.6844 - r2: 0.9196 - mae: 1.6844 - val_loss: 1.8975 - val_r2: 0.9117 - val_mae: 1.8975\n",
            "Epoch 632/700\n",
            "74/74 [==============================] - 0s 4ms/step - loss: 1.7615 - r2: 0.9046 - mae: 1.7615 - val_loss: 1.9957 - val_r2: 0.8958 - val_mae: 1.9957\n",
            "Epoch 633/700\n",
            "74/74 [==============================] - 0s 4ms/step - loss: 1.7729 - r2: 0.9036 - mae: 1.7729 - val_loss: 1.9966 - val_r2: 0.9054 - val_mae: 1.9966\n",
            "Epoch 634/700\n",
            "74/74 [==============================] - 0s 4ms/step - loss: 1.7032 - r2: 0.9172 - mae: 1.7032 - val_loss: 1.8620 - val_r2: 0.9068 - val_mae: 1.8620\n",
            "Epoch 635/700\n",
            "74/74 [==============================] - 0s 4ms/step - loss: 1.7287 - r2: 0.9179 - mae: 1.7287 - val_loss: 1.9312 - val_r2: 0.9016 - val_mae: 1.9312\n",
            "Epoch 636/700\n",
            "74/74 [==============================] - 0s 4ms/step - loss: 1.7521 - r2: 0.9086 - mae: 1.7521 - val_loss: 2.0404 - val_r2: 0.9000 - val_mae: 2.0404\n",
            "Epoch 637/700\n",
            "74/74 [==============================] - 0s 4ms/step - loss: 1.8532 - r2: 0.8936 - mae: 1.8532 - val_loss: 2.0310 - val_r2: 0.8876 - val_mae: 2.0310\n",
            "Epoch 638/700\n",
            "74/74 [==============================] - 0s 4ms/step - loss: 1.7478 - r2: 0.9100 - mae: 1.7478 - val_loss: 1.9296 - val_r2: 0.9081 - val_mae: 1.9296\n",
            "Epoch 639/700\n",
            "74/74 [==============================] - 0s 4ms/step - loss: 1.7631 - r2: 0.9005 - mae: 1.7631 - val_loss: 1.9618 - val_r2: 0.9047 - val_mae: 1.9618\n",
            "Epoch 640/700\n",
            "74/74 [==============================] - 0s 4ms/step - loss: 1.7698 - r2: 0.9027 - mae: 1.7698 - val_loss: 1.9790 - val_r2: 0.8983 - val_mae: 1.9790\n",
            "Epoch 641/700\n",
            "74/74 [==============================] - 0s 4ms/step - loss: 1.7278 - r2: 0.9106 - mae: 1.7278 - val_loss: 1.9399 - val_r2: 0.8998 - val_mae: 1.9399\n",
            "Epoch 642/700\n",
            "74/74 [==============================] - 0s 4ms/step - loss: 1.7489 - r2: 0.9070 - mae: 1.7489 - val_loss: 2.0416 - val_r2: 0.8979 - val_mae: 2.0416\n",
            "Epoch 643/700\n",
            "74/74 [==============================] - 0s 4ms/step - loss: 1.7057 - r2: 0.9144 - mae: 1.7057 - val_loss: 1.8594 - val_r2: 0.9088 - val_mae: 1.8594\n",
            "Epoch 644/700\n",
            "74/74 [==============================] - 0s 4ms/step - loss: 1.6930 - r2: 0.9187 - mae: 1.6930 - val_loss: 1.9613 - val_r2: 0.8974 - val_mae: 1.9613\n",
            "Epoch 645/700\n",
            "74/74 [==============================] - 0s 4ms/step - loss: 1.6909 - r2: 0.9191 - mae: 1.6909 - val_loss: 1.9988 - val_r2: 0.8983 - val_mae: 1.9988\n",
            "Epoch 646/700\n",
            "74/74 [==============================] - 0s 4ms/step - loss: 1.6933 - r2: 0.9141 - mae: 1.6933 - val_loss: 1.8580 - val_r2: 0.9097 - val_mae: 1.8580\n",
            "Epoch 647/700\n",
            "74/74 [==============================] - 0s 4ms/step - loss: 1.6835 - r2: 0.9200 - mae: 1.6835 - val_loss: 1.9308 - val_r2: 0.8986 - val_mae: 1.9308\n",
            "Epoch 648/700\n",
            "74/74 [==============================] - 0s 4ms/step - loss: 1.7342 - r2: 0.9097 - mae: 1.7342 - val_loss: 1.9569 - val_r2: 0.9006 - val_mae: 1.9569\n",
            "Epoch 649/700\n",
            "74/74 [==============================] - 0s 4ms/step - loss: 1.7465 - r2: 0.9058 - mae: 1.7465 - val_loss: 1.9444 - val_r2: 0.8995 - val_mae: 1.9444\n",
            "Epoch 650/700\n",
            "74/74 [==============================] - 0s 3ms/step - loss: 1.6971 - r2: 0.9180 - mae: 1.6971 - val_loss: 2.1023 - val_r2: 0.8899 - val_mae: 2.1023\n",
            "Epoch 651/700\n",
            "74/74 [==============================] - 0s 4ms/step - loss: 1.6696 - r2: 0.9238 - mae: 1.6696 - val_loss: 1.9038 - val_r2: 0.9054 - val_mae: 1.9038\n",
            "Epoch 652/700\n",
            "74/74 [==============================] - 0s 4ms/step - loss: 1.7334 - r2: 0.9101 - mae: 1.7334 - val_loss: 2.0774 - val_r2: 0.8896 - val_mae: 2.0774\n",
            "Epoch 653/700\n",
            "74/74 [==============================] - 0s 4ms/step - loss: 1.7196 - r2: 0.9147 - mae: 1.7196 - val_loss: 1.9688 - val_r2: 0.9024 - val_mae: 1.9688\n",
            "Epoch 654/700\n",
            "74/74 [==============================] - 0s 4ms/step - loss: 1.7411 - r2: 0.9133 - mae: 1.7411 - val_loss: 1.8533 - val_r2: 0.9085 - val_mae: 1.8533\n",
            "Epoch 655/700\n",
            "74/74 [==============================] - 0s 3ms/step - loss: 1.7323 - r2: 0.9063 - mae: 1.7323 - val_loss: 2.1567 - val_r2: 0.8785 - val_mae: 2.1567\n",
            "Epoch 656/700\n",
            "74/74 [==============================] - 0s 4ms/step - loss: 1.7577 - r2: 0.9033 - mae: 1.7577 - val_loss: 2.1026 - val_r2: 0.8846 - val_mae: 2.1026\n",
            "Epoch 657/700\n",
            "74/74 [==============================] - 0s 4ms/step - loss: 1.7199 - r2: 0.9158 - mae: 1.7199 - val_loss: 2.0133 - val_r2: 0.8932 - val_mae: 2.0133\n",
            "Epoch 658/700\n",
            "74/74 [==============================] - 0s 4ms/step - loss: 1.7106 - r2: 0.9184 - mae: 1.7106 - val_loss: 1.9944 - val_r2: 0.8972 - val_mae: 1.9944\n",
            "Epoch 659/700\n",
            "74/74 [==============================] - 0s 4ms/step - loss: 1.7384 - r2: 0.9127 - mae: 1.7384 - val_loss: 1.8449 - val_r2: 0.9033 - val_mae: 1.8449\n",
            "Epoch 660/700\n",
            "74/74 [==============================] - 0s 4ms/step - loss: 1.6862 - r2: 0.9174 - mae: 1.6862 - val_loss: 2.0347 - val_r2: 0.8917 - val_mae: 2.0347\n",
            "Epoch 661/700\n",
            "74/74 [==============================] - 0s 4ms/step - loss: 1.7121 - r2: 0.9146 - mae: 1.7121 - val_loss: 2.0371 - val_r2: 0.8909 - val_mae: 2.0371\n",
            "Epoch 662/700\n",
            "74/74 [==============================] - 0s 4ms/step - loss: 1.6777 - r2: 0.9150 - mae: 1.6777 - val_loss: 1.9973 - val_r2: 0.8935 - val_mae: 1.9973\n",
            "Epoch 663/700\n",
            "74/74 [==============================] - 0s 4ms/step - loss: 1.7490 - r2: 0.9059 - mae: 1.7490 - val_loss: 1.8416 - val_r2: 0.9016 - val_mae: 1.8416\n",
            "Epoch 664/700\n",
            "74/74 [==============================] - 0s 4ms/step - loss: 1.7062 - r2: 0.9130 - mae: 1.7062 - val_loss: 2.0640 - val_r2: 0.8950 - val_mae: 2.0640\n",
            "Epoch 665/700\n",
            "74/74 [==============================] - 0s 4ms/step - loss: 1.7198 - r2: 0.9126 - mae: 1.7198 - val_loss: 2.0996 - val_r2: 0.8897 - val_mae: 2.0996\n",
            "Epoch 666/700\n",
            "74/74 [==============================] - 0s 4ms/step - loss: 1.7410 - r2: 0.9078 - mae: 1.7410 - val_loss: 2.0655 - val_r2: 0.8922 - val_mae: 2.0655\n",
            "Epoch 667/700\n",
            "74/74 [==============================] - 0s 4ms/step - loss: 1.7165 - r2: 0.9130 - mae: 1.7165 - val_loss: 2.0470 - val_r2: 0.8933 - val_mae: 2.0470\n",
            "Epoch 668/700\n",
            "74/74 [==============================] - 0s 4ms/step - loss: 1.7478 - r2: 0.9138 - mae: 1.7478 - val_loss: 2.0038 - val_r2: 0.8959 - val_mae: 2.0038\n",
            "Epoch 669/700\n",
            "74/74 [==============================] - 0s 4ms/step - loss: 1.7141 - r2: 0.9135 - mae: 1.7141 - val_loss: 1.8794 - val_r2: 0.9028 - val_mae: 1.8794\n",
            "Epoch 670/700\n",
            "74/74 [==============================] - 0s 4ms/step - loss: 1.7133 - r2: 0.9147 - mae: 1.7133 - val_loss: 1.9974 - val_r2: 0.8850 - val_mae: 1.9974\n",
            "Epoch 671/700\n",
            "74/74 [==============================] - 0s 4ms/step - loss: 1.7124 - r2: 0.9077 - mae: 1.7124 - val_loss: 1.9412 - val_r2: 0.9037 - val_mae: 1.9412\n",
            "Epoch 672/700\n",
            "74/74 [==============================] - 0s 4ms/step - loss: 1.7091 - r2: 0.9151 - mae: 1.7091 - val_loss: 2.0483 - val_r2: 0.8951 - val_mae: 2.0483\n",
            "Epoch 673/700\n",
            "74/74 [==============================] - 0s 4ms/step - loss: 1.6683 - r2: 0.9182 - mae: 1.6683 - val_loss: 1.9564 - val_r2: 0.8959 - val_mae: 1.9564\n",
            "Epoch 674/700\n",
            "74/74 [==============================] - 0s 3ms/step - loss: 1.6888 - r2: 0.9104 - mae: 1.6888 - val_loss: 1.8477 - val_r2: 0.9039 - val_mae: 1.8477\n",
            "Epoch 675/700\n",
            "74/74 [==============================] - 0s 4ms/step - loss: 1.7177 - r2: 0.9131 - mae: 1.7177 - val_loss: 1.9193 - val_r2: 0.9024 - val_mae: 1.9193\n",
            "Epoch 676/700\n",
            "74/74 [==============================] - 0s 4ms/step - loss: 1.6749 - r2: 0.9156 - mae: 1.6749 - val_loss: 1.9959 - val_r2: 0.8902 - val_mae: 1.9959\n",
            "Epoch 677/700\n",
            "74/74 [==============================] - 0s 4ms/step - loss: 1.7282 - r2: 0.9073 - mae: 1.7282 - val_loss: 2.0777 - val_r2: 0.8794 - val_mae: 2.0777\n",
            "Epoch 678/700\n",
            "74/74 [==============================] - 0s 5ms/step - loss: 1.6986 - r2: 0.9036 - mae: 1.6986 - val_loss: 2.0365 - val_r2: 0.8875 - val_mae: 2.0365\n",
            "Epoch 679/700\n",
            "74/74 [==============================] - 0s 4ms/step - loss: 1.6902 - r2: 0.9139 - mae: 1.6902 - val_loss: 2.0177 - val_r2: 0.8911 - val_mae: 2.0177\n",
            "Epoch 680/700\n",
            "74/74 [==============================] - 0s 4ms/step - loss: 1.6790 - r2: 0.9184 - mae: 1.6790 - val_loss: 1.7939 - val_r2: 0.9082 - val_mae: 1.7939\n",
            "Epoch 681/700\n",
            "74/74 [==============================] - 0s 4ms/step - loss: 1.7020 - r2: 0.9116 - mae: 1.7020 - val_loss: 1.8872 - val_r2: 0.9065 - val_mae: 1.8872\n",
            "Epoch 682/700\n",
            "74/74 [==============================] - 0s 4ms/step - loss: 1.6957 - r2: 0.9107 - mae: 1.6957 - val_loss: 1.9341 - val_r2: 0.9021 - val_mae: 1.9341\n",
            "Epoch 683/700\n",
            "74/74 [==============================] - 0s 4ms/step - loss: 1.6609 - r2: 0.9176 - mae: 1.6609 - val_loss: 1.9062 - val_r2: 0.9020 - val_mae: 1.9062\n",
            "Epoch 684/700\n",
            "74/74 [==============================] - 0s 4ms/step - loss: 1.7032 - r2: 0.9170 - mae: 1.7032 - val_loss: 1.8094 - val_r2: 0.9093 - val_mae: 1.8094\n",
            "Epoch 685/700\n",
            "74/74 [==============================] - 0s 4ms/step - loss: 1.7315 - r2: 0.9085 - mae: 1.7315 - val_loss: 2.0653 - val_r2: 0.8885 - val_mae: 2.0653\n",
            "Epoch 686/700\n",
            "74/74 [==============================] - 0s 4ms/step - loss: 1.7641 - r2: 0.9053 - mae: 1.7641 - val_loss: 2.0678 - val_r2: 0.8998 - val_mae: 2.0678\n",
            "Epoch 687/700\n",
            "74/74 [==============================] - 0s 4ms/step - loss: 1.6725 - r2: 0.9170 - mae: 1.6725 - val_loss: 2.0062 - val_r2: 0.9036 - val_mae: 2.0062\n",
            "Epoch 688/700\n",
            "74/74 [==============================] - 0s 4ms/step - loss: 1.6844 - r2: 0.9148 - mae: 1.6844 - val_loss: 2.0046 - val_r2: 0.8913 - val_mae: 2.0046\n",
            "Epoch 689/700\n",
            "74/74 [==============================] - 0s 4ms/step - loss: 1.7051 - r2: 0.9136 - mae: 1.7051 - val_loss: 2.1067 - val_r2: 0.8843 - val_mae: 2.1067\n",
            "Epoch 690/700\n",
            "74/74 [==============================] - 0s 4ms/step - loss: 1.7192 - r2: 0.9083 - mae: 1.7192 - val_loss: 1.9899 - val_r2: 0.9021 - val_mae: 1.9899\n",
            "Epoch 691/700\n",
            "74/74 [==============================] - 0s 4ms/step - loss: 1.7575 - r2: 0.9067 - mae: 1.7575 - val_loss: 2.0937 - val_r2: 0.8804 - val_mae: 2.0937\n",
            "Epoch 692/700\n",
            "74/74 [==============================] - 0s 4ms/step - loss: 1.7491 - r2: 0.9053 - mae: 1.7491 - val_loss: 1.8717 - val_r2: 0.9055 - val_mae: 1.8717\n",
            "Epoch 693/700\n",
            "74/74 [==============================] - 0s 4ms/step - loss: 1.6958 - r2: 0.9124 - mae: 1.6958 - val_loss: 2.0961 - val_r2: 0.8881 - val_mae: 2.0961\n",
            "Epoch 694/700\n",
            "74/74 [==============================] - 0s 4ms/step - loss: 1.6714 - r2: 0.9191 - mae: 1.6714 - val_loss: 1.9681 - val_r2: 0.8958 - val_mae: 1.9681\n",
            "Epoch 695/700\n",
            "74/74 [==============================] - 0s 4ms/step - loss: 1.6575 - r2: 0.9163 - mae: 1.6575 - val_loss: 1.8884 - val_r2: 0.9058 - val_mae: 1.8884\n",
            "Epoch 696/700\n",
            "74/74 [==============================] - 0s 4ms/step - loss: 1.6532 - r2: 0.9217 - mae: 1.6532 - val_loss: 1.8868 - val_r2: 0.9045 - val_mae: 1.8868\n",
            "Epoch 697/700\n",
            "74/74 [==============================] - 0s 4ms/step - loss: 1.7216 - r2: 0.9135 - mae: 1.7216 - val_loss: 1.9173 - val_r2: 0.9051 - val_mae: 1.9173\n",
            "Epoch 698/700\n",
            "74/74 [==============================] - 0s 4ms/step - loss: 1.7443 - r2: 0.9005 - mae: 1.7443 - val_loss: 1.9698 - val_r2: 0.9048 - val_mae: 1.9698\n",
            "Epoch 699/700\n",
            "74/74 [==============================] - 0s 4ms/step - loss: 1.6788 - r2: 0.9137 - mae: 1.6788 - val_loss: 1.8700 - val_r2: 0.9044 - val_mae: 1.8700\n",
            "Epoch 700/700\n",
            "74/74 [==============================] - 0s 4ms/step - loss: 1.6254 - r2: 0.9249 - mae: 1.6254 - val_loss: 2.0241 - val_r2: 0.8922 - val_mae: 2.0241\n"
          ],
          "name": "stdout"
        }
      ]
    },
    {
      "cell_type": "code",
      "metadata": {
        "colab": {
          "base_uri": "https://localhost:8080/"
        },
        "id": "jMFuJHI_hXRc",
        "outputId": "7c69095c-ce44-458d-bc83-57630f244358"
      },
      "source": [
        "ann1.summary()"
      ],
      "execution_count": 449,
      "outputs": [
        {
          "output_type": "stream",
          "text": [
            "Model: \"sequential_1\"\n",
            "_________________________________________________________________\n",
            "Layer (type)                 Output Shape              Param #   \n",
            "=================================================================\n",
            "dense_5 (Dense)              (None, 128)               2560      \n",
            "_________________________________________________________________\n",
            "dropout_3 (Dropout)          (None, 128)               0         \n",
            "_________________________________________________________________\n",
            "dense_6 (Dense)              (None, 64)                8256      \n",
            "_________________________________________________________________\n",
            "dropout_4 (Dropout)          (None, 64)                0         \n",
            "_________________________________________________________________\n",
            "dense_7 (Dense)              (None, 32)                2080      \n",
            "_________________________________________________________________\n",
            "dropout_5 (Dropout)          (None, 32)                0         \n",
            "_________________________________________________________________\n",
            "dense_8 (Dense)              (None, 16)                528       \n",
            "_________________________________________________________________\n",
            "dense_9 (Dense)              (None, 2)                 34        \n",
            "=================================================================\n",
            "Total params: 13,458\n",
            "Trainable params: 13,458\n",
            "Non-trainable params: 0\n",
            "_________________________________________________________________\n"
          ],
          "name": "stdout"
        }
      ]
    },
    {
      "cell_type": "code",
      "metadata": {
        "colab": {
          "base_uri": "https://localhost:8080/",
          "height": 282
        },
        "id": "lIDFzMU7wOyh",
        "outputId": "664b5222-94e9-4380-d5d5-90989df63598"
      },
      "source": [
        "plt.plot(r1.history['r2'], label='R2')\n",
        "plt.plot(r1.history['val_r2'], label='Val_R2')"
      ],
      "execution_count": 450,
      "outputs": [
        {
          "output_type": "execute_result",
          "data": {
            "text/plain": [
              "[<matplotlib.lines.Line2D at 0x7fd226b0e290>]"
            ]
          },
          "metadata": {},
          "execution_count": 450
        },
        {
          "output_type": "display_data",
          "data": {
            "image/png": "[encoded data removed]",
            "text/plain": [
              "<Figure size 432x288 with 1 Axes>"
            ]
          },
          "metadata": {
            "needs_background": "light"
          }
        }
      ]
    },
    {
      "cell_type": "code",
      "metadata": {
        "colab": {
          "base_uri": "https://localhost:8080/"
        },
        "id": "EAXJ8-5GbTtH",
        "outputId": "aeece4c7-908a-4a0b-9f24-60098cf3a960"
      },
      "source": [
        "ann_score = ann1.evaluate(x_test, y_test)"
      ],
      "execution_count": 452,
      "outputs": [
        {
          "output_type": "stream",
          "text": [
            "37/37 [==============================] - 0s 2ms/step - loss: 2.0241 - r2: 0.8905 - mae: 2.0241\n"
          ],
          "name": "stdout"
        }
      ]
    },
    {
      "cell_type": "code",
      "metadata": {
        "id": "G39pBVd2VDgN"
      },
      "source": [
        "ann_r2 = ann_score[1]*100"
      ],
      "execution_count": 456,
      "outputs": []
    },
    {
      "cell_type": "markdown",
      "metadata": {
        "id": "m3_TltkIhsiR"
      },
      "source": [
        "Our Neural Network gave us a **MAE of 2.02** and **R2 score of 90%**"
      ]
    },
    {
      "cell_type": "markdown",
      "metadata": {
        "id": "Ko7t7Q1Eg1lg"
      },
      "source": [
        "We are getting a **R2 of 90%** which is considerably lower than the **99%** we got from Random Forrest Regression using Feature Engineering.\n",
        "\n",
        "Hence, Feature Engineering is giving us about 9% better R2 score than the Deep Learning Approach."
      ]
    },
    {
      "cell_type": "code",
      "metadata": {
        "colab": {
          "base_uri": "https://localhost:8080/",
          "height": 584
        },
        "id": "4KZ9JuXtfbDp",
        "outputId": "ede30b03-e9da-48e0-cf50-d7666e96ab74"
      },
      "source": [
        "plt.figure(figsize=(12,9))\n",
        "ax = sns.barplot(y=[ann_r2, rf_r21, rf_r22], x=['Artificial Neural Network', 'Random Forrest(Y1 Variable)', 'Random Forrest(Y2 Variable)'])\n",
        "for p in ax.patches:\n",
        "  height = p.get_height()\n",
        "  ax.text(p.get_x() + p.get_width()/2.,\n",
        "          height + 0.01,\n",
        "          '{:1.3f}'.format(height),\n",
        "          ha='center')\n",
        "plt.xlabel('Mean Absolute Error')\n",
        "plt.ylabel('Model Name')\n",
        "plt.title('Comparing Neural Network MAE to Random Forrest MAE')"
      ],
      "execution_count": 457,
      "outputs": [
        {
          "output_type": "execute_result",
          "data": {
            "text/plain": [
              "Text(0.5, 1.0, 'Comparing Neural Network MAE to Random Forrest MAE')"
            ]
          },
          "metadata": {},
          "execution_count": 457
        },
        {
          "output_type": "display_data",
          "data": {
            "image/png": "[encoded data removed]",
            "text/plain": [
              "<Figure size 864x648 with 1 Axes>"
            ]
          },
          "metadata": {
            "needs_background": "light"
          }
        }
      ]
    }
  ]
}