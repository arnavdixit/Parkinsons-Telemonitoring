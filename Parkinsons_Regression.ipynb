{
  "nbformat": 4,
  "nbformat_minor": 0,
  "metadata": {
    "colab": {
      "name": "Parkinsons_Regression.ipynb",
      "provenance": [],
      "collapsed_sections": []
    },
    "kernelspec": {
      "name": "python3",
      "display_name": "Python 3"
    },
    "language_info": {
      "name": "python"
    },
    "accelerator": "GPU"
  },
  "cells": [
    {
      "cell_type": "markdown",
      "metadata": {
        "id": "NCd_DzfOOS-e"
      },
      "source": [
        "# Importing Libraries"
      ]
    },
    {
      "cell_type": "code",
      "metadata": {
        "colab": {
          "base_uri": "https://localhost:8080/"
        },
        "id": "lYZwcuU0s_87",
        "outputId": "ecc13b0c-752b-427b-d13e-9e2fc799b52d"
      },
      "source": [
        "!pip install tensorflow_addons"
      ],
      "execution_count": 1,
      "outputs": [
        {
          "output_type": "stream",
          "name": "stdout",
          "text": [
            "Collecting tensorflow_addons\n",
            "  Downloading tensorflow_addons-0.14.0-cp37-cp37m-manylinux_2_12_x86_64.manylinux2010_x86_64.whl (1.1 MB)\n",
            "\u001b[?25l\r\u001b[K     |▎                               | 10 kB 24.4 MB/s eta 0:00:01\r\u001b[K     |▋                               | 20 kB 29.1 MB/s eta 0:00:01\r\u001b[K     |▉                               | 30 kB 22.1 MB/s eta 0:00:01\r\u001b[K     |█▏                              | 40 kB 17.7 MB/s eta 0:00:01\r\u001b[K     |█▌                              | 51 kB 14.2 MB/s eta 0:00:01\r\u001b[K     |█▊                              | 61 kB 10.3 MB/s eta 0:00:01\r\u001b[K     |██                              | 71 kB 11.4 MB/s eta 0:00:01\r\u001b[K     |██▍                             | 81 kB 12.5 MB/s eta 0:00:01\r\u001b[K     |██▋                             | 92 kB 11.6 MB/s eta 0:00:01\r\u001b[K     |███                             | 102 kB 12.4 MB/s eta 0:00:01\r\u001b[K     |███▎                            | 112 kB 12.4 MB/s eta 0:00:01\r\u001b[K     |███▌                            | 122 kB 12.4 MB/s eta 0:00:01\r\u001b[K     |███▉                            | 133 kB 12.4 MB/s eta 0:00:01\r\u001b[K     |████▏                           | 143 kB 12.4 MB/s eta 0:00:01\r\u001b[K     |████▍                           | 153 kB 12.4 MB/s eta 0:00:01\r\u001b[K     |████▊                           | 163 kB 12.4 MB/s eta 0:00:01\r\u001b[K     |█████                           | 174 kB 12.4 MB/s eta 0:00:01\r\u001b[K     |█████▎                          | 184 kB 12.4 MB/s eta 0:00:01\r\u001b[K     |█████▋                          | 194 kB 12.4 MB/s eta 0:00:01\r\u001b[K     |██████                          | 204 kB 12.4 MB/s eta 0:00:01\r\u001b[K     |██████▏                         | 215 kB 12.4 MB/s eta 0:00:01\r\u001b[K     |██████▌                         | 225 kB 12.4 MB/s eta 0:00:01\r\u001b[K     |██████▉                         | 235 kB 12.4 MB/s eta 0:00:01\r\u001b[K     |███████                         | 245 kB 12.4 MB/s eta 0:00:01\r\u001b[K     |███████▍                        | 256 kB 12.4 MB/s eta 0:00:01\r\u001b[K     |███████▊                        | 266 kB 12.4 MB/s eta 0:00:01\r\u001b[K     |████████                        | 276 kB 12.4 MB/s eta 0:00:01\r\u001b[K     |████████▎                       | 286 kB 12.4 MB/s eta 0:00:01\r\u001b[K     |████████▋                       | 296 kB 12.4 MB/s eta 0:00:01\r\u001b[K     |████████▉                       | 307 kB 12.4 MB/s eta 0:00:01\r\u001b[K     |█████████▏                      | 317 kB 12.4 MB/s eta 0:00:01\r\u001b[K     |█████████▌                      | 327 kB 12.4 MB/s eta 0:00:01\r\u001b[K     |█████████▊                      | 337 kB 12.4 MB/s eta 0:00:01\r\u001b[K     |██████████                      | 348 kB 12.4 MB/s eta 0:00:01\r\u001b[K     |██████████▍                     | 358 kB 12.4 MB/s eta 0:00:01\r\u001b[K     |██████████▋                     | 368 kB 12.4 MB/s eta 0:00:01\r\u001b[K     |███████████                     | 378 kB 12.4 MB/s eta 0:00:01\r\u001b[K     |███████████▎                    | 389 kB 12.4 MB/s eta 0:00:01\r\u001b[K     |███████████▌                    | 399 kB 12.4 MB/s eta 0:00:01\r\u001b[K     |███████████▉                    | 409 kB 12.4 MB/s eta 0:00:01\r\u001b[K     |████████████▏                   | 419 kB 12.4 MB/s eta 0:00:01\r\u001b[K     |████████████▍                   | 430 kB 12.4 MB/s eta 0:00:01\r\u001b[K     |████████████▊                   | 440 kB 12.4 MB/s eta 0:00:01\r\u001b[K     |█████████████                   | 450 kB 12.4 MB/s eta 0:00:01\r\u001b[K     |█████████████▎                  | 460 kB 12.4 MB/s eta 0:00:01\r\u001b[K     |█████████████▋                  | 471 kB 12.4 MB/s eta 0:00:01\r\u001b[K     |██████████████                  | 481 kB 12.4 MB/s eta 0:00:01\r\u001b[K     |██████████████▏                 | 491 kB 12.4 MB/s eta 0:00:01\r\u001b[K     |██████████████▌                 | 501 kB 12.4 MB/s eta 0:00:01\r\u001b[K     |██████████████▉                 | 512 kB 12.4 MB/s eta 0:00:01\r\u001b[K     |███████████████                 | 522 kB 12.4 MB/s eta 0:00:01\r\u001b[K     |███████████████▍                | 532 kB 12.4 MB/s eta 0:00:01\r\u001b[K     |███████████████▊                | 542 kB 12.4 MB/s eta 0:00:01\r\u001b[K     |████████████████                | 552 kB 12.4 MB/s eta 0:00:01\r\u001b[K     |████████████████▎               | 563 kB 12.4 MB/s eta 0:00:01\r\u001b[K     |████████████████▋               | 573 kB 12.4 MB/s eta 0:00:01\r\u001b[K     |████████████████▉               | 583 kB 12.4 MB/s eta 0:00:01\r\u001b[K     |█████████████████▏              | 593 kB 12.4 MB/s eta 0:00:01\r\u001b[K     |█████████████████▌              | 604 kB 12.4 MB/s eta 0:00:01\r\u001b[K     |█████████████████▊              | 614 kB 12.4 MB/s eta 0:00:01\r\u001b[K     |██████████████████              | 624 kB 12.4 MB/s eta 0:00:01\r\u001b[K     |██████████████████▍             | 634 kB 12.4 MB/s eta 0:00:01\r\u001b[K     |██████████████████▋             | 645 kB 12.4 MB/s eta 0:00:01\r\u001b[K     |███████████████████             | 655 kB 12.4 MB/s eta 0:00:01\r\u001b[K     |███████████████████▎            | 665 kB 12.4 MB/s eta 0:00:01\r\u001b[K     |███████████████████▌            | 675 kB 12.4 MB/s eta 0:00:01\r\u001b[K     |███████████████████▉            | 686 kB 12.4 MB/s eta 0:00:01\r\u001b[K     |████████████████████▏           | 696 kB 12.4 MB/s eta 0:00:01\r\u001b[K     |████████████████████▍           | 706 kB 12.4 MB/s eta 0:00:01\r\u001b[K     |████████████████████▊           | 716 kB 12.4 MB/s eta 0:00:01\r\u001b[K     |█████████████████████           | 727 kB 12.4 MB/s eta 0:00:01\r\u001b[K     |█████████████████████▎          | 737 kB 12.4 MB/s eta 0:00:01\r\u001b[K     |█████████████████████▋          | 747 kB 12.4 MB/s eta 0:00:01\r\u001b[K     |██████████████████████          | 757 kB 12.4 MB/s eta 0:00:01\r\u001b[K     |██████████████████████▏         | 768 kB 12.4 MB/s eta 0:00:01\r\u001b[K     |██████████████████████▌         | 778 kB 12.4 MB/s eta 0:00:01\r\u001b[K     |██████████████████████▉         | 788 kB 12.4 MB/s eta 0:00:01\r\u001b[K     |███████████████████████         | 798 kB 12.4 MB/s eta 0:00:01\r\u001b[K     |███████████████████████▍        | 808 kB 12.4 MB/s eta 0:00:01\r\u001b[K     |███████████████████████▊        | 819 kB 12.4 MB/s eta 0:00:01\r\u001b[K     |████████████████████████        | 829 kB 12.4 MB/s eta 0:00:01\r\u001b[K     |████████████████████████▎       | 839 kB 12.4 MB/s eta 0:00:01\r\u001b[K     |████████████████████████▋       | 849 kB 12.4 MB/s eta 0:00:01\r\u001b[K     |████████████████████████▉       | 860 kB 12.4 MB/s eta 0:00:01\r\u001b[K     |█████████████████████████▏      | 870 kB 12.4 MB/s eta 0:00:01\r\u001b[K     |█████████████████████████▍      | 880 kB 12.4 MB/s eta 0:00:01\r\u001b[K     |█████████████████████████▊      | 890 kB 12.4 MB/s eta 0:00:01\r\u001b[K     |██████████████████████████      | 901 kB 12.4 MB/s eta 0:00:01\r\u001b[K     |██████████████████████████▎     | 911 kB 12.4 MB/s eta 0:00:01\r\u001b[K     |██████████████████████████▋     | 921 kB 12.4 MB/s eta 0:00:01\r\u001b[K     |███████████████████████████     | 931 kB 12.4 MB/s eta 0:00:01\r\u001b[K     |███████████████████████████▏    | 942 kB 12.4 MB/s eta 0:00:01\r\u001b[K     |███████████████████████████▌    | 952 kB 12.4 MB/s eta 0:00:01\r\u001b[K     |███████████████████████████▉    | 962 kB 12.4 MB/s eta 0:00:01\r\u001b[K     |████████████████████████████    | 972 kB 12.4 MB/s eta 0:00:01\r\u001b[K     |████████████████████████████▍   | 983 kB 12.4 MB/s eta 0:00:01\r\u001b[K     |████████████████████████████▊   | 993 kB 12.4 MB/s eta 0:00:01\r\u001b[K     |█████████████████████████████   | 1.0 MB 12.4 MB/s eta 0:00:01\r\u001b[K     |█████████████████████████████▎  | 1.0 MB 12.4 MB/s eta 0:00:01\r\u001b[K     |█████████████████████████████▋  | 1.0 MB 12.4 MB/s eta 0:00:01\r\u001b[K     |█████████████████████████████▉  | 1.0 MB 12.4 MB/s eta 0:00:01\r\u001b[K     |██████████████████████████████▏ | 1.0 MB 12.4 MB/s eta 0:00:01\r\u001b[K     |██████████████████████████████▌ | 1.1 MB 12.4 MB/s eta 0:00:01\r\u001b[K     |██████████████████████████████▊ | 1.1 MB 12.4 MB/s eta 0:00:01\r\u001b[K     |███████████████████████████████ | 1.1 MB 12.4 MB/s eta 0:00:01\r\u001b[K     |███████████████████████████████▍| 1.1 MB 12.4 MB/s eta 0:00:01\r\u001b[K     |███████████████████████████████▋| 1.1 MB 12.4 MB/s eta 0:00:01\r\u001b[K     |████████████████████████████████| 1.1 MB 12.4 MB/s eta 0:00:01\r\u001b[K     |████████████████████████████████| 1.1 MB 12.4 MB/s \n",
            "\u001b[?25hRequirement already satisfied: typeguard>=2.7 in /usr/local/lib/python3.7/dist-packages (from tensorflow_addons) (2.7.1)\n",
            "Installing collected packages: tensorflow-addons\n",
            "Successfully installed tensorflow-addons-0.14.0\n"
          ]
        }
      ]
    },
    {
      "cell_type": "code",
      "metadata": {
        "id": "z0Kpn47VNwjI"
      },
      "source": [
        "import numpy as np\n",
        "import pandas as pd\n",
        "import matplotlib.pyplot as plt\n",
        "import seaborn as sns\n",
        "import tensorflow as tf\n",
        "import tensorflow_addons as tfa\n",
        "from tensorflow.keras.models import Sequential\n",
        "from tensorflow.keras.layers import Dense, Dropout\n",
        "from keras import backend as K\n",
        "from sklearn.model_selection import train_test_split, cross_val_score\n",
        "from sklearn.preprocessing import StandardScaler, PolynomialFeatures\n",
        "from sklearn.compose import ColumnTransformer\n",
        "from sklearn.decomposition import PCA, KernelPCA\n",
        "from sklearn.linear_model import LinearRegression\n",
        "from sklearn.svm import SVR\n",
        "from sklearn.tree import DecisionTreeRegressor\n",
        "from sklearn.ensemble import RandomForestRegressor\n",
        "from xgboost import XGBRegressor\n",
        "from sklearn.metrics import mean_absolute_error, mean_squared_error, r2_score\n",
        "import warnings\n",
        "warnings.filterwarnings('ignore')\n",
        "%matplotlib inline"
      ],
      "execution_count": 2,
      "outputs": []
    },
    {
      "cell_type": "markdown",
      "metadata": {
        "id": "h9KXNEANOVWh"
      },
      "source": [
        "# Importing Dataset"
      ]
    },
    {
      "cell_type": "code",
      "metadata": {
        "id": "qncLLI4UOM4F"
      },
      "source": [
        "df = pd.read_csv('parkinsons_updrs.csv')"
      ],
      "execution_count": 3,
      "outputs": []
    },
    {
      "cell_type": "code",
      "metadata": {
        "colab": {
          "base_uri": "https://localhost:8080/",
          "height": 223
        },
        "id": "aEVKIk4PORCA",
        "outputId": "ce7b9c44-8c50-4670-8ddd-7435baf11fc3"
      },
      "source": [
        "df.head()"
      ],
      "execution_count": 4,
      "outputs": [
        {
          "output_type": "execute_result",
          "data": {
            "text/html": [
              "<div>\n",
              "<style scoped>\n",
              "    .dataframe tbody tr th:only-of-type {\n",
              "        vertical-align: middle;\n",
              "    }\n",
              "\n",
              "    .dataframe tbody tr th {\n",
              "        vertical-align: top;\n",
              "    }\n",
              "\n",
              "    .dataframe thead th {\n",
              "        text-align: right;\n",
              "    }\n",
              "</style>\n",
              "<table border=\"1\" class=\"dataframe\">\n",
              "  <thead>\n",
              "    <tr style=\"text-align: right;\">\n",
              "      <th></th>\n",
              "      <th>subject#</th>\n",
              "      <th>age</th>\n",
              "      <th>sex</th>\n",
              "      <th>test_time</th>\n",
              "      <th>motor_UPDRS</th>\n",
              "      <th>total_UPDRS</th>\n",
              "      <th>Jitter(%)</th>\n",
              "      <th>Jitter(Abs)</th>\n",
              "      <th>Jitter:RAP</th>\n",
              "      <th>Jitter:PPQ5</th>\n",
              "      <th>Jitter:DDP</th>\n",
              "      <th>Shimmer</th>\n",
              "      <th>Shimmer(dB)</th>\n",
              "      <th>Shimmer:APQ3</th>\n",
              "      <th>Shimmer:APQ5</th>\n",
              "      <th>Shimmer:APQ11</th>\n",
              "      <th>Shimmer:DDA</th>\n",
              "      <th>NHR</th>\n",
              "      <th>HNR</th>\n",
              "      <th>RPDE</th>\n",
              "      <th>DFA</th>\n",
              "      <th>PPE</th>\n",
              "    </tr>\n",
              "  </thead>\n",
              "  <tbody>\n",
              "    <tr>\n",
              "      <th>0</th>\n",
              "      <td>1</td>\n",
              "      <td>72</td>\n",
              "      <td>0</td>\n",
              "      <td>5.6431</td>\n",
              "      <td>28.199</td>\n",
              "      <td>34.398</td>\n",
              "      <td>0.00662</td>\n",
              "      <td>0.000034</td>\n",
              "      <td>0.00401</td>\n",
              "      <td>0.00317</td>\n",
              "      <td>0.01204</td>\n",
              "      <td>0.02565</td>\n",
              "      <td>0.230</td>\n",
              "      <td>0.01438</td>\n",
              "      <td>0.01309</td>\n",
              "      <td>0.01662</td>\n",
              "      <td>0.04314</td>\n",
              "      <td>0.014290</td>\n",
              "      <td>21.640</td>\n",
              "      <td>0.41888</td>\n",
              "      <td>0.54842</td>\n",
              "      <td>0.16006</td>\n",
              "    </tr>\n",
              "    <tr>\n",
              "      <th>1</th>\n",
              "      <td>1</td>\n",
              "      <td>72</td>\n",
              "      <td>0</td>\n",
              "      <td>12.6660</td>\n",
              "      <td>28.447</td>\n",
              "      <td>34.894</td>\n",
              "      <td>0.00300</td>\n",
              "      <td>0.000017</td>\n",
              "      <td>0.00132</td>\n",
              "      <td>0.00150</td>\n",
              "      <td>0.00395</td>\n",
              "      <td>0.02024</td>\n",
              "      <td>0.179</td>\n",
              "      <td>0.00994</td>\n",
              "      <td>0.01072</td>\n",
              "      <td>0.01689</td>\n",
              "      <td>0.02982</td>\n",
              "      <td>0.011112</td>\n",
              "      <td>27.183</td>\n",
              "      <td>0.43493</td>\n",
              "      <td>0.56477</td>\n",
              "      <td>0.10810</td>\n",
              "    </tr>\n",
              "    <tr>\n",
              "      <th>2</th>\n",
              "      <td>1</td>\n",
              "      <td>72</td>\n",
              "      <td>0</td>\n",
              "      <td>19.6810</td>\n",
              "      <td>28.695</td>\n",
              "      <td>35.389</td>\n",
              "      <td>0.00481</td>\n",
              "      <td>0.000025</td>\n",
              "      <td>0.00205</td>\n",
              "      <td>0.00208</td>\n",
              "      <td>0.00616</td>\n",
              "      <td>0.01675</td>\n",
              "      <td>0.181</td>\n",
              "      <td>0.00734</td>\n",
              "      <td>0.00844</td>\n",
              "      <td>0.01458</td>\n",
              "      <td>0.02202</td>\n",
              "      <td>0.020220</td>\n",
              "      <td>23.047</td>\n",
              "      <td>0.46222</td>\n",
              "      <td>0.54405</td>\n",
              "      <td>0.21014</td>\n",
              "    </tr>\n",
              "    <tr>\n",
              "      <th>3</th>\n",
              "      <td>1</td>\n",
              "      <td>72</td>\n",
              "      <td>0</td>\n",
              "      <td>25.6470</td>\n",
              "      <td>28.905</td>\n",
              "      <td>35.810</td>\n",
              "      <td>0.00528</td>\n",
              "      <td>0.000027</td>\n",
              "      <td>0.00191</td>\n",
              "      <td>0.00264</td>\n",
              "      <td>0.00573</td>\n",
              "      <td>0.02309</td>\n",
              "      <td>0.327</td>\n",
              "      <td>0.01106</td>\n",
              "      <td>0.01265</td>\n",
              "      <td>0.01963</td>\n",
              "      <td>0.03317</td>\n",
              "      <td>0.027837</td>\n",
              "      <td>24.445</td>\n",
              "      <td>0.48730</td>\n",
              "      <td>0.57794</td>\n",
              "      <td>0.33277</td>\n",
              "    </tr>\n",
              "    <tr>\n",
              "      <th>4</th>\n",
              "      <td>1</td>\n",
              "      <td>72</td>\n",
              "      <td>0</td>\n",
              "      <td>33.6420</td>\n",
              "      <td>29.187</td>\n",
              "      <td>36.375</td>\n",
              "      <td>0.00335</td>\n",
              "      <td>0.000020</td>\n",
              "      <td>0.00093</td>\n",
              "      <td>0.00130</td>\n",
              "      <td>0.00278</td>\n",
              "      <td>0.01703</td>\n",
              "      <td>0.176</td>\n",
              "      <td>0.00679</td>\n",
              "      <td>0.00929</td>\n",
              "      <td>0.01819</td>\n",
              "      <td>0.02036</td>\n",
              "      <td>0.011625</td>\n",
              "      <td>26.126</td>\n",
              "      <td>0.47188</td>\n",
              "      <td>0.56122</td>\n",
              "      <td>0.19361</td>\n",
              "    </tr>\n",
              "  </tbody>\n",
              "</table>\n",
              "</div>"
            ],
            "text/plain": [
              "   subject#  age  sex  test_time  ...     HNR     RPDE      DFA      PPE\n",
              "0         1   72    0     5.6431  ...  21.640  0.41888  0.54842  0.16006\n",
              "1         1   72    0    12.6660  ...  27.183  0.43493  0.56477  0.10810\n",
              "2         1   72    0    19.6810  ...  23.047  0.46222  0.54405  0.21014\n",
              "3         1   72    0    25.6470  ...  24.445  0.48730  0.57794  0.33277\n",
              "4         1   72    0    33.6420  ...  26.126  0.47188  0.56122  0.19361\n",
              "\n",
              "[5 rows x 22 columns]"
            ]
          },
          "metadata": {},
          "execution_count": 4
        }
      ]
    },
    {
      "cell_type": "code",
      "metadata": {
        "colab": {
          "base_uri": "https://localhost:8080/"
        },
        "id": "qkaGcWxJOR33",
        "outputId": "6d89a24c-8b0e-4ad0-8890-b60a88b3974e"
      },
      "source": [
        "df.info()"
      ],
      "execution_count": 5,
      "outputs": [
        {
          "output_type": "stream",
          "name": "stdout",
          "text": [
            "<class 'pandas.core.frame.DataFrame'>\n",
            "RangeIndex: 5875 entries, 0 to 5874\n",
            "Data columns (total 22 columns):\n",
            " #   Column         Non-Null Count  Dtype  \n",
            "---  ------         --------------  -----  \n",
            " 0   subject#       5875 non-null   int64  \n",
            " 1   age            5875 non-null   int64  \n",
            " 2   sex            5875 non-null   int64  \n",
            " 3   test_time      5875 non-null   float64\n",
            " 4   motor_UPDRS    5875 non-null   float64\n",
            " 5   total_UPDRS    5875 non-null   float64\n",
            " 6   Jitter(%)      5875 non-null   float64\n",
            " 7   Jitter(Abs)    5875 non-null   float64\n",
            " 8   Jitter:RAP     5875 non-null   float64\n",
            " 9   Jitter:PPQ5    5875 non-null   float64\n",
            " 10  Jitter:DDP     5875 non-null   float64\n",
            " 11  Shimmer        5875 non-null   float64\n",
            " 12  Shimmer(dB)    5875 non-null   float64\n",
            " 13  Shimmer:APQ3   5875 non-null   float64\n",
            " 14  Shimmer:APQ5   5875 non-null   float64\n",
            " 15  Shimmer:APQ11  5875 non-null   float64\n",
            " 16  Shimmer:DDA    5875 non-null   float64\n",
            " 17  NHR            5875 non-null   float64\n",
            " 18  HNR            5875 non-null   float64\n",
            " 19  RPDE           5875 non-null   float64\n",
            " 20  DFA            5875 non-null   float64\n",
            " 21  PPE            5875 non-null   float64\n",
            "dtypes: float64(19), int64(3)\n",
            "memory usage: 1009.9 KB\n"
          ]
        }
      ]
    },
    {
      "cell_type": "code",
      "metadata": {
        "colab": {
          "base_uri": "https://localhost:8080/"
        },
        "id": "PP7vUHVsOYyU",
        "outputId": "48583c8e-448d-495b-80b4-2c2e42aa8857"
      },
      "source": [
        "df.isnull().sum()"
      ],
      "execution_count": 6,
      "outputs": [
        {
          "output_type": "execute_result",
          "data": {
            "text/plain": [
              "subject#         0\n",
              "age              0\n",
              "sex              0\n",
              "test_time        0\n",
              "motor_UPDRS      0\n",
              "total_UPDRS      0\n",
              "Jitter(%)        0\n",
              "Jitter(Abs)      0\n",
              "Jitter:RAP       0\n",
              "Jitter:PPQ5      0\n",
              "Jitter:DDP       0\n",
              "Shimmer          0\n",
              "Shimmer(dB)      0\n",
              "Shimmer:APQ3     0\n",
              "Shimmer:APQ5     0\n",
              "Shimmer:APQ11    0\n",
              "Shimmer:DDA      0\n",
              "NHR              0\n",
              "HNR              0\n",
              "RPDE             0\n",
              "DFA              0\n",
              "PPE              0\n",
              "dtype: int64"
            ]
          },
          "metadata": {},
          "execution_count": 6
        }
      ]
    },
    {
      "cell_type": "markdown",
      "metadata": {
        "id": "_OYsTnD9P-um"
      },
      "source": [
        "No null values found in the dataset"
      ]
    },
    {
      "cell_type": "code",
      "metadata": {
        "colab": {
          "base_uri": "https://localhost:8080/",
          "height": 315
        },
        "id": "wFMsQBZiP8kg",
        "outputId": "deea1630-2bbd-4c86-c258-34120fa0009c"
      },
      "source": [
        "df.describe()"
      ],
      "execution_count": 7,
      "outputs": [
        {
          "output_type": "execute_result",
          "data": {
            "text/html": [
              "<div>\n",
              "<style scoped>\n",
              "    .dataframe tbody tr th:only-of-type {\n",
              "        vertical-align: middle;\n",
              "    }\n",
              "\n",
              "    .dataframe tbody tr th {\n",
              "        vertical-align: top;\n",
              "    }\n",
              "\n",
              "    .dataframe thead th {\n",
              "        text-align: right;\n",
              "    }\n",
              "</style>\n",
              "<table border=\"1\" class=\"dataframe\">\n",
              "  <thead>\n",
              "    <tr style=\"text-align: right;\">\n",
              "      <th></th>\n",
              "      <th>subject#</th>\n",
              "      <th>age</th>\n",
              "      <th>sex</th>\n",
              "      <th>test_time</th>\n",
              "      <th>motor_UPDRS</th>\n",
              "      <th>total_UPDRS</th>\n",
              "      <th>Jitter(%)</th>\n",
              "      <th>Jitter(Abs)</th>\n",
              "      <th>Jitter:RAP</th>\n",
              "      <th>Jitter:PPQ5</th>\n",
              "      <th>Jitter:DDP</th>\n",
              "      <th>Shimmer</th>\n",
              "      <th>Shimmer(dB)</th>\n",
              "      <th>Shimmer:APQ3</th>\n",
              "      <th>Shimmer:APQ5</th>\n",
              "      <th>Shimmer:APQ11</th>\n",
              "      <th>Shimmer:DDA</th>\n",
              "      <th>NHR</th>\n",
              "      <th>HNR</th>\n",
              "      <th>RPDE</th>\n",
              "      <th>DFA</th>\n",
              "      <th>PPE</th>\n",
              "    </tr>\n",
              "  </thead>\n",
              "  <tbody>\n",
              "    <tr>\n",
              "      <th>count</th>\n",
              "      <td>5875.000000</td>\n",
              "      <td>5875.000000</td>\n",
              "      <td>5875.000000</td>\n",
              "      <td>5875.000000</td>\n",
              "      <td>5875.000000</td>\n",
              "      <td>5875.000000</td>\n",
              "      <td>5875.000000</td>\n",
              "      <td>5875.000000</td>\n",
              "      <td>5875.000000</td>\n",
              "      <td>5875.000000</td>\n",
              "      <td>5875.000000</td>\n",
              "      <td>5875.000000</td>\n",
              "      <td>5875.000000</td>\n",
              "      <td>5875.000000</td>\n",
              "      <td>5875.000000</td>\n",
              "      <td>5875.000000</td>\n",
              "      <td>5875.000000</td>\n",
              "      <td>5875.000000</td>\n",
              "      <td>5875.000000</td>\n",
              "      <td>5875.000000</td>\n",
              "      <td>5875.000000</td>\n",
              "      <td>5875.000000</td>\n",
              "    </tr>\n",
              "    <tr>\n",
              "      <th>mean</th>\n",
              "      <td>21.494128</td>\n",
              "      <td>64.804936</td>\n",
              "      <td>0.317787</td>\n",
              "      <td>92.863722</td>\n",
              "      <td>21.296229</td>\n",
              "      <td>29.018942</td>\n",
              "      <td>0.006154</td>\n",
              "      <td>0.000044</td>\n",
              "      <td>0.002987</td>\n",
              "      <td>0.003277</td>\n",
              "      <td>0.008962</td>\n",
              "      <td>0.034035</td>\n",
              "      <td>0.310960</td>\n",
              "      <td>0.017156</td>\n",
              "      <td>0.020144</td>\n",
              "      <td>0.027481</td>\n",
              "      <td>0.051467</td>\n",
              "      <td>0.032120</td>\n",
              "      <td>21.679495</td>\n",
              "      <td>0.541473</td>\n",
              "      <td>0.653240</td>\n",
              "      <td>0.219589</td>\n",
              "    </tr>\n",
              "    <tr>\n",
              "      <th>std</th>\n",
              "      <td>12.372279</td>\n",
              "      <td>8.821524</td>\n",
              "      <td>0.465656</td>\n",
              "      <td>53.445602</td>\n",
              "      <td>8.129282</td>\n",
              "      <td>10.700283</td>\n",
              "      <td>0.005624</td>\n",
              "      <td>0.000036</td>\n",
              "      <td>0.003124</td>\n",
              "      <td>0.003732</td>\n",
              "      <td>0.009371</td>\n",
              "      <td>0.025835</td>\n",
              "      <td>0.230254</td>\n",
              "      <td>0.013237</td>\n",
              "      <td>0.016664</td>\n",
              "      <td>0.019986</td>\n",
              "      <td>0.039711</td>\n",
              "      <td>0.059692</td>\n",
              "      <td>4.291096</td>\n",
              "      <td>0.100986</td>\n",
              "      <td>0.070902</td>\n",
              "      <td>0.091498</td>\n",
              "    </tr>\n",
              "    <tr>\n",
              "      <th>min</th>\n",
              "      <td>1.000000</td>\n",
              "      <td>36.000000</td>\n",
              "      <td>0.000000</td>\n",
              "      <td>-4.262500</td>\n",
              "      <td>5.037700</td>\n",
              "      <td>7.000000</td>\n",
              "      <td>0.000830</td>\n",
              "      <td>0.000002</td>\n",
              "      <td>0.000330</td>\n",
              "      <td>0.000430</td>\n",
              "      <td>0.000980</td>\n",
              "      <td>0.003060</td>\n",
              "      <td>0.026000</td>\n",
              "      <td>0.001610</td>\n",
              "      <td>0.001940</td>\n",
              "      <td>0.002490</td>\n",
              "      <td>0.004840</td>\n",
              "      <td>0.000286</td>\n",
              "      <td>1.659000</td>\n",
              "      <td>0.151020</td>\n",
              "      <td>0.514040</td>\n",
              "      <td>0.021983</td>\n",
              "    </tr>\n",
              "    <tr>\n",
              "      <th>25%</th>\n",
              "      <td>10.000000</td>\n",
              "      <td>58.000000</td>\n",
              "      <td>0.000000</td>\n",
              "      <td>46.847500</td>\n",
              "      <td>15.000000</td>\n",
              "      <td>21.371000</td>\n",
              "      <td>0.003580</td>\n",
              "      <td>0.000022</td>\n",
              "      <td>0.001580</td>\n",
              "      <td>0.001820</td>\n",
              "      <td>0.004730</td>\n",
              "      <td>0.019120</td>\n",
              "      <td>0.175000</td>\n",
              "      <td>0.009280</td>\n",
              "      <td>0.010790</td>\n",
              "      <td>0.015665</td>\n",
              "      <td>0.027830</td>\n",
              "      <td>0.010955</td>\n",
              "      <td>19.406000</td>\n",
              "      <td>0.469785</td>\n",
              "      <td>0.596180</td>\n",
              "      <td>0.156340</td>\n",
              "    </tr>\n",
              "    <tr>\n",
              "      <th>50%</th>\n",
              "      <td>22.000000</td>\n",
              "      <td>65.000000</td>\n",
              "      <td>0.000000</td>\n",
              "      <td>91.523000</td>\n",
              "      <td>20.871000</td>\n",
              "      <td>27.576000</td>\n",
              "      <td>0.004900</td>\n",
              "      <td>0.000035</td>\n",
              "      <td>0.002250</td>\n",
              "      <td>0.002490</td>\n",
              "      <td>0.006750</td>\n",
              "      <td>0.027510</td>\n",
              "      <td>0.253000</td>\n",
              "      <td>0.013700</td>\n",
              "      <td>0.015940</td>\n",
              "      <td>0.022710</td>\n",
              "      <td>0.041110</td>\n",
              "      <td>0.018448</td>\n",
              "      <td>21.920000</td>\n",
              "      <td>0.542250</td>\n",
              "      <td>0.643600</td>\n",
              "      <td>0.205500</td>\n",
              "    </tr>\n",
              "    <tr>\n",
              "      <th>75%</th>\n",
              "      <td>33.000000</td>\n",
              "      <td>72.000000</td>\n",
              "      <td>1.000000</td>\n",
              "      <td>138.445000</td>\n",
              "      <td>27.596500</td>\n",
              "      <td>36.399000</td>\n",
              "      <td>0.006800</td>\n",
              "      <td>0.000053</td>\n",
              "      <td>0.003290</td>\n",
              "      <td>0.003460</td>\n",
              "      <td>0.009870</td>\n",
              "      <td>0.039750</td>\n",
              "      <td>0.365000</td>\n",
              "      <td>0.020575</td>\n",
              "      <td>0.023755</td>\n",
              "      <td>0.032715</td>\n",
              "      <td>0.061735</td>\n",
              "      <td>0.031463</td>\n",
              "      <td>24.444000</td>\n",
              "      <td>0.614045</td>\n",
              "      <td>0.711335</td>\n",
              "      <td>0.264490</td>\n",
              "    </tr>\n",
              "    <tr>\n",
              "      <th>max</th>\n",
              "      <td>42.000000</td>\n",
              "      <td>85.000000</td>\n",
              "      <td>1.000000</td>\n",
              "      <td>215.490000</td>\n",
              "      <td>39.511000</td>\n",
              "      <td>54.992000</td>\n",
              "      <td>0.099990</td>\n",
              "      <td>0.000446</td>\n",
              "      <td>0.057540</td>\n",
              "      <td>0.069560</td>\n",
              "      <td>0.172630</td>\n",
              "      <td>0.268630</td>\n",
              "      <td>2.107000</td>\n",
              "      <td>0.162670</td>\n",
              "      <td>0.167020</td>\n",
              "      <td>0.275460</td>\n",
              "      <td>0.488020</td>\n",
              "      <td>0.748260</td>\n",
              "      <td>37.875000</td>\n",
              "      <td>0.966080</td>\n",
              "      <td>0.865600</td>\n",
              "      <td>0.731730</td>\n",
              "    </tr>\n",
              "  </tbody>\n",
              "</table>\n",
              "</div>"
            ],
            "text/plain": [
              "          subject#          age  ...          DFA          PPE\n",
              "count  5875.000000  5875.000000  ...  5875.000000  5875.000000\n",
              "mean     21.494128    64.804936  ...     0.653240     0.219589\n",
              "std      12.372279     8.821524  ...     0.070902     0.091498\n",
              "min       1.000000    36.000000  ...     0.514040     0.021983\n",
              "25%      10.000000    58.000000  ...     0.596180     0.156340\n",
              "50%      22.000000    65.000000  ...     0.643600     0.205500\n",
              "75%      33.000000    72.000000  ...     0.711335     0.264490\n",
              "max      42.000000    85.000000  ...     0.865600     0.731730\n",
              "\n",
              "[8 rows x 22 columns]"
            ]
          },
          "metadata": {},
          "execution_count": 7
        }
      ]
    },
    {
      "cell_type": "markdown",
      "metadata": {
        "id": "t8i_Hy4vQkgo"
      },
      "source": [
        "Here we can see a weird discrepancy in the data. The min value of \"test_time\" is negative. \n",
        "\n",
        "From the UCI ML Repository, the description of \"test_time\" is as follows: \"Time since recruitment into the trial. The integer part is the number of days since recruitment.\"\n",
        "\n",
        "How can that be negative for a patient?"
      ]
    },
    {
      "cell_type": "code",
      "metadata": {
        "colab": {
          "base_uri": "https://localhost:8080/"
        },
        "id": "y4-od6MBQDJ1",
        "outputId": "e47a8c7d-947e-4832-c886-26486f5db59c"
      },
      "source": [
        "df[df['test_time'] < 0].count()"
      ],
      "execution_count": 8,
      "outputs": [
        {
          "output_type": "execute_result",
          "data": {
            "text/plain": [
              "subject#         12\n",
              "age              12\n",
              "sex              12\n",
              "test_time        12\n",
              "motor_UPDRS      12\n",
              "total_UPDRS      12\n",
              "Jitter(%)        12\n",
              "Jitter(Abs)      12\n",
              "Jitter:RAP       12\n",
              "Jitter:PPQ5      12\n",
              "Jitter:DDP       12\n",
              "Shimmer          12\n",
              "Shimmer(dB)      12\n",
              "Shimmer:APQ3     12\n",
              "Shimmer:APQ5     12\n",
              "Shimmer:APQ11    12\n",
              "Shimmer:DDA      12\n",
              "NHR              12\n",
              "HNR              12\n",
              "RPDE             12\n",
              "DFA              12\n",
              "PPE              12\n",
              "dtype: int64"
            ]
          },
          "metadata": {},
          "execution_count": 8
        }
      ]
    },
    {
      "cell_type": "markdown",
      "metadata": {
        "id": "Xg_iDKerROKH"
      },
      "source": [
        "We have 12 such entries that have a negative \"test_time\". It is better to drop these entries to avoid confusion for the models."
      ]
    },
    {
      "cell_type": "code",
      "metadata": {
        "id": "zQfZu9_qS_C-"
      },
      "source": [
        "df = df[df['test_time'] > 0]"
      ],
      "execution_count": 9,
      "outputs": []
    },
    {
      "cell_type": "markdown",
      "metadata": {
        "id": "RdnlEpzZah3Z"
      },
      "source": [
        "## Correlation Matrix"
      ]
    },
    {
      "cell_type": "code",
      "metadata": {
        "colab": {
          "base_uri": "https://localhost:8080/",
          "height": 944
        },
        "id": "qanFVb_kaO5g",
        "outputId": "fe59b3ac-c20c-413b-81c6-6c4c4aee4a49"
      },
      "source": [
        "plt.figure(figsize=(20,15))\n",
        "sns.heatmap(df.corr(), annot=True, cmap='Blues')"
      ],
      "execution_count": 10,
      "outputs": [
        {
          "output_type": "execute_result",
          "data": {
            "text/plain": [
              "<matplotlib.axes._subplots.AxesSubplot at 0x7fe9dc1db410>"
            ]
          },
          "metadata": {},
          "execution_count": 10
        },
        {
          "output_type": "display_data",
          "data": {
            "image/png": "[encoded data removed]",
            "text/plain": [
              "<Figure size 1440x1080 with 2 Axes>"
            ]
          },
          "metadata": {
            "needs_background": "light"
          }
        }
      ]
    },
    {
      "cell_type": "markdown",
      "metadata": {
        "id": "G02gGuxqf8DO"
      },
      "source": [
        "As we can see, the data is highly correlated. Let us use Principal Component Analysis to narrow down the correlated features."
      ]
    },
    {
      "cell_type": "markdown",
      "metadata": {
        "id": "HOCubl76gJjF"
      },
      "source": [
        "## PCA"
      ]
    },
    {
      "cell_type": "code",
      "metadata": {
        "id": "ZM2nKqkYartp"
      },
      "source": [
        "data = df.copy()"
      ],
      "execution_count": 11,
      "outputs": []
    },
    {
      "cell_type": "markdown",
      "metadata": {
        "id": "lv8es403gQT3"
      },
      "source": [
        "Let us drop \"subject#\" from the dataset entirely as it not useful for our model. \n",
        "\n",
        "Let us also seperate the target variables before applying PCA."
      ]
    },
    {
      "cell_type": "code",
      "metadata": {
        "id": "U3JCkckogMHA"
      },
      "source": [
        "data.drop(['subject#'], axis=1, inplace=True)"
      ],
      "execution_count": 12,
      "outputs": []
    },
    {
      "cell_type": "code",
      "metadata": {
        "id": "P3cCdbjrglM1"
      },
      "source": [
        "y1 = data['motor_UPDRS']\n",
        "y2 = data['total_UPDRS']\n",
        "data.drop(['motor_UPDRS', 'total_UPDRS'], axis=1, inplace=True)"
      ],
      "execution_count": 13,
      "outputs": []
    },
    {
      "cell_type": "markdown",
      "metadata": {
        "id": "ZffrGcbPm3na"
      },
      "source": [
        "## Splitting the data into Training and Test Set"
      ]
    },
    {
      "cell_type": "code",
      "metadata": {
        "id": "2Ho0ffFYm9pb"
      },
      "source": [
        "x1_train, x1_test, y1_train, y1_test = train_test_split(data, y1, test_size=0.2, random_state=42)\n",
        "x2_train, x2_test, y2_train, y2_test = train_test_split(data, y2, test_size=0.2, random_state=42)"
      ],
      "execution_count": 14,
      "outputs": []
    },
    {
      "cell_type": "markdown",
      "metadata": {
        "id": "0lQEaG1KhRt2"
      },
      "source": [
        "I will use x1_train to perform PCA tests."
      ]
    },
    {
      "cell_type": "code",
      "metadata": {
        "id": "eLq1J1EuhyMZ"
      },
      "source": [
        "pca = PCA(n_components=14)\n",
        "principal_components = pca.fit_transform(data)"
      ],
      "execution_count": 15,
      "outputs": []
    },
    {
      "cell_type": "code",
      "metadata": {
        "id": "8LPuyPGgiuvP"
      },
      "source": [
        "pca_df = pd.DataFrame(principal_components, columns=['PCA1','PCA2','PCA3','PCA4','PCA5','PCA6','PCA7','PCA8','PCA9','PCA10','PCA11','PCA12','PCA13','PCA14'])"
      ],
      "execution_count": 16,
      "outputs": []
    },
    {
      "cell_type": "code",
      "metadata": {
        "colab": {
          "base_uri": "https://localhost:8080/",
          "height": 203
        },
        "id": "ncDDPMCei7--",
        "outputId": "c372ba7c-42b7-497f-c595-12cbe6f7f71f"
      },
      "source": [
        "pca_df.head()"
      ],
      "execution_count": 17,
      "outputs": [
        {
          "output_type": "execute_result",
          "data": {
            "text/html": [
              "<div>\n",
              "<style scoped>\n",
              "    .dataframe tbody tr th:only-of-type {\n",
              "        vertical-align: middle;\n",
              "    }\n",
              "\n",
              "    .dataframe tbody tr th {\n",
              "        vertical-align: top;\n",
              "    }\n",
              "\n",
              "    .dataframe thead th {\n",
              "        text-align: right;\n",
              "    }\n",
              "</style>\n",
              "<table border=\"1\" class=\"dataframe\">\n",
              "  <thead>\n",
              "    <tr style=\"text-align: right;\">\n",
              "      <th></th>\n",
              "      <th>PCA1</th>\n",
              "      <th>PCA2</th>\n",
              "      <th>PCA3</th>\n",
              "      <th>PCA4</th>\n",
              "      <th>PCA5</th>\n",
              "      <th>PCA6</th>\n",
              "      <th>PCA7</th>\n",
              "      <th>PCA8</th>\n",
              "      <th>PCA9</th>\n",
              "      <th>PCA10</th>\n",
              "      <th>PCA11</th>\n",
              "      <th>PCA12</th>\n",
              "      <th>PCA13</th>\n",
              "      <th>PCA14</th>\n",
              "    </tr>\n",
              "  </thead>\n",
              "  <tbody>\n",
              "    <tr>\n",
              "      <th>0</th>\n",
              "      <td>-87.395804</td>\n",
              "      <td>-7.420439</td>\n",
              "      <td>-0.726184</td>\n",
              "      <td>-0.305428</td>\n",
              "      <td>-0.061443</td>\n",
              "      <td>-0.145538</td>\n",
              "      <td>-0.117522</td>\n",
              "      <td>-0.039417</td>\n",
              "      <td>-0.005717</td>\n",
              "      <td>0.004253</td>\n",
              "      <td>-0.005202</td>\n",
              "      <td>0.007683</td>\n",
              "      <td>-0.000184</td>\n",
              "      <td>0.000895</td>\n",
              "    </tr>\n",
              "    <tr>\n",
              "      <th>1</th>\n",
              "      <td>-80.356512</td>\n",
              "      <td>-7.029604</td>\n",
              "      <td>-6.230253</td>\n",
              "      <td>-0.300305</td>\n",
              "      <td>0.123614</td>\n",
              "      <td>-0.029321</td>\n",
              "      <td>-0.056080</td>\n",
              "      <td>-0.010225</td>\n",
              "      <td>0.015743</td>\n",
              "      <td>0.000700</td>\n",
              "      <td>0.001452</td>\n",
              "      <td>0.001396</td>\n",
              "      <td>-0.000623</td>\n",
              "      <td>0.000759</td>\n",
              "    </tr>\n",
              "    <tr>\n",
              "      <th>2</th>\n",
              "      <td>-73.353852</td>\n",
              "      <td>-7.286398</td>\n",
              "      <td>-2.084574</td>\n",
              "      <td>-0.306433</td>\n",
              "      <td>-0.051730</td>\n",
              "      <td>-0.065026</td>\n",
              "      <td>-0.080630</td>\n",
              "      <td>-0.084761</td>\n",
              "      <td>-0.003402</td>\n",
              "      <td>-0.005916</td>\n",
              "      <td>-0.003816</td>\n",
              "      <td>0.000107</td>\n",
              "      <td>-0.000292</td>\n",
              "      <td>0.000044</td>\n",
              "    </tr>\n",
              "    <tr>\n",
              "      <th>3</th>\n",
              "      <td>-67.383779</td>\n",
              "      <td>-7.176695</td>\n",
              "      <td>-3.449752</td>\n",
              "      <td>-0.303573</td>\n",
              "      <td>0.151028</td>\n",
              "      <td>0.019233</td>\n",
              "      <td>0.044212</td>\n",
              "      <td>-0.143779</td>\n",
              "      <td>-0.033837</td>\n",
              "      <td>-0.014053</td>\n",
              "      <td>-0.013288</td>\n",
              "      <td>-0.008359</td>\n",
              "      <td>-0.001464</td>\n",
              "      <td>-0.003801</td>\n",
              "    </tr>\n",
              "    <tr>\n",
              "      <th>4</th>\n",
              "      <td>-59.383841</td>\n",
              "      <td>-7.040801</td>\n",
              "      <td>-5.108805</td>\n",
              "      <td>-0.302410</td>\n",
              "      <td>0.073341</td>\n",
              "      <td>0.003149</td>\n",
              "      <td>-0.031279</td>\n",
              "      <td>-0.068282</td>\n",
              "      <td>-0.002099</td>\n",
              "      <td>-0.006452</td>\n",
              "      <td>0.001422</td>\n",
              "      <td>-0.001590</td>\n",
              "      <td>-0.000216</td>\n",
              "      <td>0.000102</td>\n",
              "    </tr>\n",
              "  </tbody>\n",
              "</table>\n",
              "</div>"
            ],
            "text/plain": [
              "        PCA1      PCA2      PCA3  ...     PCA12     PCA13     PCA14\n",
              "0 -87.395804 -7.420439 -0.726184  ...  0.007683 -0.000184  0.000895\n",
              "1 -80.356512 -7.029604 -6.230253  ...  0.001396 -0.000623  0.000759\n",
              "2 -73.353852 -7.286398 -2.084574  ...  0.000107 -0.000292  0.000044\n",
              "3 -67.383779 -7.176695 -3.449752  ... -0.008359 -0.001464 -0.003801\n",
              "4 -59.383841 -7.040801 -5.108805  ... -0.001590 -0.000216  0.000102\n",
              "\n",
              "[5 rows x 14 columns]"
            ]
          },
          "metadata": {},
          "execution_count": 17
        }
      ]
    },
    {
      "cell_type": "markdown",
      "metadata": {
        "id": "HKleCMESjMzS"
      },
      "source": [
        "Plotting a Scree plot to perform the Elbow method to find the ideal components of PCA"
      ]
    },
    {
      "cell_type": "code",
      "metadata": {
        "colab": {
          "base_uri": "https://localhost:8080/",
          "height": 295
        },
        "id": "h9frn-Pli9F-",
        "outputId": "2b2385a0-25df-46b7-ecda-69464381c42d"
      },
      "source": [
        "PC_values = np.arange(pca.n_components_) + 1\n",
        "plt.plot(PC_values, pca.explained_variance_ratio_, 'ro-', linewidth=2)\n",
        "plt.title('Scree Plot')\n",
        "plt.xlabel('Principal Component')\n",
        "plt.ylabel('Proportion of Variance Explained')\n",
        "plt.show()"
      ],
      "execution_count": 18,
      "outputs": [
        {
          "output_type": "display_data",
          "data": {
            "image/png": "[encoded data removed]",
            "text/plain": [
              "<Figure size 432x288 with 1 Axes>"
            ]
          },
          "metadata": {
            "needs_background": "light"
          }
        }
      ]
    },
    {
      "cell_type": "code",
      "metadata": {
        "colab": {
          "base_uri": "https://localhost:8080/"
        },
        "id": "tVodm_pwjd-O",
        "outputId": "ec1e6d04-5688-48a4-cedb-e118b86c3c12"
      },
      "source": [
        "print(pca.explained_variance_)"
      ],
      "execution_count": 19,
      "outputs": [
        {
          "output_type": "stream",
          "name": "stdout",
          "text": [
            "[2.84316873e+03 7.81730907e+01 1.81791690e+01 2.17453979e-01\n",
            " 2.05138259e-02 5.55632337e-03 5.02483651e-03 2.68092818e-03\n",
            " 1.00518116e-03 1.03934678e-04 4.52955553e-05 3.22145711e-05\n",
            " 6.80769578e-06 3.37466484e-06]\n"
          ]
        }
      ]
    },
    {
      "cell_type": "markdown",
      "metadata": {
        "id": "gWj_9ChmkRpI"
      },
      "source": [
        "Hence we decide to keep 3 Principal Components as from the 4th value onwards, the Eigen Values are less than 1."
      ]
    },
    {
      "cell_type": "markdown",
      "metadata": {
        "id": "hhCiRORUq249"
      },
      "source": [
        "The reason we seperated the data into training and test set so early is due avoid information leakage and overfitting of our model. \n",
        "\n",
        "The model should never have seen the test data to evaluate it's performance accurately."
      ]
    },
    {
      "cell_type": "code",
      "metadata": {
        "id": "fJebMamyq2E8"
      },
      "source": [
        "pca1 = PCA(n_components=3, random_state=42)\n",
        "pca2 = PCA(n_components=3, random_state=42)\n",
        "x1_train = pca1.fit_transform(x1_train)\n",
        "x1_test = pca1.transform(x1_test)\n",
        "\n",
        "x2_train = pca2.fit_transform(x2_train)\n",
        "x2_test = pca2.transform(x2_test)"
      ],
      "execution_count": 20,
      "outputs": []
    },
    {
      "cell_type": "markdown",
      "metadata": {
        "id": "8g6u2xzFrpyn"
      },
      "source": [
        "Our data is ready to be fitted into Regression Models."
      ]
    },
    {
      "cell_type": "markdown",
      "metadata": {
        "id": "ls6ez-J4tDak"
      },
      "source": [
        "## Function for Evaluating Model Performance"
      ]
    },
    {
      "cell_type": "code",
      "metadata": {
        "id": "FG5pxRcmtHYK"
      },
      "source": [
        "def score(y_pred,y_test):\n",
        "    mae = mean_absolute_error(y_test,y_pred)\n",
        "    mse = mean_squared_error(y_test,y_pred)\n",
        "    r2 = r2_score(y_test,y_pred)*100\n",
        "    print(\"Mean Absolute Error: \", mae)\n",
        "    print(\"Mean Squared Error: \", mse)\n",
        "    print(\"R2 score: \", r2,)\n",
        "    return (mae, mse, r2)"
      ],
      "execution_count": 21,
      "outputs": []
    },
    {
      "cell_type": "markdown",
      "metadata": {
        "id": "cRBVVYRArxcH"
      },
      "source": [
        "# Models"
      ]
    },
    {
      "cell_type": "markdown",
      "metadata": {
        "id": "ALgzx-v1uBKH"
      },
      "source": [
        "## Y1 Variabale: motor_UPDRS"
      ]
    },
    {
      "cell_type": "markdown",
      "metadata": {
        "id": "UgF-cMC_0kaD"
      },
      "source": [
        "### Decision Tree Regression"
      ]
    },
    {
      "cell_type": "code",
      "metadata": {
        "id": "nKSKM_eY0aq5"
      },
      "source": [
        "dt_reg1 = DecisionTreeRegressor()\n",
        "dt_reg1.fit(x1_train, y1_train)\n",
        "y_dt_pred1 = dt_reg1.predict(x1_test)"
      ],
      "execution_count": 22,
      "outputs": []
    },
    {
      "cell_type": "code",
      "metadata": {
        "colab": {
          "base_uri": "https://localhost:8080/"
        },
        "id": "tsqvtmcN2EkV",
        "outputId": "6828b559-11e4-4381-9f9e-5f87042130ed"
      },
      "source": [
        "dt_mae1, dt_mse1, dt_r21 = score(y1_test, y_dt_pred1)"
      ],
      "execution_count": 23,
      "outputs": [
        {
          "output_type": "stream",
          "name": "stdout",
          "text": [
            "Mean Absolute Error:  1.5180572904234158\n",
            "Mean Squared Error:  18.74851962349491\n",
            "R2 score:  70.70537827711192\n"
          ]
        }
      ]
    },
    {
      "cell_type": "markdown",
      "metadata": {
        "id": "nd3eVWvB2NwG"
      },
      "source": [
        "### Random Forrest Regression"
      ]
    },
    {
      "cell_type": "code",
      "metadata": {
        "id": "mkchFCFl2KDl"
      },
      "source": [
        "rf_reg1 = RandomForestRegressor()\n",
        "rf_reg1.fit(x1_train, y1_train)\n",
        "y_rf_pred1 = rf_reg1.predict(x1_test)"
      ],
      "execution_count": 24,
      "outputs": []
    },
    {
      "cell_type": "code",
      "metadata": {
        "colab": {
          "base_uri": "https://localhost:8080/"
        },
        "id": "P0MPLsm32k6Y",
        "outputId": "6566389c-cd20-44d6-f858-7393e9585b4e"
      },
      "source": [
        "rf_mae1, rf_mse1, rf_r21 = score(y1_test, y_rf_pred1)"
      ],
      "execution_count": 25,
      "outputs": [
        {
          "output_type": "stream",
          "name": "stdout",
          "text": [
            "Mean Absolute Error:  2.093566742504836\n",
            "Mean Squared Error:  15.278154239127852\n",
            "R2 score:  70.56090516058853\n"
          ]
        }
      ]
    },
    {
      "cell_type": "markdown",
      "metadata": {
        "id": "w6KjYIR92u8z"
      },
      "source": [
        "### XGBoost Regression"
      ]
    },
    {
      "cell_type": "code",
      "metadata": {
        "id": "q21oMQLp2pDm"
      },
      "source": [
        "xgb_reg1 = XGBRegressor(objective='reg:squarederror')\n",
        "xgb_reg1.fit(x1_train, y1_train)\n",
        "y_xgb_pred1 = xgb_reg1.predict(x1_test)"
      ],
      "execution_count": 26,
      "outputs": []
    },
    {
      "cell_type": "code",
      "metadata": {
        "colab": {
          "base_uri": "https://localhost:8080/"
        },
        "id": "phZmJTBv3L0-",
        "outputId": "15623a24-37a5-41af-cb4d-eb31427e5398"
      },
      "source": [
        "xgb_mae1, xgb_mse1, xgb_r21 = score(y1_test, y_xgb_pred1)"
      ],
      "execution_count": 27,
      "outputs": [
        {
          "output_type": "stream",
          "name": "stdout",
          "text": [
            "Mean Absolute Error:  3.786191707707996\n",
            "Mean Squared Error:  24.116033475253715\n",
            "R2 score:  24.59127687143289\n"
          ]
        }
      ]
    },
    {
      "cell_type": "markdown",
      "metadata": {
        "id": "fOgPc2uY3j80"
      },
      "source": [
        "## Comparing Model1 Performance"
      ]
    },
    {
      "cell_type": "code",
      "metadata": {
        "id": "4Y8zdVvJ3giP"
      },
      "source": [
        "model_mae1 = [dt_mae1, rf_mae1, xgb_mae1]\n",
        "model_mse1 = [dt_mse1, rf_mse1, xgb_mse1]\n",
        "model_r21 = [dt_r21, rf_r21, xgb_r21]\n",
        "models=[\"Decision Tree\", \"Random Forrest\", \"XGBoost\"]"
      ],
      "execution_count": 28,
      "outputs": []
    },
    {
      "cell_type": "code",
      "metadata": {
        "colab": {
          "base_uri": "https://localhost:8080/",
          "height": 585
        },
        "id": "vSNUeAvx4sqD",
        "outputId": "75869658-8843-4018-b0ef-9c0489211b9f"
      },
      "source": [
        "plt.figure(figsize=(12,9))\n",
        "ax = sns.barplot(x=models, y=model_mae1)\n",
        "for p in ax.patches:\n",
        "  height = p.get_height()\n",
        "  ax.text(p.get_x() + p.get_width()/2.,\n",
        "          height+0.01,\n",
        "          '{:1.3f}'.format(height),\n",
        "          ha='center')\n",
        "  \n",
        "plt.ylabel('Model1 Mean Absolute Error')\n",
        "plt.xlabel('Model Name')\n",
        "plt.title('Comparing Model1 MAE(Test Set)')"
      ],
      "execution_count": 29,
      "outputs": [
        {
          "output_type": "execute_result",
          "data": {
            "text/plain": [
              "Text(0.5, 1.0, 'Comparing Model1 MAE(Test Set)')"
            ]
          },
          "metadata": {},
          "execution_count": 29
        },
        {
          "output_type": "display_data",
          "data": {
            "image/png": "[encoded data removed]",
            "text/plain": [
              "<Figure size 864x648 with 1 Axes>"
            ]
          },
          "metadata": {
            "needs_background": "light"
          }
        }
      ]
    },
    {
      "cell_type": "code",
      "metadata": {
        "colab": {
          "base_uri": "https://localhost:8080/",
          "height": 585
        },
        "id": "-NSNcQg26Uzr",
        "outputId": "6e3da9a6-3c95-4d9a-a9b3-867e79c934b4"
      },
      "source": [
        "plt.figure(figsize=(12,9))\n",
        "ax = sns.barplot(x=models, y=model_mse1)\n",
        "for p in ax.patches:\n",
        "  height = p.get_height()\n",
        "  ax.text(p.get_x() + p.get_width()/2.,\n",
        "          height+0.1,\n",
        "          '{:1.3f}'.format(height),\n",
        "          ha='center')\n",
        "  \n",
        "plt.ylabel('Model1 Mean Squared Error')\n",
        "plt.xlabel('Model Name')\n",
        "plt.title('Comparing Model1 MSE(Test Set)')"
      ],
      "execution_count": 30,
      "outputs": [
        {
          "output_type": "execute_result",
          "data": {
            "text/plain": [
              "Text(0.5, 1.0, 'Comparing Model1 MSE(Test Set)')"
            ]
          },
          "metadata": {},
          "execution_count": 30
        },
        {
          "output_type": "display_data",
          "data": {
            "image/png": "[encoded data removed]",
            "text/plain": [
              "<Figure size 864x648 with 1 Axes>"
            ]
          },
          "metadata": {
            "needs_background": "light"
          }
        }
      ]
    },
    {
      "cell_type": "code",
      "metadata": {
        "colab": {
          "base_uri": "https://localhost:8080/",
          "height": 585
        },
        "id": "1_dxbPm26lik",
        "outputId": "640b4148-875e-48bc-a0db-fdc31420252f"
      },
      "source": [
        "plt.figure(figsize=(12,9))\n",
        "ax = sns.barplot(x=models, y=model_r21)\n",
        "for p in ax.patches:\n",
        "  height = p.get_height()\n",
        "  ax.text(p.get_x() + p.get_width()/2.,\n",
        "          height + 1,\n",
        "          '{:1.3f}%'.format(height),\n",
        "          ha='center')\n",
        "  \n",
        "plt.ylabel('Model1 R2 Score')\n",
        "plt.xlabel('Model Name')\n",
        "plt.title('Comparing Model1 R2 Score(Test Set)')"
      ],
      "execution_count": 31,
      "outputs": [
        {
          "output_type": "execute_result",
          "data": {
            "text/plain": [
              "Text(0.5, 1.0, 'Comparing Model1 R2 Score(Test Set)')"
            ]
          },
          "metadata": {},
          "execution_count": 31
        },
        {
          "output_type": "display_data",
          "data": {
            "image/png": "[encoded data removed]",
            "text/plain": [
              "<Figure size 864x648 with 1 Axes>"
            ]
          },
          "metadata": {
            "needs_background": "light"
          }
        }
      ]
    },
    {
      "cell_type": "markdown",
      "metadata": {
        "id": "NmAitQSkPZmm"
      },
      "source": [
        "### Performing Cross Validation for our models."
      ]
    },
    {
      "cell_type": "markdown",
      "metadata": {
        "id": "XtHmKRQnQ498"
      },
      "source": [
        "#### R2 Score"
      ]
    },
    {
      "cell_type": "code",
      "metadata": {
        "id": "Fh_guuXnPRqZ"
      },
      "source": [
        "dt_cv1 = cross_val_score(dt_reg1,x1_train, y1_train, cv=10, scoring='r2')\n",
        "rf_cv1 = cross_val_score(rf_reg1,x1_train, y1_train, cv=10, scoring='r2')\n",
        "xgb_cv1 = cross_val_score(xgb_reg1,x1_train, y1_train, cv=10, scoring='r2')"
      ],
      "execution_count": 32,
      "outputs": []
    },
    {
      "cell_type": "code",
      "metadata": {
        "colab": {
          "base_uri": "https://localhost:8080/"
        },
        "id": "JcbveJ2PPRs4",
        "outputId": "44e08096-4bdf-44d8-a7de-2a87b16b5305"
      },
      "source": [
        "print(\"Cross Validation Score for Decision Tree Regression is: {:1.3f} +- {:1.3f}\".format(dt_cv1.mean()*100, dt_cv1.std()*100))\n",
        "print(\"Cross Validation Score for Random Forrest Regression is: {:1.3f} +- {:1.3f}\".format(rf_cv1.mean()*100, rf_cv1.std()*100))\n",
        "print(\"Cross Validation Score for XGBoost Model is: {:1.3f} +- {:1.3f}\".format(xgb_cv1.mean()*100, xgb_cv1.std()*100))"
      ],
      "execution_count": 33,
      "outputs": [
        {
          "output_type": "stream",
          "name": "stdout",
          "text": [
            "Cross Validation Score for Decision Tree Regression is: 64.980 +- 6.698\n",
            "Cross Validation Score for Random Forrest Regression is: 76.639 +- 2.378\n",
            "Cross Validation Score for XGBoost Model is: 63.458 +- 1.499\n"
          ]
        }
      ]
    },
    {
      "cell_type": "markdown",
      "metadata": {
        "id": "jZYIvzBk_eUY"
      },
      "source": [
        "#### Thus Random Forrest Regression is the best model for Y1 Variable(motor_UPDRS) with a **MAE of 2.09 and R2 score of 77%**"
      ]
    },
    {
      "cell_type": "markdown",
      "metadata": {
        "id": "dZuVZ2ntCbiZ"
      },
      "source": [
        "## Y2 Variable: total_UPDRS"
      ]
    },
    {
      "cell_type": "markdown",
      "metadata": {
        "id": "WuR6mU8RACmc"
      },
      "source": [
        "The Correlation Matrix gave us an interesting insight. \"motor_UPDRS\" and \"total_UPDRS\" are highly correlated(0.95)."
      ]
    },
    {
      "cell_type": "markdown",
      "metadata": {
        "id": "AFWwedb2Cs2j"
      },
      "source": [
        "In our current dataset, we already have the recorded data of \"motor_UPDRS\". But for future predictions, that might not be the case.\n",
        "\n",
        "Hence we can use feature engineering to get a new highly correlated feature using our Model 1 for the \"total_UPDRS\" prediction."
      ]
    },
    {
      "cell_type": "markdown",
      "metadata": {
        "id": "RCUyigDrEKUk"
      },
      "source": [
        "We will use Random Forrest predictions as the new feature for our Model 2 as it was the best performing model."
      ]
    },
    {
      "cell_type": "markdown",
      "metadata": {
        "id": "3fFOofKcJQUC"
      },
      "source": [
        "### Adding the \"motor_UPDRS\" values predicted by our Model 1 to the second training and test set."
      ]
    },
    {
      "cell_type": "code",
      "metadata": {
        "id": "MSQzNfTg-HU8"
      },
      "source": [
        "motor_train = rf_reg1.predict(x1_train)\n",
        "motor_test = rf_reg1.predict(x1_test)"
      ],
      "execution_count": 34,
      "outputs": []
    },
    {
      "cell_type": "code",
      "metadata": {
        "id": "gEbjEr-aGMae"
      },
      "source": [
        "x2_train = pd.DataFrame(x2_train, columns = ['PCA1', 'PCA2', 'PCA3'])"
      ],
      "execution_count": 35,
      "outputs": []
    },
    {
      "cell_type": "code",
      "metadata": {
        "id": "kiIgKzSsHtF7"
      },
      "source": [
        "x2_test = pd.DataFrame(x2_test, columns = ['PCA1', 'PCA2', 'PCA3'])"
      ],
      "execution_count": 36,
      "outputs": []
    },
    {
      "cell_type": "code",
      "metadata": {
        "id": "r3xDliBwI2iA"
      },
      "source": [
        "x2_train['motor_UPDRS'] = motor_train"
      ],
      "execution_count": 37,
      "outputs": []
    },
    {
      "cell_type": "code",
      "metadata": {
        "id": "uGPmKI6UJB4i"
      },
      "source": [
        "x2_test['motor_UPDRS'] = motor_test"
      ],
      "execution_count": 38,
      "outputs": []
    },
    {
      "cell_type": "markdown",
      "metadata": {
        "id": "H-yxm1cQLm8N"
      },
      "source": [
        "### Linear Regression"
      ]
    },
    {
      "cell_type": "code",
      "metadata": {
        "id": "o4Jyfe4xLZsp"
      },
      "source": [
        "lin_reg2 = LinearRegression()\n",
        "lin_reg2.fit(x2_train, y2_train)\n",
        "y_lin_pred2 = lin_reg2.predict(x2_test)"
      ],
      "execution_count": 39,
      "outputs": []
    },
    {
      "cell_type": "code",
      "metadata": {
        "colab": {
          "base_uri": "https://localhost:8080/"
        },
        "id": "My_-VMoaLvX3",
        "outputId": "389992e1-7a19-4aca-fc3b-1e7bff8bdedb"
      },
      "source": [
        "lin_mae2, lin_mse2, lin_r22 = score(y2_test,y_lin_pred2)"
      ],
      "execution_count": 40,
      "outputs": [
        {
          "output_type": "stream",
          "name": "stdout",
          "text": [
            "Mean Absolute Error:  4.0207875545643414\n",
            "Mean Squared Error:  30.51821687340556\n",
            "R2 score:  66.65944760071123\n"
          ]
        }
      ]
    },
    {
      "cell_type": "markdown",
      "metadata": {
        "id": "4b6mFLwEL8vd"
      },
      "source": [
        "### Polynomial Regression"
      ]
    },
    {
      "cell_type": "code",
      "metadata": {
        "id": "phGvmOezL0Ou"
      },
      "source": [
        "poly2 = PolynomialFeatures(degree=3)\n",
        "x2_poly = poly2.fit_transform(x2_train)"
      ],
      "execution_count": 41,
      "outputs": []
    },
    {
      "cell_type": "code",
      "metadata": {
        "id": "KEXRS9q8MCmP"
      },
      "source": [
        "poly_reg2 = LinearRegression()\n",
        "poly_reg2.fit(x2_poly, y2_train)\n",
        "y_poly_pred2 = poly_reg2.predict(poly2.transform(x2_test))"
      ],
      "execution_count": 42,
      "outputs": []
    },
    {
      "cell_type": "code",
      "metadata": {
        "colab": {
          "base_uri": "https://localhost:8080/"
        },
        "id": "iO3V9Da2MJt8",
        "outputId": "3733598f-45ac-4063-da4f-c6044f8ef42c"
      },
      "source": [
        "poly_mae2, poly_mse2, poly_r22 = score(y2_test, y_poly_pred2)"
      ],
      "execution_count": 43,
      "outputs": [
        {
          "output_type": "stream",
          "name": "stdout",
          "text": [
            "Mean Absolute Error:  3.810920840744952\n",
            "Mean Squared Error:  28.977602635069577\n",
            "R2 score:  69.01937979073266\n"
          ]
        }
      ]
    },
    {
      "cell_type": "markdown",
      "metadata": {
        "id": "FGqmZywgMhk4"
      },
      "source": [
        "### Support Vector Machines"
      ]
    },
    {
      "cell_type": "code",
      "metadata": {
        "id": "tXQHbWPuMR6_"
      },
      "source": [
        "svr_reg2 = SVR()\n",
        "svr_reg2.fit(x2_train, y2_train)\n",
        "y_svr_pred2 = svr_reg2.predict(x2_test)"
      ],
      "execution_count": 44,
      "outputs": []
    },
    {
      "cell_type": "code",
      "metadata": {
        "colab": {
          "base_uri": "https://localhost:8080/"
        },
        "id": "pJrb1kpUMoty",
        "outputId": "a687eacb-cd77-494f-a537-3a52252574be"
      },
      "source": [
        "svr_mae2, svr_mse2, svr_r22 = score(y2_test, y_svr_pred2)"
      ],
      "execution_count": 45,
      "outputs": [
        {
          "output_type": "stream",
          "name": "stdout",
          "text": [
            "Mean Absolute Error:  3.9796129342788906\n",
            "Mean Squared Error:  30.636201678004458\n",
            "R2 score:  61.34218065733374\n"
          ]
        }
      ]
    },
    {
      "cell_type": "markdown",
      "metadata": {
        "id": "RupkhL8FMzcw"
      },
      "source": [
        "### Decision Tree Regression"
      ]
    },
    {
      "cell_type": "code",
      "metadata": {
        "id": "VP-BDFb-MuUu"
      },
      "source": [
        "dt_reg2 = DecisionTreeRegressor()\n",
        "dt_reg2.fit(x2_train, y2_train)\n",
        "y_dt_pred2 = dt_reg2.predict(x2_test)"
      ],
      "execution_count": 46,
      "outputs": []
    },
    {
      "cell_type": "code",
      "metadata": {
        "colab": {
          "base_uri": "https://localhost:8080/"
        },
        "id": "gsOF2DdhM7xl",
        "outputId": "bc79612d-51ca-42aa-84bd-6eef16ecd07e"
      },
      "source": [
        "dt_mae2, dt_mse2, dt_r22 = score(y2_test, y_dt_pred2)"
      ],
      "execution_count": 47,
      "outputs": [
        {
          "output_type": "stream",
          "name": "stdout",
          "text": [
            "Mean Absolute Error:  2.3231729127593064\n",
            "Mean Squared Error:  28.745536085755173\n",
            "R2 score:  73.24040508093962\n"
          ]
        }
      ]
    },
    {
      "cell_type": "markdown",
      "metadata": {
        "id": "jhIYBQQMND-y"
      },
      "source": [
        "### Random Forrest Regression"
      ]
    },
    {
      "cell_type": "code",
      "metadata": {
        "id": "TcaQPFzTNAT3"
      },
      "source": [
        "rf_reg2 = RandomForestRegressor()\n",
        "rf_reg2.fit(x2_train, y2_train)\n",
        "y_rf_pred2 = rf_reg2.predict(x2_test)"
      ],
      "execution_count": 48,
      "outputs": []
    },
    {
      "cell_type": "code",
      "metadata": {
        "colab": {
          "base_uri": "https://localhost:8080/"
        },
        "id": "1vRrEgz1NJ0K",
        "outputId": "2afe1e45-08ae-4bfc-994a-e61712bd0dde"
      },
      "source": [
        "rf_mae2, rf_mse2, rf_r22 = score(y2_test, y_rf_pred2)"
      ],
      "execution_count": 49,
      "outputs": [
        {
          "output_type": "stream",
          "name": "stdout",
          "text": [
            "Mean Absolute Error:  2.2991513932969956\n",
            "Mean Squared Error:  24.771336298981097\n",
            "R2 score:  75.63307871126405\n"
          ]
        }
      ]
    },
    {
      "cell_type": "markdown",
      "metadata": {
        "id": "lDczQdcENSXc"
      },
      "source": [
        "### XGBoost Regression"
      ]
    },
    {
      "cell_type": "code",
      "metadata": {
        "id": "0QR_L7JsNQkk"
      },
      "source": [
        "xgb_reg2 = XGBRegressor(objective='reg:squarederror')\n",
        "xgb_reg2.fit(x2_train, y2_train)\n",
        "y_xgb_pred2 = xgb_reg2.predict(x2_test)"
      ],
      "execution_count": 50,
      "outputs": []
    },
    {
      "cell_type": "code",
      "metadata": {
        "colab": {
          "base_uri": "https://localhost:8080/"
        },
        "id": "7HiIUFYANaLf",
        "outputId": "cccc1c7b-4058-4005-ba87-314cc2138153"
      },
      "source": [
        "xgb_mae2, xgb_mse2, xgb_r22 = score(y2_test, y_xgb_pred2)"
      ],
      "execution_count": 51,
      "outputs": [
        {
          "output_type": "stream",
          "name": "stdout",
          "text": [
            "Mean Absolute Error:  3.093332010352093\n",
            "Mean Squared Error:  23.377414195003023\n",
            "R2 score:  75.03573371446959\n"
          ]
        }
      ]
    },
    {
      "cell_type": "markdown",
      "metadata": {
        "id": "MjKoi6bgNj4T"
      },
      "source": [
        "## Comparing Model2 Performance"
      ]
    },
    {
      "cell_type": "code",
      "metadata": {
        "id": "Il0VCOkENexn"
      },
      "source": [
        "model_mae2 = [lin_mae2,poly_mae2, svr_mae2, dt_mae2, rf_mae2, xgb_mae2]\n",
        "model_mse2 = [lin_mse2,poly_mse2, svr_mse2, dt_mse2, rf_mse2, xgb_mse2]\n",
        "model_r22 = [lin_r22,poly_r22, svr_r22, dt_r22, rf_r22, xgb_r22]\n",
        "models2 = [\"Linear Regression\", \"Polynomial Regression\", \"Support Vector Machines\",\"Decision Tree\", \"Random Forrest\", \"XGBoost\"]"
      ],
      "execution_count": 52,
      "outputs": []
    },
    {
      "cell_type": "code",
      "metadata": {
        "colab": {
          "base_uri": "https://localhost:8080/",
          "height": 585
        },
        "id": "mrsI3cS0NwAc",
        "outputId": "8bb5a29c-3a16-402e-9b33-512deb9ae578"
      },
      "source": [
        "plt.figure(figsize=(12,9))\n",
        "ax = sns.barplot(x=models2, y=model_mae2)\n",
        "for p in ax.patches:\n",
        "  height = p.get_height()\n",
        "  ax.text(p.get_x() + p.get_width()/2.,\n",
        "          height+0.01,\n",
        "          '{:1.3f}'.format(height),\n",
        "          ha='center')\n",
        "  \n",
        "plt.ylabel('Model2 Mean Absolute Error')\n",
        "plt.xlabel('Model Name')\n",
        "plt.title('Comparing Model2 MAE(Test Set)')"
      ],
      "execution_count": 53,
      "outputs": [
        {
          "output_type": "execute_result",
          "data": {
            "text/plain": [
              "Text(0.5, 1.0, 'Comparing Model2 MAE(Test Set)')"
            ]
          },
          "metadata": {},
          "execution_count": 53
        },
        {
          "output_type": "display_data",
          "data": {
            "image/png": "[encoded data removed]",
            "text/plain": [
              "<Figure size 864x648 with 1 Axes>"
            ]
          },
          "metadata": {
            "needs_background": "light"
          }
        }
      ]
    },
    {
      "cell_type": "code",
      "metadata": {
        "colab": {
          "base_uri": "https://localhost:8080/",
          "height": 585
        },
        "id": "XGivYISxN1pm",
        "outputId": "f741d531-e1f7-4428-9fad-ea6218f7ce35"
      },
      "source": [
        "plt.figure(figsize=(12,9))\n",
        "ax = sns.barplot(x=models2, y=model_mse2)\n",
        "for p in ax.patches:\n",
        "  height = p.get_height()\n",
        "  ax.text(p.get_x() + p.get_width()/2.,\n",
        "          height+0.1,\n",
        "          '{:1.3f}'.format(height),\n",
        "          ha='center')\n",
        "  \n",
        "plt.ylabel('Model2 Mean Squared Error')\n",
        "plt.xlabel('Model Name')\n",
        "plt.title('Comparing Model2 MSE(Test Set)')"
      ],
      "execution_count": 54,
      "outputs": [
        {
          "output_type": "execute_result",
          "data": {
            "text/plain": [
              "Text(0.5, 1.0, 'Comparing Model2 MSE(Test Set)')"
            ]
          },
          "metadata": {},
          "execution_count": 54
        },
        {
          "output_type": "display_data",
          "data": {
            "image/png": "[encoded data removed]",
            "text/plain": [
              "<Figure size 864x648 with 1 Axes>"
            ]
          },
          "metadata": {
            "needs_background": "light"
          }
        }
      ]
    },
    {
      "cell_type": "code",
      "metadata": {
        "colab": {
          "base_uri": "https://localhost:8080/",
          "height": 585
        },
        "id": "wdtIDOuRN96L",
        "outputId": "b2a53395-7d25-4f0b-eaf9-1ffc82dea52c"
      },
      "source": [
        "plt.figure(figsize=(12,9))\n",
        "ax = sns.barplot(x=models2, y=model_r22)\n",
        "for p in ax.patches:\n",
        "  height = p.get_height()\n",
        "  ax.text(p.get_x() + p.get_width()/2.,\n",
        "          height + 1,\n",
        "          '{:1.3f}%'.format(height),\n",
        "          ha='center')\n",
        "  \n",
        "plt.ylabel('Model2 R2 Score')\n",
        "plt.xlabel('Model Name')\n",
        "plt.title('Comparing Model2 R2 Score(Test Set)')"
      ],
      "execution_count": 55,
      "outputs": [
        {
          "output_type": "execute_result",
          "data": {
            "text/plain": [
              "Text(0.5, 1.0, 'Comparing Model2 R2 Score(Test Set)')"
            ]
          },
          "metadata": {},
          "execution_count": 55
        },
        {
          "output_type": "display_data",
          "data": {
            "image/png": "[encoded data removed]",
            "text/plain": [
              "<Figure size 864x648 with 1 Axes>"
            ]
          },
          "metadata": {
            "needs_background": "light"
          }
        }
      ]
    },
    {
      "cell_type": "markdown",
      "metadata": {
        "id": "LvIoMYXDRt8V"
      },
      "source": [
        "### Performing Cross Validation for our 3 best performing models"
      ]
    },
    {
      "cell_type": "code",
      "metadata": {
        "id": "Q8E90SS0OCtX"
      },
      "source": [
        "dt_cv2 = cross_val_score(dt_reg2,x2_train, y2_train, cv=10, scoring='r2')\n",
        "rf_cv2 = cross_val_score(rf_reg2,x2_train, y2_train, cv=10, scoring='r2')\n",
        "xgb_cv2 = cross_val_score(xgb_reg2,x2_train, y2_train, cv=10, scoring='r2')"
      ],
      "execution_count": 56,
      "outputs": []
    },
    {
      "cell_type": "code",
      "metadata": {
        "colab": {
          "base_uri": "https://localhost:8080/"
        },
        "id": "FA6UwkfUR8bM",
        "outputId": "617e1aa0-3cc9-495e-d16a-a3c13161c195"
      },
      "source": [
        "print(\"Cross Validation Score for Decision Tree Regression is: {:1.3f} +- {:1.3f}\".format(dt_cv2.mean()*100, dt_cv2.std()*100))\n",
        "print(\"Cross Validation Score for Random Forrest Regression is: {:1.3f} +- {:1.3f}\".format(rf_cv2.mean()*100, rf_cv2.std()*100))\n",
        "print(\"Cross Validation Score for XGBoost Model is: {:1.3f} +- {:1.3f}\".format(xgb_cv2.mean()*100, xgb_cv2.std()*100))"
      ],
      "execution_count": 57,
      "outputs": [
        {
          "output_type": "stream",
          "name": "stdout",
          "text": [
            "Cross Validation Score for Decision Tree Regression is: 97.343 +- 0.389\n",
            "Cross Validation Score for Random Forrest Regression is: 98.644 +- 0.225\n",
            "Cross Validation Score for XGBoost Model is: 95.463 +- 0.404\n"
          ]
        }
      ]
    },
    {
      "cell_type": "markdown",
      "metadata": {
        "id": "-2QPzR3zSkil"
      },
      "source": [
        "#### Thus Random Forrest Regressionis is the best model for Y2 Variable(total_UPDRS) with a **MAE of 2.3 and R2 score of 98.64%**"
      ]
    },
    {
      "cell_type": "markdown",
      "metadata": {
        "id": "8sK_j28FV4IG"
      },
      "source": [
        "# Deep Learning Approach"
      ]
    },
    {
      "cell_type": "code",
      "metadata": {
        "id": "n6Srg7BnWDZ2"
      },
      "source": [
        "df.drop(['subject#'], axis=1, inplace=True)"
      ],
      "execution_count": 58,
      "outputs": []
    },
    {
      "cell_type": "code",
      "metadata": {
        "colab": {
          "base_uri": "https://localhost:8080/",
          "height": 223
        },
        "id": "ToCABLzdWJEu",
        "outputId": "225a2ed9-ec81-4e17-9c85-bb8182590102"
      },
      "source": [
        "df.head()"
      ],
      "execution_count": 59,
      "outputs": [
        {
          "output_type": "execute_result",
          "data": {
            "text/html": [
              "<div>\n",
              "<style scoped>\n",
              "    .dataframe tbody tr th:only-of-type {\n",
              "        vertical-align: middle;\n",
              "    }\n",
              "\n",
              "    .dataframe tbody tr th {\n",
              "        vertical-align: top;\n",
              "    }\n",
              "\n",
              "    .dataframe thead th {\n",
              "        text-align: right;\n",
              "    }\n",
              "</style>\n",
              "<table border=\"1\" class=\"dataframe\">\n",
              "  <thead>\n",
              "    <tr style=\"text-align: right;\">\n",
              "      <th></th>\n",
              "      <th>age</th>\n",
              "      <th>sex</th>\n",
              "      <th>test_time</th>\n",
              "      <th>motor_UPDRS</th>\n",
              "      <th>total_UPDRS</th>\n",
              "      <th>Jitter(%)</th>\n",
              "      <th>Jitter(Abs)</th>\n",
              "      <th>Jitter:RAP</th>\n",
              "      <th>Jitter:PPQ5</th>\n",
              "      <th>Jitter:DDP</th>\n",
              "      <th>Shimmer</th>\n",
              "      <th>Shimmer(dB)</th>\n",
              "      <th>Shimmer:APQ3</th>\n",
              "      <th>Shimmer:APQ5</th>\n",
              "      <th>Shimmer:APQ11</th>\n",
              "      <th>Shimmer:DDA</th>\n",
              "      <th>NHR</th>\n",
              "      <th>HNR</th>\n",
              "      <th>RPDE</th>\n",
              "      <th>DFA</th>\n",
              "      <th>PPE</th>\n",
              "    </tr>\n",
              "  </thead>\n",
              "  <tbody>\n",
              "    <tr>\n",
              "      <th>0</th>\n",
              "      <td>72</td>\n",
              "      <td>0</td>\n",
              "      <td>5.6431</td>\n",
              "      <td>28.199</td>\n",
              "      <td>34.398</td>\n",
              "      <td>0.00662</td>\n",
              "      <td>0.000034</td>\n",
              "      <td>0.00401</td>\n",
              "      <td>0.00317</td>\n",
              "      <td>0.01204</td>\n",
              "      <td>0.02565</td>\n",
              "      <td>0.230</td>\n",
              "      <td>0.01438</td>\n",
              "      <td>0.01309</td>\n",
              "      <td>0.01662</td>\n",
              "      <td>0.04314</td>\n",
              "      <td>0.014290</td>\n",
              "      <td>21.640</td>\n",
              "      <td>0.41888</td>\n",
              "      <td>0.54842</td>\n",
              "      <td>0.16006</td>\n",
              "    </tr>\n",
              "    <tr>\n",
              "      <th>1</th>\n",
              "      <td>72</td>\n",
              "      <td>0</td>\n",
              "      <td>12.6660</td>\n",
              "      <td>28.447</td>\n",
              "      <td>34.894</td>\n",
              "      <td>0.00300</td>\n",
              "      <td>0.000017</td>\n",
              "      <td>0.00132</td>\n",
              "      <td>0.00150</td>\n",
              "      <td>0.00395</td>\n",
              "      <td>0.02024</td>\n",
              "      <td>0.179</td>\n",
              "      <td>0.00994</td>\n",
              "      <td>0.01072</td>\n",
              "      <td>0.01689</td>\n",
              "      <td>0.02982</td>\n",
              "      <td>0.011112</td>\n",
              "      <td>27.183</td>\n",
              "      <td>0.43493</td>\n",
              "      <td>0.56477</td>\n",
              "      <td>0.10810</td>\n",
              "    </tr>\n",
              "    <tr>\n",
              "      <th>2</th>\n",
              "      <td>72</td>\n",
              "      <td>0</td>\n",
              "      <td>19.6810</td>\n",
              "      <td>28.695</td>\n",
              "      <td>35.389</td>\n",
              "      <td>0.00481</td>\n",
              "      <td>0.000025</td>\n",
              "      <td>0.00205</td>\n",
              "      <td>0.00208</td>\n",
              "      <td>0.00616</td>\n",
              "      <td>0.01675</td>\n",
              "      <td>0.181</td>\n",
              "      <td>0.00734</td>\n",
              "      <td>0.00844</td>\n",
              "      <td>0.01458</td>\n",
              "      <td>0.02202</td>\n",
              "      <td>0.020220</td>\n",
              "      <td>23.047</td>\n",
              "      <td>0.46222</td>\n",
              "      <td>0.54405</td>\n",
              "      <td>0.21014</td>\n",
              "    </tr>\n",
              "    <tr>\n",
              "      <th>3</th>\n",
              "      <td>72</td>\n",
              "      <td>0</td>\n",
              "      <td>25.6470</td>\n",
              "      <td>28.905</td>\n",
              "      <td>35.810</td>\n",
              "      <td>0.00528</td>\n",
              "      <td>0.000027</td>\n",
              "      <td>0.00191</td>\n",
              "      <td>0.00264</td>\n",
              "      <td>0.00573</td>\n",
              "      <td>0.02309</td>\n",
              "      <td>0.327</td>\n",
              "      <td>0.01106</td>\n",
              "      <td>0.01265</td>\n",
              "      <td>0.01963</td>\n",
              "      <td>0.03317</td>\n",
              "      <td>0.027837</td>\n",
              "      <td>24.445</td>\n",
              "      <td>0.48730</td>\n",
              "      <td>0.57794</td>\n",
              "      <td>0.33277</td>\n",
              "    </tr>\n",
              "    <tr>\n",
              "      <th>4</th>\n",
              "      <td>72</td>\n",
              "      <td>0</td>\n",
              "      <td>33.6420</td>\n",
              "      <td>29.187</td>\n",
              "      <td>36.375</td>\n",
              "      <td>0.00335</td>\n",
              "      <td>0.000020</td>\n",
              "      <td>0.00093</td>\n",
              "      <td>0.00130</td>\n",
              "      <td>0.00278</td>\n",
              "      <td>0.01703</td>\n",
              "      <td>0.176</td>\n",
              "      <td>0.00679</td>\n",
              "      <td>0.00929</td>\n",
              "      <td>0.01819</td>\n",
              "      <td>0.02036</td>\n",
              "      <td>0.011625</td>\n",
              "      <td>26.126</td>\n",
              "      <td>0.47188</td>\n",
              "      <td>0.56122</td>\n",
              "      <td>0.19361</td>\n",
              "    </tr>\n",
              "  </tbody>\n",
              "</table>\n",
              "</div>"
            ],
            "text/plain": [
              "   age  sex  test_time  motor_UPDRS  ...     HNR     RPDE      DFA      PPE\n",
              "0   72    0     5.6431       28.199  ...  21.640  0.41888  0.54842  0.16006\n",
              "1   72    0    12.6660       28.447  ...  27.183  0.43493  0.56477  0.10810\n",
              "2   72    0    19.6810       28.695  ...  23.047  0.46222  0.54405  0.21014\n",
              "3   72    0    25.6470       28.905  ...  24.445  0.48730  0.57794  0.33277\n",
              "4   72    0    33.6420       29.187  ...  26.126  0.47188  0.56122  0.19361\n",
              "\n",
              "[5 rows x 21 columns]"
            ]
          },
          "metadata": {},
          "execution_count": 59
        }
      ]
    },
    {
      "cell_type": "code",
      "metadata": {
        "id": "Q8LpKtUPWQ_C"
      },
      "source": [
        "y = df.iloc[:, [3,4]].values"
      ],
      "execution_count": 60,
      "outputs": []
    },
    {
      "cell_type": "code",
      "metadata": {
        "id": "EsWhbm8uX7tH"
      },
      "source": [
        "df.drop(['motor_UPDRS', 'total_UPDRS'], axis=1, inplace=True)"
      ],
      "execution_count": 61,
      "outputs": []
    },
    {
      "cell_type": "code",
      "metadata": {
        "id": "J7oGl-wBX8lW"
      },
      "source": [
        "x = df.values"
      ],
      "execution_count": 62,
      "outputs": []
    },
    {
      "cell_type": "markdown",
      "metadata": {
        "id": "1BBTs4WlY9de"
      },
      "source": [
        "### Splitting data into Training and Test set"
      ]
    },
    {
      "cell_type": "code",
      "metadata": {
        "id": "q_Kobe8tY0dc"
      },
      "source": [
        "x_train, x_test, y_train, y_test = train_test_split(x,y, test_size=0.2, random_state=42)"
      ],
      "execution_count": 63,
      "outputs": []
    },
    {
      "cell_type": "markdown",
      "metadata": {
        "id": "jXMcKRZzZOHL"
      },
      "source": [
        "### Standardizing so that the Standard deviation is 1 and mean is 0 for all features."
      ]
    },
    {
      "cell_type": "code",
      "metadata": {
        "id": "QYcpFZ_9ZNgV"
      },
      "source": [
        "sc = StandardScaler()\n",
        "x_train = sc.fit_transform(x_train)\n",
        "x_test = sc.transform(x_test)"
      ],
      "execution_count": 64,
      "outputs": []
    },
    {
      "cell_type": "markdown",
      "metadata": {
        "id": "Pg4y-10QZinH"
      },
      "source": [
        "### Artificial Neural Network"
      ]
    },
    {
      "cell_type": "code",
      "metadata": {
        "id": "kq0RodWcZhuJ"
      },
      "source": [
        "ann1 = Sequential([\n",
        "                   Dense(units=128, activation='relu'),\n",
        "                   Dropout(0.2),\n",
        "                   Dense(units=64, activation='relu'),\n",
        "                   Dropout(0.2),\n",
        "                   Dense(units=32, activation='relu'),\n",
        "                   Dropout(0.2),\n",
        "                   Dense(units=16, activation='relu'),\n",
        "                   Dense(units=2)\n",
        "])"
      ],
      "execution_count": 65,
      "outputs": []
    },
    {
      "cell_type": "code",
      "metadata": {
        "id": "s802KV7luUz2"
      },
      "source": [
        "def r2(y_true, y_pred):\n",
        "    SS_res =  K.sum(K.square( y_true-y_pred ))\n",
        "    SS_tot = K.sum(K.square( y_true - K.mean(y_true) ) )\n",
        "    return ( 1 - SS_res/(SS_tot + K.epsilon()) )"
      ],
      "execution_count": 66,
      "outputs": []
    },
    {
      "cell_type": "code",
      "metadata": {
        "id": "XLwD6aiaantz"
      },
      "source": [
        "ann1.compile(optimizer='adam', loss=\"mean_absolute_error\", metrics=[r2, 'mae'])"
      ],
      "execution_count": 67,
      "outputs": []
    },
    {
      "cell_type": "code",
      "metadata": {
        "id": "XTbUfxHkcNb9"
      },
      "source": [
        "class myCallback(tf.keras.callbacks.Callback):\n",
        "    def on_epoch_end(self, epoch, logs={}):\n",
        "        if(logs.get('val_r2') > 0.99):\n",
        "            print(\"\\nReached 99% R2 score so cancelling training!\")\n",
        "            self.model.stop_training = True\n",
        "        \n",
        "callback = myCallback()"
      ],
      "execution_count": 68,
      "outputs": []
    },
    {
      "cell_type": "code",
      "metadata": {
        "colab": {
          "base_uri": "https://localhost:8080/"
        },
        "id": "WWUgHUhSbLTv",
        "outputId": "94b3cdf2-4e6b-4ba3-df81-2873fc8d937d"
      },
      "source": [
        "r1 = ann1.fit(x_train, y_train,\n",
        "              validation_data=(x_test, y_test), batch_size=64, epochs=700, callbacks=[callback])"
      ],
      "execution_count": 69,
      "outputs": [
        {
          "output_type": "stream",
          "name": "stdout",
          "text": [
            "Epoch 1/700\n",
            "74/74 [==============================] - 4s 8ms/step - loss: 19.0767 - r2: -3.7820 - mae: 19.0767 - val_loss: 10.2665 - val_r2: -0.7058 - val_mae: 10.2665\n",
            "Epoch 2/700\n",
            "74/74 [==============================] - 0s 5ms/step - loss: 8.9770 - r2: -0.2795 - mae: 8.9770 - val_loss: 7.9275 - val_r2: 0.0201 - val_mae: 7.9275\n",
            "Epoch 3/700\n",
            "74/74 [==============================] - 0s 4ms/step - loss: 8.0770 - r2: -0.0487 - mae: 8.0770 - val_loss: 7.3739 - val_r2: 0.1460 - val_mae: 7.3739\n",
            "Epoch 4/700\n",
            "74/74 [==============================] - 0s 5ms/step - loss: 7.6669 - r2: 0.0585 - mae: 7.6669 - val_loss: 7.1485 - val_r2: 0.1916 - val_mae: 7.1485\n",
            "Epoch 5/700\n",
            "74/74 [==============================] - 0s 4ms/step - loss: 7.5156 - r2: 0.1005 - mae: 7.5156 - val_loss: 6.9273 - val_r2: 0.2273 - val_mae: 6.9273\n",
            "Epoch 6/700\n",
            "74/74 [==============================] - 0s 5ms/step - loss: 7.3277 - r2: 0.1266 - mae: 7.3277 - val_loss: 6.7504 - val_r2: 0.2736 - val_mae: 6.7504\n",
            "Epoch 7/700\n",
            "74/74 [==============================] - 0s 4ms/step - loss: 7.1959 - r2: 0.1738 - mae: 7.1959 - val_loss: 6.5942 - val_r2: 0.2905 - val_mae: 6.5942\n",
            "Epoch 8/700\n",
            "74/74 [==============================] - 0s 4ms/step - loss: 6.9156 - r2: 0.2128 - mae: 6.9156 - val_loss: 6.3382 - val_r2: 0.3307 - val_mae: 6.3382\n",
            "Epoch 9/700\n",
            "74/74 [==============================] - 0s 5ms/step - loss: 6.7832 - r2: 0.2436 - mae: 6.7832 - val_loss: 6.3263 - val_r2: 0.3186 - val_mae: 6.3263\n",
            "Epoch 10/700\n",
            "74/74 [==============================] - 0s 5ms/step - loss: 6.7236 - r2: 0.2647 - mae: 6.7236 - val_loss: 6.1361 - val_r2: 0.3750 - val_mae: 6.1361\n",
            "Epoch 11/700\n",
            "74/74 [==============================] - 0s 4ms/step - loss: 6.5731 - r2: 0.2999 - mae: 6.5731 - val_loss: 5.7959 - val_r2: 0.4415 - val_mae: 5.7959\n",
            "Epoch 12/700\n",
            "74/74 [==============================] - 0s 4ms/step - loss: 6.4979 - r2: 0.3063 - mae: 6.4979 - val_loss: 5.7060 - val_r2: 0.4623 - val_mae: 5.7060\n",
            "Epoch 13/700\n",
            "74/74 [==============================] - 0s 5ms/step - loss: 6.3807 - r2: 0.3321 - mae: 6.3807 - val_loss: 5.5800 - val_r2: 0.4706 - val_mae: 5.5800\n",
            "Epoch 14/700\n",
            "74/74 [==============================] - 0s 4ms/step - loss: 6.4405 - r2: 0.3194 - mae: 6.4405 - val_loss: 5.7314 - val_r2: 0.4156 - val_mae: 5.7314\n",
            "Epoch 15/700\n",
            "74/74 [==============================] - 0s 4ms/step - loss: 6.1468 - r2: 0.3793 - mae: 6.1468 - val_loss: 5.5027 - val_r2: 0.4818 - val_mae: 5.5027\n",
            "Epoch 16/700\n",
            "74/74 [==============================] - 0s 5ms/step - loss: 6.1593 - r2: 0.3780 - mae: 6.1593 - val_loss: 5.6397 - val_r2: 0.4491 - val_mae: 5.6397\n",
            "Epoch 17/700\n",
            "74/74 [==============================] - 0s 4ms/step - loss: 6.1182 - r2: 0.3902 - mae: 6.1182 - val_loss: 5.3608 - val_r2: 0.5022 - val_mae: 5.3608\n",
            "Epoch 18/700\n",
            "74/74 [==============================] - 0s 4ms/step - loss: 6.0220 - r2: 0.4012 - mae: 6.0220 - val_loss: 5.3113 - val_r2: 0.5087 - val_mae: 5.3113\n",
            "Epoch 19/700\n",
            "74/74 [==============================] - 0s 5ms/step - loss: 6.0176 - r2: 0.3938 - mae: 6.0176 - val_loss: 5.4344 - val_r2: 0.4722 - val_mae: 5.4344\n",
            "Epoch 20/700\n",
            "74/74 [==============================] - 0s 4ms/step - loss: 6.0521 - r2: 0.4019 - mae: 6.0521 - val_loss: 5.1492 - val_r2: 0.5408 - val_mae: 5.1492\n",
            "Epoch 21/700\n",
            "74/74 [==============================] - 0s 4ms/step - loss: 5.8559 - r2: 0.4292 - mae: 5.8559 - val_loss: 5.4223 - val_r2: 0.4897 - val_mae: 5.4223\n",
            "Epoch 22/700\n",
            "74/74 [==============================] - 0s 4ms/step - loss: 5.8944 - r2: 0.4293 - mae: 5.8944 - val_loss: 5.2054 - val_r2: 0.5210 - val_mae: 5.2054\n",
            "Epoch 23/700\n",
            "74/74 [==============================] - 0s 5ms/step - loss: 5.7671 - r2: 0.4453 - mae: 5.7671 - val_loss: 5.1894 - val_r2: 0.5352 - val_mae: 5.1894\n",
            "Epoch 24/700\n",
            "74/74 [==============================] - 0s 4ms/step - loss: 5.8640 - r2: 0.4313 - mae: 5.8640 - val_loss: 4.9313 - val_r2: 0.5849 - val_mae: 4.9313\n",
            "Epoch 25/700\n",
            "74/74 [==============================] - 0s 5ms/step - loss: 5.7259 - r2: 0.4559 - mae: 5.7259 - val_loss: 5.0511 - val_r2: 0.5498 - val_mae: 5.0511\n",
            "Epoch 26/700\n",
            "74/74 [==============================] - 0s 5ms/step - loss: 5.6586 - r2: 0.4634 - mae: 5.6586 - val_loss: 4.7579 - val_r2: 0.6080 - val_mae: 4.7579\n",
            "Epoch 27/700\n",
            "74/74 [==============================] - 0s 4ms/step - loss: 5.5925 - r2: 0.4722 - mae: 5.5925 - val_loss: 4.9537 - val_r2: 0.5705 - val_mae: 4.9537\n",
            "Epoch 28/700\n",
            "74/74 [==============================] - 0s 5ms/step - loss: 5.5667 - r2: 0.4839 - mae: 5.5667 - val_loss: 5.1613 - val_r2: 0.5361 - val_mae: 5.1613\n",
            "Epoch 29/700\n",
            "74/74 [==============================] - 0s 4ms/step - loss: 5.4923 - r2: 0.4900 - mae: 5.4923 - val_loss: 5.0572 - val_r2: 0.5565 - val_mae: 5.0572\n",
            "Epoch 30/700\n",
            "74/74 [==============================] - 0s 5ms/step - loss: 5.5069 - r2: 0.4927 - mae: 5.5069 - val_loss: 4.9961 - val_r2: 0.5671 - val_mae: 4.9961\n",
            "Epoch 31/700\n",
            "74/74 [==============================] - 0s 4ms/step - loss: 5.4209 - r2: 0.5041 - mae: 5.4209 - val_loss: 5.0169 - val_r2: 0.5621 - val_mae: 5.0169\n",
            "Epoch 32/700\n",
            "74/74 [==============================] - 0s 4ms/step - loss: 5.3624 - r2: 0.5160 - mae: 5.3624 - val_loss: 4.6615 - val_r2: 0.6162 - val_mae: 4.6615\n",
            "Epoch 33/700\n",
            "74/74 [==============================] - 0s 5ms/step - loss: 5.3797 - r2: 0.5062 - mae: 5.3797 - val_loss: 5.7089 - val_r2: 0.4745 - val_mae: 5.7089\n",
            "Epoch 34/700\n",
            "74/74 [==============================] - 0s 5ms/step - loss: 5.3169 - r2: 0.5192 - mae: 5.3169 - val_loss: 4.7175 - val_r2: 0.6092 - val_mae: 4.7175\n",
            "Epoch 35/700\n",
            "74/74 [==============================] - 0s 5ms/step - loss: 5.2167 - r2: 0.5354 - mae: 5.2167 - val_loss: 4.8008 - val_r2: 0.5925 - val_mae: 4.8008\n",
            "Epoch 36/700\n",
            "74/74 [==============================] - 0s 4ms/step - loss: 5.2355 - r2: 0.5287 - mae: 5.2355 - val_loss: 4.9746 - val_r2: 0.5669 - val_mae: 4.9746\n",
            "Epoch 37/700\n",
            "74/74 [==============================] - 0s 5ms/step - loss: 5.1266 - r2: 0.5520 - mae: 5.1266 - val_loss: 4.7986 - val_r2: 0.6071 - val_mae: 4.7986\n",
            "Epoch 38/700\n",
            "74/74 [==============================] - 0s 4ms/step - loss: 5.1216 - r2: 0.5477 - mae: 5.1216 - val_loss: 4.8224 - val_r2: 0.6030 - val_mae: 4.8224\n",
            "Epoch 39/700\n",
            "74/74 [==============================] - 0s 4ms/step - loss: 4.9759 - r2: 0.5658 - mae: 4.9759 - val_loss: 5.1565 - val_r2: 0.5514 - val_mae: 5.1565\n",
            "Epoch 40/700\n",
            "74/74 [==============================] - 0s 5ms/step - loss: 5.0815 - r2: 0.5594 - mae: 5.0815 - val_loss: 4.7637 - val_r2: 0.6090 - val_mae: 4.7637\n",
            "Epoch 41/700\n",
            "74/74 [==============================] - 0s 4ms/step - loss: 5.0471 - r2: 0.5570 - mae: 5.0471 - val_loss: 4.8024 - val_r2: 0.6088 - val_mae: 4.8024\n",
            "Epoch 42/700\n",
            "74/74 [==============================] - 0s 4ms/step - loss: 5.0346 - r2: 0.5591 - mae: 5.0346 - val_loss: 4.8870 - val_r2: 0.5836 - val_mae: 4.8870\n",
            "Epoch 43/700\n",
            "74/74 [==============================] - 0s 5ms/step - loss: 4.9731 - r2: 0.5715 - mae: 4.9731 - val_loss: 5.1887 - val_r2: 0.5444 - val_mae: 5.1887\n",
            "Epoch 44/700\n",
            "74/74 [==============================] - 0s 4ms/step - loss: 4.8977 - r2: 0.5801 - mae: 4.8977 - val_loss: 5.1105 - val_r2: 0.5718 - val_mae: 5.1105\n",
            "Epoch 45/700\n",
            "74/74 [==============================] - 0s 4ms/step - loss: 4.8544 - r2: 0.5880 - mae: 4.8544 - val_loss: 5.0359 - val_r2: 0.5884 - val_mae: 5.0359\n",
            "Epoch 46/700\n",
            "74/74 [==============================] - 0s 4ms/step - loss: 4.8994 - r2: 0.5802 - mae: 4.8994 - val_loss: 5.2241 - val_r2: 0.5557 - val_mae: 5.2241\n",
            "Epoch 47/700\n",
            "74/74 [==============================] - 0s 4ms/step - loss: 4.8123 - r2: 0.5991 - mae: 4.8123 - val_loss: 4.7589 - val_r2: 0.6117 - val_mae: 4.7589\n",
            "Epoch 48/700\n",
            "74/74 [==============================] - 0s 5ms/step - loss: 4.8100 - r2: 0.5849 - mae: 4.8100 - val_loss: 4.3208 - val_r2: 0.6709 - val_mae: 4.3208\n",
            "Epoch 49/700\n",
            "74/74 [==============================] - 0s 4ms/step - loss: 4.7387 - r2: 0.6091 - mae: 4.7387 - val_loss: 4.8157 - val_r2: 0.6189 - val_mae: 4.8157\n",
            "Epoch 50/700\n",
            "74/74 [==============================] - 0s 4ms/step - loss: 4.7599 - r2: 0.5939 - mae: 4.7599 - val_loss: 4.7527 - val_r2: 0.6119 - val_mae: 4.7527\n",
            "Epoch 51/700\n",
            "74/74 [==============================] - 0s 4ms/step - loss: 4.6800 - r2: 0.6082 - mae: 4.6800 - val_loss: 4.9674 - val_r2: 0.5848 - val_mae: 4.9674\n",
            "Epoch 52/700\n",
            "74/74 [==============================] - 0s 5ms/step - loss: 4.5955 - r2: 0.6218 - mae: 4.5955 - val_loss: 4.4882 - val_r2: 0.6528 - val_mae: 4.4882\n",
            "Epoch 53/700\n",
            "74/74 [==============================] - 0s 4ms/step - loss: 4.6965 - r2: 0.6108 - mae: 4.6965 - val_loss: 4.6572 - val_r2: 0.6335 - val_mae: 4.6572\n",
            "Epoch 54/700\n",
            "74/74 [==============================] - 0s 5ms/step - loss: 4.6603 - r2: 0.6148 - mae: 4.6603 - val_loss: 5.1014 - val_r2: 0.5812 - val_mae: 5.1014\n",
            "Epoch 55/700\n",
            "74/74 [==============================] - 0s 5ms/step - loss: 4.5952 - r2: 0.6211 - mae: 4.5952 - val_loss: 4.9583 - val_r2: 0.5903 - val_mae: 4.9583\n",
            "Epoch 56/700\n",
            "74/74 [==============================] - 0s 4ms/step - loss: 4.5099 - r2: 0.6350 - mae: 4.5099 - val_loss: 4.9742 - val_r2: 0.5853 - val_mae: 4.9742\n",
            "Epoch 57/700\n",
            "74/74 [==============================] - 0s 5ms/step - loss: 4.5440 - r2: 0.6252 - mae: 4.5440 - val_loss: 4.1436 - val_r2: 0.6857 - val_mae: 4.1436\n",
            "Epoch 58/700\n",
            "74/74 [==============================] - 0s 5ms/step - loss: 4.4966 - r2: 0.6345 - mae: 4.4966 - val_loss: 5.0914 - val_r2: 0.5787 - val_mae: 5.0914\n",
            "Epoch 59/700\n",
            "74/74 [==============================] - 0s 5ms/step - loss: 4.4984 - r2: 0.6305 - mae: 4.4984 - val_loss: 4.9747 - val_r2: 0.6004 - val_mae: 4.9747\n",
            "Epoch 60/700\n",
            "74/74 [==============================] - 0s 4ms/step - loss: 4.4848 - r2: 0.6344 - mae: 4.4848 - val_loss: 5.0916 - val_r2: 0.5762 - val_mae: 5.0916\n",
            "Epoch 61/700\n",
            "74/74 [==============================] - 0s 4ms/step - loss: 4.4468 - r2: 0.6445 - mae: 4.4468 - val_loss: 4.9901 - val_r2: 0.5877 - val_mae: 4.9901\n",
            "Epoch 62/700\n",
            "74/74 [==============================] - 0s 5ms/step - loss: 4.3776 - r2: 0.6484 - mae: 4.3776 - val_loss: 4.4056 - val_r2: 0.6599 - val_mae: 4.4056\n",
            "Epoch 63/700\n",
            "74/74 [==============================] - 0s 5ms/step - loss: 4.4549 - r2: 0.6388 - mae: 4.4549 - val_loss: 5.0541 - val_r2: 0.5723 - val_mae: 5.0541\n",
            "Epoch 64/700\n",
            "74/74 [==============================] - 0s 5ms/step - loss: 4.3787 - r2: 0.6425 - mae: 4.3787 - val_loss: 5.0031 - val_r2: 0.5959 - val_mae: 5.0031\n",
            "Epoch 65/700\n",
            "74/74 [==============================] - 0s 4ms/step - loss: 4.4193 - r2: 0.6316 - mae: 4.4193 - val_loss: 4.3398 - val_r2: 0.6749 - val_mae: 4.3398\n",
            "Epoch 66/700\n",
            "74/74 [==============================] - 0s 5ms/step - loss: 4.3291 - r2: 0.6528 - mae: 4.3291 - val_loss: 5.1424 - val_r2: 0.5701 - val_mae: 5.1424\n",
            "Epoch 67/700\n",
            "74/74 [==============================] - 0s 4ms/step - loss: 4.3379 - r2: 0.6626 - mae: 4.3379 - val_loss: 4.7707 - val_r2: 0.6224 - val_mae: 4.7707\n",
            "Epoch 68/700\n",
            "74/74 [==============================] - 0s 5ms/step - loss: 4.2563 - r2: 0.6673 - mae: 4.2563 - val_loss: 4.8520 - val_r2: 0.6169 - val_mae: 4.8520\n",
            "Epoch 69/700\n",
            "74/74 [==============================] - 0s 5ms/step - loss: 4.3181 - r2: 0.6513 - mae: 4.3181 - val_loss: 4.3670 - val_r2: 0.6647 - val_mae: 4.3670\n",
            "Epoch 70/700\n",
            "74/74 [==============================] - 0s 5ms/step - loss: 4.2726 - r2: 0.6569 - mae: 4.2726 - val_loss: 4.5372 - val_r2: 0.6484 - val_mae: 4.5372\n",
            "Epoch 71/700\n",
            "74/74 [==============================] - 0s 4ms/step - loss: 4.3219 - r2: 0.6569 - mae: 4.3219 - val_loss: 4.5648 - val_r2: 0.6430 - val_mae: 4.5648\n",
            "Epoch 72/700\n",
            "74/74 [==============================] - 0s 4ms/step - loss: 4.2625 - r2: 0.6609 - mae: 4.2625 - val_loss: 4.3530 - val_r2: 0.6726 - val_mae: 4.3530\n",
            "Epoch 73/700\n",
            "74/74 [==============================] - 0s 5ms/step - loss: 4.2330 - r2: 0.6634 - mae: 4.2330 - val_loss: 4.7213 - val_r2: 0.6209 - val_mae: 4.7213\n",
            "Epoch 74/700\n",
            "74/74 [==============================] - 0s 5ms/step - loss: 4.1715 - r2: 0.6691 - mae: 4.1715 - val_loss: 4.8649 - val_r2: 0.6115 - val_mae: 4.8649\n",
            "Epoch 75/700\n",
            "74/74 [==============================] - 0s 5ms/step - loss: 4.2222 - r2: 0.6667 - mae: 4.2222 - val_loss: 4.6932 - val_r2: 0.6365 - val_mae: 4.6932\n",
            "Epoch 76/700\n",
            "74/74 [==============================] - 0s 4ms/step - loss: 4.2221 - r2: 0.6648 - mae: 4.2221 - val_loss: 4.6937 - val_r2: 0.6289 - val_mae: 4.6937\n",
            "Epoch 77/700\n",
            "74/74 [==============================] - 0s 5ms/step - loss: 4.1161 - r2: 0.6868 - mae: 4.1161 - val_loss: 3.9750 - val_r2: 0.7209 - val_mae: 3.9750\n",
            "Epoch 78/700\n",
            "74/74 [==============================] - 0s 5ms/step - loss: 4.1834 - r2: 0.6821 - mae: 4.1834 - val_loss: 4.4610 - val_r2: 0.6556 - val_mae: 4.4610\n",
            "Epoch 79/700\n",
            "74/74 [==============================] - 0s 5ms/step - loss: 4.1417 - r2: 0.6821 - mae: 4.1417 - val_loss: 4.3583 - val_r2: 0.6744 - val_mae: 4.3583\n",
            "Epoch 80/700\n",
            "74/74 [==============================] - 0s 4ms/step - loss: 4.1103 - r2: 0.6772 - mae: 4.1103 - val_loss: 4.6676 - val_r2: 0.6302 - val_mae: 4.6676\n",
            "Epoch 81/700\n",
            "74/74 [==============================] - 0s 5ms/step - loss: 4.1045 - r2: 0.6875 - mae: 4.1045 - val_loss: 4.7206 - val_r2: 0.6321 - val_mae: 4.7206\n",
            "Epoch 82/700\n",
            "74/74 [==============================] - 0s 5ms/step - loss: 4.1773 - r2: 0.6745 - mae: 4.1773 - val_loss: 4.6206 - val_r2: 0.6418 - val_mae: 4.6206\n",
            "Epoch 83/700\n",
            "74/74 [==============================] - 0s 5ms/step - loss: 4.0921 - r2: 0.6765 - mae: 4.0921 - val_loss: 4.2895 - val_r2: 0.6755 - val_mae: 4.2895\n",
            "Epoch 84/700\n",
            "74/74 [==============================] - 0s 5ms/step - loss: 4.0466 - r2: 0.6899 - mae: 4.0466 - val_loss: 4.4488 - val_r2: 0.6644 - val_mae: 4.4488\n",
            "Epoch 85/700\n",
            "74/74 [==============================] - 0s 5ms/step - loss: 4.0575 - r2: 0.6855 - mae: 4.0575 - val_loss: 4.6403 - val_r2: 0.6403 - val_mae: 4.6403\n",
            "Epoch 86/700\n",
            "74/74 [==============================] - 0s 5ms/step - loss: 3.9730 - r2: 0.6938 - mae: 3.9730 - val_loss: 4.5173 - val_r2: 0.6493 - val_mae: 4.5173\n",
            "Epoch 87/700\n",
            "74/74 [==============================] - 0s 5ms/step - loss: 3.9756 - r2: 0.6963 - mae: 3.9756 - val_loss: 4.4879 - val_r2: 0.6507 - val_mae: 4.4879\n",
            "Epoch 88/700\n",
            "74/74 [==============================] - 0s 5ms/step - loss: 4.0145 - r2: 0.6931 - mae: 4.0145 - val_loss: 4.5062 - val_r2: 0.6523 - val_mae: 4.5062\n",
            "Epoch 89/700\n",
            "74/74 [==============================] - 0s 5ms/step - loss: 3.9381 - r2: 0.7082 - mae: 3.9381 - val_loss: 4.4504 - val_r2: 0.6560 - val_mae: 4.4504\n",
            "Epoch 90/700\n",
            "74/74 [==============================] - 0s 5ms/step - loss: 4.0209 - r2: 0.6886 - mae: 4.0209 - val_loss: 4.3407 - val_r2: 0.6696 - val_mae: 4.3407\n",
            "Epoch 91/700\n",
            "74/74 [==============================] - 0s 5ms/step - loss: 3.9740 - r2: 0.6988 - mae: 3.9740 - val_loss: 4.0621 - val_r2: 0.7055 - val_mae: 4.0621\n",
            "Epoch 92/700\n",
            "74/74 [==============================] - 0s 4ms/step - loss: 3.9688 - r2: 0.6975 - mae: 3.9688 - val_loss: 4.1837 - val_r2: 0.6892 - val_mae: 4.1837\n",
            "Epoch 93/700\n",
            "74/74 [==============================] - 0s 4ms/step - loss: 3.9144 - r2: 0.7047 - mae: 3.9144 - val_loss: 4.2447 - val_r2: 0.6865 - val_mae: 4.2447\n",
            "Epoch 94/700\n",
            "74/74 [==============================] - 0s 5ms/step - loss: 3.9432 - r2: 0.7026 - mae: 3.9432 - val_loss: 4.4116 - val_r2: 0.6657 - val_mae: 4.4116\n",
            "Epoch 95/700\n",
            "74/74 [==============================] - 0s 5ms/step - loss: 3.9534 - r2: 0.7010 - mae: 3.9534 - val_loss: 3.9284 - val_r2: 0.7273 - val_mae: 3.9284\n",
            "Epoch 96/700\n",
            "74/74 [==============================] - 0s 5ms/step - loss: 3.9032 - r2: 0.7099 - mae: 3.9032 - val_loss: 4.3526 - val_r2: 0.6795 - val_mae: 4.3526\n",
            "Epoch 97/700\n",
            "74/74 [==============================] - 0s 4ms/step - loss: 3.8724 - r2: 0.7104 - mae: 3.8724 - val_loss: 4.1693 - val_r2: 0.6980 - val_mae: 4.1693\n",
            "Epoch 98/700\n",
            "74/74 [==============================] - 0s 4ms/step - loss: 3.9077 - r2: 0.7029 - mae: 3.9077 - val_loss: 3.9796 - val_r2: 0.7244 - val_mae: 3.9796\n",
            "Epoch 99/700\n",
            "74/74 [==============================] - 0s 5ms/step - loss: 3.8151 - r2: 0.7233 - mae: 3.8151 - val_loss: 4.4636 - val_r2: 0.6633 - val_mae: 4.4636\n",
            "Epoch 100/700\n",
            "74/74 [==============================] - 0s 5ms/step - loss: 3.8898 - r2: 0.7019 - mae: 3.8898 - val_loss: 4.5363 - val_r2: 0.6565 - val_mae: 4.5363\n",
            "Epoch 101/700\n",
            "74/74 [==============================] - 0s 4ms/step - loss: 3.8116 - r2: 0.7183 - mae: 3.8116 - val_loss: 4.0242 - val_r2: 0.7195 - val_mae: 4.0242\n",
            "Epoch 102/700\n",
            "74/74 [==============================] - 0s 5ms/step - loss: 3.7715 - r2: 0.7230 - mae: 3.7715 - val_loss: 4.5800 - val_r2: 0.6515 - val_mae: 4.5800\n",
            "Epoch 103/700\n",
            "74/74 [==============================] - 0s 5ms/step - loss: 3.8150 - r2: 0.7180 - mae: 3.8150 - val_loss: 4.2898 - val_r2: 0.6814 - val_mae: 4.2898\n",
            "Epoch 104/700\n",
            "74/74 [==============================] - 0s 5ms/step - loss: 3.8046 - r2: 0.7241 - mae: 3.8046 - val_loss: 3.9810 - val_r2: 0.7227 - val_mae: 3.9810\n",
            "Epoch 105/700\n",
            "74/74 [==============================] - 0s 4ms/step - loss: 3.7479 - r2: 0.7296 - mae: 3.7479 - val_loss: 4.0931 - val_r2: 0.7107 - val_mae: 4.0931\n",
            "Epoch 106/700\n",
            "74/74 [==============================] - 0s 5ms/step - loss: 3.7262 - r2: 0.7316 - mae: 3.7262 - val_loss: 4.6967 - val_r2: 0.6527 - val_mae: 4.6967\n",
            "Epoch 107/700\n",
            "74/74 [==============================] - 0s 5ms/step - loss: 3.7251 - r2: 0.7367 - mae: 3.7251 - val_loss: 4.2470 - val_r2: 0.6975 - val_mae: 4.2470\n",
            "Epoch 108/700\n",
            "74/74 [==============================] - 0s 5ms/step - loss: 3.6894 - r2: 0.7293 - mae: 3.6894 - val_loss: 4.2929 - val_r2: 0.6875 - val_mae: 4.2929\n",
            "Epoch 109/700\n",
            "74/74 [==============================] - 0s 4ms/step - loss: 3.7121 - r2: 0.7324 - mae: 3.7121 - val_loss: 4.3177 - val_r2: 0.6930 - val_mae: 4.3177\n",
            "Epoch 110/700\n",
            "74/74 [==============================] - 0s 5ms/step - loss: 3.6726 - r2: 0.7350 - mae: 3.6726 - val_loss: 4.3946 - val_r2: 0.6878 - val_mae: 4.3946\n",
            "Epoch 111/700\n",
            "74/74 [==============================] - 0s 5ms/step - loss: 3.7341 - r2: 0.7272 - mae: 3.7341 - val_loss: 4.1787 - val_r2: 0.7080 - val_mae: 4.1787\n",
            "Epoch 112/700\n",
            "74/74 [==============================] - 0s 5ms/step - loss: 3.6576 - r2: 0.7411 - mae: 3.6576 - val_loss: 3.9170 - val_r2: 0.7244 - val_mae: 3.9170\n",
            "Epoch 113/700\n",
            "74/74 [==============================] - 0s 5ms/step - loss: 3.6579 - r2: 0.7398 - mae: 3.6579 - val_loss: 4.2764 - val_r2: 0.6855 - val_mae: 4.2764\n",
            "Epoch 114/700\n",
            "74/74 [==============================] - 0s 4ms/step - loss: 3.7411 - r2: 0.7294 - mae: 3.7411 - val_loss: 3.8661 - val_r2: 0.7374 - val_mae: 3.8661\n",
            "Epoch 115/700\n",
            "74/74 [==============================] - 0s 5ms/step - loss: 3.6322 - r2: 0.7426 - mae: 3.6322 - val_loss: 4.4033 - val_r2: 0.6788 - val_mae: 4.4033\n",
            "Epoch 116/700\n",
            "74/74 [==============================] - 0s 5ms/step - loss: 3.5749 - r2: 0.7475 - mae: 3.5749 - val_loss: 4.1846 - val_r2: 0.6964 - val_mae: 4.1846\n",
            "Epoch 117/700\n",
            "74/74 [==============================] - 0s 5ms/step - loss: 3.6720 - r2: 0.7326 - mae: 3.6720 - val_loss: 3.8483 - val_r2: 0.7424 - val_mae: 3.8483\n",
            "Epoch 118/700\n",
            "74/74 [==============================] - 0s 5ms/step - loss: 3.5571 - r2: 0.7558 - mae: 3.5571 - val_loss: 4.1394 - val_r2: 0.7236 - val_mae: 4.1394\n",
            "Epoch 119/700\n",
            "74/74 [==============================] - 0s 5ms/step - loss: 3.5655 - r2: 0.7513 - mae: 3.5655 - val_loss: 4.1013 - val_r2: 0.7111 - val_mae: 4.1013\n",
            "Epoch 120/700\n",
            "74/74 [==============================] - 0s 5ms/step - loss: 3.6149 - r2: 0.7453 - mae: 3.6149 - val_loss: 4.3799 - val_r2: 0.6868 - val_mae: 4.3799\n",
            "Epoch 121/700\n",
            "74/74 [==============================] - 0s 4ms/step - loss: 3.5204 - r2: 0.7526 - mae: 3.5204 - val_loss: 4.0139 - val_r2: 0.7302 - val_mae: 4.0139\n",
            "Epoch 122/700\n",
            "74/74 [==============================] - 0s 5ms/step - loss: 3.5913 - r2: 0.7525 - mae: 3.5913 - val_loss: 4.4066 - val_r2: 0.6885 - val_mae: 4.4066\n",
            "Epoch 123/700\n",
            "74/74 [==============================] - 0s 5ms/step - loss: 3.5244 - r2: 0.7568 - mae: 3.5244 - val_loss: 4.0382 - val_r2: 0.7159 - val_mae: 4.0382\n",
            "Epoch 124/700\n",
            "74/74 [==============================] - 0s 5ms/step - loss: 3.5364 - r2: 0.7531 - mae: 3.5364 - val_loss: 3.9941 - val_r2: 0.7291 - val_mae: 3.9941\n",
            "Epoch 125/700\n",
            "74/74 [==============================] - 0s 5ms/step - loss: 3.5645 - r2: 0.7493 - mae: 3.5645 - val_loss: 3.8252 - val_r2: 0.7473 - val_mae: 3.8252\n",
            "Epoch 126/700\n",
            "74/74 [==============================] - 0s 4ms/step - loss: 3.5775 - r2: 0.7447 - mae: 3.5775 - val_loss: 3.6038 - val_r2: 0.7624 - val_mae: 3.6038\n",
            "Epoch 127/700\n",
            "74/74 [==============================] - 0s 5ms/step - loss: 3.4483 - r2: 0.7666 - mae: 3.4483 - val_loss: 3.5779 - val_r2: 0.7732 - val_mae: 3.5779\n",
            "Epoch 128/700\n",
            "74/74 [==============================] - 0s 5ms/step - loss: 3.5077 - r2: 0.7540 - mae: 3.5077 - val_loss: 4.2933 - val_r2: 0.6965 - val_mae: 4.2933\n",
            "Epoch 129/700\n",
            "74/74 [==============================] - 0s 4ms/step - loss: 3.5092 - r2: 0.7564 - mae: 3.5092 - val_loss: 3.9111 - val_r2: 0.7431 - val_mae: 3.9111\n",
            "Epoch 130/700\n",
            "74/74 [==============================] - 0s 5ms/step - loss: 3.4167 - r2: 0.7703 - mae: 3.4167 - val_loss: 3.9269 - val_r2: 0.7357 - val_mae: 3.9269\n",
            "Epoch 131/700\n",
            "74/74 [==============================] - 0s 5ms/step - loss: 3.4485 - r2: 0.7601 - mae: 3.4485 - val_loss: 3.6447 - val_r2: 0.7689 - val_mae: 3.6447\n",
            "Epoch 132/700\n",
            "74/74 [==============================] - 0s 5ms/step - loss: 3.5057 - r2: 0.7580 - mae: 3.5057 - val_loss: 3.6206 - val_r2: 0.7700 - val_mae: 3.6206\n",
            "Epoch 133/700\n",
            "74/74 [==============================] - 0s 5ms/step - loss: 3.3949 - r2: 0.7708 - mae: 3.3949 - val_loss: 3.9104 - val_r2: 0.7381 - val_mae: 3.9104\n",
            "Epoch 134/700\n",
            "74/74 [==============================] - 0s 5ms/step - loss: 3.4205 - r2: 0.7651 - mae: 3.4205 - val_loss: 3.7783 - val_r2: 0.7530 - val_mae: 3.7783\n",
            "Epoch 135/700\n",
            "74/74 [==============================] - 0s 5ms/step - loss: 3.3980 - r2: 0.7674 - mae: 3.3980 - val_loss: 3.6301 - val_r2: 0.7694 - val_mae: 3.6301\n",
            "Epoch 136/700\n",
            "74/74 [==============================] - 0s 5ms/step - loss: 3.3199 - r2: 0.7782 - mae: 3.3199 - val_loss: 3.7880 - val_r2: 0.7517 - val_mae: 3.7880\n",
            "Epoch 137/700\n",
            "74/74 [==============================] - 0s 4ms/step - loss: 3.3450 - r2: 0.7779 - mae: 3.3450 - val_loss: 3.7361 - val_r2: 0.7625 - val_mae: 3.7361\n",
            "Epoch 138/700\n",
            "74/74 [==============================] - 0s 5ms/step - loss: 3.3621 - r2: 0.7742 - mae: 3.3621 - val_loss: 3.8172 - val_r2: 0.7499 - val_mae: 3.8172\n",
            "Epoch 139/700\n",
            "74/74 [==============================] - 0s 5ms/step - loss: 3.3283 - r2: 0.7776 - mae: 3.3283 - val_loss: 4.1368 - val_r2: 0.7163 - val_mae: 4.1368\n",
            "Epoch 140/700\n",
            "74/74 [==============================] - 0s 5ms/step - loss: 3.2988 - r2: 0.7827 - mae: 3.2988 - val_loss: 3.9248 - val_r2: 0.7416 - val_mae: 3.9248\n",
            "Epoch 141/700\n",
            "74/74 [==============================] - 0s 5ms/step - loss: 3.2532 - r2: 0.7863 - mae: 3.2532 - val_loss: 3.6642 - val_r2: 0.7664 - val_mae: 3.6642\n",
            "Epoch 142/700\n",
            "74/74 [==============================] - 0s 5ms/step - loss: 3.3080 - r2: 0.7844 - mae: 3.3080 - val_loss: 3.8486 - val_r2: 0.7416 - val_mae: 3.8486\n",
            "Epoch 143/700\n",
            "74/74 [==============================] - 0s 5ms/step - loss: 3.2328 - r2: 0.7946 - mae: 3.2328 - val_loss: 3.8391 - val_r2: 0.7540 - val_mae: 3.8391\n",
            "Epoch 144/700\n",
            "74/74 [==============================] - 0s 4ms/step - loss: 3.2644 - r2: 0.7896 - mae: 3.2644 - val_loss: 3.9839 - val_r2: 0.7283 - val_mae: 3.9839\n",
            "Epoch 145/700\n",
            "74/74 [==============================] - 0s 5ms/step - loss: 3.2775 - r2: 0.7764 - mae: 3.2775 - val_loss: 3.9388 - val_r2: 0.7264 - val_mae: 3.9388\n",
            "Epoch 146/700\n",
            "74/74 [==============================] - 0s 4ms/step - loss: 3.3017 - r2: 0.7849 - mae: 3.3017 - val_loss: 3.8000 - val_r2: 0.7493 - val_mae: 3.8000\n",
            "Epoch 147/700\n",
            "74/74 [==============================] - 0s 5ms/step - loss: 3.2957 - r2: 0.7800 - mae: 3.2957 - val_loss: 3.5898 - val_r2: 0.7706 - val_mae: 3.5898\n",
            "Epoch 148/700\n",
            "74/74 [==============================] - 0s 5ms/step - loss: 3.1938 - r2: 0.7934 - mae: 3.1938 - val_loss: 3.3507 - val_r2: 0.7940 - val_mae: 3.3507\n",
            "Epoch 149/700\n",
            "74/74 [==============================] - 0s 4ms/step - loss: 3.2095 - r2: 0.7947 - mae: 3.2095 - val_loss: 3.5210 - val_r2: 0.7780 - val_mae: 3.5210\n",
            "Epoch 150/700\n",
            "74/74 [==============================] - 0s 5ms/step - loss: 3.2093 - r2: 0.7921 - mae: 3.2093 - val_loss: 3.6866 - val_r2: 0.7665 - val_mae: 3.6866\n",
            "Epoch 151/700\n",
            "74/74 [==============================] - 0s 5ms/step - loss: 3.1708 - r2: 0.7942 - mae: 3.1708 - val_loss: 3.6360 - val_r2: 0.7683 - val_mae: 3.6360\n",
            "Epoch 152/700\n",
            "74/74 [==============================] - 0s 5ms/step - loss: 3.2572 - r2: 0.7876 - mae: 3.2572 - val_loss: 3.8589 - val_r2: 0.7421 - val_mae: 3.8589\n",
            "Epoch 153/700\n",
            "74/74 [==============================] - 0s 5ms/step - loss: 3.1469 - r2: 0.8035 - mae: 3.1469 - val_loss: 3.5944 - val_r2: 0.7753 - val_mae: 3.5944\n",
            "Epoch 154/700\n",
            "74/74 [==============================] - 0s 5ms/step - loss: 3.1836 - r2: 0.7895 - mae: 3.1836 - val_loss: 3.8141 - val_r2: 0.7542 - val_mae: 3.8141\n",
            "Epoch 155/700\n",
            "74/74 [==============================] - 0s 5ms/step - loss: 3.1414 - r2: 0.8017 - mae: 3.1414 - val_loss: 3.6268 - val_r2: 0.7666 - val_mae: 3.6268\n",
            "Epoch 156/700\n",
            "74/74 [==============================] - 0s 5ms/step - loss: 3.1998 - r2: 0.7909 - mae: 3.1998 - val_loss: 3.8671 - val_r2: 0.7466 - val_mae: 3.8671\n",
            "Epoch 157/700\n",
            "74/74 [==============================] - 0s 5ms/step - loss: 3.1792 - r2: 0.7961 - mae: 3.1792 - val_loss: 3.5840 - val_r2: 0.7673 - val_mae: 3.5840\n",
            "Epoch 158/700\n",
            "74/74 [==============================] - 0s 4ms/step - loss: 3.1576 - r2: 0.7962 - mae: 3.1576 - val_loss: 3.6673 - val_r2: 0.7657 - val_mae: 3.6673\n",
            "Epoch 159/700\n",
            "74/74 [==============================] - 0s 5ms/step - loss: 3.1820 - r2: 0.7966 - mae: 3.1820 - val_loss: 3.4818 - val_r2: 0.7826 - val_mae: 3.4818\n",
            "Epoch 160/700\n",
            "74/74 [==============================] - 0s 5ms/step - loss: 3.1419 - r2: 0.7956 - mae: 3.1419 - val_loss: 3.3748 - val_r2: 0.7837 - val_mae: 3.3748\n",
            "Epoch 161/700\n",
            "74/74 [==============================] - 0s 5ms/step - loss: 3.0985 - r2: 0.8007 - mae: 3.0985 - val_loss: 3.8293 - val_r2: 0.7566 - val_mae: 3.8293\n",
            "Epoch 162/700\n",
            "74/74 [==============================] - 0s 5ms/step - loss: 3.1138 - r2: 0.8050 - mae: 3.1138 - val_loss: 3.3222 - val_r2: 0.7990 - val_mae: 3.3222\n",
            "Epoch 163/700\n",
            "74/74 [==============================] - 0s 5ms/step - loss: 3.1089 - r2: 0.7997 - mae: 3.1089 - val_loss: 3.5488 - val_r2: 0.7802 - val_mae: 3.5488\n",
            "Epoch 164/700\n",
            "74/74 [==============================] - 0s 5ms/step - loss: 3.0962 - r2: 0.8028 - mae: 3.0962 - val_loss: 3.7354 - val_r2: 0.7640 - val_mae: 3.7354\n",
            "Epoch 165/700\n",
            "74/74 [==============================] - 0s 5ms/step - loss: 3.1271 - r2: 0.7993 - mae: 3.1271 - val_loss: 3.9222 - val_r2: 0.7481 - val_mae: 3.9222\n",
            "Epoch 166/700\n",
            "74/74 [==============================] - 0s 5ms/step - loss: 3.0381 - r2: 0.8093 - mae: 3.0381 - val_loss: 3.5023 - val_r2: 0.7885 - val_mae: 3.5023\n",
            "Epoch 167/700\n",
            "74/74 [==============================] - 0s 5ms/step - loss: 3.0662 - r2: 0.8132 - mae: 3.0662 - val_loss: 3.6235 - val_r2: 0.7825 - val_mae: 3.6235\n",
            "Epoch 168/700\n",
            "74/74 [==============================] - 0s 5ms/step - loss: 3.0404 - r2: 0.8121 - mae: 3.0404 - val_loss: 3.3734 - val_r2: 0.8001 - val_mae: 3.3734\n",
            "Epoch 169/700\n",
            "74/74 [==============================] - 0s 5ms/step - loss: 2.9881 - r2: 0.8210 - mae: 2.9881 - val_loss: 3.6440 - val_r2: 0.7752 - val_mae: 3.6440\n",
            "Epoch 170/700\n",
            "74/74 [==============================] - 0s 5ms/step - loss: 3.0113 - r2: 0.8083 - mae: 3.0113 - val_loss: 3.7701 - val_r2: 0.7632 - val_mae: 3.7701\n",
            "Epoch 171/700\n",
            "74/74 [==============================] - 0s 4ms/step - loss: 2.9755 - r2: 0.8120 - mae: 2.9755 - val_loss: 3.7135 - val_r2: 0.7687 - val_mae: 3.7135\n",
            "Epoch 172/700\n",
            "74/74 [==============================] - 0s 5ms/step - loss: 3.0305 - r2: 0.8134 - mae: 3.0305 - val_loss: 3.4625 - val_r2: 0.7948 - val_mae: 3.4625\n",
            "Epoch 173/700\n",
            "74/74 [==============================] - 0s 5ms/step - loss: 2.9855 - r2: 0.8155 - mae: 2.9855 - val_loss: 3.8055 - val_r2: 0.7622 - val_mae: 3.8055\n",
            "Epoch 174/700\n",
            "74/74 [==============================] - 0s 5ms/step - loss: 2.9436 - r2: 0.8246 - mae: 2.9436 - val_loss: 3.3173 - val_r2: 0.8032 - val_mae: 3.3173\n",
            "Epoch 175/700\n",
            "74/74 [==============================] - 0s 4ms/step - loss: 2.9515 - r2: 0.8242 - mae: 2.9515 - val_loss: 3.7386 - val_r2: 0.7626 - val_mae: 3.7386\n",
            "Epoch 176/700\n",
            "74/74 [==============================] - 0s 5ms/step - loss: 2.9230 - r2: 0.8189 - mae: 2.9230 - val_loss: 3.8365 - val_r2: 0.7454 - val_mae: 3.8365\n",
            "Epoch 177/700\n",
            "74/74 [==============================] - 0s 5ms/step - loss: 3.0133 - r2: 0.8128 - mae: 3.0133 - val_loss: 3.4323 - val_r2: 0.7949 - val_mae: 3.4323\n",
            "Epoch 178/700\n",
            "74/74 [==============================] - 0s 5ms/step - loss: 2.9070 - r2: 0.8273 - mae: 2.9070 - val_loss: 3.4152 - val_r2: 0.7959 - val_mae: 3.4152\n",
            "Epoch 179/700\n",
            "74/74 [==============================] - 0s 5ms/step - loss: 2.8875 - r2: 0.8268 - mae: 2.8875 - val_loss: 3.3839 - val_r2: 0.7965 - val_mae: 3.3839\n",
            "Epoch 180/700\n",
            "74/74 [==============================] - 0s 5ms/step - loss: 2.9343 - r2: 0.8211 - mae: 2.9343 - val_loss: 3.2173 - val_r2: 0.8093 - val_mae: 3.2173\n",
            "Epoch 181/700\n",
            "74/74 [==============================] - 0s 5ms/step - loss: 2.9082 - r2: 0.8263 - mae: 2.9082 - val_loss: 3.4122 - val_r2: 0.7947 - val_mae: 3.4122\n",
            "Epoch 182/700\n",
            "74/74 [==============================] - 0s 5ms/step - loss: 2.8787 - r2: 0.8259 - mae: 2.8787 - val_loss: 3.5808 - val_r2: 0.7834 - val_mae: 3.5808\n",
            "Epoch 183/700\n",
            "74/74 [==============================] - 0s 5ms/step - loss: 2.8811 - r2: 0.8325 - mae: 2.8811 - val_loss: 3.5459 - val_r2: 0.7844 - val_mae: 3.5459\n",
            "Epoch 184/700\n",
            "74/74 [==============================] - 0s 5ms/step - loss: 2.8743 - r2: 0.8274 - mae: 2.8743 - val_loss: 3.3197 - val_r2: 0.8037 - val_mae: 3.3197\n",
            "Epoch 185/700\n",
            "74/74 [==============================] - 0s 5ms/step - loss: 2.9085 - r2: 0.8227 - mae: 2.9085 - val_loss: 3.7432 - val_r2: 0.7653 - val_mae: 3.7432\n",
            "Epoch 186/700\n",
            "74/74 [==============================] - 0s 5ms/step - loss: 2.8551 - r2: 0.8297 - mae: 2.8551 - val_loss: 3.4689 - val_r2: 0.7906 - val_mae: 3.4689\n",
            "Epoch 187/700\n",
            "74/74 [==============================] - 0s 5ms/step - loss: 2.8346 - r2: 0.8314 - mae: 2.8346 - val_loss: 3.6351 - val_r2: 0.7725 - val_mae: 3.6351\n",
            "Epoch 188/700\n",
            "74/74 [==============================] - 0s 4ms/step - loss: 2.8678 - r2: 0.8252 - mae: 2.8678 - val_loss: 3.4455 - val_r2: 0.7832 - val_mae: 3.4455\n",
            "Epoch 189/700\n",
            "74/74 [==============================] - 0s 5ms/step - loss: 2.8659 - r2: 0.8274 - mae: 2.8659 - val_loss: 3.5650 - val_r2: 0.7850 - val_mae: 3.5650\n",
            "Epoch 190/700\n",
            "74/74 [==============================] - 0s 5ms/step - loss: 2.8124 - r2: 0.8281 - mae: 2.8124 - val_loss: 3.5159 - val_r2: 0.7864 - val_mae: 3.5159\n",
            "Epoch 191/700\n",
            "74/74 [==============================] - 0s 5ms/step - loss: 2.8689 - r2: 0.8247 - mae: 2.8689 - val_loss: 3.4519 - val_r2: 0.7866 - val_mae: 3.4519\n",
            "Epoch 192/700\n",
            "74/74 [==============================] - 0s 5ms/step - loss: 2.8324 - r2: 0.8326 - mae: 2.8324 - val_loss: 3.4383 - val_r2: 0.7891 - val_mae: 3.4383\n",
            "Epoch 193/700\n",
            "74/74 [==============================] - 0s 5ms/step - loss: 2.8236 - r2: 0.8285 - mae: 2.8236 - val_loss: 3.3774 - val_r2: 0.7971 - val_mae: 3.3774\n",
            "Epoch 194/700\n",
            "74/74 [==============================] - 0s 5ms/step - loss: 2.7636 - r2: 0.8384 - mae: 2.7636 - val_loss: 3.5330 - val_r2: 0.7825 - val_mae: 3.5330\n",
            "Epoch 195/700\n",
            "74/74 [==============================] - 0s 5ms/step - loss: 2.8452 - r2: 0.8275 - mae: 2.8452 - val_loss: 3.5888 - val_r2: 0.7823 - val_mae: 3.5888\n",
            "Epoch 196/700\n",
            "74/74 [==============================] - 0s 4ms/step - loss: 2.8469 - r2: 0.8288 - mae: 2.8469 - val_loss: 3.9568 - val_r2: 0.7447 - val_mae: 3.9568\n",
            "Epoch 197/700\n",
            "74/74 [==============================] - 0s 5ms/step - loss: 2.8033 - r2: 0.8369 - mae: 2.8033 - val_loss: 3.5149 - val_r2: 0.7901 - val_mae: 3.5149\n",
            "Epoch 198/700\n",
            "74/74 [==============================] - 0s 5ms/step - loss: 2.8059 - r2: 0.8346 - mae: 2.8059 - val_loss: 3.6418 - val_r2: 0.7758 - val_mae: 3.6418\n",
            "Epoch 199/700\n",
            "74/74 [==============================] - 0s 5ms/step - loss: 2.7985 - r2: 0.8348 - mae: 2.7985 - val_loss: 3.3749 - val_r2: 0.7942 - val_mae: 3.3749\n",
            "Epoch 200/700\n",
            "74/74 [==============================] - 0s 4ms/step - loss: 2.7100 - r2: 0.8381 - mae: 2.7100 - val_loss: 3.2908 - val_r2: 0.8059 - val_mae: 3.2908\n",
            "Epoch 201/700\n",
            "74/74 [==============================] - 0s 4ms/step - loss: 2.8194 - r2: 0.8329 - mae: 2.8194 - val_loss: 3.3403 - val_r2: 0.8063 - val_mae: 3.3403\n",
            "Epoch 202/700\n",
            "74/74 [==============================] - 0s 5ms/step - loss: 2.7183 - r2: 0.8410 - mae: 2.7183 - val_loss: 3.5201 - val_r2: 0.7889 - val_mae: 3.5201\n",
            "Epoch 203/700\n",
            "74/74 [==============================] - 0s 5ms/step - loss: 2.7061 - r2: 0.8479 - mae: 2.7061 - val_loss: 3.3378 - val_r2: 0.7972 - val_mae: 3.3378\n",
            "Epoch 204/700\n",
            "74/74 [==============================] - 0s 5ms/step - loss: 2.7623 - r2: 0.8406 - mae: 2.7623 - val_loss: 3.0859 - val_r2: 0.8260 - val_mae: 3.0859\n",
            "Epoch 205/700\n",
            "74/74 [==============================] - 0s 5ms/step - loss: 2.7343 - r2: 0.8384 - mae: 2.7343 - val_loss: 3.2895 - val_r2: 0.8118 - val_mae: 3.2895\n",
            "Epoch 206/700\n",
            "74/74 [==============================] - 0s 5ms/step - loss: 2.7263 - r2: 0.8425 - mae: 2.7263 - val_loss: 3.4815 - val_r2: 0.7962 - val_mae: 3.4815\n",
            "Epoch 207/700\n",
            "74/74 [==============================] - 0s 5ms/step - loss: 2.6741 - r2: 0.8459 - mae: 2.6741 - val_loss: 3.3571 - val_r2: 0.8044 - val_mae: 3.3571\n",
            "Epoch 208/700\n",
            "74/74 [==============================] - 0s 5ms/step - loss: 2.7530 - r2: 0.8382 - mae: 2.7530 - val_loss: 3.5017 - val_r2: 0.7914 - val_mae: 3.5017\n",
            "Epoch 209/700\n",
            "74/74 [==============================] - 0s 5ms/step - loss: 2.7264 - r2: 0.8400 - mae: 2.7264 - val_loss: 3.4594 - val_r2: 0.7842 - val_mae: 3.4594\n",
            "Epoch 210/700\n",
            "74/74 [==============================] - 0s 5ms/step - loss: 2.7578 - r2: 0.8365 - mae: 2.7578 - val_loss: 3.2635 - val_r2: 0.8066 - val_mae: 3.2635\n",
            "Epoch 211/700\n",
            "74/74 [==============================] - 0s 5ms/step - loss: 2.7281 - r2: 0.8446 - mae: 2.7281 - val_loss: 3.2388 - val_r2: 0.8089 - val_mae: 3.2388\n",
            "Epoch 212/700\n",
            "74/74 [==============================] - 0s 5ms/step - loss: 2.7074 - r2: 0.8423 - mae: 2.7074 - val_loss: 3.2738 - val_r2: 0.8048 - val_mae: 3.2738\n",
            "Epoch 213/700\n",
            "74/74 [==============================] - 0s 5ms/step - loss: 2.6553 - r2: 0.8523 - mae: 2.6553 - val_loss: 3.1919 - val_r2: 0.8152 - val_mae: 3.1919\n",
            "Epoch 214/700\n",
            "74/74 [==============================] - 0s 5ms/step - loss: 2.6630 - r2: 0.8491 - mae: 2.6630 - val_loss: 3.3258 - val_r2: 0.8012 - val_mae: 3.3258\n",
            "Epoch 215/700\n",
            "74/74 [==============================] - 0s 5ms/step - loss: 2.7103 - r2: 0.8421 - mae: 2.7103 - val_loss: 3.1833 - val_r2: 0.8190 - val_mae: 3.1833\n",
            "Epoch 216/700\n",
            "74/74 [==============================] - 0s 5ms/step - loss: 2.7158 - r2: 0.8401 - mae: 2.7158 - val_loss: 3.2904 - val_r2: 0.8121 - val_mae: 3.2904\n",
            "Epoch 217/700\n",
            "74/74 [==============================] - 0s 5ms/step - loss: 2.6503 - r2: 0.8519 - mae: 2.6503 - val_loss: 3.2757 - val_r2: 0.8090 - val_mae: 3.2757\n",
            "Epoch 218/700\n",
            "74/74 [==============================] - 0s 5ms/step - loss: 2.7006 - r2: 0.8445 - mae: 2.7006 - val_loss: 3.2978 - val_r2: 0.8034 - val_mae: 3.2978\n",
            "Epoch 219/700\n",
            "74/74 [==============================] - 0s 5ms/step - loss: 2.6388 - r2: 0.8508 - mae: 2.6388 - val_loss: 3.4767 - val_r2: 0.7986 - val_mae: 3.4767\n",
            "Epoch 220/700\n",
            "74/74 [==============================] - 0s 5ms/step - loss: 2.6866 - r2: 0.8445 - mae: 2.6866 - val_loss: 3.3326 - val_r2: 0.7950 - val_mae: 3.3326\n",
            "Epoch 221/700\n",
            "74/74 [==============================] - 0s 5ms/step - loss: 2.7032 - r2: 0.8438 - mae: 2.7032 - val_loss: 3.4027 - val_r2: 0.7871 - val_mae: 3.4027\n",
            "Epoch 222/700\n",
            "74/74 [==============================] - 0s 5ms/step - loss: 2.6458 - r2: 0.8450 - mae: 2.6458 - val_loss: 3.1865 - val_r2: 0.8163 - val_mae: 3.1865\n",
            "Epoch 223/700\n",
            "74/74 [==============================] - 0s 5ms/step - loss: 2.6416 - r2: 0.8429 - mae: 2.6416 - val_loss: 3.2061 - val_r2: 0.8132 - val_mae: 3.2061\n",
            "Epoch 224/700\n",
            "74/74 [==============================] - 0s 5ms/step - loss: 2.6840 - r2: 0.8416 - mae: 2.6840 - val_loss: 3.2881 - val_r2: 0.8134 - val_mae: 3.2881\n",
            "Epoch 225/700\n",
            "74/74 [==============================] - 0s 5ms/step - loss: 2.5892 - r2: 0.8561 - mae: 2.5892 - val_loss: 3.4670 - val_r2: 0.7875 - val_mae: 3.4670\n",
            "Epoch 226/700\n",
            "74/74 [==============================] - 0s 5ms/step - loss: 2.6472 - r2: 0.8512 - mae: 2.6472 - val_loss: 3.5550 - val_r2: 0.7893 - val_mae: 3.5550\n",
            "Epoch 227/700\n",
            "74/74 [==============================] - 0s 5ms/step - loss: 2.6116 - r2: 0.8551 - mae: 2.6116 - val_loss: 3.2802 - val_r2: 0.8013 - val_mae: 3.2802\n",
            "Epoch 228/700\n",
            "74/74 [==============================] - 0s 5ms/step - loss: 2.6554 - r2: 0.8469 - mae: 2.6554 - val_loss: 3.2710 - val_r2: 0.8132 - val_mae: 3.2710\n",
            "Epoch 229/700\n",
            "74/74 [==============================] - 0s 5ms/step - loss: 2.6156 - r2: 0.8504 - mae: 2.6156 - val_loss: 3.1740 - val_r2: 0.8145 - val_mae: 3.1740\n",
            "Epoch 230/700\n",
            "74/74 [==============================] - 0s 5ms/step - loss: 2.5903 - r2: 0.8509 - mae: 2.5903 - val_loss: 3.2737 - val_r2: 0.8143 - val_mae: 3.2737\n",
            "Epoch 231/700\n",
            "74/74 [==============================] - 0s 5ms/step - loss: 2.5768 - r2: 0.8590 - mae: 2.5768 - val_loss: 3.4904 - val_r2: 0.7849 - val_mae: 3.4904\n",
            "Epoch 232/700\n",
            "74/74 [==============================] - 0s 5ms/step - loss: 2.5630 - r2: 0.8573 - mae: 2.5630 - val_loss: 2.8674 - val_r2: 0.8454 - val_mae: 2.8674\n",
            "Epoch 233/700\n",
            "74/74 [==============================] - 0s 5ms/step - loss: 2.5485 - r2: 0.8629 - mae: 2.5485 - val_loss: 3.1002 - val_r2: 0.8195 - val_mae: 3.1002\n",
            "Epoch 234/700\n",
            "74/74 [==============================] - 0s 5ms/step - loss: 2.5996 - r2: 0.8519 - mae: 2.5996 - val_loss: 3.2704 - val_r2: 0.8053 - val_mae: 3.2704\n",
            "Epoch 235/700\n",
            "74/74 [==============================] - 0s 5ms/step - loss: 2.6084 - r2: 0.8450 - mae: 2.6084 - val_loss: 3.3838 - val_r2: 0.8026 - val_mae: 3.3838\n",
            "Epoch 236/700\n",
            "74/74 [==============================] - 0s 5ms/step - loss: 2.5440 - r2: 0.8560 - mae: 2.5440 - val_loss: 3.1756 - val_r2: 0.8164 - val_mae: 3.1756\n",
            "Epoch 237/700\n",
            "74/74 [==============================] - 0s 5ms/step - loss: 2.5713 - r2: 0.8559 - mae: 2.5713 - val_loss: 3.1062 - val_r2: 0.8173 - val_mae: 3.1062\n",
            "Epoch 238/700\n",
            "74/74 [==============================] - 0s 5ms/step - loss: 2.6028 - r2: 0.8523 - mae: 2.6028 - val_loss: 3.4696 - val_r2: 0.7814 - val_mae: 3.4696\n",
            "Epoch 239/700\n",
            "74/74 [==============================] - 0s 5ms/step - loss: 2.5292 - r2: 0.8623 - mae: 2.5292 - val_loss: 3.1059 - val_r2: 0.8151 - val_mae: 3.1059\n",
            "Epoch 240/700\n",
            "74/74 [==============================] - 0s 5ms/step - loss: 2.5665 - r2: 0.8484 - mae: 2.5665 - val_loss: 3.2342 - val_r2: 0.8090 - val_mae: 3.2342\n",
            "Epoch 241/700\n",
            "74/74 [==============================] - 0s 5ms/step - loss: 2.5882 - r2: 0.8560 - mae: 2.5882 - val_loss: 3.2871 - val_r2: 0.8063 - val_mae: 3.2871\n",
            "Epoch 242/700\n",
            "74/74 [==============================] - 0s 5ms/step - loss: 2.5743 - r2: 0.8553 - mae: 2.5743 - val_loss: 3.0967 - val_r2: 0.8201 - val_mae: 3.0967\n",
            "Epoch 243/700\n",
            "74/74 [==============================] - 0s 5ms/step - loss: 2.5605 - r2: 0.8543 - mae: 2.5605 - val_loss: 3.0928 - val_r2: 0.8224 - val_mae: 3.0928\n",
            "Epoch 244/700\n",
            "74/74 [==============================] - 0s 6ms/step - loss: 2.5359 - r2: 0.8578 - mae: 2.5359 - val_loss: 3.0209 - val_r2: 0.8333 - val_mae: 3.0209\n",
            "Epoch 245/700\n",
            "74/74 [==============================] - 0s 5ms/step - loss: 2.5172 - r2: 0.8627 - mae: 2.5172 - val_loss: 3.2203 - val_r2: 0.8126 - val_mae: 3.2203\n",
            "Epoch 246/700\n",
            "74/74 [==============================] - 0s 5ms/step - loss: 2.6349 - r2: 0.8395 - mae: 2.6349 - val_loss: 2.8396 - val_r2: 0.8325 - val_mae: 2.8396\n",
            "Epoch 247/700\n",
            "74/74 [==============================] - 0s 5ms/step - loss: 2.5558 - r2: 0.8565 - mae: 2.5558 - val_loss: 2.9824 - val_r2: 0.8311 - val_mae: 2.9824\n",
            "Epoch 248/700\n",
            "74/74 [==============================] - 0s 5ms/step - loss: 2.5105 - r2: 0.8649 - mae: 2.5105 - val_loss: 3.1958 - val_r2: 0.8134 - val_mae: 3.1958\n",
            "Epoch 249/700\n",
            "74/74 [==============================] - 0s 5ms/step - loss: 2.5034 - r2: 0.8632 - mae: 2.5034 - val_loss: 2.9446 - val_r2: 0.8350 - val_mae: 2.9446\n",
            "Epoch 250/700\n",
            "74/74 [==============================] - 0s 5ms/step - loss: 2.4635 - r2: 0.8664 - mae: 2.4635 - val_loss: 3.0605 - val_r2: 0.8130 - val_mae: 3.0605\n",
            "Epoch 251/700\n",
            "74/74 [==============================] - 0s 5ms/step - loss: 2.4694 - r2: 0.8582 - mae: 2.4694 - val_loss: 3.0211 - val_r2: 0.8235 - val_mae: 3.0211\n",
            "Epoch 252/700\n",
            "74/74 [==============================] - 0s 5ms/step - loss: 2.4952 - r2: 0.8601 - mae: 2.4952 - val_loss: 2.9132 - val_r2: 0.8393 - val_mae: 2.9132\n",
            "Epoch 253/700\n",
            "74/74 [==============================] - 0s 5ms/step - loss: 2.4473 - r2: 0.8670 - mae: 2.4473 - val_loss: 3.2112 - val_r2: 0.8209 - val_mae: 3.2112\n",
            "Epoch 254/700\n",
            "74/74 [==============================] - 0s 5ms/step - loss: 2.4820 - r2: 0.8607 - mae: 2.4820 - val_loss: 3.1111 - val_r2: 0.8224 - val_mae: 3.1111\n",
            "Epoch 255/700\n",
            "74/74 [==============================] - 0s 5ms/step - loss: 2.4639 - r2: 0.8642 - mae: 2.4639 - val_loss: 3.0279 - val_r2: 0.8234 - val_mae: 3.0279\n",
            "Epoch 256/700\n",
            "74/74 [==============================] - 0s 5ms/step - loss: 2.4477 - r2: 0.8672 - mae: 2.4477 - val_loss: 3.1215 - val_r2: 0.8203 - val_mae: 3.1215\n",
            "Epoch 257/700\n",
            "74/74 [==============================] - 0s 5ms/step - loss: 2.4308 - r2: 0.8685 - mae: 2.4308 - val_loss: 3.0490 - val_r2: 0.8275 - val_mae: 3.0490\n",
            "Epoch 258/700\n",
            "74/74 [==============================] - 0s 5ms/step - loss: 2.5016 - r2: 0.8576 - mae: 2.5016 - val_loss: 3.1143 - val_r2: 0.8201 - val_mae: 3.1143\n",
            "Epoch 259/700\n",
            "74/74 [==============================] - 0s 5ms/step - loss: 2.4560 - r2: 0.8619 - mae: 2.4560 - val_loss: 3.0381 - val_r2: 0.8213 - val_mae: 3.0381\n",
            "Epoch 260/700\n",
            "74/74 [==============================] - 0s 5ms/step - loss: 2.4220 - r2: 0.8661 - mae: 2.4220 - val_loss: 2.9028 - val_r2: 0.8388 - val_mae: 2.9028\n",
            "Epoch 261/700\n",
            "74/74 [==============================] - 0s 5ms/step - loss: 2.4152 - r2: 0.8661 - mae: 2.4152 - val_loss: 3.0084 - val_r2: 0.8305 - val_mae: 3.0084\n",
            "Epoch 262/700\n",
            "74/74 [==============================] - 0s 5ms/step - loss: 2.4779 - r2: 0.8571 - mae: 2.4779 - val_loss: 2.9538 - val_r2: 0.8161 - val_mae: 2.9538\n",
            "Epoch 263/700\n",
            "74/74 [==============================] - 0s 5ms/step - loss: 2.4566 - r2: 0.8566 - mae: 2.4566 - val_loss: 3.1001 - val_r2: 0.8218 - val_mae: 3.1001\n",
            "Epoch 264/700\n",
            "74/74 [==============================] - 0s 5ms/step - loss: 2.4224 - r2: 0.8679 - mae: 2.4224 - val_loss: 2.8136 - val_r2: 0.8386 - val_mae: 2.8136\n",
            "Epoch 265/700\n",
            "74/74 [==============================] - 0s 5ms/step - loss: 2.3993 - r2: 0.8720 - mae: 2.3993 - val_loss: 3.1641 - val_r2: 0.8164 - val_mae: 3.1641\n",
            "Epoch 266/700\n",
            "74/74 [==============================] - 0s 5ms/step - loss: 2.4043 - r2: 0.8708 - mae: 2.4043 - val_loss: 3.1921 - val_r2: 0.8087 - val_mae: 3.1921\n",
            "Epoch 267/700\n",
            "74/74 [==============================] - 0s 5ms/step - loss: 2.3702 - r2: 0.8754 - mae: 2.3702 - val_loss: 3.0074 - val_r2: 0.8320 - val_mae: 3.0074\n",
            "Epoch 268/700\n",
            "74/74 [==============================] - 0s 5ms/step - loss: 2.4386 - r2: 0.8651 - mae: 2.4386 - val_loss: 3.0664 - val_r2: 0.8161 - val_mae: 3.0664\n",
            "Epoch 269/700\n",
            "74/74 [==============================] - 0s 5ms/step - loss: 2.3777 - r2: 0.8696 - mae: 2.3777 - val_loss: 3.0732 - val_r2: 0.8266 - val_mae: 3.0732\n",
            "Epoch 270/700\n",
            "74/74 [==============================] - 0s 5ms/step - loss: 2.3349 - r2: 0.8756 - mae: 2.3349 - val_loss: 2.9161 - val_r2: 0.8368 - val_mae: 2.9161\n",
            "Epoch 271/700\n",
            "74/74 [==============================] - 0s 5ms/step - loss: 2.3949 - r2: 0.8694 - mae: 2.3949 - val_loss: 3.0717 - val_r2: 0.8224 - val_mae: 3.0717\n",
            "Epoch 272/700\n",
            "74/74 [==============================] - 0s 5ms/step - loss: 2.4027 - r2: 0.8682 - mae: 2.4027 - val_loss: 3.1477 - val_r2: 0.8007 - val_mae: 3.1477\n",
            "Epoch 273/700\n",
            "74/74 [==============================] - 0s 5ms/step - loss: 2.4307 - r2: 0.8650 - mae: 2.4307 - val_loss: 2.8705 - val_r2: 0.8397 - val_mae: 2.8705\n",
            "Epoch 274/700\n",
            "74/74 [==============================] - 0s 5ms/step - loss: 2.3135 - r2: 0.8748 - mae: 2.3135 - val_loss: 3.1350 - val_r2: 0.8234 - val_mae: 3.1350\n",
            "Epoch 275/700\n",
            "74/74 [==============================] - 0s 5ms/step - loss: 2.3543 - r2: 0.8687 - mae: 2.3543 - val_loss: 2.9626 - val_r2: 0.8364 - val_mae: 2.9626\n",
            "Epoch 276/700\n",
            "74/74 [==============================] - 0s 5ms/step - loss: 2.3944 - r2: 0.8713 - mae: 2.3944 - val_loss: 3.3341 - val_r2: 0.8101 - val_mae: 3.3341\n",
            "Epoch 277/700\n",
            "74/74 [==============================] - 0s 5ms/step - loss: 2.4142 - r2: 0.8650 - mae: 2.4142 - val_loss: 2.8988 - val_r2: 0.8363 - val_mae: 2.8988\n",
            "Epoch 278/700\n",
            "74/74 [==============================] - 0s 5ms/step - loss: 2.3294 - r2: 0.8798 - mae: 2.3294 - val_loss: 2.9365 - val_r2: 0.8307 - val_mae: 2.9365\n",
            "Epoch 279/700\n",
            "74/74 [==============================] - 0s 5ms/step - loss: 2.3947 - r2: 0.8687 - mae: 2.3947 - val_loss: 3.0966 - val_r2: 0.8205 - val_mae: 3.0966\n",
            "Epoch 280/700\n",
            "74/74 [==============================] - 0s 5ms/step - loss: 2.3598 - r2: 0.8755 - mae: 2.3598 - val_loss: 3.0550 - val_r2: 0.8298 - val_mae: 3.0550\n",
            "Epoch 281/700\n",
            "74/74 [==============================] - 0s 5ms/step - loss: 2.3347 - r2: 0.8732 - mae: 2.3347 - val_loss: 2.9046 - val_r2: 0.8354 - val_mae: 2.9046\n",
            "Epoch 282/700\n",
            "74/74 [==============================] - 0s 5ms/step - loss: 2.3660 - r2: 0.8661 - mae: 2.3660 - val_loss: 3.2152 - val_r2: 0.8016 - val_mae: 3.2152\n",
            "Epoch 283/700\n",
            "74/74 [==============================] - 0s 5ms/step - loss: 2.2923 - r2: 0.8803 - mae: 2.2923 - val_loss: 3.0256 - val_r2: 0.8275 - val_mae: 3.0256\n",
            "Epoch 284/700\n",
            "74/74 [==============================] - 0s 5ms/step - loss: 2.3927 - r2: 0.8655 - mae: 2.3927 - val_loss: 3.0550 - val_r2: 0.8192 - val_mae: 3.0550\n",
            "Epoch 285/700\n",
            "74/74 [==============================] - 0s 5ms/step - loss: 2.3309 - r2: 0.8758 - mae: 2.3309 - val_loss: 3.1685 - val_r2: 0.8182 - val_mae: 3.1685\n",
            "Epoch 286/700\n",
            "74/74 [==============================] - 0s 5ms/step - loss: 2.2984 - r2: 0.8797 - mae: 2.2984 - val_loss: 3.0891 - val_r2: 0.8190 - val_mae: 3.0891\n",
            "Epoch 287/700\n",
            "74/74 [==============================] - 0s 5ms/step - loss: 2.3200 - r2: 0.8761 - mae: 2.3200 - val_loss: 2.7748 - val_r2: 0.8386 - val_mae: 2.7748\n",
            "Epoch 288/700\n",
            "74/74 [==============================] - 0s 5ms/step - loss: 2.3305 - r2: 0.8729 - mae: 2.3305 - val_loss: 2.9026 - val_r2: 0.8374 - val_mae: 2.9026\n",
            "Epoch 289/700\n",
            "74/74 [==============================] - 0s 5ms/step - loss: 2.3481 - r2: 0.8705 - mae: 2.3481 - val_loss: 2.9085 - val_r2: 0.8353 - val_mae: 2.9085\n",
            "Epoch 290/700\n",
            "74/74 [==============================] - 0s 5ms/step - loss: 2.2353 - r2: 0.8874 - mae: 2.2353 - val_loss: 3.2683 - val_r2: 0.8084 - val_mae: 3.2683\n",
            "Epoch 291/700\n",
            "74/74 [==============================] - 0s 5ms/step - loss: 2.2978 - r2: 0.8759 - mae: 2.2978 - val_loss: 2.9772 - val_r2: 0.8357 - val_mae: 2.9772\n",
            "Epoch 292/700\n",
            "74/74 [==============================] - 0s 5ms/step - loss: 2.2953 - r2: 0.8805 - mae: 2.2953 - val_loss: 3.0787 - val_r2: 0.8295 - val_mae: 3.0787\n",
            "Epoch 293/700\n",
            "74/74 [==============================] - 0s 5ms/step - loss: 2.2503 - r2: 0.8803 - mae: 2.2503 - val_loss: 2.8990 - val_r2: 0.8349 - val_mae: 2.8990\n",
            "Epoch 294/700\n",
            "74/74 [==============================] - 0s 5ms/step - loss: 2.3055 - r2: 0.8699 - mae: 2.3055 - val_loss: 3.0648 - val_r2: 0.7965 - val_mae: 3.0648\n",
            "Epoch 295/700\n",
            "74/74 [==============================] - 0s 5ms/step - loss: 2.2900 - r2: 0.8714 - mae: 2.2900 - val_loss: 3.0200 - val_r2: 0.8204 - val_mae: 3.0200\n",
            "Epoch 296/700\n",
            "74/74 [==============================] - 0s 5ms/step - loss: 2.3329 - r2: 0.8717 - mae: 2.3329 - val_loss: 3.2104 - val_r2: 0.8114 - val_mae: 3.2104\n",
            "Epoch 297/700\n",
            "74/74 [==============================] - 0s 5ms/step - loss: 2.2626 - r2: 0.8808 - mae: 2.2626 - val_loss: 2.8270 - val_r2: 0.8411 - val_mae: 2.8270\n",
            "Epoch 298/700\n",
            "74/74 [==============================] - 0s 5ms/step - loss: 2.2598 - r2: 0.8774 - mae: 2.2598 - val_loss: 2.9875 - val_r2: 0.8242 - val_mae: 2.9875\n",
            "Epoch 299/700\n",
            "74/74 [==============================] - 0s 5ms/step - loss: 2.3053 - r2: 0.8780 - mae: 2.3053 - val_loss: 2.8912 - val_r2: 0.8376 - val_mae: 2.8912\n",
            "Epoch 300/700\n",
            "74/74 [==============================] - 0s 5ms/step - loss: 2.2280 - r2: 0.8856 - mae: 2.2280 - val_loss: 3.0373 - val_r2: 0.8215 - val_mae: 3.0373\n",
            "Epoch 301/700\n",
            "74/74 [==============================] - 0s 5ms/step - loss: 2.2299 - r2: 0.8868 - mae: 2.2299 - val_loss: 3.1512 - val_r2: 0.8132 - val_mae: 3.1512\n",
            "Epoch 302/700\n",
            "74/74 [==============================] - 0s 5ms/step - loss: 2.2729 - r2: 0.8827 - mae: 2.2729 - val_loss: 2.7433 - val_r2: 0.8429 - val_mae: 2.7433\n",
            "Epoch 303/700\n",
            "74/74 [==============================] - 0s 5ms/step - loss: 2.2329 - r2: 0.8809 - mae: 2.2329 - val_loss: 2.7566 - val_r2: 0.8432 - val_mae: 2.7566\n",
            "Epoch 304/700\n",
            "74/74 [==============================] - 0s 5ms/step - loss: 2.2478 - r2: 0.8860 - mae: 2.2478 - val_loss: 2.8718 - val_r2: 0.8346 - val_mae: 2.8718\n",
            "Epoch 305/700\n",
            "74/74 [==============================] - 0s 5ms/step - loss: 2.2700 - r2: 0.8813 - mae: 2.2700 - val_loss: 2.7390 - val_r2: 0.8439 - val_mae: 2.7390\n",
            "Epoch 306/700\n",
            "74/74 [==============================] - 0s 5ms/step - loss: 2.2277 - r2: 0.8822 - mae: 2.2277 - val_loss: 2.7457 - val_r2: 0.8547 - val_mae: 2.7457\n",
            "Epoch 307/700\n",
            "74/74 [==============================] - 0s 5ms/step - loss: 2.2682 - r2: 0.8799 - mae: 2.2682 - val_loss: 2.9852 - val_r2: 0.8248 - val_mae: 2.9852\n",
            "Epoch 308/700\n",
            "74/74 [==============================] - 0s 5ms/step - loss: 2.2216 - r2: 0.8833 - mae: 2.2216 - val_loss: 2.7587 - val_r2: 0.8534 - val_mae: 2.7587\n",
            "Epoch 309/700\n",
            "74/74 [==============================] - 0s 5ms/step - loss: 2.2551 - r2: 0.8762 - mae: 2.2551 - val_loss: 2.8135 - val_r2: 0.8395 - val_mae: 2.8135\n",
            "Epoch 310/700\n",
            "74/74 [==============================] - 0s 5ms/step - loss: 2.2151 - r2: 0.8853 - mae: 2.2151 - val_loss: 3.1775 - val_r2: 0.8136 - val_mae: 3.1775\n",
            "Epoch 311/700\n",
            "74/74 [==============================] - 0s 5ms/step - loss: 2.2388 - r2: 0.8780 - mae: 2.2388 - val_loss: 2.9546 - val_r2: 0.8245 - val_mae: 2.9546\n",
            "Epoch 312/700\n",
            "74/74 [==============================] - 0s 5ms/step - loss: 2.2148 - r2: 0.8815 - mae: 2.2148 - val_loss: 2.7778 - val_r2: 0.8449 - val_mae: 2.7778\n",
            "Epoch 313/700\n",
            "74/74 [==============================] - 0s 6ms/step - loss: 2.2343 - r2: 0.8838 - mae: 2.2343 - val_loss: 2.8349 - val_r2: 0.8404 - val_mae: 2.8349\n",
            "Epoch 314/700\n",
            "74/74 [==============================] - 0s 5ms/step - loss: 2.2303 - r2: 0.8820 - mae: 2.2303 - val_loss: 2.8516 - val_r2: 0.8405 - val_mae: 2.8516\n",
            "Epoch 315/700\n",
            "74/74 [==============================] - 0s 5ms/step - loss: 2.2244 - r2: 0.8838 - mae: 2.2244 - val_loss: 2.9670 - val_r2: 0.8268 - val_mae: 2.9670\n",
            "Epoch 316/700\n",
            "74/74 [==============================] - 0s 5ms/step - loss: 2.1930 - r2: 0.8853 - mae: 2.1930 - val_loss: 2.6957 - val_r2: 0.8482 - val_mae: 2.6957\n",
            "Epoch 317/700\n",
            "74/74 [==============================] - 0s 5ms/step - loss: 2.1725 - r2: 0.8896 - mae: 2.1725 - val_loss: 2.8706 - val_r2: 0.8385 - val_mae: 2.8706\n",
            "Epoch 318/700\n",
            "74/74 [==============================] - 0s 5ms/step - loss: 2.1397 - r2: 0.8954 - mae: 2.1397 - val_loss: 3.0268 - val_r2: 0.8216 - val_mae: 3.0268\n",
            "Epoch 319/700\n",
            "74/74 [==============================] - 0s 5ms/step - loss: 2.1712 - r2: 0.8921 - mae: 2.1712 - val_loss: 2.7528 - val_r2: 0.8446 - val_mae: 2.7528\n",
            "Epoch 320/700\n",
            "74/74 [==============================] - 0s 5ms/step - loss: 2.1757 - r2: 0.8887 - mae: 2.1757 - val_loss: 2.8454 - val_r2: 0.8327 - val_mae: 2.8454\n",
            "Epoch 321/700\n",
            "74/74 [==============================] - 0s 5ms/step - loss: 2.2034 - r2: 0.8887 - mae: 2.2034 - val_loss: 2.7856 - val_r2: 0.8484 - val_mae: 2.7856\n",
            "Epoch 322/700\n",
            "74/74 [==============================] - 0s 5ms/step - loss: 2.1789 - r2: 0.8908 - mae: 2.1789 - val_loss: 2.7938 - val_r2: 0.8368 - val_mae: 2.7938\n",
            "Epoch 323/700\n",
            "74/74 [==============================] - 0s 5ms/step - loss: 2.2344 - r2: 0.8791 - mae: 2.2344 - val_loss: 2.9341 - val_r2: 0.8231 - val_mae: 2.9341\n",
            "Epoch 324/700\n",
            "74/74 [==============================] - 0s 5ms/step - loss: 2.2105 - r2: 0.8819 - mae: 2.2105 - val_loss: 2.6974 - val_r2: 0.8496 - val_mae: 2.6974\n",
            "Epoch 325/700\n",
            "74/74 [==============================] - 0s 6ms/step - loss: 2.1545 - r2: 0.8932 - mae: 2.1545 - val_loss: 2.6243 - val_r2: 0.8565 - val_mae: 2.6243\n",
            "Epoch 326/700\n",
            "74/74 [==============================] - 0s 5ms/step - loss: 2.1169 - r2: 0.8954 - mae: 2.1169 - val_loss: 2.8422 - val_r2: 0.8411 - val_mae: 2.8422\n",
            "Epoch 327/700\n",
            "74/74 [==============================] - 0s 5ms/step - loss: 2.1808 - r2: 0.8866 - mae: 2.1808 - val_loss: 2.7653 - val_r2: 0.8468 - val_mae: 2.7653\n",
            "Epoch 328/700\n",
            "74/74 [==============================] - 0s 5ms/step - loss: 2.1678 - r2: 0.8862 - mae: 2.1678 - val_loss: 2.9543 - val_r2: 0.8208 - val_mae: 2.9543\n",
            "Epoch 329/700\n",
            "74/74 [==============================] - 0s 5ms/step - loss: 2.1292 - r2: 0.8905 - mae: 2.1292 - val_loss: 2.8491 - val_r2: 0.8397 - val_mae: 2.8491\n",
            "Epoch 330/700\n",
            "74/74 [==============================] - 0s 5ms/step - loss: 2.1490 - r2: 0.8900 - mae: 2.1490 - val_loss: 2.9096 - val_r2: 0.8402 - val_mae: 2.9096\n",
            "Epoch 331/700\n",
            "74/74 [==============================] - 0s 6ms/step - loss: 2.1354 - r2: 0.8862 - mae: 2.1354 - val_loss: 2.9038 - val_r2: 0.8313 - val_mae: 2.9038\n",
            "Epoch 332/700\n",
            "74/74 [==============================] - 0s 5ms/step - loss: 2.1406 - r2: 0.8894 - mae: 2.1406 - val_loss: 2.8996 - val_r2: 0.8337 - val_mae: 2.8996\n",
            "Epoch 333/700\n",
            "74/74 [==============================] - 0s 5ms/step - loss: 2.1628 - r2: 0.8862 - mae: 2.1628 - val_loss: 2.8834 - val_r2: 0.8409 - val_mae: 2.8834\n",
            "Epoch 334/700\n",
            "74/74 [==============================] - 0s 5ms/step - loss: 2.1409 - r2: 0.8894 - mae: 2.1409 - val_loss: 2.8403 - val_r2: 0.8384 - val_mae: 2.8403\n",
            "Epoch 335/700\n",
            "74/74 [==============================] - 0s 5ms/step - loss: 2.1415 - r2: 0.8868 - mae: 2.1415 - val_loss: 2.8955 - val_r2: 0.8359 - val_mae: 2.8955\n",
            "Epoch 336/700\n",
            "74/74 [==============================] - 0s 5ms/step - loss: 2.1737 - r2: 0.8840 - mae: 2.1737 - val_loss: 2.8357 - val_r2: 0.8402 - val_mae: 2.8357\n",
            "Epoch 337/700\n",
            "74/74 [==============================] - 0s 5ms/step - loss: 2.1299 - r2: 0.8913 - mae: 2.1299 - val_loss: 2.9166 - val_r2: 0.8271 - val_mae: 2.9166\n",
            "Epoch 338/700\n",
            "74/74 [==============================] - 0s 5ms/step - loss: 2.1841 - r2: 0.8829 - mae: 2.1841 - val_loss: 2.7658 - val_r2: 0.8394 - val_mae: 2.7658\n",
            "Epoch 339/700\n",
            "74/74 [==============================] - 0s 5ms/step - loss: 2.0831 - r2: 0.8973 - mae: 2.0831 - val_loss: 2.7841 - val_r2: 0.8433 - val_mae: 2.7841\n",
            "Epoch 340/700\n",
            "74/74 [==============================] - 0s 5ms/step - loss: 2.0852 - r2: 0.8932 - mae: 2.0852 - val_loss: 2.8515 - val_r2: 0.8398 - val_mae: 2.8515\n",
            "Epoch 341/700\n",
            "74/74 [==============================] - 0s 5ms/step - loss: 2.1724 - r2: 0.8872 - mae: 2.1724 - val_loss: 2.8270 - val_r2: 0.8421 - val_mae: 2.8270\n",
            "Epoch 342/700\n",
            "74/74 [==============================] - 0s 5ms/step - loss: 2.1966 - r2: 0.8806 - mae: 2.1966 - val_loss: 2.9037 - val_r2: 0.8324 - val_mae: 2.9037\n",
            "Epoch 343/700\n",
            "74/74 [==============================] - 0s 5ms/step - loss: 2.0863 - r2: 0.8927 - mae: 2.0863 - val_loss: 2.7102 - val_r2: 0.8476 - val_mae: 2.7102\n",
            "Epoch 344/700\n",
            "74/74 [==============================] - 0s 5ms/step - loss: 2.0938 - r2: 0.8920 - mae: 2.0938 - val_loss: 2.6109 - val_r2: 0.8586 - val_mae: 2.6109\n",
            "Epoch 345/700\n",
            "74/74 [==============================] - 0s 5ms/step - loss: 2.0941 - r2: 0.8938 - mae: 2.0941 - val_loss: 2.7825 - val_r2: 0.8385 - val_mae: 2.7825\n",
            "Epoch 346/700\n",
            "74/74 [==============================] - 0s 5ms/step - loss: 2.1988 - r2: 0.8794 - mae: 2.1988 - val_loss: 2.7896 - val_r2: 0.8464 - val_mae: 2.7896\n",
            "Epoch 347/700\n",
            "74/74 [==============================] - 0s 5ms/step - loss: 2.1152 - r2: 0.8916 - mae: 2.1152 - val_loss: 2.6827 - val_r2: 0.8444 - val_mae: 2.6827\n",
            "Epoch 348/700\n",
            "74/74 [==============================] - 0s 5ms/step - loss: 2.0758 - r2: 0.8974 - mae: 2.0758 - val_loss: 2.5758 - val_r2: 0.8652 - val_mae: 2.5758\n",
            "Epoch 349/700\n",
            "74/74 [==============================] - 0s 5ms/step - loss: 2.0668 - r2: 0.8969 - mae: 2.0668 - val_loss: 2.6360 - val_r2: 0.8583 - val_mae: 2.6360\n",
            "Epoch 350/700\n",
            "74/74 [==============================] - 0s 5ms/step - loss: 2.0811 - r2: 0.8964 - mae: 2.0811 - val_loss: 2.6950 - val_r2: 0.8474 - val_mae: 2.6950\n",
            "Epoch 351/700\n",
            "74/74 [==============================] - 0s 5ms/step - loss: 2.0641 - r2: 0.8938 - mae: 2.0641 - val_loss: 2.7932 - val_r2: 0.8439 - val_mae: 2.7932\n",
            "Epoch 352/700\n",
            "74/74 [==============================] - 0s 5ms/step - loss: 2.0806 - r2: 0.8907 - mae: 2.0806 - val_loss: 2.7970 - val_r2: 0.8459 - val_mae: 2.7970\n",
            "Epoch 353/700\n",
            "74/74 [==============================] - 0s 5ms/step - loss: 2.1568 - r2: 0.8848 - mae: 2.1568 - val_loss: 2.6936 - val_r2: 0.8521 - val_mae: 2.6936\n",
            "Epoch 354/700\n",
            "74/74 [==============================] - 0s 5ms/step - loss: 2.0669 - r2: 0.8958 - mae: 2.0669 - val_loss: 2.9584 - val_r2: 0.8441 - val_mae: 2.9584\n",
            "Epoch 355/700\n",
            "74/74 [==============================] - 0s 5ms/step - loss: 2.0895 - r2: 0.8947 - mae: 2.0895 - val_loss: 2.6678 - val_r2: 0.8479 - val_mae: 2.6678\n",
            "Epoch 356/700\n",
            "74/74 [==============================] - 0s 5ms/step - loss: 2.1672 - r2: 0.8872 - mae: 2.1672 - val_loss: 2.5732 - val_r2: 0.8643 - val_mae: 2.5732\n",
            "Epoch 357/700\n",
            "74/74 [==============================] - 0s 5ms/step - loss: 2.0666 - r2: 0.8930 - mae: 2.0666 - val_loss: 2.8596 - val_r2: 0.8370 - val_mae: 2.8596\n",
            "Epoch 358/700\n",
            "74/74 [==============================] - 0s 5ms/step - loss: 2.0490 - r2: 0.8945 - mae: 2.0490 - val_loss: 2.6932 - val_r2: 0.8539 - val_mae: 2.6932\n",
            "Epoch 359/700\n",
            "74/74 [==============================] - 0s 5ms/step - loss: 2.1140 - r2: 0.8897 - mae: 2.1140 - val_loss: 2.8916 - val_r2: 0.8422 - val_mae: 2.8916\n",
            "Epoch 360/700\n",
            "74/74 [==============================] - 0s 5ms/step - loss: 2.1007 - r2: 0.8936 - mae: 2.1007 - val_loss: 2.8170 - val_r2: 0.8392 - val_mae: 2.8170\n",
            "Epoch 361/700\n",
            "74/74 [==============================] - 0s 5ms/step - loss: 2.0544 - r2: 0.8980 - mae: 2.0544 - val_loss: 2.6643 - val_r2: 0.8532 - val_mae: 2.6643\n",
            "Epoch 362/700\n",
            "74/74 [==============================] - 0s 6ms/step - loss: 2.0824 - r2: 0.8945 - mae: 2.0824 - val_loss: 2.7542 - val_r2: 0.8450 - val_mae: 2.7542\n",
            "Epoch 363/700\n",
            "74/74 [==============================] - 0s 5ms/step - loss: 2.0411 - r2: 0.9021 - mae: 2.0411 - val_loss: 2.8127 - val_r2: 0.8456 - val_mae: 2.8127\n",
            "Epoch 364/700\n",
            "74/74 [==============================] - 0s 5ms/step - loss: 2.1137 - r2: 0.8886 - mae: 2.1137 - val_loss: 2.6886 - val_r2: 0.8518 - val_mae: 2.6886\n",
            "Epoch 365/700\n",
            "74/74 [==============================] - 0s 5ms/step - loss: 2.0612 - r2: 0.8946 - mae: 2.0612 - val_loss: 2.6185 - val_r2: 0.8549 - val_mae: 2.6185\n",
            "Epoch 366/700\n",
            "74/74 [==============================] - 0s 5ms/step - loss: 2.0496 - r2: 0.8987 - mae: 2.0496 - val_loss: 2.6967 - val_r2: 0.8583 - val_mae: 2.6967\n",
            "Epoch 367/700\n",
            "74/74 [==============================] - 0s 5ms/step - loss: 1.9973 - r2: 0.9046 - mae: 1.9973 - val_loss: 2.7847 - val_r2: 0.8460 - val_mae: 2.7847\n",
            "Epoch 368/700\n",
            "74/74 [==============================] - 0s 5ms/step - loss: 2.0446 - r2: 0.8944 - mae: 2.0446 - val_loss: 2.8569 - val_r2: 0.8294 - val_mae: 2.8569\n",
            "Epoch 369/700\n",
            "74/74 [==============================] - 0s 5ms/step - loss: 2.0422 - r2: 0.8922 - mae: 2.0422 - val_loss: 2.7959 - val_r2: 0.8420 - val_mae: 2.7959\n",
            "Epoch 370/700\n",
            "74/74 [==============================] - 0s 5ms/step - loss: 2.0249 - r2: 0.8961 - mae: 2.0249 - val_loss: 2.5990 - val_r2: 0.8519 - val_mae: 2.5990\n",
            "Epoch 371/700\n",
            "74/74 [==============================] - 0s 5ms/step - loss: 2.0464 - r2: 0.8956 - mae: 2.0464 - val_loss: 2.8234 - val_r2: 0.8388 - val_mae: 2.8234\n",
            "Epoch 372/700\n",
            "74/74 [==============================] - 0s 6ms/step - loss: 2.0581 - r2: 0.8953 - mae: 2.0581 - val_loss: 2.6477 - val_r2: 0.8575 - val_mae: 2.6477\n",
            "Epoch 373/700\n",
            "74/74 [==============================] - 0s 5ms/step - loss: 2.0603 - r2: 0.8933 - mae: 2.0603 - val_loss: 2.7540 - val_r2: 0.8478 - val_mae: 2.7540\n",
            "Epoch 374/700\n",
            "74/74 [==============================] - 0s 5ms/step - loss: 2.0729 - r2: 0.8907 - mae: 2.0729 - val_loss: 2.6482 - val_r2: 0.8492 - val_mae: 2.6482\n",
            "Epoch 375/700\n",
            "74/74 [==============================] - 0s 5ms/step - loss: 1.9921 - r2: 0.9065 - mae: 1.9921 - val_loss: 2.7365 - val_r2: 0.8490 - val_mae: 2.7365\n",
            "Epoch 376/700\n",
            "74/74 [==============================] - 0s 5ms/step - loss: 2.0112 - r2: 0.8993 - mae: 2.0112 - val_loss: 2.9247 - val_r2: 0.8370 - val_mae: 2.9247\n",
            "Epoch 377/700\n",
            "74/74 [==============================] - 0s 6ms/step - loss: 1.9998 - r2: 0.8961 - mae: 1.9998 - val_loss: 2.6704 - val_r2: 0.8531 - val_mae: 2.6704\n",
            "Epoch 378/700\n",
            "74/74 [==============================] - 0s 5ms/step - loss: 1.9807 - r2: 0.8984 - mae: 1.9807 - val_loss: 2.7376 - val_r2: 0.8457 - val_mae: 2.7376\n",
            "Epoch 379/700\n",
            "74/74 [==============================] - 0s 5ms/step - loss: 2.0467 - r2: 0.8917 - mae: 2.0467 - val_loss: 2.7977 - val_r2: 0.8473 - val_mae: 2.7977\n",
            "Epoch 380/700\n",
            "74/74 [==============================] - 0s 5ms/step - loss: 2.0186 - r2: 0.8961 - mae: 2.0186 - val_loss: 2.6029 - val_r2: 0.8557 - val_mae: 2.6029\n",
            "Epoch 381/700\n",
            "74/74 [==============================] - 0s 5ms/step - loss: 2.0043 - r2: 0.8988 - mae: 2.0043 - val_loss: 2.8249 - val_r2: 0.8421 - val_mae: 2.8249\n",
            "Epoch 382/700\n",
            "74/74 [==============================] - 0s 5ms/step - loss: 1.9914 - r2: 0.9036 - mae: 1.9914 - val_loss: 2.7400 - val_r2: 0.8486 - val_mae: 2.7400\n",
            "Epoch 383/700\n",
            "74/74 [==============================] - 0s 5ms/step - loss: 2.0101 - r2: 0.8994 - mae: 2.0101 - val_loss: 2.7737 - val_r2: 0.8444 - val_mae: 2.7737\n",
            "Epoch 384/700\n",
            "74/74 [==============================] - 0s 5ms/step - loss: 1.9605 - r2: 0.9027 - mae: 1.9605 - val_loss: 2.8849 - val_r2: 0.8262 - val_mae: 2.8849\n",
            "Epoch 385/700\n",
            "74/74 [==============================] - 0s 5ms/step - loss: 2.0161 - r2: 0.8920 - mae: 2.0161 - val_loss: 2.8086 - val_r2: 0.8410 - val_mae: 2.8086\n",
            "Epoch 386/700\n",
            "74/74 [==============================] - 0s 5ms/step - loss: 2.0137 - r2: 0.8971 - mae: 2.0137 - val_loss: 2.7953 - val_r2: 0.8421 - val_mae: 2.7953\n",
            "Epoch 387/700\n",
            "74/74 [==============================] - 0s 5ms/step - loss: 2.0158 - r2: 0.8959 - mae: 2.0158 - val_loss: 2.5481 - val_r2: 0.8656 - val_mae: 2.5481\n",
            "Epoch 388/700\n",
            "74/74 [==============================] - 0s 6ms/step - loss: 1.9787 - r2: 0.9002 - mae: 1.9787 - val_loss: 2.5337 - val_r2: 0.8674 - val_mae: 2.5337\n",
            "Epoch 389/700\n",
            "74/74 [==============================] - 0s 5ms/step - loss: 2.0251 - r2: 0.8990 - mae: 2.0251 - val_loss: 2.6927 - val_r2: 0.8527 - val_mae: 2.6927\n",
            "Epoch 390/700\n",
            "74/74 [==============================] - 0s 5ms/step - loss: 1.9872 - r2: 0.9000 - mae: 1.9872 - val_loss: 2.8790 - val_r2: 0.8447 - val_mae: 2.8790\n",
            "Epoch 391/700\n",
            "74/74 [==============================] - 0s 5ms/step - loss: 1.9496 - r2: 0.9062 - mae: 1.9496 - val_loss: 2.5361 - val_r2: 0.8538 - val_mae: 2.5361\n",
            "Epoch 392/700\n",
            "74/74 [==============================] - 0s 5ms/step - loss: 1.9903 - r2: 0.9005 - mae: 1.9903 - val_loss: 2.7918 - val_r2: 0.8219 - val_mae: 2.7918\n",
            "Epoch 393/700\n",
            "74/74 [==============================] - 0s 6ms/step - loss: 2.1049 - r2: 0.8877 - mae: 2.1049 - val_loss: 2.6673 - val_r2: 0.8526 - val_mae: 2.6673\n",
            "Epoch 394/700\n",
            "74/74 [==============================] - 0s 5ms/step - loss: 2.0238 - r2: 0.8913 - mae: 2.0238 - val_loss: 2.8438 - val_r2: 0.8437 - val_mae: 2.8438\n",
            "Epoch 395/700\n",
            "74/74 [==============================] - 0s 5ms/step - loss: 1.9812 - r2: 0.9021 - mae: 1.9812 - val_loss: 2.6689 - val_r2: 0.8484 - val_mae: 2.6689\n",
            "Epoch 396/700\n",
            "74/74 [==============================] - 0s 6ms/step - loss: 1.9631 - r2: 0.9042 - mae: 1.9631 - val_loss: 2.7679 - val_r2: 0.8446 - val_mae: 2.7679\n",
            "Epoch 397/700\n",
            "74/74 [==============================] - 0s 5ms/step - loss: 2.0025 - r2: 0.8948 - mae: 2.0025 - val_loss: 2.6874 - val_r2: 0.8528 - val_mae: 2.6874\n",
            "Epoch 398/700\n",
            "74/74 [==============================] - 0s 5ms/step - loss: 1.9686 - r2: 0.9014 - mae: 1.9686 - val_loss: 2.6556 - val_r2: 0.8481 - val_mae: 2.6556\n",
            "Epoch 399/700\n",
            "74/74 [==============================] - 0s 5ms/step - loss: 1.9805 - r2: 0.8991 - mae: 1.9805 - val_loss: 2.6275 - val_r2: 0.8575 - val_mae: 2.6275\n",
            "Epoch 400/700\n",
            "74/74 [==============================] - 0s 6ms/step - loss: 1.9841 - r2: 0.8990 - mae: 1.9841 - val_loss: 2.6683 - val_r2: 0.8572 - val_mae: 2.6683\n",
            "Epoch 401/700\n",
            "74/74 [==============================] - 0s 5ms/step - loss: 1.9651 - r2: 0.9012 - mae: 1.9651 - val_loss: 2.5942 - val_r2: 0.8612 - val_mae: 2.5942\n",
            "Epoch 402/700\n",
            "74/74 [==============================] - 0s 5ms/step - loss: 1.9860 - r2: 0.8995 - mae: 1.9860 - val_loss: 2.8290 - val_r2: 0.8451 - val_mae: 2.8290\n",
            "Epoch 403/700\n",
            "74/74 [==============================] - 0s 6ms/step - loss: 1.9307 - r2: 0.9105 - mae: 1.9307 - val_loss: 2.6625 - val_r2: 0.8569 - val_mae: 2.6625\n",
            "Epoch 404/700\n",
            "74/74 [==============================] - 0s 5ms/step - loss: 1.9917 - r2: 0.8996 - mae: 1.9917 - val_loss: 2.5958 - val_r2: 0.8637 - val_mae: 2.5958\n",
            "Epoch 405/700\n",
            "74/74 [==============================] - 0s 5ms/step - loss: 1.9581 - r2: 0.9048 - mae: 1.9581 - val_loss: 2.6621 - val_r2: 0.8517 - val_mae: 2.6621\n",
            "Epoch 406/700\n",
            "74/74 [==============================] - 0s 5ms/step - loss: 1.9273 - r2: 0.9098 - mae: 1.9273 - val_loss: 2.7002 - val_r2: 0.8553 - val_mae: 2.7002\n",
            "Epoch 407/700\n",
            "74/74 [==============================] - 0s 5ms/step - loss: 1.9382 - r2: 0.9089 - mae: 1.9382 - val_loss: 2.6896 - val_r2: 0.8553 - val_mae: 2.6896\n",
            "Epoch 408/700\n",
            "74/74 [==============================] - 0s 5ms/step - loss: 1.8999 - r2: 0.9095 - mae: 1.8999 - val_loss: 2.6001 - val_r2: 0.8593 - val_mae: 2.6001\n",
            "Epoch 409/700\n",
            "74/74 [==============================] - 0s 5ms/step - loss: 1.9211 - r2: 0.9090 - mae: 1.9211 - val_loss: 2.6063 - val_r2: 0.8551 - val_mae: 2.6063\n",
            "Epoch 410/700\n",
            "74/74 [==============================] - 0s 6ms/step - loss: 1.9777 - r2: 0.9045 - mae: 1.9777 - val_loss: 2.5179 - val_r2: 0.8605 - val_mae: 2.5179\n",
            "Epoch 411/700\n",
            "74/74 [==============================] - 0s 5ms/step - loss: 1.9933 - r2: 0.8956 - mae: 1.9933 - val_loss: 2.7308 - val_r2: 0.8532 - val_mae: 2.7308\n",
            "Epoch 412/700\n",
            "74/74 [==============================] - 0s 6ms/step - loss: 1.9344 - r2: 0.9038 - mae: 1.9344 - val_loss: 2.7824 - val_r2: 0.8444 - val_mae: 2.7824\n",
            "Epoch 413/700\n",
            "74/74 [==============================] - 0s 6ms/step - loss: 1.9449 - r2: 0.9077 - mae: 1.9449 - val_loss: 2.4802 - val_r2: 0.8585 - val_mae: 2.4802\n",
            "Epoch 414/700\n",
            "74/74 [==============================] - 0s 5ms/step - loss: 1.9241 - r2: 0.9053 - mae: 1.9241 - val_loss: 2.6255 - val_r2: 0.8485 - val_mae: 2.6255\n",
            "Epoch 415/700\n",
            "74/74 [==============================] - 0s 5ms/step - loss: 1.9332 - r2: 0.9077 - mae: 1.9332 - val_loss: 2.7285 - val_r2: 0.8420 - val_mae: 2.7285\n",
            "Epoch 416/700\n",
            "74/74 [==============================] - 0s 5ms/step - loss: 1.9501 - r2: 0.9012 - mae: 1.9501 - val_loss: 2.5265 - val_r2: 0.8626 - val_mae: 2.5265\n",
            "Epoch 417/700\n",
            "74/74 [==============================] - 0s 5ms/step - loss: 1.9246 - r2: 0.9072 - mae: 1.9246 - val_loss: 2.7983 - val_r2: 0.8480 - val_mae: 2.7983\n",
            "Epoch 418/700\n",
            "74/74 [==============================] - 0s 5ms/step - loss: 1.9341 - r2: 0.9058 - mae: 1.9341 - val_loss: 2.6233 - val_r2: 0.8509 - val_mae: 2.6233\n",
            "Epoch 419/700\n",
            "74/74 [==============================] - 0s 5ms/step - loss: 1.9489 - r2: 0.9014 - mae: 1.9489 - val_loss: 2.4750 - val_r2: 0.8739 - val_mae: 2.4750\n",
            "Epoch 420/700\n",
            "74/74 [==============================] - 0s 5ms/step - loss: 1.9762 - r2: 0.8970 - mae: 1.9762 - val_loss: 2.5396 - val_r2: 0.8712 - val_mae: 2.5396\n",
            "Epoch 421/700\n",
            "74/74 [==============================] - 0s 6ms/step - loss: 1.9082 - r2: 0.9086 - mae: 1.9082 - val_loss: 2.5033 - val_r2: 0.8700 - val_mae: 2.5033\n",
            "Epoch 422/700\n",
            "74/74 [==============================] - 0s 5ms/step - loss: 1.8992 - r2: 0.9114 - mae: 1.8992 - val_loss: 2.4633 - val_r2: 0.8742 - val_mae: 2.4633\n",
            "Epoch 423/700\n",
            "74/74 [==============================] - 0s 6ms/step - loss: 1.9030 - r2: 0.9086 - mae: 1.9030 - val_loss: 2.5748 - val_r2: 0.8614 - val_mae: 2.5748\n",
            "Epoch 424/700\n",
            "74/74 [==============================] - 0s 5ms/step - loss: 1.9033 - r2: 0.9100 - mae: 1.9033 - val_loss: 2.5629 - val_r2: 0.8591 - val_mae: 2.5629\n",
            "Epoch 425/700\n",
            "74/74 [==============================] - 0s 5ms/step - loss: 1.9688 - r2: 0.8979 - mae: 1.9688 - val_loss: 2.7200 - val_r2: 0.8497 - val_mae: 2.7200\n",
            "Epoch 426/700\n",
            "74/74 [==============================] - 0s 5ms/step - loss: 1.8757 - r2: 0.9056 - mae: 1.8757 - val_loss: 2.7023 - val_r2: 0.8445 - val_mae: 2.7023\n",
            "Epoch 427/700\n",
            "74/74 [==============================] - 0s 5ms/step - loss: 1.8833 - r2: 0.9096 - mae: 1.8833 - val_loss: 2.5397 - val_r2: 0.8581 - val_mae: 2.5397\n",
            "Epoch 428/700\n",
            "74/74 [==============================] - 0s 5ms/step - loss: 1.8888 - r2: 0.9093 - mae: 1.8888 - val_loss: 2.7771 - val_r2: 0.8427 - val_mae: 2.7771\n",
            "Epoch 429/700\n",
            "74/74 [==============================] - 0s 5ms/step - loss: 1.8906 - r2: 0.9063 - mae: 1.8906 - val_loss: 2.7109 - val_r2: 0.8541 - val_mae: 2.7109\n",
            "Epoch 430/700\n",
            "74/74 [==============================] - 0s 6ms/step - loss: 1.9470 - r2: 0.8955 - mae: 1.9470 - val_loss: 2.3746 - val_r2: 0.8703 - val_mae: 2.3746\n",
            "Epoch 431/700\n",
            "74/74 [==============================] - 0s 6ms/step - loss: 1.8932 - r2: 0.9043 - mae: 1.8932 - val_loss: 2.5326 - val_r2: 0.8641 - val_mae: 2.5326\n",
            "Epoch 432/700\n",
            "74/74 [==============================] - 0s 5ms/step - loss: 1.8845 - r2: 0.9107 - mae: 1.8845 - val_loss: 2.5418 - val_r2: 0.8534 - val_mae: 2.5418\n",
            "Epoch 433/700\n",
            "74/74 [==============================] - 0s 6ms/step - loss: 1.9185 - r2: 0.8998 - mae: 1.9185 - val_loss: 2.5517 - val_r2: 0.8620 - val_mae: 2.5517\n",
            "Epoch 434/700\n",
            "74/74 [==============================] - 0s 5ms/step - loss: 1.9006 - r2: 0.9082 - mae: 1.9006 - val_loss: 2.4766 - val_r2: 0.8659 - val_mae: 2.4766\n",
            "Epoch 435/700\n",
            "74/74 [==============================] - 0s 6ms/step - loss: 1.9281 - r2: 0.9024 - mae: 1.9281 - val_loss: 2.5942 - val_r2: 0.8582 - val_mae: 2.5942\n",
            "Epoch 436/700\n",
            "74/74 [==============================] - 0s 5ms/step - loss: 1.8806 - r2: 0.9089 - mae: 1.8806 - val_loss: 2.3812 - val_r2: 0.8728 - val_mae: 2.3812\n",
            "Epoch 437/700\n",
            "74/74 [==============================] - 0s 5ms/step - loss: 1.8404 - r2: 0.9162 - mae: 1.8404 - val_loss: 2.5997 - val_r2: 0.8540 - val_mae: 2.5997\n",
            "Epoch 438/700\n",
            "74/74 [==============================] - 0s 6ms/step - loss: 1.8535 - r2: 0.9112 - mae: 1.8535 - val_loss: 2.5755 - val_r2: 0.8603 - val_mae: 2.5755\n",
            "Epoch 439/700\n",
            "74/74 [==============================] - 0s 5ms/step - loss: 1.9097 - r2: 0.9058 - mae: 1.9097 - val_loss: 2.5155 - val_r2: 0.8577 - val_mae: 2.5155\n",
            "Epoch 440/700\n",
            "74/74 [==============================] - 0s 5ms/step - loss: 2.0371 - r2: 0.8839 - mae: 2.0371 - val_loss: 2.5540 - val_r2: 0.8578 - val_mae: 2.5540\n",
            "Epoch 441/700\n",
            "74/74 [==============================] - 0s 5ms/step - loss: 1.9410 - r2: 0.8980 - mae: 1.9410 - val_loss: 2.7544 - val_r2: 0.8424 - val_mae: 2.7544\n",
            "Epoch 442/700\n",
            "74/74 [==============================] - 0s 6ms/step - loss: 1.8697 - r2: 0.9139 - mae: 1.8697 - val_loss: 2.4764 - val_r2: 0.8708 - val_mae: 2.4764\n",
            "Epoch 443/700\n",
            "74/74 [==============================] - 0s 6ms/step - loss: 1.8984 - r2: 0.9058 - mae: 1.8984 - val_loss: 2.6393 - val_r2: 0.8556 - val_mae: 2.6393\n",
            "Epoch 444/700\n",
            "74/74 [==============================] - 0s 5ms/step - loss: 1.8664 - r2: 0.9090 - mae: 1.8664 - val_loss: 2.6119 - val_r2: 0.8579 - val_mae: 2.6119\n",
            "Epoch 445/700\n",
            "74/74 [==============================] - 0s 6ms/step - loss: 1.8920 - r2: 0.9046 - mae: 1.8920 - val_loss: 2.5630 - val_r2: 0.8597 - val_mae: 2.5630\n",
            "Epoch 446/700\n",
            "74/74 [==============================] - 0s 5ms/step - loss: 1.9038 - r2: 0.9022 - mae: 1.9038 - val_loss: 2.5094 - val_r2: 0.8585 - val_mae: 2.5094\n",
            "Epoch 447/700\n",
            "74/74 [==============================] - 0s 6ms/step - loss: 1.8251 - r2: 0.9141 - mae: 1.8251 - val_loss: 2.5077 - val_r2: 0.8554 - val_mae: 2.5077\n",
            "Epoch 448/700\n",
            "74/74 [==============================] - 0s 5ms/step - loss: 1.8933 - r2: 0.9088 - mae: 1.8933 - val_loss: 2.6626 - val_r2: 0.8520 - val_mae: 2.6626\n",
            "Epoch 449/700\n",
            "74/74 [==============================] - 0s 5ms/step - loss: 1.8265 - r2: 0.9146 - mae: 1.8265 - val_loss: 2.5986 - val_r2: 0.8585 - val_mae: 2.5986\n",
            "Epoch 450/700\n",
            "74/74 [==============================] - 0s 5ms/step - loss: 1.8989 - r2: 0.9025 - mae: 1.8989 - val_loss: 2.5326 - val_r2: 0.8596 - val_mae: 2.5326\n",
            "Epoch 451/700\n",
            "74/74 [==============================] - 0s 5ms/step - loss: 1.8769 - r2: 0.9069 - mae: 1.8769 - val_loss: 2.7549 - val_r2: 0.8353 - val_mae: 2.7549\n",
            "Epoch 452/700\n",
            "74/74 [==============================] - 0s 5ms/step - loss: 1.8815 - r2: 0.9073 - mae: 1.8815 - val_loss: 2.4780 - val_r2: 0.8658 - val_mae: 2.4780\n",
            "Epoch 453/700\n",
            "74/74 [==============================] - 0s 6ms/step - loss: 1.9103 - r2: 0.8980 - mae: 1.9103 - val_loss: 2.6042 - val_r2: 0.8529 - val_mae: 2.6042\n",
            "Epoch 454/700\n",
            "74/74 [==============================] - 0s 5ms/step - loss: 1.9031 - r2: 0.9036 - mae: 1.9031 - val_loss: 2.5582 - val_r2: 0.8621 - val_mae: 2.5582\n",
            "Epoch 455/700\n",
            "74/74 [==============================] - 0s 5ms/step - loss: 1.9629 - r2: 0.8935 - mae: 1.9629 - val_loss: 2.6836 - val_r2: 0.8454 - val_mae: 2.6836\n",
            "Epoch 456/700\n",
            "74/74 [==============================] - 0s 6ms/step - loss: 1.9056 - r2: 0.9061 - mae: 1.9056 - val_loss: 2.5618 - val_r2: 0.8553 - val_mae: 2.5618\n",
            "Epoch 457/700\n",
            "74/74 [==============================] - 0s 5ms/step - loss: 1.9093 - r2: 0.9013 - mae: 1.9093 - val_loss: 2.6747 - val_r2: 0.8409 - val_mae: 2.6747\n",
            "Epoch 458/700\n",
            "74/74 [==============================] - 0s 5ms/step - loss: 1.8754 - r2: 0.9030 - mae: 1.8754 - val_loss: 2.7184 - val_r2: 0.8539 - val_mae: 2.7184\n",
            "Epoch 459/700\n",
            "74/74 [==============================] - 0s 5ms/step - loss: 1.9452 - r2: 0.8983 - mae: 1.9452 - val_loss: 2.6723 - val_r2: 0.8579 - val_mae: 2.6723\n",
            "Epoch 460/700\n",
            "74/74 [==============================] - 0s 6ms/step - loss: 1.8924 - r2: 0.9083 - mae: 1.8924 - val_loss: 2.5735 - val_r2: 0.8639 - val_mae: 2.5735\n",
            "Epoch 461/700\n",
            "74/74 [==============================] - 0s 5ms/step - loss: 1.8334 - r2: 0.9117 - mae: 1.8334 - val_loss: 2.5527 - val_r2: 0.8592 - val_mae: 2.5527\n",
            "Epoch 462/700\n",
            "74/74 [==============================] - 0s 5ms/step - loss: 1.9142 - r2: 0.9021 - mae: 1.9142 - val_loss: 2.4576 - val_r2: 0.8681 - val_mae: 2.4576\n",
            "Epoch 463/700\n",
            "74/74 [==============================] - 0s 5ms/step - loss: 1.8765 - r2: 0.9056 - mae: 1.8765 - val_loss: 2.6003 - val_r2: 0.8595 - val_mae: 2.6003\n",
            "Epoch 464/700\n",
            "74/74 [==============================] - 0s 5ms/step - loss: 1.8336 - r2: 0.9131 - mae: 1.8336 - val_loss: 2.5552 - val_r2: 0.8606 - val_mae: 2.5552\n",
            "Epoch 465/700\n",
            "74/74 [==============================] - 0s 6ms/step - loss: 1.8563 - r2: 0.9086 - mae: 1.8563 - val_loss: 2.6089 - val_r2: 0.8625 - val_mae: 2.6089\n",
            "Epoch 466/700\n",
            "74/74 [==============================] - 0s 5ms/step - loss: 1.8932 - r2: 0.9071 - mae: 1.8932 - val_loss: 2.5932 - val_r2: 0.8622 - val_mae: 2.5932\n",
            "Epoch 467/700\n",
            "74/74 [==============================] - 0s 6ms/step - loss: 1.8573 - r2: 0.9046 - mae: 1.8573 - val_loss: 2.5331 - val_r2: 0.8599 - val_mae: 2.5331\n",
            "Epoch 468/700\n",
            "74/74 [==============================] - 0s 5ms/step - loss: 1.8286 - r2: 0.9132 - mae: 1.8286 - val_loss: 2.3103 - val_r2: 0.8829 - val_mae: 2.3103\n",
            "Epoch 469/700\n",
            "74/74 [==============================] - 0s 5ms/step - loss: 1.7936 - r2: 0.9173 - mae: 1.7936 - val_loss: 2.4878 - val_r2: 0.8638 - val_mae: 2.4878\n",
            "Epoch 470/700\n",
            "74/74 [==============================] - 0s 5ms/step - loss: 1.8424 - r2: 0.9049 - mae: 1.8424 - val_loss: 2.5287 - val_r2: 0.8690 - val_mae: 2.5287\n",
            "Epoch 471/700\n",
            "74/74 [==============================] - 0s 5ms/step - loss: 1.8355 - r2: 0.9103 - mae: 1.8355 - val_loss: 2.6413 - val_r2: 0.8568 - val_mae: 2.6413\n",
            "Epoch 472/700\n",
            "74/74 [==============================] - 0s 5ms/step - loss: 1.8403 - r2: 0.9096 - mae: 1.8403 - val_loss: 2.4599 - val_r2: 0.8654 - val_mae: 2.4599\n",
            "Epoch 473/700\n",
            "74/74 [==============================] - 0s 5ms/step - loss: 1.8564 - r2: 0.9105 - mae: 1.8564 - val_loss: 2.4744 - val_r2: 0.8700 - val_mae: 2.4744\n",
            "Epoch 474/700\n",
            "74/74 [==============================] - 0s 5ms/step - loss: 1.8399 - r2: 0.9095 - mae: 1.8399 - val_loss: 2.5256 - val_r2: 0.8659 - val_mae: 2.5256\n",
            "Epoch 475/700\n",
            "74/74 [==============================] - 0s 6ms/step - loss: 1.7678 - r2: 0.9152 - mae: 1.7678 - val_loss: 2.5363 - val_r2: 0.8569 - val_mae: 2.5363\n",
            "Epoch 476/700\n",
            "74/74 [==============================] - 0s 5ms/step - loss: 1.8612 - r2: 0.9020 - mae: 1.8612 - val_loss: 2.5435 - val_r2: 0.8556 - val_mae: 2.5435\n",
            "Epoch 477/700\n",
            "74/74 [==============================] - 0s 5ms/step - loss: 1.8285 - r2: 0.9145 - mae: 1.8285 - val_loss: 2.5180 - val_r2: 0.8572 - val_mae: 2.5180\n",
            "Epoch 478/700\n",
            "74/74 [==============================] - 0s 6ms/step - loss: 1.8699 - r2: 0.9023 - mae: 1.8699 - val_loss: 2.5640 - val_r2: 0.8578 - val_mae: 2.5640\n",
            "Epoch 479/700\n",
            "74/74 [==============================] - 0s 5ms/step - loss: 1.8491 - r2: 0.9091 - mae: 1.8491 - val_loss: 2.5915 - val_r2: 0.8606 - val_mae: 2.5915\n",
            "Epoch 480/700\n",
            "74/74 [==============================] - 0s 5ms/step - loss: 1.8559 - r2: 0.9106 - mae: 1.8559 - val_loss: 2.5239 - val_r2: 0.8711 - val_mae: 2.5239\n",
            "Epoch 481/700\n",
            "74/74 [==============================] - 0s 5ms/step - loss: 1.8574 - r2: 0.9078 - mae: 1.8574 - val_loss: 2.7008 - val_r2: 0.8502 - val_mae: 2.7008\n",
            "Epoch 482/700\n",
            "74/74 [==============================] - 0s 5ms/step - loss: 1.8202 - r2: 0.9136 - mae: 1.8202 - val_loss: 2.5800 - val_r2: 0.8512 - val_mae: 2.5800\n",
            "Epoch 483/700\n",
            "74/74 [==============================] - 0s 6ms/step - loss: 1.8641 - r2: 0.9061 - mae: 1.8641 - val_loss: 2.5829 - val_r2: 0.8568 - val_mae: 2.5829\n",
            "Epoch 484/700\n",
            "74/74 [==============================] - 0s 5ms/step - loss: 1.8281 - r2: 0.9111 - mae: 1.8281 - val_loss: 2.6000 - val_r2: 0.8575 - val_mae: 2.6000\n",
            "Epoch 485/700\n",
            "74/74 [==============================] - 0s 6ms/step - loss: 1.8849 - r2: 0.9005 - mae: 1.8849 - val_loss: 2.3778 - val_r2: 0.8763 - val_mae: 2.3778\n",
            "Epoch 486/700\n",
            "74/74 [==============================] - 0s 6ms/step - loss: 1.8461 - r2: 0.9047 - mae: 1.8461 - val_loss: 2.5297 - val_r2: 0.8709 - val_mae: 2.5297\n",
            "Epoch 487/700\n",
            "74/74 [==============================] - 0s 5ms/step - loss: 1.8105 - r2: 0.9153 - mae: 1.8105 - val_loss: 2.3612 - val_r2: 0.8762 - val_mae: 2.3612\n",
            "Epoch 488/700\n",
            "74/74 [==============================] - 0s 5ms/step - loss: 1.8156 - r2: 0.9138 - mae: 1.8156 - val_loss: 2.4669 - val_r2: 0.8698 - val_mae: 2.4669\n",
            "Epoch 489/700\n",
            "74/74 [==============================] - 0s 5ms/step - loss: 1.8444 - r2: 0.9096 - mae: 1.8444 - val_loss: 2.5266 - val_r2: 0.8631 - val_mae: 2.5266\n",
            "Epoch 490/700\n",
            "74/74 [==============================] - 0s 6ms/step - loss: 1.8357 - r2: 0.9076 - mae: 1.8357 - val_loss: 2.4495 - val_r2: 0.8656 - val_mae: 2.4495\n",
            "Epoch 491/700\n",
            "74/74 [==============================] - 0s 5ms/step - loss: 1.7954 - r2: 0.9178 - mae: 1.7954 - val_loss: 2.5464 - val_r2: 0.8675 - val_mae: 2.5464\n",
            "Epoch 492/700\n",
            "74/74 [==============================] - 0s 5ms/step - loss: 1.8024 - r2: 0.9171 - mae: 1.8024 - val_loss: 2.4777 - val_r2: 0.8700 - val_mae: 2.4777\n",
            "Epoch 493/700\n",
            "74/74 [==============================] - 0s 5ms/step - loss: 1.8002 - r2: 0.9170 - mae: 1.8002 - val_loss: 2.3893 - val_r2: 0.8767 - val_mae: 2.3893\n",
            "Epoch 494/700\n",
            "74/74 [==============================] - 0s 5ms/step - loss: 1.8129 - r2: 0.9104 - mae: 1.8129 - val_loss: 2.4838 - val_r2: 0.8675 - val_mae: 2.4838\n",
            "Epoch 495/700\n",
            "74/74 [==============================] - 0s 5ms/step - loss: 1.8036 - r2: 0.9151 - mae: 1.8036 - val_loss: 2.4560 - val_r2: 0.8618 - val_mae: 2.4560\n",
            "Epoch 496/700\n",
            "74/74 [==============================] - 0s 5ms/step - loss: 1.8040 - r2: 0.9145 - mae: 1.8040 - val_loss: 2.7034 - val_r2: 0.8574 - val_mae: 2.7034\n",
            "Epoch 497/700\n",
            "74/74 [==============================] - 0s 5ms/step - loss: 1.7621 - r2: 0.9199 - mae: 1.7621 - val_loss: 2.5629 - val_r2: 0.8608 - val_mae: 2.5629\n",
            "Epoch 498/700\n",
            "74/74 [==============================] - 0s 5ms/step - loss: 1.7737 - r2: 0.9182 - mae: 1.7737 - val_loss: 2.3916 - val_r2: 0.8704 - val_mae: 2.3916\n",
            "Epoch 499/700\n",
            "74/74 [==============================] - 0s 5ms/step - loss: 1.7531 - r2: 0.9241 - mae: 1.7531 - val_loss: 2.3726 - val_r2: 0.8742 - val_mae: 2.3726\n",
            "Epoch 500/700\n",
            "74/74 [==============================] - 0s 5ms/step - loss: 1.7983 - r2: 0.9127 - mae: 1.7983 - val_loss: 2.4083 - val_r2: 0.8688 - val_mae: 2.4083\n",
            "Epoch 501/700\n",
            "74/74 [==============================] - 0s 6ms/step - loss: 1.7905 - r2: 0.9188 - mae: 1.7905 - val_loss: 2.4017 - val_r2: 0.8777 - val_mae: 2.4017\n",
            "Epoch 502/700\n",
            "74/74 [==============================] - 0s 6ms/step - loss: 1.7952 - r2: 0.9110 - mae: 1.7952 - val_loss: 2.3510 - val_r2: 0.8716 - val_mae: 2.3510\n",
            "Epoch 503/700\n",
            "74/74 [==============================] - 0s 5ms/step - loss: 1.8414 - r2: 0.9064 - mae: 1.8414 - val_loss: 2.4625 - val_r2: 0.8606 - val_mae: 2.4625\n",
            "Epoch 504/700\n",
            "74/74 [==============================] - 0s 6ms/step - loss: 1.8624 - r2: 0.9097 - mae: 1.8624 - val_loss: 2.4892 - val_r2: 0.8537 - val_mae: 2.4892\n",
            "Epoch 505/700\n",
            "74/74 [==============================] - 0s 5ms/step - loss: 1.8364 - r2: 0.9093 - mae: 1.8364 - val_loss: 2.3961 - val_r2: 0.8637 - val_mae: 2.3961\n",
            "Epoch 506/700\n",
            "74/74 [==============================] - 0s 6ms/step - loss: 1.8178 - r2: 0.9119 - mae: 1.8178 - val_loss: 2.5391 - val_r2: 0.8634 - val_mae: 2.5391\n",
            "Epoch 507/700\n",
            "74/74 [==============================] - 0s 5ms/step - loss: 1.7745 - r2: 0.9183 - mae: 1.7745 - val_loss: 2.5208 - val_r2: 0.8645 - val_mae: 2.5208\n",
            "Epoch 508/700\n",
            "74/74 [==============================] - 0s 5ms/step - loss: 1.7913 - r2: 0.9125 - mae: 1.7913 - val_loss: 2.4393 - val_r2: 0.8675 - val_mae: 2.4393\n",
            "Epoch 509/700\n",
            "74/74 [==============================] - 0s 6ms/step - loss: 1.9737 - r2: 0.8712 - mae: 1.9737 - val_loss: 2.4263 - val_r2: 0.8689 - val_mae: 2.4263\n",
            "Epoch 510/700\n",
            "74/74 [==============================] - 0s 6ms/step - loss: 1.7614 - r2: 0.9172 - mae: 1.7614 - val_loss: 2.5470 - val_r2: 0.8579 - val_mae: 2.5470\n",
            "Epoch 511/700\n",
            "74/74 [==============================] - 0s 5ms/step - loss: 1.8000 - r2: 0.9158 - mae: 1.8000 - val_loss: 2.5638 - val_r2: 0.8569 - val_mae: 2.5638\n",
            "Epoch 512/700\n",
            "74/74 [==============================] - 0s 5ms/step - loss: 1.8193 - r2: 0.9083 - mae: 1.8193 - val_loss: 2.3740 - val_r2: 0.8645 - val_mae: 2.3740\n",
            "Epoch 513/700\n",
            "74/74 [==============================] - 0s 6ms/step - loss: 1.7928 - r2: 0.9128 - mae: 1.7928 - val_loss: 2.5944 - val_r2: 0.8573 - val_mae: 2.5944\n",
            "Epoch 514/700\n",
            "74/74 [==============================] - 0s 5ms/step - loss: 1.8250 - r2: 0.9102 - mae: 1.8250 - val_loss: 2.3847 - val_r2: 0.8750 - val_mae: 2.3847\n",
            "Epoch 515/700\n",
            "74/74 [==============================] - 0s 6ms/step - loss: 1.7609 - r2: 0.9142 - mae: 1.7609 - val_loss: 2.4687 - val_r2: 0.8704 - val_mae: 2.4687\n",
            "Epoch 516/700\n",
            "74/74 [==============================] - 0s 5ms/step - loss: 1.8128 - r2: 0.9096 - mae: 1.8128 - val_loss: 2.4262 - val_r2: 0.8718 - val_mae: 2.4262\n",
            "Epoch 517/700\n",
            "74/74 [==============================] - 0s 5ms/step - loss: 1.7550 - r2: 0.9153 - mae: 1.7550 - val_loss: 2.2620 - val_r2: 0.8798 - val_mae: 2.2620\n",
            "Epoch 518/700\n",
            "74/74 [==============================] - 0s 5ms/step - loss: 1.8196 - r2: 0.9052 - mae: 1.8196 - val_loss: 2.4352 - val_r2: 0.8743 - val_mae: 2.4352\n",
            "Epoch 519/700\n",
            "74/74 [==============================] - 0s 5ms/step - loss: 1.7911 - r2: 0.9178 - mae: 1.7911 - val_loss: 2.4495 - val_r2: 0.8671 - val_mae: 2.4495\n",
            "Epoch 520/700\n",
            "74/74 [==============================] - 0s 5ms/step - loss: 1.7938 - r2: 0.9160 - mae: 1.7938 - val_loss: 2.3955 - val_r2: 0.8697 - val_mae: 2.3955\n",
            "Epoch 521/700\n",
            "74/74 [==============================] - 0s 5ms/step - loss: 1.7286 - r2: 0.9162 - mae: 1.7286 - val_loss: 2.4269 - val_r2: 0.8699 - val_mae: 2.4269\n",
            "Epoch 522/700\n",
            "74/74 [==============================] - 0s 5ms/step - loss: 1.8116 - r2: 0.9092 - mae: 1.8116 - val_loss: 2.3979 - val_r2: 0.8648 - val_mae: 2.3979\n",
            "Epoch 523/700\n",
            "74/74 [==============================] - 0s 6ms/step - loss: 1.8103 - r2: 0.9056 - mae: 1.8103 - val_loss: 2.4378 - val_r2: 0.8630 - val_mae: 2.4378\n",
            "Epoch 524/700\n",
            "74/74 [==============================] - 0s 6ms/step - loss: 1.8289 - r2: 0.9046 - mae: 1.8289 - val_loss: 2.4716 - val_r2: 0.8619 - val_mae: 2.4716\n",
            "Epoch 525/700\n",
            "74/74 [==============================] - 0s 6ms/step - loss: 1.8225 - r2: 0.9064 - mae: 1.8225 - val_loss: 2.4457 - val_r2: 0.8661 - val_mae: 2.4457\n",
            "Epoch 526/700\n",
            "74/74 [==============================] - 0s 5ms/step - loss: 1.8089 - r2: 0.9138 - mae: 1.8089 - val_loss: 2.4812 - val_r2: 0.8646 - val_mae: 2.4812\n",
            "Epoch 527/700\n",
            "74/74 [==============================] - 0s 6ms/step - loss: 1.7567 - r2: 0.9195 - mae: 1.7567 - val_loss: 2.4671 - val_r2: 0.8643 - val_mae: 2.4671\n",
            "Epoch 528/700\n",
            "74/74 [==============================] - 0s 6ms/step - loss: 1.7965 - r2: 0.9161 - mae: 1.7965 - val_loss: 2.6844 - val_r2: 0.8367 - val_mae: 2.6844\n",
            "Epoch 529/700\n",
            "74/74 [==============================] - 0s 5ms/step - loss: 1.7841 - r2: 0.9169 - mae: 1.7841 - val_loss: 2.4367 - val_r2: 0.8645 - val_mae: 2.4367\n",
            "Epoch 530/700\n",
            "74/74 [==============================] - 0s 6ms/step - loss: 1.7226 - r2: 0.9260 - mae: 1.7226 - val_loss: 2.5100 - val_r2: 0.8622 - val_mae: 2.5100\n",
            "Epoch 531/700\n",
            "74/74 [==============================] - 0s 5ms/step - loss: 1.7500 - r2: 0.9180 - mae: 1.7500 - val_loss: 2.6228 - val_r2: 0.8480 - val_mae: 2.6228\n",
            "Epoch 532/700\n",
            "74/74 [==============================] - 0s 5ms/step - loss: 1.7875 - r2: 0.9146 - mae: 1.7875 - val_loss: 2.4657 - val_r2: 0.8669 - val_mae: 2.4657\n",
            "Epoch 533/700\n",
            "74/74 [==============================] - 0s 5ms/step - loss: 1.7441 - r2: 0.9192 - mae: 1.7441 - val_loss: 2.5630 - val_r2: 0.8585 - val_mae: 2.5630\n",
            "Epoch 534/700\n",
            "74/74 [==============================] - 0s 5ms/step - loss: 1.7854 - r2: 0.9118 - mae: 1.7854 - val_loss: 2.4674 - val_r2: 0.8615 - val_mae: 2.4674\n",
            "Epoch 535/700\n",
            "74/74 [==============================] - 0s 5ms/step - loss: 1.8005 - r2: 0.9157 - mae: 1.8005 - val_loss: 2.2040 - val_r2: 0.8885 - val_mae: 2.2040\n",
            "Epoch 536/700\n",
            "74/74 [==============================] - 0s 5ms/step - loss: 1.7729 - r2: 0.9137 - mae: 1.7729 - val_loss: 2.4368 - val_r2: 0.8651 - val_mae: 2.4368\n",
            "Epoch 537/700\n",
            "74/74 [==============================] - 0s 5ms/step - loss: 1.7268 - r2: 0.9205 - mae: 1.7268 - val_loss: 2.5006 - val_r2: 0.8670 - val_mae: 2.5006\n",
            "Epoch 538/700\n",
            "74/74 [==============================] - 0s 5ms/step - loss: 1.7266 - r2: 0.9227 - mae: 1.7266 - val_loss: 2.4128 - val_r2: 0.8726 - val_mae: 2.4128\n",
            "Epoch 539/700\n",
            "74/74 [==============================] - 0s 6ms/step - loss: 1.7319 - r2: 0.9204 - mae: 1.7319 - val_loss: 2.4524 - val_r2: 0.8584 - val_mae: 2.4524\n",
            "Epoch 540/700\n",
            "74/74 [==============================] - 0s 6ms/step - loss: 1.7781 - r2: 0.9161 - mae: 1.7781 - val_loss: 2.4599 - val_r2: 0.8587 - val_mae: 2.4599\n",
            "Epoch 541/700\n",
            "74/74 [==============================] - 0s 5ms/step - loss: 1.7516 - r2: 0.9154 - mae: 1.7516 - val_loss: 2.4630 - val_r2: 0.8711 - val_mae: 2.4630\n",
            "Epoch 542/700\n",
            "74/74 [==============================] - 0s 6ms/step - loss: 1.7315 - r2: 0.9167 - mae: 1.7315 - val_loss: 2.5251 - val_r2: 0.8647 - val_mae: 2.5251\n",
            "Epoch 543/700\n",
            "74/74 [==============================] - 0s 6ms/step - loss: 1.7271 - r2: 0.9176 - mae: 1.7271 - val_loss: 2.5538 - val_r2: 0.8560 - val_mae: 2.5538\n",
            "Epoch 544/700\n",
            "74/74 [==============================] - 0s 5ms/step - loss: 1.8074 - r2: 0.9098 - mae: 1.8074 - val_loss: 2.7220 - val_r2: 0.8534 - val_mae: 2.7220\n",
            "Epoch 545/700\n",
            "74/74 [==============================] - 0s 5ms/step - loss: 1.7542 - r2: 0.9194 - mae: 1.7542 - val_loss: 2.3796 - val_r2: 0.8596 - val_mae: 2.3796\n",
            "Epoch 546/700\n",
            "74/74 [==============================] - 0s 6ms/step - loss: 1.8115 - r2: 0.9084 - mae: 1.8115 - val_loss: 2.4179 - val_r2: 0.8657 - val_mae: 2.4179\n",
            "Epoch 547/700\n",
            "74/74 [==============================] - 0s 5ms/step - loss: 1.8297 - r2: 0.9047 - mae: 1.8297 - val_loss: 2.4023 - val_r2: 0.8731 - val_mae: 2.4023\n",
            "Epoch 548/700\n",
            "74/74 [==============================] - 0s 5ms/step - loss: 1.8314 - r2: 0.9036 - mae: 1.8314 - val_loss: 2.4328 - val_r2: 0.8719 - val_mae: 2.4328\n",
            "Epoch 549/700\n",
            "74/74 [==============================] - 0s 5ms/step - loss: 2.0616 - r2: 0.8590 - mae: 2.0616 - val_loss: 2.5334 - val_r2: 0.8578 - val_mae: 2.5334\n",
            "Epoch 550/700\n",
            "74/74 [==============================] - 0s 5ms/step - loss: 1.8351 - r2: 0.9056 - mae: 1.8351 - val_loss: 2.3494 - val_r2: 0.8685 - val_mae: 2.3494\n",
            "Epoch 551/700\n",
            "74/74 [==============================] - 0s 5ms/step - loss: 1.7921 - r2: 0.9087 - mae: 1.7921 - val_loss: 2.4079 - val_r2: 0.8644 - val_mae: 2.4079\n",
            "Epoch 552/700\n",
            "74/74 [==============================] - 0s 6ms/step - loss: 1.7871 - r2: 0.9147 - mae: 1.7871 - val_loss: 2.5512 - val_r2: 0.8642 - val_mae: 2.5512\n",
            "Epoch 553/700\n",
            "74/74 [==============================] - 0s 6ms/step - loss: 1.7911 - r2: 0.9110 - mae: 1.7911 - val_loss: 2.4243 - val_r2: 0.8677 - val_mae: 2.4243\n",
            "Epoch 554/700\n",
            "74/74 [==============================] - 0s 5ms/step - loss: 1.8175 - r2: 0.9083 - mae: 1.8175 - val_loss: 2.3725 - val_r2: 0.8722 - val_mae: 2.3725\n",
            "Epoch 555/700\n",
            "74/74 [==============================] - 0s 5ms/step - loss: 1.7554 - r2: 0.9177 - mae: 1.7554 - val_loss: 2.4131 - val_r2: 0.8655 - val_mae: 2.4131\n",
            "Epoch 556/700\n",
            "74/74 [==============================] - 0s 5ms/step - loss: 1.7522 - r2: 0.9160 - mae: 1.7522 - val_loss: 2.4996 - val_r2: 0.8644 - val_mae: 2.4996\n",
            "Epoch 557/700\n",
            "74/74 [==============================] - 0s 6ms/step - loss: 1.7307 - r2: 0.9182 - mae: 1.7307 - val_loss: 2.4513 - val_r2: 0.8726 - val_mae: 2.4513\n",
            "Epoch 558/700\n",
            "74/74 [==============================] - 0s 5ms/step - loss: 1.7336 - r2: 0.9196 - mae: 1.7336 - val_loss: 2.3486 - val_r2: 0.8767 - val_mae: 2.3486\n",
            "Epoch 559/700\n",
            "74/74 [==============================] - 0s 6ms/step - loss: 1.7325 - r2: 0.9209 - mae: 1.7325 - val_loss: 2.3417 - val_r2: 0.8697 - val_mae: 2.3417\n",
            "Epoch 560/700\n",
            "74/74 [==============================] - 0s 5ms/step - loss: 1.7245 - r2: 0.9208 - mae: 1.7245 - val_loss: 2.6482 - val_r2: 0.8542 - val_mae: 2.6482\n",
            "Epoch 561/700\n",
            "74/74 [==============================] - 0s 5ms/step - loss: 1.7658 - r2: 0.9171 - mae: 1.7658 - val_loss: 2.4162 - val_r2: 0.8685 - val_mae: 2.4162\n",
            "Epoch 562/700\n",
            "74/74 [==============================] - 0s 5ms/step - loss: 1.8118 - r2: 0.9034 - mae: 1.8118 - val_loss: 2.4489 - val_r2: 0.8674 - val_mae: 2.4489\n",
            "Epoch 563/700\n",
            "74/74 [==============================] - 0s 5ms/step - loss: 1.7886 - r2: 0.9107 - mae: 1.7886 - val_loss: 2.3937 - val_r2: 0.8701 - val_mae: 2.3937\n",
            "Epoch 564/700\n",
            "74/74 [==============================] - 0s 5ms/step - loss: 1.7541 - r2: 0.9144 - mae: 1.7541 - val_loss: 2.4933 - val_r2: 0.8689 - val_mae: 2.4933\n",
            "Epoch 565/700\n",
            "74/74 [==============================] - 0s 6ms/step - loss: 1.7576 - r2: 0.9084 - mae: 1.7576 - val_loss: 2.5171 - val_r2: 0.8600 - val_mae: 2.5171\n",
            "Epoch 566/700\n",
            "74/74 [==============================] - 0s 5ms/step - loss: 1.6978 - r2: 0.9209 - mae: 1.6978 - val_loss: 2.5013 - val_r2: 0.8600 - val_mae: 2.5013\n",
            "Epoch 567/700\n",
            "74/74 [==============================] - 0s 6ms/step - loss: 1.7140 - r2: 0.9243 - mae: 1.7140 - val_loss: 2.4860 - val_r2: 0.8658 - val_mae: 2.4860\n",
            "Epoch 568/700\n",
            "74/74 [==============================] - 0s 5ms/step - loss: 1.7176 - r2: 0.9217 - mae: 1.7176 - val_loss: 2.6757 - val_r2: 0.8482 - val_mae: 2.6757\n",
            "Epoch 569/700\n",
            "74/74 [==============================] - 0s 6ms/step - loss: 1.7087 - r2: 0.9204 - mae: 1.7087 - val_loss: 2.2832 - val_r2: 0.8765 - val_mae: 2.2832\n",
            "Epoch 570/700\n",
            "74/74 [==============================] - 0s 6ms/step - loss: 1.7040 - r2: 0.9219 - mae: 1.7040 - val_loss: 2.4107 - val_r2: 0.8625 - val_mae: 2.4107\n",
            "Epoch 571/700\n",
            "74/74 [==============================] - 0s 6ms/step - loss: 1.7858 - r2: 0.9090 - mae: 1.7858 - val_loss: 2.4362 - val_r2: 0.8658 - val_mae: 2.4362\n",
            "Epoch 572/700\n",
            "74/74 [==============================] - 0s 5ms/step - loss: 1.7485 - r2: 0.9124 - mae: 1.7485 - val_loss: 2.4566 - val_r2: 0.8671 - val_mae: 2.4566\n",
            "Epoch 573/700\n",
            "74/74 [==============================] - 0s 5ms/step - loss: 1.8271 - r2: 0.9057 - mae: 1.8271 - val_loss: 2.5471 - val_r2: 0.8595 - val_mae: 2.5471\n",
            "Epoch 574/700\n",
            "74/74 [==============================] - 0s 5ms/step - loss: 1.7758 - r2: 0.9114 - mae: 1.7758 - val_loss: 2.4105 - val_r2: 0.8666 - val_mae: 2.4105\n",
            "Epoch 575/700\n",
            "74/74 [==============================] - 0s 5ms/step - loss: 1.7013 - r2: 0.9214 - mae: 1.7013 - val_loss: 2.6127 - val_r2: 0.8579 - val_mae: 2.6127\n",
            "Epoch 576/700\n",
            "74/74 [==============================] - 0s 5ms/step - loss: 1.7616 - r2: 0.9156 - mae: 1.7616 - val_loss: 2.3512 - val_r2: 0.8639 - val_mae: 2.3512\n",
            "Epoch 577/700\n",
            "74/74 [==============================] - 0s 5ms/step - loss: 1.7908 - r2: 0.9144 - mae: 1.7908 - val_loss: 2.4994 - val_r2: 0.8625 - val_mae: 2.4994\n",
            "Epoch 578/700\n",
            "74/74 [==============================] - 0s 5ms/step - loss: 1.7467 - r2: 0.9180 - mae: 1.7467 - val_loss: 2.5336 - val_r2: 0.8578 - val_mae: 2.5336\n",
            "Epoch 579/700\n",
            "74/74 [==============================] - 0s 5ms/step - loss: 1.6991 - r2: 0.9220 - mae: 1.6991 - val_loss: 2.5380 - val_r2: 0.8591 - val_mae: 2.5380\n",
            "Epoch 580/700\n",
            "74/74 [==============================] - 0s 5ms/step - loss: 1.7284 - r2: 0.9201 - mae: 1.7284 - val_loss: 2.4396 - val_r2: 0.8629 - val_mae: 2.4396\n",
            "Epoch 581/700\n",
            "74/74 [==============================] - 0s 5ms/step - loss: 1.7497 - r2: 0.9183 - mae: 1.7497 - val_loss: 2.4943 - val_r2: 0.8618 - val_mae: 2.4943\n",
            "Epoch 582/700\n",
            "74/74 [==============================] - 0s 6ms/step - loss: 1.7078 - r2: 0.9194 - mae: 1.7078 - val_loss: 2.4525 - val_r2: 0.8678 - val_mae: 2.4525\n",
            "Epoch 583/700\n",
            "74/74 [==============================] - 0s 6ms/step - loss: 1.7257 - r2: 0.9193 - mae: 1.7257 - val_loss: 2.3372 - val_r2: 0.8717 - val_mae: 2.3372\n",
            "Epoch 584/700\n",
            "74/74 [==============================] - 0s 6ms/step - loss: 1.7379 - r2: 0.9162 - mae: 1.7379 - val_loss: 2.3386 - val_r2: 0.8709 - val_mae: 2.3386\n",
            "Epoch 585/700\n",
            "74/74 [==============================] - 0s 6ms/step - loss: 1.6703 - r2: 0.9220 - mae: 1.6703 - val_loss: 2.4339 - val_r2: 0.8632 - val_mae: 2.4339\n",
            "Epoch 586/700\n",
            "74/74 [==============================] - 0s 6ms/step - loss: 1.6871 - r2: 0.9204 - mae: 1.6871 - val_loss: 2.3974 - val_r2: 0.8648 - val_mae: 2.3974\n",
            "Epoch 587/700\n",
            "74/74 [==============================] - 0s 5ms/step - loss: 1.7537 - r2: 0.9149 - mae: 1.7537 - val_loss: 2.5455 - val_r2: 0.8530 - val_mae: 2.5455\n",
            "Epoch 588/700\n",
            "74/74 [==============================] - 0s 6ms/step - loss: 1.7549 - r2: 0.9176 - mae: 1.7549 - val_loss: 2.3656 - val_r2: 0.8736 - val_mae: 2.3656\n",
            "Epoch 589/700\n",
            "74/74 [==============================] - 0s 5ms/step - loss: 1.7530 - r2: 0.9165 - mae: 1.7530 - val_loss: 2.5244 - val_r2: 0.8676 - val_mae: 2.5244\n",
            "Epoch 590/700\n",
            "74/74 [==============================] - 0s 5ms/step - loss: 1.7856 - r2: 0.9055 - mae: 1.7856 - val_loss: 2.3703 - val_r2: 0.8703 - val_mae: 2.3703\n",
            "Epoch 591/700\n",
            "74/74 [==============================] - 0s 6ms/step - loss: 1.7052 - r2: 0.9220 - mae: 1.7052 - val_loss: 2.4368 - val_r2: 0.8662 - val_mae: 2.4368\n",
            "Epoch 592/700\n",
            "74/74 [==============================] - 0s 5ms/step - loss: 1.6889 - r2: 0.9250 - mae: 1.6889 - val_loss: 2.3546 - val_r2: 0.8681 - val_mae: 2.3546\n",
            "Epoch 593/700\n",
            "74/74 [==============================] - 0s 6ms/step - loss: 1.6517 - r2: 0.9272 - mae: 1.6517 - val_loss: 2.4367 - val_r2: 0.8705 - val_mae: 2.4367\n",
            "Epoch 594/700\n",
            "74/74 [==============================] - 0s 5ms/step - loss: 1.7214 - r2: 0.9200 - mae: 1.7214 - val_loss: 2.4713 - val_r2: 0.8744 - val_mae: 2.4713\n",
            "Epoch 595/700\n",
            "74/74 [==============================] - 0s 5ms/step - loss: 1.7494 - r2: 0.9151 - mae: 1.7494 - val_loss: 2.4577 - val_r2: 0.8666 - val_mae: 2.4577\n",
            "Epoch 596/700\n",
            "74/74 [==============================] - 0s 5ms/step - loss: 1.7624 - r2: 0.9145 - mae: 1.7624 - val_loss: 2.4853 - val_r2: 0.8645 - val_mae: 2.4853\n",
            "Epoch 597/700\n",
            "74/74 [==============================] - 0s 5ms/step - loss: 1.7144 - r2: 0.9241 - mae: 1.7144 - val_loss: 2.3955 - val_r2: 0.8686 - val_mae: 2.3955\n",
            "Epoch 598/700\n",
            "74/74 [==============================] - 0s 5ms/step - loss: 1.6822 - r2: 0.9275 - mae: 1.6822 - val_loss: 2.5097 - val_r2: 0.8504 - val_mae: 2.5097\n",
            "Epoch 599/700\n",
            "74/74 [==============================] - 0s 5ms/step - loss: 1.7011 - r2: 0.9185 - mae: 1.7011 - val_loss: 2.3070 - val_r2: 0.8768 - val_mae: 2.3070\n",
            "Epoch 600/700\n",
            "74/74 [==============================] - 0s 6ms/step - loss: 1.7212 - r2: 0.9168 - mae: 1.7212 - val_loss: 2.5437 - val_r2: 0.8630 - val_mae: 2.5437\n",
            "Epoch 601/700\n",
            "74/74 [==============================] - 0s 5ms/step - loss: 1.6726 - r2: 0.9237 - mae: 1.6726 - val_loss: 2.4538 - val_r2: 0.8663 - val_mae: 2.4538\n",
            "Epoch 602/700\n",
            "74/74 [==============================] - 0s 6ms/step - loss: 1.7028 - r2: 0.9198 - mae: 1.7028 - val_loss: 2.5050 - val_r2: 0.8664 - val_mae: 2.5050\n",
            "Epoch 603/700\n",
            "74/74 [==============================] - 0s 5ms/step - loss: 1.7055 - r2: 0.9258 - mae: 1.7055 - val_loss: 2.2603 - val_r2: 0.8788 - val_mae: 2.2603\n",
            "Epoch 604/700\n",
            "74/74 [==============================] - 0s 5ms/step - loss: 1.6968 - r2: 0.9172 - mae: 1.6968 - val_loss: 2.4477 - val_r2: 0.8699 - val_mae: 2.4477\n",
            "Epoch 605/700\n",
            "74/74 [==============================] - 0s 6ms/step - loss: 1.7498 - r2: 0.9175 - mae: 1.7498 - val_loss: 2.4458 - val_r2: 0.8672 - val_mae: 2.4458\n",
            "Epoch 606/700\n",
            "74/74 [==============================] - 0s 6ms/step - loss: 1.7837 - r2: 0.9125 - mae: 1.7837 - val_loss: 2.4359 - val_r2: 0.8646 - val_mae: 2.4359\n",
            "Epoch 607/700\n",
            "74/74 [==============================] - 0s 6ms/step - loss: 1.6920 - r2: 0.9218 - mae: 1.6920 - val_loss: 2.4416 - val_r2: 0.8610 - val_mae: 2.4416\n",
            "Epoch 608/700\n",
            "74/74 [==============================] - 0s 5ms/step - loss: 1.6811 - r2: 0.9206 - mae: 1.6811 - val_loss: 2.2420 - val_r2: 0.8773 - val_mae: 2.2420\n",
            "Epoch 609/700\n",
            "74/74 [==============================] - 0s 5ms/step - loss: 1.6930 - r2: 0.9178 - mae: 1.6930 - val_loss: 2.3161 - val_r2: 0.8769 - val_mae: 2.3161\n",
            "Epoch 610/700\n",
            "74/74 [==============================] - 0s 5ms/step - loss: 1.7019 - r2: 0.9217 - mae: 1.7019 - val_loss: 2.2869 - val_r2: 0.8726 - val_mae: 2.2869\n",
            "Epoch 611/700\n",
            "74/74 [==============================] - 0s 5ms/step - loss: 1.7088 - r2: 0.9193 - mae: 1.7088 - val_loss: 2.3090 - val_r2: 0.8795 - val_mae: 2.3090\n",
            "Epoch 612/700\n",
            "74/74 [==============================] - 0s 5ms/step - loss: 1.7030 - r2: 0.9212 - mae: 1.7030 - val_loss: 2.2942 - val_r2: 0.8800 - val_mae: 2.2942\n",
            "Epoch 613/700\n",
            "74/74 [==============================] - 0s 6ms/step - loss: 1.6915 - r2: 0.9222 - mae: 1.6915 - val_loss: 2.5795 - val_r2: 0.8606 - val_mae: 2.5795\n",
            "Epoch 614/700\n",
            "74/74 [==============================] - 0s 5ms/step - loss: 1.6502 - r2: 0.9263 - mae: 1.6502 - val_loss: 2.3942 - val_r2: 0.8708 - val_mae: 2.3942\n",
            "Epoch 615/700\n",
            "74/74 [==============================] - 0s 5ms/step - loss: 1.6966 - r2: 0.9231 - mae: 1.6966 - val_loss: 2.3127 - val_r2: 0.8729 - val_mae: 2.3127\n",
            "Epoch 616/700\n",
            "74/74 [==============================] - 0s 5ms/step - loss: 1.6811 - r2: 0.9244 - mae: 1.6811 - val_loss: 2.4966 - val_r2: 0.8611 - val_mae: 2.4966\n",
            "Epoch 617/700\n",
            "74/74 [==============================] - 0s 5ms/step - loss: 1.6263 - r2: 0.9227 - mae: 1.6263 - val_loss: 2.4631 - val_r2: 0.8631 - val_mae: 2.4631\n",
            "Epoch 618/700\n",
            "74/74 [==============================] - 0s 6ms/step - loss: 1.7294 - r2: 0.9183 - mae: 1.7294 - val_loss: 2.3856 - val_r2: 0.8660 - val_mae: 2.3856\n",
            "Epoch 619/700\n",
            "74/74 [==============================] - 0s 5ms/step - loss: 1.7050 - r2: 0.9177 - mae: 1.7050 - val_loss: 2.2342 - val_r2: 0.8772 - val_mae: 2.2342\n",
            "Epoch 620/700\n",
            "74/74 [==============================] - 0s 5ms/step - loss: 1.6743 - r2: 0.9119 - mae: 1.6743 - val_loss: 2.3176 - val_r2: 0.8734 - val_mae: 2.3176\n",
            "Epoch 621/700\n",
            "74/74 [==============================] - 0s 5ms/step - loss: 1.7075 - r2: 0.9189 - mae: 1.7075 - val_loss: 2.2805 - val_r2: 0.8713 - val_mae: 2.2805\n",
            "Epoch 622/700\n",
            "74/74 [==============================] - 0s 5ms/step - loss: 1.7408 - r2: 0.9151 - mae: 1.7408 - val_loss: 2.5200 - val_r2: 0.8566 - val_mae: 2.5200\n",
            "Epoch 623/700\n",
            "74/74 [==============================] - 0s 5ms/step - loss: 1.7550 - r2: 0.9125 - mae: 1.7550 - val_loss: 2.4759 - val_r2: 0.8641 - val_mae: 2.4759\n",
            "Epoch 624/700\n",
            "74/74 [==============================] - 0s 6ms/step - loss: 1.7241 - r2: 0.9173 - mae: 1.7241 - val_loss: 2.3704 - val_r2: 0.8692 - val_mae: 2.3704\n",
            "Epoch 625/700\n",
            "74/74 [==============================] - 0s 6ms/step - loss: 1.7328 - r2: 0.9092 - mae: 1.7328 - val_loss: 2.4799 - val_r2: 0.8589 - val_mae: 2.4799\n",
            "Epoch 626/700\n",
            "74/74 [==============================] - 0s 5ms/step - loss: 1.7496 - r2: 0.9175 - mae: 1.7496 - val_loss: 2.4069 - val_r2: 0.8714 - val_mae: 2.4069\n",
            "Epoch 627/700\n",
            "74/74 [==============================] - 0s 5ms/step - loss: 1.6778 - r2: 0.9248 - mae: 1.6778 - val_loss: 2.2864 - val_r2: 0.8806 - val_mae: 2.2864\n",
            "Epoch 628/700\n",
            "74/74 [==============================] - 0s 6ms/step - loss: 1.6728 - r2: 0.9202 - mae: 1.6728 - val_loss: 2.4271 - val_r2: 0.8780 - val_mae: 2.4271\n",
            "Epoch 629/700\n",
            "74/74 [==============================] - 0s 5ms/step - loss: 1.7072 - r2: 0.9193 - mae: 1.7072 - val_loss: 2.4067 - val_r2: 0.8749 - val_mae: 2.4067\n",
            "Epoch 630/700\n",
            "74/74 [==============================] - 0s 5ms/step - loss: 1.7171 - r2: 0.9181 - mae: 1.7171 - val_loss: 2.2596 - val_r2: 0.8835 - val_mae: 2.2596\n",
            "Epoch 631/700\n",
            "74/74 [==============================] - 0s 6ms/step - loss: 1.7083 - r2: 0.9158 - mae: 1.7083 - val_loss: 2.3454 - val_r2: 0.8787 - val_mae: 2.3454\n",
            "Epoch 632/700\n",
            "74/74 [==============================] - 0s 6ms/step - loss: 1.7085 - r2: 0.9197 - mae: 1.7085 - val_loss: 2.3561 - val_r2: 0.8652 - val_mae: 2.3561\n",
            "Epoch 633/700\n",
            "74/74 [==============================] - 0s 6ms/step - loss: 1.6523 - r2: 0.9230 - mae: 1.6523 - val_loss: 2.3767 - val_r2: 0.8784 - val_mae: 2.3767\n",
            "Epoch 634/700\n",
            "74/74 [==============================] - 0s 6ms/step - loss: 1.7274 - r2: 0.9143 - mae: 1.7274 - val_loss: 2.2653 - val_r2: 0.8771 - val_mae: 2.2653\n",
            "Epoch 635/700\n",
            "74/74 [==============================] - 0s 5ms/step - loss: 1.6809 - r2: 0.9215 - mae: 1.6809 - val_loss: 2.2220 - val_r2: 0.8771 - val_mae: 2.2220\n",
            "Epoch 636/700\n",
            "74/74 [==============================] - 0s 5ms/step - loss: 1.7122 - r2: 0.9180 - mae: 1.7122 - val_loss: 2.2490 - val_r2: 0.8808 - val_mae: 2.2490\n",
            "Epoch 637/700\n",
            "74/74 [==============================] - 0s 5ms/step - loss: 1.6374 - r2: 0.9275 - mae: 1.6374 - val_loss: 2.2850 - val_r2: 0.8752 - val_mae: 2.2850\n",
            "Epoch 638/700\n",
            "74/74 [==============================] - 0s 5ms/step - loss: 1.7752 - r2: 0.9055 - mae: 1.7752 - val_loss: 2.5602 - val_r2: 0.8524 - val_mae: 2.5602\n",
            "Epoch 639/700\n",
            "74/74 [==============================] - 0s 6ms/step - loss: 1.6873 - r2: 0.9199 - mae: 1.6873 - val_loss: 2.3447 - val_r2: 0.8700 - val_mae: 2.3447\n",
            "Epoch 640/700\n",
            "74/74 [==============================] - 0s 6ms/step - loss: 1.7221 - r2: 0.9143 - mae: 1.7221 - val_loss: 2.4372 - val_r2: 0.8648 - val_mae: 2.4372\n",
            "Epoch 641/700\n",
            "74/74 [==============================] - 0s 5ms/step - loss: 1.6973 - r2: 0.9198 - mae: 1.6973 - val_loss: 2.2813 - val_r2: 0.8784 - val_mae: 2.2813\n",
            "Epoch 642/700\n",
            "74/74 [==============================] - 0s 6ms/step - loss: 1.7272 - r2: 0.9144 - mae: 1.7272 - val_loss: 2.4282 - val_r2: 0.8676 - val_mae: 2.4282\n",
            "Epoch 643/700\n",
            "74/74 [==============================] - 0s 6ms/step - loss: 1.6498 - r2: 0.9244 - mae: 1.6498 - val_loss: 2.4550 - val_r2: 0.8663 - val_mae: 2.4550\n",
            "Epoch 644/700\n",
            "74/74 [==============================] - 0s 5ms/step - loss: 1.6623 - r2: 0.9230 - mae: 1.6623 - val_loss: 2.4071 - val_r2: 0.8717 - val_mae: 2.4071\n",
            "Epoch 645/700\n",
            "74/74 [==============================] - 0s 5ms/step - loss: 1.6316 - r2: 0.9298 - mae: 1.6316 - val_loss: 2.4083 - val_r2: 0.8681 - val_mae: 2.4083\n",
            "Epoch 646/700\n",
            "74/74 [==============================] - 0s 6ms/step - loss: 1.6297 - r2: 0.9289 - mae: 1.6297 - val_loss: 2.3579 - val_r2: 0.8709 - val_mae: 2.3579\n",
            "Epoch 647/700\n",
            "74/74 [==============================] - 0s 6ms/step - loss: 1.6218 - r2: 0.9302 - mae: 1.6218 - val_loss: 2.3015 - val_r2: 0.8803 - val_mae: 2.3015\n",
            "Epoch 648/700\n",
            "74/74 [==============================] - 0s 5ms/step - loss: 1.6638 - r2: 0.9197 - mae: 1.6638 - val_loss: 2.3412 - val_r2: 0.8727 - val_mae: 2.3412\n",
            "Epoch 649/700\n",
            "74/74 [==============================] - 0s 5ms/step - loss: 1.6305 - r2: 0.9246 - mae: 1.6305 - val_loss: 2.5068 - val_r2: 0.8637 - val_mae: 2.5068\n",
            "Epoch 650/700\n",
            "74/74 [==============================] - 0s 6ms/step - loss: 1.6911 - r2: 0.9209 - mae: 1.6911 - val_loss: 2.3529 - val_r2: 0.8795 - val_mae: 2.3529\n",
            "Epoch 651/700\n",
            "74/74 [==============================] - 0s 5ms/step - loss: 1.6924 - r2: 0.9196 - mae: 1.6924 - val_loss: 2.2333 - val_r2: 0.8782 - val_mae: 2.2333\n",
            "Epoch 652/700\n",
            "74/74 [==============================] - 0s 6ms/step - loss: 1.7133 - r2: 0.9168 - mae: 1.7133 - val_loss: 2.2900 - val_r2: 0.8766 - val_mae: 2.2900\n",
            "Epoch 653/700\n",
            "74/74 [==============================] - 0s 6ms/step - loss: 1.6699 - r2: 0.9182 - mae: 1.6699 - val_loss: 2.2722 - val_r2: 0.8791 - val_mae: 2.2722\n",
            "Epoch 654/700\n",
            "74/74 [==============================] - 0s 5ms/step - loss: 1.6746 - r2: 0.9227 - mae: 1.6746 - val_loss: 2.2339 - val_r2: 0.8826 - val_mae: 2.2339\n",
            "Epoch 655/700\n",
            "74/74 [==============================] - 0s 5ms/step - loss: 1.6406 - r2: 0.9283 - mae: 1.6406 - val_loss: 2.2869 - val_r2: 0.8790 - val_mae: 2.2869\n",
            "Epoch 656/700\n",
            "74/74 [==============================] - 0s 6ms/step - loss: 1.6480 - r2: 0.9267 - mae: 1.6480 - val_loss: 2.2973 - val_r2: 0.8747 - val_mae: 2.2973\n",
            "Epoch 657/700\n",
            "74/74 [==============================] - 0s 5ms/step - loss: 1.6262 - r2: 0.9262 - mae: 1.6262 - val_loss: 2.2927 - val_r2: 0.8710 - val_mae: 2.2927\n",
            "Epoch 658/700\n",
            "74/74 [==============================] - 0s 6ms/step - loss: 1.6310 - r2: 0.9297 - mae: 1.6310 - val_loss: 2.3770 - val_r2: 0.8707 - val_mae: 2.3770\n",
            "Epoch 659/700\n",
            "74/74 [==============================] - 0s 5ms/step - loss: 1.6891 - r2: 0.9180 - mae: 1.6891 - val_loss: 2.4321 - val_r2: 0.8593 - val_mae: 2.4321\n",
            "Epoch 660/700\n",
            "74/74 [==============================] - 0s 6ms/step - loss: 1.6628 - r2: 0.9239 - mae: 1.6628 - val_loss: 2.3813 - val_r2: 0.8717 - val_mae: 2.3813\n",
            "Epoch 661/700\n",
            "74/74 [==============================] - 0s 5ms/step - loss: 1.6582 - r2: 0.9262 - mae: 1.6582 - val_loss: 2.3406 - val_r2: 0.8769 - val_mae: 2.3406\n",
            "Epoch 662/700\n",
            "74/74 [==============================] - 0s 6ms/step - loss: 1.6383 - r2: 0.9284 - mae: 1.6383 - val_loss: 2.2768 - val_r2: 0.8790 - val_mae: 2.2768\n",
            "Epoch 663/700\n",
            "74/74 [==============================] - 0s 5ms/step - loss: 1.6667 - r2: 0.9214 - mae: 1.6667 - val_loss: 2.3876 - val_r2: 0.8742 - val_mae: 2.3876\n",
            "Epoch 664/700\n",
            "74/74 [==============================] - 0s 5ms/step - loss: 1.6840 - r2: 0.9171 - mae: 1.6840 - val_loss: 2.3374 - val_r2: 0.8691 - val_mae: 2.3374\n",
            "Epoch 665/700\n",
            "74/74 [==============================] - 0s 5ms/step - loss: 1.6474 - r2: 0.9248 - mae: 1.6474 - val_loss: 2.2858 - val_r2: 0.8774 - val_mae: 2.2858\n",
            "Epoch 666/700\n",
            "74/74 [==============================] - 0s 5ms/step - loss: 1.6849 - r2: 0.9158 - mae: 1.6849 - val_loss: 2.3403 - val_r2: 0.8705 - val_mae: 2.3403\n",
            "Epoch 667/700\n",
            "74/74 [==============================] - 0s 6ms/step - loss: 1.7053 - r2: 0.9154 - mae: 1.7053 - val_loss: 2.3025 - val_r2: 0.8739 - val_mae: 2.3025\n",
            "Epoch 668/700\n",
            "74/74 [==============================] - 0s 6ms/step - loss: 1.6439 - r2: 0.9244 - mae: 1.6439 - val_loss: 2.4759 - val_r2: 0.8710 - val_mae: 2.4759\n",
            "Epoch 669/700\n",
            "74/74 [==============================] - 0s 5ms/step - loss: 1.6726 - r2: 0.9224 - mae: 1.6726 - val_loss: 2.2657 - val_r2: 0.8791 - val_mae: 2.2657\n",
            "Epoch 670/700\n",
            "74/74 [==============================] - 0s 5ms/step - loss: 1.6588 - r2: 0.9210 - mae: 1.6588 - val_loss: 2.2888 - val_r2: 0.8771 - val_mae: 2.2888\n",
            "Epoch 671/700\n",
            "74/74 [==============================] - 0s 6ms/step - loss: 1.7094 - r2: 0.9152 - mae: 1.7094 - val_loss: 2.3555 - val_r2: 0.8654 - val_mae: 2.3555\n",
            "Epoch 672/700\n",
            "74/74 [==============================] - 0s 6ms/step - loss: 1.7461 - r2: 0.9131 - mae: 1.7461 - val_loss: 2.3050 - val_r2: 0.8760 - val_mae: 2.3050\n",
            "Epoch 673/700\n",
            "74/74 [==============================] - 0s 6ms/step - loss: 1.6409 - r2: 0.9223 - mae: 1.6409 - val_loss: 2.3430 - val_r2: 0.8766 - val_mae: 2.3430\n",
            "Epoch 674/700\n",
            "74/74 [==============================] - 0s 6ms/step - loss: 1.6424 - r2: 0.9279 - mae: 1.6424 - val_loss: 2.3831 - val_r2: 0.8726 - val_mae: 2.3831\n",
            "Epoch 675/700\n",
            "74/74 [==============================] - 0s 5ms/step - loss: 1.6495 - r2: 0.9221 - mae: 1.6495 - val_loss: 2.3178 - val_r2: 0.8791 - val_mae: 2.3178\n",
            "Epoch 676/700\n",
            "74/74 [==============================] - 0s 5ms/step - loss: 1.6674 - r2: 0.9185 - mae: 1.6674 - val_loss: 2.3803 - val_r2: 0.8569 - val_mae: 2.3803\n",
            "Epoch 677/700\n",
            "74/74 [==============================] - 0s 6ms/step - loss: 1.6714 - r2: 0.9205 - mae: 1.6714 - val_loss: 2.3263 - val_r2: 0.8661 - val_mae: 2.3263\n",
            "Epoch 678/700\n",
            "74/74 [==============================] - 0s 6ms/step - loss: 1.6515 - r2: 0.9225 - mae: 1.6515 - val_loss: 2.3400 - val_r2: 0.8679 - val_mae: 2.3400\n",
            "Epoch 679/700\n",
            "74/74 [==============================] - 0s 6ms/step - loss: 1.6632 - r2: 0.9253 - mae: 1.6632 - val_loss: 2.4119 - val_r2: 0.8655 - val_mae: 2.4119\n",
            "Epoch 680/700\n",
            "74/74 [==============================] - 0s 6ms/step - loss: 1.6210 - r2: 0.9257 - mae: 1.6210 - val_loss: 2.3368 - val_r2: 0.8644 - val_mae: 2.3368\n",
            "Epoch 681/700\n",
            "74/74 [==============================] - 0s 6ms/step - loss: 1.8001 - r2: 0.9077 - mae: 1.8001 - val_loss: 2.4683 - val_r2: 0.8543 - val_mae: 2.4683\n",
            "Epoch 682/700\n",
            "74/74 [==============================] - 0s 6ms/step - loss: 1.6558 - r2: 0.9242 - mae: 1.6558 - val_loss: 2.1357 - val_r2: 0.8863 - val_mae: 2.1357\n",
            "Epoch 683/700\n",
            "74/74 [==============================] - 0s 5ms/step - loss: 1.7125 - r2: 0.9163 - mae: 1.7125 - val_loss: 2.3677 - val_r2: 0.8714 - val_mae: 2.3677\n",
            "Epoch 684/700\n",
            "74/74 [==============================] - 0s 5ms/step - loss: 1.6685 - r2: 0.9231 - mae: 1.6685 - val_loss: 2.2401 - val_r2: 0.8864 - val_mae: 2.2401\n",
            "Epoch 685/700\n",
            "74/74 [==============================] - 0s 6ms/step - loss: 1.6693 - r2: 0.9241 - mae: 1.6693 - val_loss: 2.3876 - val_r2: 0.8633 - val_mae: 2.3876\n",
            "Epoch 686/700\n",
            "74/74 [==============================] - 0s 5ms/step - loss: 1.6489 - r2: 0.9225 - mae: 1.6489 - val_loss: 2.3239 - val_r2: 0.8771 - val_mae: 2.3239\n",
            "Epoch 687/700\n",
            "74/74 [==============================] - 0s 6ms/step - loss: 1.6338 - r2: 0.9278 - mae: 1.6338 - val_loss: 2.3779 - val_r2: 0.8676 - val_mae: 2.3779\n",
            "Epoch 688/700\n",
            "74/74 [==============================] - 0s 6ms/step - loss: 1.7410 - r2: 0.9118 - mae: 1.7410 - val_loss: 2.3445 - val_r2: 0.8606 - val_mae: 2.3445\n",
            "Epoch 689/700\n",
            "74/74 [==============================] - 0s 5ms/step - loss: 1.6822 - r2: 0.9183 - mae: 1.6822 - val_loss: 2.3308 - val_r2: 0.8775 - val_mae: 2.3308\n",
            "Epoch 690/700\n",
            "74/74 [==============================] - 0s 5ms/step - loss: 1.6179 - r2: 0.9280 - mae: 1.6179 - val_loss: 2.4166 - val_r2: 0.8665 - val_mae: 2.4166\n",
            "Epoch 691/700\n",
            "74/74 [==============================] - 0s 6ms/step - loss: 1.6687 - r2: 0.9189 - mae: 1.6687 - val_loss: 2.2862 - val_r2: 0.8772 - val_mae: 2.2862\n",
            "Epoch 692/700\n",
            "74/74 [==============================] - 0s 5ms/step - loss: 1.6110 - r2: 0.9297 - mae: 1.6110 - val_loss: 2.3986 - val_r2: 0.8648 - val_mae: 2.3986\n",
            "Epoch 693/700\n",
            "74/74 [==============================] - 0s 6ms/step - loss: 1.6389 - r2: 0.9210 - mae: 1.6389 - val_loss: 2.2185 - val_r2: 0.8787 - val_mae: 2.2185\n",
            "Epoch 694/700\n",
            "74/74 [==============================] - 0s 5ms/step - loss: 1.6398 - r2: 0.9208 - mae: 1.6398 - val_loss: 2.2828 - val_r2: 0.8775 - val_mae: 2.2828\n",
            "Epoch 695/700\n",
            "74/74 [==============================] - 0s 5ms/step - loss: 1.6739 - r2: 0.9181 - mae: 1.6739 - val_loss: 2.2222 - val_r2: 0.8840 - val_mae: 2.2222\n",
            "Epoch 696/700\n",
            "74/74 [==============================] - 0s 5ms/step - loss: 1.6908 - r2: 0.9176 - mae: 1.6908 - val_loss: 2.4453 - val_r2: 0.8705 - val_mae: 2.4453\n",
            "Epoch 697/700\n",
            "74/74 [==============================] - 0s 6ms/step - loss: 1.6153 - r2: 0.9252 - mae: 1.6153 - val_loss: 2.3630 - val_r2: 0.8741 - val_mae: 2.3630\n",
            "Epoch 698/700\n",
            "74/74 [==============================] - 0s 6ms/step - loss: 1.6543 - r2: 0.9188 - mae: 1.6543 - val_loss: 2.3936 - val_r2: 0.8687 - val_mae: 2.3936\n",
            "Epoch 699/700\n",
            "74/74 [==============================] - 0s 5ms/step - loss: 1.6586 - r2: 0.9164 - mae: 1.6586 - val_loss: 2.3488 - val_r2: 0.8559 - val_mae: 2.3488\n",
            "Epoch 700/700\n",
            "74/74 [==============================] - 0s 6ms/step - loss: 1.6916 - r2: 0.9083 - mae: 1.6916 - val_loss: 2.4399 - val_r2: 0.8408 - val_mae: 2.4399\n"
          ]
        }
      ]
    },
    {
      "cell_type": "code",
      "metadata": {
        "colab": {
          "base_uri": "https://localhost:8080/"
        },
        "id": "jMFuJHI_hXRc",
        "outputId": "f9e694ae-7fce-4f74-d897-c3d0d31a7a79"
      },
      "source": [
        "ann1.summary()"
      ],
      "execution_count": 70,
      "outputs": [
        {
          "output_type": "stream",
          "name": "stdout",
          "text": [
            "Model: \"sequential\"\n",
            "_________________________________________________________________\n",
            "Layer (type)                 Output Shape              Param #   \n",
            "=================================================================\n",
            "dense (Dense)                (None, 128)               2560      \n",
            "_________________________________________________________________\n",
            "dropout (Dropout)            (None, 128)               0         \n",
            "_________________________________________________________________\n",
            "dense_1 (Dense)              (None, 64)                8256      \n",
            "_________________________________________________________________\n",
            "dropout_1 (Dropout)          (None, 64)                0         \n",
            "_________________________________________________________________\n",
            "dense_2 (Dense)              (None, 32)                2080      \n",
            "_________________________________________________________________\n",
            "dropout_2 (Dropout)          (None, 32)                0         \n",
            "_________________________________________________________________\n",
            "dense_3 (Dense)              (None, 16)                528       \n",
            "_________________________________________________________________\n",
            "dense_4 (Dense)              (None, 2)                 34        \n",
            "=================================================================\n",
            "Total params: 13,458\n",
            "Trainable params: 13,458\n",
            "Non-trainable params: 0\n",
            "_________________________________________________________________\n"
          ]
        }
      ]
    },
    {
      "cell_type": "code",
      "metadata": {
        "colab": {
          "base_uri": "https://localhost:8080/",
          "height": 282
        },
        "id": "lIDFzMU7wOyh",
        "outputId": "ea014680-de61-4bf2-9b88-02f98a525b04"
      },
      "source": [
        "plt.plot(r1.history['r2'], label='R2')\n",
        "plt.plot(r1.history['val_r2'], label='Val_R2')"
      ],
      "execution_count": 71,
      "outputs": [
        {
          "output_type": "execute_result",
          "data": {
            "text/plain": [
              "[<matplotlib.lines.Line2D at 0x7fe8ee931090>]"
            ]
          },
          "metadata": {},
          "execution_count": 71
        },
        {
          "output_type": "display_data",
          "data": {
            "image/png": "[encoded data removed]",
            "text/plain": [
              "<Figure size 432x288 with 1 Axes>"
            ]
          },
          "metadata": {
            "needs_background": "light"
          }
        }
      ]
    },
    {
      "cell_type": "code",
      "metadata": {
        "colab": {
          "base_uri": "https://localhost:8080/"
        },
        "id": "EAXJ8-5GbTtH",
        "outputId": "d710996c-8f01-48d5-e375-1421573b57d5"
      },
      "source": [
        "ann_score = ann1.evaluate(x_test, y_test)"
      ],
      "execution_count": 72,
      "outputs": [
        {
          "output_type": "stream",
          "name": "stdout",
          "text": [
            "37/37 [==============================] - 0s 2ms/step - loss: 2.4399 - r2: 0.8382 - mae: 2.4399\n"
          ]
        }
      ]
    },
    {
      "cell_type": "code",
      "metadata": {
        "id": "G39pBVd2VDgN"
      },
      "source": [
        "ann_r2 = ann_score[1]*100"
      ],
      "execution_count": 73,
      "outputs": []
    },
    {
      "cell_type": "markdown",
      "metadata": {
        "id": "m3_TltkIhsiR"
      },
      "source": [
        "Our Neural Network gave us a **MAE of 2.44** and **R2 score of 84%**"
      ]
    },
    {
      "cell_type": "code",
      "metadata": {
        "colab": {
          "base_uri": "https://localhost:8080/",
          "height": 585
        },
        "id": "4KZ9JuXtfbDp",
        "outputId": "de9608fb-1bb8-4678-bef6-e9a5d884c25f"
      },
      "source": [
        "plt.figure(figsize=(12,9))\n",
        "ax = sns.barplot(y=[ann_r2, rf_r21, rf_r22], x=['Artificial Neural Network', 'Random Forrest(Y1 Variable)', 'Random Forrest(Y2 Variable)'])\n",
        "for p in ax.patches:\n",
        "  height = p.get_height()\n",
        "  ax.text(p.get_x() + p.get_width()/2.,\n",
        "          height + 0.01,\n",
        "          '{:1.3f}'.format(height),\n",
        "          ha='center')\n",
        "plt.xlabel('Mean Absolute Error')\n",
        "plt.ylabel('Model Name')\n",
        "plt.title('Comparing Neural Network MAE to Random Forrest MAE')"
      ],
      "execution_count": 74,
      "outputs": [
        {
          "output_type": "execute_result",
          "data": {
            "text/plain": [
              "Text(0.5, 1.0, 'Comparing Neural Network MAE to Random Forrest MAE')"
            ]
          },
          "metadata": {},
          "execution_count": 74
        },
        {
          "output_type": "display_data",
          "data": {
            "image/png": "[encoded data removed]",
            "text/plain": [
              "<Figure size 864x648 with 1 Axes>"
            ]
          },
          "metadata": {
            "needs_background": "light"
          }
        }
      ]
    }
  ]
}